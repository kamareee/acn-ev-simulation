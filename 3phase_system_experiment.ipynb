{
 "cells": [
  {
   "attachments": {},
   "cell_type": "markdown",
   "metadata": {},
   "source": [
    "#### Running Simulation with three phase charging system"
   ]
  },
  {
   "cell_type": "code",
   "execution_count": 1,
   "metadata": {},
   "outputs": [],
   "source": [
    "# Necessary imports\n",
    "import pytz\n",
    "from datetime import datetime\n",
    "import numpy as np\n",
    "# import cvxpy as cp\n",
    "from copy import deepcopy\n",
    "import time \n",
    "from matplotlib import pyplot as plt\n",
    "from matplotlib import cm\n",
    "\n",
    "from acnportal import acnsim\n",
    "from acnportal.acnsim import analysis\n",
    "from acnportal import algorithms\n",
    "import adacharge"
   ]
  },
  {
   "attachments": {},
   "cell_type": "markdown",
   "metadata": {},
   "source": [
    "#### Pre-defined Caltech ACN Network (single phase)\n",
    "\n",
    "*Assume nominal voltage in the network*"
   ]
  },
  {
   "cell_type": "code",
   "execution_count": 3,
   "metadata": {},
   "outputs": [],
   "source": [
    "# Extracted from the source code\n",
    "\n",
    "def single_phase_caltech_acn(basic_evse=False, voltage=208, transformer_cap=150, network_type=acnsim.ChargingNetwork):\n",
    "    \"\"\" Predefined single phase ChargingNetwork for the Caltech ACN.\n",
    "\n",
    "    Args:\n",
    "        basic_evse (bool): If True use BASIC EVSE type instead of actual AeroViroment and ClipperCreek types.\n",
    "        voltage (float): Default voltage at the EVSEs. Does not affect the current rating of the transformer which is\n",
    "            based on nominal voltages in the network. 277V LL for delta primary and 120V LN for wye secondary. [V]\n",
    "        transformer_cap (float): Capacity of the transformer in the CaltechACN. Default: 150. [kW]\n",
    "\n",
    "    Attributes:\n",
    "        See ChargingNetwork class for Attributes.\n",
    "    \"\"\"\n",
    "    network = network_type()\n",
    "\n",
    "    if basic_evse:\n",
    "        evse_type = {'AV': 'BASIC', 'CC': 'BASIC'}\n",
    "    else:\n",
    "        evse_type = {'AV': 'AeroVironment', 'CC': 'ClipperCreek'}\n",
    "        \n",
    "    # Define the sets of EVSEs in the Caltech ACN.\n",
    "    CC_pod_ids = [\"CA-322\", \"CA-493\", \"CA-496\", \"CA-320\", \"CA-495\", \"CA-321\", \"CA-323\", \"CA-494\"]\n",
    "    AV_pod_ids = [\"CA-324\", \"CA-325\",\"CA-326\",\"CA-327\",\"CA-489\", \"CA-490\", \"CA-491\", \"CA-492\"]\n",
    "    other_ids = [f\"CA-{id_num}\" for id_num in [148, 149, 212, 213, 303, 304, 305, 306, 307, 308,\n",
    "                                               309, 310, 311, 312, 313, 314, 315, 316, 317, 318,\n",
    "                                               319, 497, 498, 499, 500, 501, 502, 503, 504, 505,\n",
    "                                               506, 507, 508, 509, 510, 511, 512, 513]]\n",
    "    all_ids = CC_pod_ids + AV_pod_ids + other_ids\n",
    "\n",
    "    # Add Caltech EVSEs\n",
    "    for evse_id in all_ids:\n",
    "        if evse_id not in CC_pod_ids:\n",
    "            network.register_evse(acnsim.get_evse_by_type(evse_id, evse_type['AV']), voltage, 0)\n",
    "        else:\n",
    "            network.register_evse(acnsim.get_evse_by_type(evse_id, evse_type['CC']), voltage, 0)\n",
    "            \n",
    "    # Add Caltech Constraint Set\n",
    "    CC_pod = acnsim.Current(CC_pod_ids)\n",
    "    AV_pod = acnsim.Current(AV_pod_ids)\n",
    "    all_current = acnsim.Current(all_ids)\n",
    "\n",
    "    # Build constraint set\n",
    "    network.add_constraint(CC_pod, 80, name='CC Pod')\n",
    "    network.add_constraint(AV_pod, 80, name='AV Pod')\n",
    "    network.add_constraint(all_current, transformer_cap * 1000 / voltage, name='Transformer Cap')\n",
    "    return network"
   ]
  },
  {
   "attachments": {},
   "cell_type": "markdown",
   "metadata": {},
   "source": [
    "#### Simulation Setup"
   ]
  },
  {
   "cell_type": "code",
   "execution_count": 4,
   "metadata": {},
   "outputs": [],
   "source": [
    "def experiment(algorithm):\n",
    "    \"\"\" Run single phase vs. three phase experiment for a particular algorithm. \"\"\"\n",
    "    # -- Experiment Parameters ---------------------------------------------------\n",
    "    timezone = pytz.timezone('America/Los_Angeles')\n",
    "    start = timezone.localize(datetime(2018, 9, 5))\n",
    "    end = timezone.localize(datetime(2018, 9, 6))\n",
    "    period = 5  # minute\n",
    "    voltage = 208  # volts\n",
    "    default_battery_power = 32 * voltage / 1000 # kW\n",
    "    site = 'caltech'\n",
    "\n",
    "    # -- Network -------------------------------------------------------------------\n",
    "    single_phase_cn = single_phase_caltech_acn(basic_evse=True, transformer_cap=70)\n",
    "    real_cn = acnsim.sites.caltech_acn(basic_evse=True, transformer_cap=70)\n",
    "\n",
    "    # -- Events ---------------------------------------------------------------------\n",
    "    API_KEY = 'DEMO_TOKEN'\n",
    "    events = acnsim.acndata_events.generate_events(API_KEY, site, start, end, period, \n",
    "                                                   voltage, default_battery_power)\n",
    "    \n",
    "    # -- Single Phase ----------------------------------------------------------------\n",
    "    single_phase_sim = acnsim.Simulator(deepcopy(single_phase_cn), algorithm, \n",
    "                                        deepcopy(events), start, period=period, \n",
    "                                        verbose=False)\n",
    "    single_phase_sim.run()\n",
    "    \n",
    "    # Since we are interested in how the single-phase LLF algorithm would have performed \n",
    "    # in the real CaltechACN, we replace the network model with the real network model \n",
    "    # for analysis. \n",
    "    single_phase_sim.network = real_cn\n",
    "    \n",
    "    # -- Three Phase -----------------------------------------------------------------        \n",
    "    three_phase_sim = acnsim.Simulator(deepcopy(real_cn), algorithm,\n",
    "                                       deepcopy(events), start, period=period, \n",
    "                                       verbose=False)\n",
    "    three_phase_sim.run()\n",
    "    \n",
    "    return single_phase_sim, three_phase_sim"
   ]
  },
  {
   "attachments": {},
   "cell_type": "markdown",
   "metadata": {},
   "source": [
    "#### Running Simulation"
   ]
  },
  {
   "attachments": {},
   "cell_type": "markdown",
   "metadata": {},
   "source": [
    "##### Model Predictive Control"
   ]
  },
  {
   "cell_type": "code",
   "execution_count": null,
   "metadata": {},
   "outputs": [],
   "source": [
    "quick_charge_obj = [adacharge.ObjectiveComponent(adacharge.quick_charge),\n",
    "                    adacharge.ObjectiveComponent(adacharge.equal_share, 1e-12)]\n",
    "mpc = adacharge.AdaptiveSchedulingAlgorithm(quick_charge_obj, solver=\"ECOS\")\n",
    "mpc_sp_sim, mpc_tp_sim = experiment(mpc)"
   ]
  }
 ],
 "metadata": {
  "kernelspec": {
   "display_name": "acnsim",
   "language": "python",
   "name": "python3"
  },
  "language_info": {
   "codemirror_mode": {
    "name": "ipython",
    "version": 3
   },
   "file_extension": ".py",
   "mimetype": "text/x-python",
   "name": "python",
   "nbconvert_exporter": "python",
   "pygments_lexer": "ipython3",
   "version": "3.9.15 (main, Nov 24 2022, 14:39:17) [MSC v.1916 64 bit (AMD64)]"
  },
  "orig_nbformat": 4,
  "vscode": {
   "interpreter": {
    "hash": "1b1ed7d673d5a5a7c8e67165bf582d9cb2e9ceb7d64f5312099cd48ae1058f52"
   }
  }
 },
 "nbformat": 4,
 "nbformat_minor": 2
}
