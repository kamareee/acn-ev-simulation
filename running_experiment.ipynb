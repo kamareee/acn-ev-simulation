{
 "cells": [
  {
   "cell_type": "code",
   "execution_count": 1,
   "metadata": {},
   "outputs": [],
   "source": [
    "# Necessary imports\n",
    "from datetime import datetime\n",
    "import pytz\n",
    "from copy import deepcopy\n",
    "from matplotlib import pyplot as plt\n",
    "import matplotlib\n",
    "import numpy as np\n",
    "import pandas as pd\n",
    "import seaborn as sns\n",
    "import json\n",
    "import os\n",
    "\n",
    "from acnportal import acnsim, algorithms\n",
    "from acnportal.acnsim import analysis\n",
    "from acnportal.signals.tariffs import TimeOfUseTariff\n",
    "from adacharge import *"
   ]
  },
  {
   "attachments": {},
   "cell_type": "markdown",
   "metadata": {},
   "source": [
    "### Experiment Setupu parameters\n",
    "Followings are some necessary paramters for the experiment (for simplicity extracted directly)"
   ]
  },
  {
   "cell_type": "code",
   "execution_count": 2,
   "metadata": {},
   "outputs": [],
   "source": [
    "API_KEY = 'DEMO_TOKEN'\n",
    "TIMEZONE = pytz.timezone('America/Los_Angeles')\n",
    "SITE = 'caltech'\n",
    "PERIOD = 5  # minutes\n",
    "VOLTAGE = 208  # volts\n",
    "KW_TO_AMPS = 1000 / 208\n",
    "KWH_TO_AMP_PERIODS = KW_TO_AMPS * (60 / 5)\n",
    "MAX_LEN = 144\n",
    "FORCE_FEASIBLE = True\n",
    "EVENTS_DIR = 'events/'\n",
    "VERBOSE = True"
   ]
  },
  {
   "cell_type": "code",
   "execution_count": 3,
   "metadata": {},
   "outputs": [],
   "source": [
    "def get_events(start, end, ideal_battery, force_feasible, max_len):\n",
    "    \"\"\" Gather Events from ACN-Data with a local cache. \"\"\"\n",
    "    event_name = f'{start}:{end}:{ideal_battery}:{force_feasible}:' \\\n",
    "                 f'{max_len}'\n",
    "    path = os.path.join(EVENTS_DIR, event_name + '.json')\n",
    "    if os.path.exists(path):\n",
    "        with open(path, 'r') as f:\n",
    "            return acnsim.EventQueue.from_json(f)\n",
    "    start_time = TIMEZONE.localize(datetime.strptime(start, '%m-%d-%Y'))\n",
    "    end_time = TIMEZONE.localize(datetime.strptime(end, '%m-%d-%Y'))\n",
    "    default_battery_power = 6.656\n",
    "    if ideal_battery:\n",
    "        battery_params=None\n",
    "    else:\n",
    "        battery_params={'type': acnsim.Linear2StageBattery,\n",
    "                        'capacity_fn': acnsim.models.battery.batt_cap_fn}\n",
    "    events = acnsim.acndata_events.generate_events(API_KEY, SITE,\n",
    "                                                   start_time, end_time,\n",
    "                                                   PERIOD, VOLTAGE,\n",
    "                                                   default_battery_power,\n",
    "                                                   force_feasible=force_feasible,\n",
    "                                                   max_len=max_len,\n",
    "                                                   battery_params=battery_params)\n",
    "    if not os.path.exists(EVENTS_DIR):\n",
    "        os.mkdir(EVENTS_DIR)\n",
    "    with open(path, 'w') as f:\n",
    "        events.to_json(f)\n",
    "    return events"
   ]
  },
  {
   "attachments": {},
   "cell_type": "markdown",
   "metadata": {},
   "source": [
    "### Creating a Wrapper Experiment Class"
   ]
  },
  {
   "cell_type": "code",
   "execution_count": 4,
   "metadata": {},
   "outputs": [],
   "source": [
    "class Experiment:\n",
    "    \"\"\" Wrapper for ACN-Sim Experiments including caching serialized experiment to disk. \"\"\"\n",
    "    def __init__(self, sim):\n",
    "        self.sim = sim\n",
    "\n",
    "    def calc_metrics(self):\n",
    "        \"\"\" Calculate metrics from simulation. \"\"\"\n",
    "        metrics = {\n",
    "            'proportion_delivered': analysis.proportion_of_energy_delivered(\n",
    "                self.sim) * 100,\n",
    "            'demands_fully_met': analysis.proportion_of_demands_met(\n",
    "                self.sim) * 100,\n",
    "            'peak_current': self.sim.peak,\n",
    "            'demand_charge': analysis.demand_charge(self.sim),\n",
    "            'energy_cost': analysis.energy_cost(self.sim),\n",
    "            'total_energy_delivered': analysis.total_energy_delivered(self.sim),\n",
    "            'total_energy_requested': analysis.total_energy_requested(self.sim)\n",
    "        }\n",
    "        return metrics\n",
    "\n",
    "    def log_local_file(self, path):\n",
    "        \"\"\" Write simulation, metrics and solver statistics to disk. \"\"\"\n",
    "        self.sim.to_json(path + 'sim.json')\n",
    "        with open(path + 'metrics.json', 'w') as outfile:\n",
    "            json.dump(self.calc_metrics(), outfile)\n",
    "        with open(path + 'solve_stats.json', 'w') as outfile:\n",
    "            json.dump(self.sim.scheduler.solve_stats, outfile)\n",
    "\n",
    "    def run_and_store(self, path):\n",
    "        \"\"\" Run experiment and store results. \"\"\"\n",
    "        print(f'Starting - {path}')\n",
    "        if os.path.exists(path + 'sim.json'):\n",
    "            print(f'Already Run - {path}...')\n",
    "            return\n",
    "        try:\n",
    "            self.sim.run()\n",
    "            if not os.path.exists(path):\n",
    "                os.makedirs(path)\n",
    "            self.log_local_file(path)\n",
    "            print(f'Done - {path}')\n",
    "        except Exception as e:\n",
    "            print(f'Failed - {path}')\n",
    "            print(e)"
   ]
  },
  {
   "attachments": {},
   "cell_type": "markdown",
   "metadata": {},
   "source": [
    "### Simulation configuration "
   ]
  },
  {
   "cell_type": "code",
   "execution_count": 5,
   "metadata": {},
   "outputs": [],
   "source": [
    "def configure_sim(\n",
    "    alg, \n",
    "    cap, \n",
    "    start, \n",
    "    events, \n",
    "    basic_evse=True,\n",
    "    estimate_max_rate=False, \n",
    "    uninterrupted_charging=False,\n",
    "    quantized=False,\n",
    "    allow_overcharging=False,\n",
    "    tariff_name=None,\n",
    "    offline=False\n",
    "):\n",
    "    \"\"\" Configure simulation. \"\"\"\n",
    "    start_time = TIMEZONE.localize(datetime.strptime(start, '%m-%d-%Y'))\n",
    "        \n",
    "    if estimate_max_rate:\n",
    "        alg.max_rate_estimator = algorithms.SimpleRampdown()\n",
    "        alg.estimate_max_rate = True\n",
    "    alg.uninterrupted_charging = uninterrupted_charging\n",
    "    alg.allow_overcharging = allow_overcharging\n",
    "\n",
    "    # Some algorithms support a quantized option\n",
    "    if quantized:\n",
    "        try:\n",
    "            alg.quantize = True\n",
    "        except:\n",
    "            pass\n",
    "        try:\n",
    "            alg.reallocate = True\n",
    "        except:\n",
    "            pass\n",
    "\n",
    "    cn = acnsim.sites.caltech_acn(voltage=VOLTAGE,\n",
    "                                  transformer_cap=cap,\n",
    "                                  basic_evse=basic_evse)\n",
    "    if tariff_name is not None:\n",
    "        signals = {'tariff': TimeOfUseTariff(tariff_name)}\n",
    "    else:\n",
    "        signals = {}\n",
    "    sim = acnsim.Simulator(cn, alg, events, start_time, signals=signals,\n",
    "                           period=PERIOD, verbose=False)\n",
    "    \n",
    "    if offline:\n",
    "        alg.register_events(events)\n",
    "        alg.solve()\n",
    "    \n",
    "    return sim"
   ]
  },
  {
   "attachments": {},
   "cell_type": "markdown",
   "metadata": {},
   "source": [
    "### Experiment Configuration\n",
    "**Note**: For simplicity extracted directly from source"
   ]
  },
  {
   "cell_type": "code",
   "execution_count": 8,
   "metadata": {},
   "outputs": [],
   "source": [
    "start = '9-1-2018'\n",
    "end = '10-1-2018'\n",
    "tariff_name = 'sce_tou_ev_4_march_2019'\n",
    "revenue = 0.3\n",
    "# Scenario I is the offline optimal.\n",
    "scenarios = {\n",
    "                'II': {'ideal_battery': True,\n",
    "                      'estimate_max_rate': False,\n",
    "                      'uninterrupted_charging': False,\n",
    "                      'quantized': False,\n",
    "                      'basic_evse': True\n",
    "                },\n",
    "                'III': {'ideal_battery': True,\n",
    "                       'estimate_max_rate': False,\n",
    "                       'uninterrupted_charging': True,\n",
    "                       'quantized': True,\n",
    "                       'basic_evse': False\n",
    "                },\n",
    "                # 'IV': {'ideal_battery': False,\n",
    "                #         'estimate_max_rate': True,\n",
    "                #         'uninterrupted_charging': False,\n",
    "                #         'quantized': False,\n",
    "                #         'basic_evse': True\n",
    "                # },\n",
    "                # 'V': {'ideal_battery': False,\n",
    "                #        'estimate_max_rate': True,\n",
    "                #        'uninterrupted_charging': True,\n",
    "                #        'quantized': True,\n",
    "                #        'basic_evse': False\n",
    "                # },\n",
    "}"
   ]
  },
  {
   "attachments": {},
   "cell_type": "markdown",
   "metadata": {},
   "source": [
    "### Energy Delivered with constrained infrastructure "
   ]
  },
  {
   "cell_type": "code",
   "execution_count": 9,
   "metadata": {},
   "outputs": [],
   "source": [
    "energy_del_base_dir = 'results/infrastructure_utilization_results'"
   ]
  },
  {
   "attachments": {},
   "cell_type": "markdown",
   "metadata": {},
   "source": [
    "### Running Simulation\n",
    "- Maximizing total energy delivered when infrastructure is oversubscribed\n",
    "- Electricity prices are static or user statisfaction is the primary concern\n",
    "\n",
    "Utility Function:\n",
    "$$\n",
    "    {U^{QC}(r)} := u^{QC}(r) + 10^{-12}u^{ES}(r)\n",
    "$$\n",
    "\n",
    "Here $U^{QC}$ encourages the system to deliver energy as quickly as possible, which helps free capacity for future arrivals. The regularizer ${u^{ES}(r)}$ promotes equal sharing between similar EVs and force a unique solution."
   ]
  },
  {
   "cell_type": "code",
   "execution_count": 12,
   "metadata": {},
   "outputs": [],
   "source": [
    "ALGS = dict()\n",
    "# ALGS['LLF'] = algorithms.SortedSchedulingAlgo(algorithms.least_laxity_first)\n",
    "# ALGS['EDF'] = algorithms.SortedSchedulingAlgo(algorithms.earliest_deadline_first)\n",
    "ALGS['RR'] = algorithms.RoundRobin(algorithms.first_come_first_served, continuous_inc=1)\n",
    "\n",
    "quick_charge_obj = [\n",
    "    ObjectiveComponent(quick_charge),\n",
    "    ObjectiveComponent(equal_share, 1e-12)\n",
    "]\n",
    "ALGS['ASA-QC'] = AdaptiveSchedulingAlgorithm(quick_charge_obj,\n",
    "                                             solver='MOSEK',\n",
    "                                             max_recompute=1)"
   ]
  },
  {
   "cell_type": "code",
   "execution_count": 14,
   "metadata": {},
   "outputs": [
    {
     "name": "stdout",
     "output_type": "stream",
     "text": [
      "Starting - results/infrastructure_utilization_results/9-1-2018:10-1-2018/II/20/ASA-QC/\n"
     ]
    },
    {
     "name": "stderr",
     "output_type": "stream",
     "text": [
      "/home/codespace/.python/current/lib/python3.10/site-packages/cvxpy/problems/problem.py:1337: UserWarning: Solution may be inaccurate. Try another solver, adjusting the solver settings, or solve with verbose=True for more information.\n",
      "  warnings.warn(\n"
     ]
    }
   ],
   "source": [
    "# Online Algorithms\n",
    "caps = list(range(20, 81, 10)) + [150]\n",
    "for scenario_id, scenario in scenarios.items():\n",
    "    for cap in caps:\n",
    "        for alg in ['ASA-QC', 'RR']:\n",
    "            output_dir = f'{energy_del_base_dir}/{start}:{end}/{scenario_id}/{cap}/{alg}/'\n",
    "            events = get_events(start, end, scenario['ideal_battery'], FORCE_FEASIBLE, MAX_LEN)\n",
    "\n",
    "            sim = configure_sim(\n",
    "                cap=cap,\n",
    "                alg=deepcopy(ALGS[alg]),\n",
    "                start=start,\n",
    "                events=events,\n",
    "                basic_evse=scenario['basic_evse'],\n",
    "                estimate_max_rate=scenario['estimate_max_rate'],\n",
    "                uninterrupted_charging=scenario['uninterrupted_charging'],\n",
    "                quantized=scenario['quantized'],\n",
    "                tariff_name=tariff_name\n",
    "            )\n",
    "            ex = Experiment(sim)\n",
    "            ex.run_and_store(output_dir)"
   ]
  }
 ],
 "metadata": {
  "kernelspec": {
   "display_name": "acnsim",
   "language": "python",
   "name": "python3"
  },
  "language_info": {
   "codemirror_mode": {
    "name": "ipython",
    "version": 3
   },
   "file_extension": ".py",
   "mimetype": "text/x-python",
   "name": "python",
   "nbconvert_exporter": "python",
   "pygments_lexer": "ipython3",
   "version": "3.9.15 (main, Nov 24 2022, 14:39:17) [MSC v.1916 64 bit (AMD64)]"
  },
  "orig_nbformat": 4,
  "vscode": {
   "interpreter": {
    "hash": "1b1ed7d673d5a5a7c8e67165bf582d9cb2e9ceb7d64f5312099cd48ae1058f52"
   }
  }
 },
 "nbformat": 4,
 "nbformat_minor": 2
}
