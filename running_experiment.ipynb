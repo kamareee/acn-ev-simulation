{
 "cells": [
  {
   "cell_type": "code",
   "execution_count": 1,
   "metadata": {},
   "outputs": [],
   "source": [
    "# Necessary imports\n",
    "from datetime import datetime\n",
    "import pytz\n",
    "from copy import deepcopy\n",
    "from matplotlib import pyplot as plt\n",
    "import matplotlib\n",
    "import numpy as np\n",
    "import pandas as pd\n",
    "import seaborn as sns\n",
    "import json\n",
    "import os\n",
    "import random\n",
    "\n",
    "from acnportal import acnsim, algorithms\n",
    "from acnportal.acnsim import analysis\n",
    "from acnportal.signals.tariffs import TimeOfUseTariff\n",
    "from adacharge import *"
   ]
  },
  {
   "attachments": {},
   "cell_type": "markdown",
   "metadata": {},
   "source": [
    "### Experiment Setupu parameters\n",
    "Followings are some necessary paramters for the experiment (for simplicity extracted directly)"
   ]
  },
  {
   "cell_type": "code",
   "execution_count": 2,
   "metadata": {},
   "outputs": [],
   "source": [
    "API_KEY = 'DEMO_TOKEN'\n",
    "TIMEZONE = pytz.timezone('America/Los_Angeles')\n",
    "SITE = 'caltech'\n",
    "PERIOD = 5  # minutes\n",
    "VOLTAGE = 208  # volts\n",
    "KW_TO_AMPS = 1000 / 208\n",
    "KWH_TO_AMP_PERIODS = KW_TO_AMPS * (60 / 5)\n",
    "MAX_LEN = 144\n",
    "FORCE_FEASIBLE = True\n",
    "EVENTS_DIR = \"C:\\\\Users\\\\s3955218\\\\repos\\\\acn-ev-simulation\\\\events\"\n",
    "VERBOSE = True"
   ]
  },
  {
   "cell_type": "code",
   "execution_count": 3,
   "metadata": {},
   "outputs": [],
   "source": [
    "def get_events(start, end, ideal_battery, force_feasible, max_len):\n",
    "    \"\"\" Gather Events from ACN-Data with a local cache. \"\"\"\n",
    "    # event_name = f\"{start}:{end}:{ideal_battery}:{force_feasible}:\" \\\n",
    "    #              f\"{max_len}\"\n",
    "    event_name = f'simevent_{random.randint(0,9)}'\n",
    "    path = os.path.join(EVENTS_DIR, event_name + '.json')\n",
    "    if os.path.exists(path):\n",
    "        with open(path, 'r') as f:\n",
    "            return acnsim.EventQueue.from_json(f)\n",
    "    start_time = TIMEZONE.localize(datetime.strptime(start, '%m-%d-%Y'))\n",
    "    end_time = TIMEZONE.localize(datetime.strptime(end, '%m-%d-%Y'))\n",
    "    default_battery_power = 6.656\n",
    "    if ideal_battery:\n",
    "        battery_params=None\n",
    "    else:\n",
    "        battery_params={'type': acnsim.Linear2StageBattery,\n",
    "                        'capacity_fn': acnsim.models.battery.batt_cap_fn}\n",
    "    events = acnsim.acndata_events.generate_events(API_KEY, SITE,\n",
    "                                                   start_time, end_time,\n",
    "                                                   PERIOD, VOLTAGE,\n",
    "                                                   default_battery_power,\n",
    "                                                   force_feasible=force_feasible,\n",
    "                                                   max_len=max_len,\n",
    "                                                   battery_params=battery_params)\n",
    "    if not os.path.exists(EVENTS_DIR):\n",
    "        os.mkdir(EVENTS_DIR)\n",
    "    with open(path, 'w') as f:\n",
    "        events.to_json(f)\n",
    "    return events"
   ]
  },
  {
   "attachments": {},
   "cell_type": "markdown",
   "metadata": {},
   "source": [
    "#### Testing with Events"
   ]
  },
  {
   "cell_type": "code",
   "execution_count": 4,
   "metadata": {},
   "outputs": [
    {
     "name": "stdout",
     "output_type": "stream",
     "text": [
      "acnportal.acnsim.events.event_queue.EventQueue(_queue=<list object at 0x000001C4CAE77D80>, _timestep=0)\n"
     ]
    }
   ],
   "source": [
    "event_name = \"simevent_1\"\n",
    "event_path = os.path.join(EVENTS_DIR, event_name + '.json')\n",
    "\n",
    "if os.path.exists(event_path):\n",
    "    with open(event_path, 'r') as f:\n",
    "        event = acnsim.EventQueue.from_json(f)\n",
    "        print(event)"
   ]
  },
  {
   "attachments": {},
   "cell_type": "markdown",
   "metadata": {},
   "source": [
    "### Creating a Wrapper Experiment Class"
   ]
  },
  {
   "cell_type": "code",
   "execution_count": 4,
   "metadata": {},
   "outputs": [],
   "source": [
    "class Experiment:\n",
    "    \"\"\" Wrapper for ACN-Sim Experiments including caching serialized experiment to disk. \"\"\"\n",
    "    def __init__(self, sim):\n",
    "        self.sim = sim\n",
    "\n",
    "    def calc_metrics(self):\n",
    "        \"\"\" Calculate metrics from simulation. \"\"\"\n",
    "        metrics = {\n",
    "            'proportion_delivered': analysis.proportion_of_energy_delivered(\n",
    "                self.sim) * 100,\n",
    "            'demands_fully_met': analysis.proportion_of_demands_met(\n",
    "                self.sim) * 100,\n",
    "            'peak_current': self.sim.peak,\n",
    "            'demand_charge': analysis.demand_charge(self.sim),\n",
    "            'energy_cost': analysis.energy_cost(self.sim),\n",
    "            'total_energy_delivered': analysis.total_energy_delivered(self.sim),\n",
    "            'total_energy_requested': analysis.total_energy_requested(self.sim)\n",
    "        }\n",
    "        return metrics\n",
    "\n",
    "    def log_local_file(self, path):\n",
    "        \"\"\" Write simulation, metrics and solver statistics to disk. \"\"\"\n",
    "        self.sim.to_json(path + 'sim.json')\n",
    "        with open(path + 'metrics.json', 'w') as outfile:\n",
    "            json.dump(self.calc_metrics(), outfile)\n",
    "        with open(path + 'solve_stats.json', 'w') as outfile:\n",
    "            json.dump(self.sim.scheduler.solve_stats, outfile)\n",
    "\n",
    "    def run_and_store(self, path):\n",
    "        \"\"\" Run experiment and store results. \"\"\"\n",
    "        print(f'Starting - {path}')\n",
    "        if os.path.exists(path + 'sim.json'):\n",
    "            print(f'Already Run - {path}...')\n",
    "            return\n",
    "        try:\n",
    "            self.sim.run()\n",
    "            if not os.path.exists(path):\n",
    "                os.makedirs(path)\n",
    "            self.log_local_file(path)\n",
    "            print(f'Done - {path}')\n",
    "        except Exception as e:\n",
    "            print(f'Failed - {path}')\n",
    "            print(e)"
   ]
  },
  {
   "attachments": {},
   "cell_type": "markdown",
   "metadata": {},
   "source": [
    "### Simulation configuration "
   ]
  },
  {
   "cell_type": "code",
   "execution_count": 5,
   "metadata": {},
   "outputs": [],
   "source": [
    "def configure_sim(\n",
    "    alg, \n",
    "    cap, \n",
    "    start, \n",
    "    events, \n",
    "    basic_evse=True,\n",
    "    estimate_max_rate=False, \n",
    "    uninterrupted_charging=False,\n",
    "    quantized=False,\n",
    "    allow_overcharging=False,\n",
    "    tariff_name=None,\n",
    "    offline=False\n",
    "):\n",
    "    \"\"\" Configure simulation. \"\"\"\n",
    "    start_time = TIMEZONE.localize(datetime.strptime(start, '%m-%d-%Y'))\n",
    "        \n",
    "    if estimate_max_rate:\n",
    "        alg.max_rate_estimator = algorithms.SimpleRampdown()\n",
    "        alg.estimate_max_rate = True\n",
    "    alg.uninterrupted_charging = uninterrupted_charging\n",
    "    alg.allow_overcharging = allow_overcharging\n",
    "\n",
    "    # Some algorithms support a quantized option\n",
    "    if quantized:\n",
    "        try:\n",
    "            alg.quantize = True\n",
    "        except:\n",
    "            pass\n",
    "        try:\n",
    "            alg.reallocate = True\n",
    "        except:\n",
    "            pass\n",
    "\n",
    "    cn = acnsim.sites.caltech_acn(voltage=VOLTAGE,\n",
    "                                  transformer_cap=cap,\n",
    "                                  basic_evse=basic_evse)\n",
    "    if tariff_name is not None:\n",
    "        signals = {'tariff': TimeOfUseTariff(tariff_name)}\n",
    "    else:\n",
    "        signals = {}\n",
    "    sim = acnsim.Simulator(cn, alg, events, start_time, signals=signals,\n",
    "                           period=PERIOD, verbose=False)\n",
    "    \n",
    "    if offline:\n",
    "        alg.register_events(events)\n",
    "        alg.solve()\n",
    "    \n",
    "    return sim"
   ]
  },
  {
   "attachments": {},
   "cell_type": "markdown",
   "metadata": {},
   "source": [
    "### Experiment Configuration\n",
    "**Note**: For simplicity extracted directly from source"
   ]
  },
  {
   "cell_type": "code",
   "execution_count": 6,
   "metadata": {},
   "outputs": [],
   "source": [
    "start = '9-1-2018'\n",
    "end = '10-1-2018'\n",
    "tariff_name = 'sce_tou_ev_4_march_2019'\n",
    "revenue = 0.3\n",
    "# Scenario I is the offline optimal.\n",
    "scenarios = {\n",
    "                'II': {'ideal_battery': True,\n",
    "                      'estimate_max_rate': False,\n",
    "                      'uninterrupted_charging': False,\n",
    "                      'quantized': False,\n",
    "                      'basic_evse': True\n",
    "                },\n",
    "                'III': {'ideal_battery': True,\n",
    "                       'estimate_max_rate': False,\n",
    "                       'uninterrupted_charging': True,\n",
    "                       'quantized': True,\n",
    "                       'basic_evse': False\n",
    "                },\n",
    "                # 'IV': {'ideal_battery': False,\n",
    "                #         'estimate_max_rate': True,\n",
    "                #         'uninterrupted_charging': False,\n",
    "                #         'quantized': False,\n",
    "                #         'basic_evse': True\n",
    "                # },\n",
    "                # 'V': {'ideal_battery': False,\n",
    "                #        'estimate_max_rate': True,\n",
    "                #        'uninterrupted_charging': True,\n",
    "                #        'quantized': True,\n",
    "                #        'basic_evse': False\n",
    "                # },\n",
    "}"
   ]
  },
  {
   "attachments": {},
   "cell_type": "markdown",
   "metadata": {},
   "source": [
    "### Energy Delivered with constrained infrastructure "
   ]
  },
  {
   "cell_type": "code",
   "execution_count": 7,
   "metadata": {},
   "outputs": [],
   "source": [
    "energy_del_base_dir = \"C:\\\\Users\\\\s3955218\\\\repos\\\\acn-ev-simulation\\\\results\\\\infrastructure_utilization_results\""
   ]
  },
  {
   "attachments": {},
   "cell_type": "markdown",
   "metadata": {},
   "source": [
    "### Running Simulation\n",
    "- Maximizing total energy delivered when infrastructure is oversubscribed\n",
    "- Electricity prices are static or user statisfaction is the primary concern\n",
    "\n",
    "Utility Function:\n",
    "$$\n",
    "    {U^{QC}(r)} := u^{QC}(r) + 10^{-12}u^{ES}(r)\n",
    "$$\n",
    "\n",
    "Here $U^{QC}$ encourages the system to deliver energy as quickly as possible, which helps free capacity for future arrivals. The regularizer ${u^{ES}(r)}$ promotes equal sharing between similar EVs and force a unique solution."
   ]
  },
  {
   "cell_type": "code",
   "execution_count": 18,
   "metadata": {},
   "outputs": [],
   "source": [
    "ALGS = dict()\n",
    "ALGS['LLF'] = algorithms.SortedSchedulingAlgo(algorithms.least_laxity_first)\n",
    "# ALGS['EDF'] = algorithms.SortedSchedulingAlgo(algorithms.earliest_deadline_first)\n",
    "ALGS['RR'] = algorithms.RoundRobin(algorithms.first_come_first_served, continuous_inc=1)\n",
    "\n",
    "quick_charge_obj = [\n",
    "    ObjectiveComponent(quick_charge),\n",
    "    ObjectiveComponent(equal_share, 1e-12)\n",
    "]\n",
    "ALGS['ASA-QC'] = AdaptiveSchedulingAlgorithm(quick_charge_obj,\n",
    "                                             solver='MOSEK',\n",
    "                                             max_recompute=1)"
   ]
  },
  {
   "cell_type": "code",
   "execution_count": 19,
   "metadata": {},
   "outputs": [
    {
     "name": "stdout",
     "output_type": "stream",
     "text": [
      "Starting - C:\\Users\\s3955218\\repos\\acn-ev-simulation\\results\\infrastructure_utilization_results\\80\\ASA-QC\\\n",
      "Already Run - C:\\Users\\s3955218\\repos\\acn-ev-simulation\\results\\infrastructure_utilization_results\\80\\ASA-QC\\...\n",
      "Starting - C:\\Users\\s3955218\\repos\\acn-ev-simulation\\results\\infrastructure_utilization_results\\80\\RR\\\n",
      "Already Run - C:\\Users\\s3955218\\repos\\acn-ev-simulation\\results\\infrastructure_utilization_results\\80\\RR\\...\n",
      "Starting - C:\\Users\\s3955218\\repos\\acn-ev-simulation\\results\\infrastructure_utilization_results\\80\\LLF\\\n"
     ]
    },
    {
     "name": "stderr",
     "output_type": "stream",
     "text": [
      "c:\\Users\\s3955218\\Anaconda3\\envs\\acnsim\\lib\\site-packages\\acnportal\\acnsim\\simulator.py:387: UserWarning: Not serializing signals as value typesare not natively JSON serializable.\n",
      "  warnings.warn(\n"
     ]
    },
    {
     "name": "stdout",
     "output_type": "stream",
     "text": [
      "Done - C:\\Users\\s3955218\\repos\\acn-ev-simulation\\results\\infrastructure_utilization_results\\80\\LLF\\\n",
      "Starting - C:\\Users\\s3955218\\repos\\acn-ev-simulation\\results\\infrastructure_utilization_results\\150\\ASA-QC\\\n",
      "Already Run - C:\\Users\\s3955218\\repos\\acn-ev-simulation\\results\\infrastructure_utilization_results\\150\\ASA-QC\\...\n",
      "Starting - C:\\Users\\s3955218\\repos\\acn-ev-simulation\\results\\infrastructure_utilization_results\\150\\RR\\\n",
      "Already Run - C:\\Users\\s3955218\\repos\\acn-ev-simulation\\results\\infrastructure_utilization_results\\150\\RR\\...\n",
      "Starting - C:\\Users\\s3955218\\repos\\acn-ev-simulation\\results\\infrastructure_utilization_results\\150\\LLF\\\n",
      "Done - C:\\Users\\s3955218\\repos\\acn-ev-simulation\\results\\infrastructure_utilization_results\\150\\LLF\\\n",
      "Starting - C:\\Users\\s3955218\\repos\\acn-ev-simulation\\results\\infrastructure_utilization_results\\80\\ASA-QC\\\n",
      "Already Run - C:\\Users\\s3955218\\repos\\acn-ev-simulation\\results\\infrastructure_utilization_results\\80\\ASA-QC\\...\n",
      "Starting - C:\\Users\\s3955218\\repos\\acn-ev-simulation\\results\\infrastructure_utilization_results\\80\\RR\\\n",
      "Already Run - C:\\Users\\s3955218\\repos\\acn-ev-simulation\\results\\infrastructure_utilization_results\\80\\RR\\...\n",
      "Starting - C:\\Users\\s3955218\\repos\\acn-ev-simulation\\results\\infrastructure_utilization_results\\80\\LLF\\\n",
      "Already Run - C:\\Users\\s3955218\\repos\\acn-ev-simulation\\results\\infrastructure_utilization_results\\80\\LLF\\...\n",
      "Starting - C:\\Users\\s3955218\\repos\\acn-ev-simulation\\results\\infrastructure_utilization_results\\150\\ASA-QC\\\n",
      "Already Run - C:\\Users\\s3955218\\repos\\acn-ev-simulation\\results\\infrastructure_utilization_results\\150\\ASA-QC\\...\n",
      "Starting - C:\\Users\\s3955218\\repos\\acn-ev-simulation\\results\\infrastructure_utilization_results\\150\\RR\\\n",
      "Already Run - C:\\Users\\s3955218\\repos\\acn-ev-simulation\\results\\infrastructure_utilization_results\\150\\RR\\...\n",
      "Starting - C:\\Users\\s3955218\\repos\\acn-ev-simulation\\results\\infrastructure_utilization_results\\150\\LLF\\\n",
      "Already Run - C:\\Users\\s3955218\\repos\\acn-ev-simulation\\results\\infrastructure_utilization_results\\150\\LLF\\...\n"
     ]
    }
   ],
   "source": [
    "# Online Algorithms\n",
    "caps = [80, 150]\n",
    "for scenario_id, scenario in scenarios.items():\n",
    "    for cap in caps:\n",
    "        for alg in ['ASA-QC', 'RR', 'LLF']:\n",
    "            output_dir = f'{energy_del_base_dir}\\\\{cap}\\\\{alg}\\\\'\n",
    "            events = get_events(start, end, scenario['ideal_battery'], FORCE_FEASIBLE, MAX_LEN)\n",
    "\n",
    "            sim = configure_sim(\n",
    "                cap=cap,\n",
    "                alg=deepcopy(ALGS[alg]),\n",
    "                start=start,\n",
    "                events=events,\n",
    "                basic_evse=scenario['basic_evse'],\n",
    "                estimate_max_rate=scenario['estimate_max_rate'],\n",
    "                uninterrupted_charging=scenario['uninterrupted_charging'],\n",
    "                quantized=scenario['quantized'],\n",
    "                tariff_name=tariff_name\n",
    "            )\n",
    "            ex = Experiment(sim)\n",
    "            ex.run_and_store(output_dir)"
   ]
  },
  {
   "attachments": {},
   "cell_type": "markdown",
   "metadata": {},
   "source": [
    "Maximum energy that could be delivered can be calculated by solving following optimization problem. This is considered as *Offline Optimal* solution. Here, $\\mathcal{V}$ includes all EVs, not just those present at time $k$. We also modify the constraints so that EVs cannot charge before their arrival time.\n",
    "\\begin{equation*}\n",
    "    U^\\mathrm{EM\\_OFF}(r) :=  \\sum_{\\substack{t \\in \\mathcal{T}\\\\i \\in \\mathcal{V}}} r_i(t)\n",
    "\\end{equation*}"
   ]
  },
  {
   "cell_type": "code",
   "execution_count": 11,
   "metadata": {},
   "outputs": [
    {
     "name": "stdout",
     "output_type": "stream",
     "text": [
      "Starting - C:\\Users\\s3955218\\repos\\acn-ev-simulation\\results\\infrastructure_utilization_results\\80\\Optimal\\\n"
     ]
    },
    {
     "name": "stderr",
     "output_type": "stream",
     "text": [
      "c:\\Users\\s3955218\\Anaconda3\\envs\\acnsim\\lib\\site-packages\\acnportal\\acnsim\\simulator.py:387: UserWarning: Not serializing signals as value typesare not natively JSON serializable.\n",
      "  warnings.warn(\n"
     ]
    },
    {
     "name": "stdout",
     "output_type": "stream",
     "text": [
      "Done - C:\\Users\\s3955218\\repos\\acn-ev-simulation\\results\\infrastructure_utilization_results\\80\\Optimal\\\n",
      "Starting - C:\\Users\\s3955218\\repos\\acn-ev-simulation\\results\\infrastructure_utilization_results\\150\\Optimal\\\n",
      "Done - C:\\Users\\s3955218\\repos\\acn-ev-simulation\\results\\infrastructure_utilization_results\\150\\Optimal\\\n"
     ]
    }
   ],
   "source": [
    "# Offline Optimal\n",
    "optimal_obj = [ObjectiveComponent(total_energy)]\n",
    "optimal_alg = AdaptiveChargingAlgorithmOffline(optimal_obj, solver='MOSEK')\n",
    "for cap in caps:\n",
    "    output_dir = f'{energy_del_base_dir}\\\\{cap}\\\\Optimal\\\\'\n",
    "    events = get_events(start, end, True, FORCE_FEASIBLE, MAX_LEN)\n",
    "\n",
    "    sim = configure_sim(\n",
    "        cap=cap,\n",
    "        alg=deepcopy(optimal_alg),\n",
    "        start=start,\n",
    "        events=events,\n",
    "        basic_evse=True,\n",
    "        estimate_max_rate=False,\n",
    "        uninterrupted_charging=False,\n",
    "        quantized=False,\n",
    "        tariff_name=tariff_name,\n",
    "        offline=True\n",
    "    )\n",
    "    ex = Experiment(sim)\n",
    "    ex.run_and_store(output_dir)"
   ]
  },
  {
   "attachments": {},
   "cell_type": "markdown",
   "metadata": {},
   "source": [
    "### Analysis"
   ]
  },
  {
   "cell_type": "code",
   "execution_count": 20,
   "metadata": {},
   "outputs": [],
   "source": [
    "def get_metric(results_dir, config, metric_name):\n",
    "    # path = os.path.join(results_dir, f\"{config['start']}:{config['end']}\", config['scenario'],\n",
    "    #            str(config['cap']), config['alg'], 'metrics.json')\n",
    "    path = os.path.join(results_dir, str(config['cap']), config['alg'], 'metrics.json')\n",
    "    if not os.path.exists(path):\n",
    "        return float('nan')\n",
    "    with open(path) as f:\n",
    "        metrics = json.load(f)\n",
    "    if metric_name is None:\n",
    "        return metrics\n",
    "    else:   \n",
    "        return metrics[metric_name]\n",
    "\n",
    "def get_solve_stats(results_dir, config):\n",
    "    # path = os.path.join(results_dir, f\"{config['start']}:{config['end']}\", config['scenario'],\n",
    "    #            str(config['cap']), config['alg'], 'solve_stats.json')\n",
    "    path = os.path.join(results_dir, str(config['cap']), config['alg'], 'solve_stats.json')\n",
    "    if not os.path.exists(path):\n",
    "        return float('nan')\n",
    "    with open(path) as f:\n",
    "        return json.load(f)\n",
    "\n",
    "def get_sim(results_dir, config):\n",
    "    path = os.path.join(results_dir, f\"{config['start']}:{config['end']}\", config['scenario'],\n",
    "               str(config['cap']), config['alg'], 'sim.json')\n",
    "    if not os.path.exists(path):\n",
    "        return None\n",
    "    with open(path) as f:\n",
    "        try:\n",
    "            return acnsim.Simulator.from_json(f)\n",
    "        except:\n",
    "            print(path)"
   ]
  },
  {
   "cell_type": "code",
   "execution_count": 65,
   "metadata": {},
   "outputs": [],
   "source": [
    "start = '9-1-2018'\n",
    "end = '10-1-2018'\n",
    "caps = [80, 150]\n",
    "algs = ['ASA-QC', 'RR', 'LLF']\n",
    "scenario_order = ['II', 'III']\n",
    "percent_del = dict()\n",
    "\n",
    "percent_del['Optimal'] = np.full((1, len(caps)), np.nan)\n",
    "for col, cap in enumerate(caps):\n",
    "    config = {'scenario': 'I', 'start': start, 'end': end, 'cap': cap, 'alg': 'Optimal'}\n",
    "    percent_del['Optimal'][0, col] = get_metric(f'{energy_del_base_dir}\\\\', config, 'proportion_delivered')\n",
    "\n",
    "for scenario in scenario_order:\n",
    "    percent_del[scenario] = np.full((len(algs), len(caps)), np.nan)\n",
    "    for row, alg in enumerate(algs):\n",
    "        for col, cap in enumerate(caps):\n",
    "            config = {'scenario': scenario, 'start': start, 'end': end, 'cap': cap, 'alg': alg}\n",
    "            percent_del[scenario][row, col] = get_metric(f'{energy_del_base_dir}\\\\', config, 'proportion_delivered')"
   ]
  },
  {
   "cell_type": "code",
   "execution_count": 84,
   "metadata": {},
   "outputs": [
    {
     "data": {
      "image/png": "[encoded data removed]",
      "text/plain": [
       "<Figure size 500x600 with 1 Axes>"
      ]
     },
     "metadata": {},
     "output_type": "display_data"
    }
   ],
   "source": [
    "fig, ax = plt.subplots()\n",
    "ax.set_title(\"Energy Delivered\")\n",
    "\n",
    "\n",
    "fig.set_size_inches(5, 6)\n",
    "# labels = ['', 'Optimal',\n",
    "#           '', 'ASA-QC', 'LLF', 'EDF', 'RR',\n",
    "#           '', 'ASA-QC', 'LLF', 'EDF', 'RR',\n",
    "#           '', 'ASA-QC', 'LLF', 'EDF', 'RR',\n",
    "#           '', 'ASA-QC', 'LLF', 'EDF', 'RR']\n",
    "\n",
    "# Alternate labels\n",
    "labels = ['', 'Optimal',\n",
    "          '', 'ASA-QC', 'RR', 'LLF',\n",
    "          '', 'ASA-QC', 'RR', 'LLF'\n",
    "         ]\n",
    "\n",
    "spacer = np.full((1, len(caps)), np.nan)\n",
    "stack = [spacer]\n",
    "stack.append(percent_del['Optimal'])\n",
    "for scenario in scenarios:\n",
    "    stack.append(spacer)\n",
    "    stack.append(percent_del[scenario])\n",
    "heatmap = np.vstack(stack)\n",
    "\n",
    "\n",
    "sns.heatmap(heatmap, annot=True, fmt='.1f', linewidth=1.5, ax=ax,\n",
    "            cbar=False, annot_kws= {'fontsize':9}, yticklabels=labels, xticklabels=caps)\n",
    "title_style = {'horizontalalignment': 'center', 'verticalalignment': 'center', 'fontsize': 10}\n",
    "vert_offset = 0.6\n",
    "ax.text(1, 0 + vert_offset, 'I. Offline Optimal', **title_style)\n",
    "ax.text(1, 2 + vert_offset, 'II. Ideal Battery / Continuous Pilot Signal', **title_style)\n",
    "ax.text(1, 6 + vert_offset, 'III. Ideal Battery / Quantized Pilot Signal', **title_style)\n",
    "# ax.text(4, 12 + vert_offset, 'IV. Non-Ideal Battery / Continuous Pilot Signal', **title_style)\n",
    "# ax.text(4, 17 + vert_offset, 'V. Non-Ideal Battery / Quantized Pilot Signal', **title_style)\n",
    "ax.set_xlabel('Transformer Capacity (kW)')\n",
    "ax.axvline(6.99, 21/22, 20/22, color='k', linewidth=0.5)\n",
    "ax.axvline(6.99, 19/22, 15/22, color='k', linewidth=0.5)\n",
    "ax.axvline(6.99, 19/22, 15/22, color='k', linewidth=0.5)\n",
    "# ax.axvline(6.99, 14/22, 10/22, color='k', linewidth=0.5)\n",
    "# ax.axvline(6.99, 9/22, 5/22, color='k', linewidth=0.5)\n",
    "# ax.axvline(6.99, 4/22, 0/22, color='k', linewidth=0.5)\n",
    "\n",
    "ax.tick_params(axis=u'y', which=u'both',length=0)\n",
    "# fig.tight_layout();"
   ]
  },
  {
   "cell_type": "code",
   "execution_count": 85,
   "metadata": {},
   "outputs": [],
   "source": [
    "fig.savefig(f\"C:\\\\Users\\s3955218\\\\OneDrive - RMIT University\\\\Research Milestones\\\\CoC\\simulation_others\\\\perc_energy_delivered.tiff\", dpi=300)"
   ]
  },
  {
   "cell_type": "code",
   "execution_count": 98,
   "metadata": {},
   "outputs": [],
   "source": [
    "start = '9-1-2018'\n",
    "end = '10-1-2018'\n",
    "# caps = list(range(20, 81, 10)) + [150]\n",
    "caps = [80, 150]\n",
    "# scenario_order = ['II', 'III', 'IV', 'V']\n",
    "scenario_order = ['II', 'III']\n",
    "algs = ['ASA-QC', 'RR', 'LLF']\n",
    "avg_solve_time = dict()\n",
    "for scenario in scenario_order:\n",
    "    avg_solve_time[scenario] = np.full((len(algs), len(caps)), np.nan)\n",
    "    for row, alg in enumerate(algs):\n",
    "        for col, cap in enumerate(caps):\n",
    "            config = {'scenario': scenario, 'start': start, 'end': end,\n",
    "                      'cap': cap, 'alg': alg}\n",
    "            try:\n",
    "                stats = pd.DataFrame(get_solve_stats(f'{energy_del_base_dir}\\\\', config))\n",
    "                stats = stats[stats['active_sessions'] > 25]\n",
    "                avg_solve_time[scenario][row, col] = stats['solve_time'].mean()\n",
    "            except:\n",
    "                pass"
   ]
  },
  {
   "cell_type": "code",
   "execution_count": 106,
   "metadata": {},
   "outputs": [
    {
     "data": {
      "image/png": "[encoded data removed]",
      "text/plain": [
       "<Figure size 400x500 with 1 Axes>"
      ]
     },
     "metadata": {},
     "output_type": "display_data"
    }
   ],
   "source": [
    "fig, ax = plt.subplots()\n",
    "ax.set_title(\"Average Solve Time\")\n",
    "fig.set_size_inches(4, 5)\n",
    "labels = ['', 'ASA-QC', 'RR', 'LLF',\n",
    "          '', 'ASA-QC', 'RR', 'LLF'\n",
    "          ]\n",
    "\n",
    "stack = []\n",
    "spacer = np.full((1, len(caps)), np.nan)\n",
    "for scenario in scenarios:\n",
    "    stack.append(spacer)\n",
    "    stack.append(avg_solve_time[scenario])\n",
    "heatmap = np.vstack(stack)\n",
    "\n",
    "\n",
    "sns.heatmap(heatmap, annot=True, fmt='.1f', linewidth=1.5, ax=ax,\n",
    "            cbar=False, annot_kws= {'fontsize':9}, yticklabels=labels, xticklabels=caps)\n",
    "title_style = {'horizontalalignment': 'center', 'verticalalignment': 'center', 'fontsize': 10}\n",
    "vert_offset = 0.6\n",
    "ax.text(1, 0 + vert_offset, 'II. Ideal Battery / Continuous Pilot Signal', **title_style)\n",
    "ax.text(1, 4+ vert_offset, 'III. Ideal Battery / Quantized Pilot Signal', **title_style)\n",
    "# ax.text(4, 10 + vert_offset, 'IV. Non-Ideal Battery / Continuous Pilot Signal', **title_style)\n",
    "# ax.text(4, 15 + vert_offset, 'V. Non-Ideal Battery / Quantized Pilot Signal', **title_style)\n",
    "ax.set_xlabel('Transformer Capacity (kW)')\n",
    "\n",
    "ax.tick_params(axis=u'y', which=u'both',length=0)\n",
    "# fig.tight_layout();"
   ]
  },
  {
   "cell_type": "code",
   "execution_count": 107,
   "metadata": {},
   "outputs": [],
   "source": [
    "fig.savefig(f\"C:\\\\Users\\s3955218\\\\OneDrive - RMIT University\\\\Research Milestones\\\\CoC\\simulation_others\\\\avg_solve_time.tiff\", dpi=300)"
   ]
  }
 ],
 "metadata": {
  "kernelspec": {
   "display_name": "acnsim",
   "language": "python",
   "name": "python3"
  },
  "language_info": {
   "codemirror_mode": {
    "name": "ipython",
    "version": 3
   },
   "file_extension": ".py",
   "mimetype": "text/x-python",
   "name": "python",
   "nbconvert_exporter": "python",
   "pygments_lexer": "ipython3",
   "version": "3.9.15"
  },
  "orig_nbformat": 4,
  "vscode": {
   "interpreter": {
    "hash": "1b1ed7d673d5a5a7c8e67165bf582d9cb2e9ceb7d64f5312099cd48ae1058f52"
   }
  }
 },
 "nbformat": 4,
 "nbformat_minor": 2
}
