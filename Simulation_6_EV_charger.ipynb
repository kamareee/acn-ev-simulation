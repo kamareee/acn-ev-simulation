{
 "cells": [
  {
   "cell_type": "code",
   "execution_count": 1,
   "metadata": {},
   "outputs": [],
   "source": [
    "%load_ext autoreload\n",
    "%autoreload 2"
   ]
  },
  {
   "cell_type": "code",
   "execution_count": 2,
   "metadata": {},
   "outputs": [],
   "source": [
    "import acnportal\n",
    "import sklearn\n",
    "\n",
    "from copy import deepcopy\n",
    "import warnings\n",
    "import pytz\n",
    "import numpy as np\n",
    "import pandas as pd\n",
    "import pickle\n",
    "from datetime import datetime\n",
    "from enum import Enum\n",
    "from collections import namedtuple\n",
    "\n",
    "from acnportal import acnsim\n",
    "from acnportal import algorithms\n",
    "from acnportal.acnsim.events import EventQueue\n",
    "from acnportal.signals.tariffs.tou_tariff import TimeOfUseTariff\n",
    "from acnportal.acnsim.events import GaussianMixtureEvents\n",
    "from acnportal.contrib.acnsim import StochasticNetwork\n",
    "from acnportal.acnsim.network import ChargingNetwork\n",
    "from modified_adacharge import modified_adacharge"
   ]
  },
  {
   "cell_type": "code",
   "execution_count": 3,
   "metadata": {},
   "outputs": [],
   "source": [
    "def ev_fleet_level_2_network(transformer_cap=30, evse_per_phase=2):\n",
    "    \"\"\" Configurable charging network for level-2 EVSEs connected line to line\n",
    "        at 415 V.\n",
    "\n",
    "    Args:\n",
    "        transformer_cap (float): Capacity of the transformer feeding the network\n",
    "          [kW]\n",
    "        evse_per_phase (int): Number of EVSEs on each phase. Total number of\n",
    "          EVSEs will be 3 * evse_per_phase.\n",
    "\n",
    "    Returns:\n",
    "        ChargingNetwork: Configured ChargingNetwork.\n",
    "    \"\"\"\n",
    "    network = StochasticNetwork(early_departure=True)\n",
    "    # network = ChargingNetwork()\n",
    "    voltage = 415\n",
    "    evse_type = 'AeroVironment'\n",
    "\n",
    "    # Define the sets of EVSEs in the Caltech ACN.\n",
    "    AB_ids = ['AB-{0}'.format(i) for i in range(evse_per_phase)]\n",
    "    BC_ids = ['BC-{0}'.format(i) for i in range(evse_per_phase)]\n",
    "    CA_ids = ['CA-{0}'.format(i) for i in range(evse_per_phase)]\n",
    "\n",
    "    # print(AB_ids)\n",
    "\n",
    "    # Add Caltech EVSEs\n",
    "    for evse_id in AB_ids:\n",
    "        network.register_evse(acnsim.get_evse_by_type(evse_id, evse_type), voltage, 30)\n",
    "    for evse_id in BC_ids:\n",
    "        network.register_evse(acnsim.get_evse_by_type(evse_id, evse_type), voltage, -90)\n",
    "    for evse_id in CA_ids:\n",
    "        network.register_evse(acnsim.get_evse_by_type(evse_id, evse_type), voltage, 150)\n",
    "\n",
    "    # Add Caltech Constraint Set\n",
    "    AB = acnsim.Current(AB_ids)\n",
    "    BC = acnsim.Current(BC_ids)\n",
    "    CA = acnsim.Current(CA_ids)\n",
    "\n",
    "    # Define intermediate currents\n",
    "    I3a = AB - CA\n",
    "    I3b = BC - AB\n",
    "    I3c = CA - BC\n",
    "    I2a = (1 / 4) * (I3a - I3c)\n",
    "    I2b = (1 / 4) * (I3b - I3a)\n",
    "    I2c = (1 / 4) * (I3c - I3b)\n",
    "\n",
    "    # Build constraint set\n",
    "    primary_side_constr = transformer_cap * 1000 / 3 / 415\n",
    "    print(primary_side_constr)\n",
    "    secondary_side_constr = transformer_cap * 1000 / 3 / 230\n",
    "    print(secondary_side_constr)\n",
    "    network.add_constraint(I3a, secondary_side_constr, name='Secondary A')\n",
    "    network.add_constraint(I3b, secondary_side_constr, name='Secondary B')\n",
    "    network.add_constraint(I3c, secondary_side_constr, name='Secondary C')\n",
    "    network.add_constraint(I2a, primary_side_constr, name='Primary A')\n",
    "    network.add_constraint(I2b, primary_side_constr, name='Primary B')\n",
    "    network.add_constraint(I2c, primary_side_constr, name='Primary C')\n",
    "\n",
    "    return network"
   ]
  },
  {
   "cell_type": "code",
   "execution_count": 4,
   "metadata": {},
   "outputs": [],
   "source": [
    "# How long each time discrete time interval in the simulation should be.\n",
    "PERIOD = 5  # minutes\n",
    "\n",
    "# Voltage of the network.\n",
    "VOLTAGE = 415  # volts\n",
    "\n",
    "# Default maximum charging rate for each EV battery.\n",
    "DEFAULT_BATTERY_POWER = 11 # kW"
   ]
  },
  {
   "cell_type": "code",
   "execution_count": 5,
   "metadata": {},
   "outputs": [
    {
     "name": "stdout",
     "output_type": "stream",
     "text": [
      "24.096385542168676\n",
      "43.47826086956522\n"
     ]
    },
    {
     "data": {
      "text/plain": [
       "array([43.47826087, 43.47826087, 43.47826087, 24.09638554, 24.09638554,\n",
       "       24.09638554])"
      ]
     },
     "execution_count": 5,
     "metadata": {},
     "output_type": "execute_result"
    }
   ],
   "source": [
    "level2_ev_fleet_network = ev_fleet_level_2_network(transformer_cap=30, evse_per_phase=2)\n",
    "level2_ev_fleet_network.magnitudes"
   ]
  },
  {
   "cell_type": "code",
   "execution_count": 6,
   "metadata": {},
   "outputs": [],
   "source": [
    "class CustomUnpicklerJPLdata(pickle.Unpickler):\n",
    "    def find_class(self, module, name):\n",
    "        if name == \"sklearn.mixture.gaussian_mixture\":\n",
    "            return sklearn.mixture.GaussianMixture\n",
    "        if name == \"GaussianMixture\":\n",
    "            return sklearn.mixture.GaussianMixture\n",
    "        return super().find_class(module, name)\n",
    "    \n",
    "def get_synth_events(sessions_per_day):\n",
    "    gmm = CustomUnpicklerJPLdata(open('./data/jpl_weekday_40.pkl', \"rb\")).load()\n",
    "\n",
    "\n",
    "    # Generate a list of the number of sessions to draw for each day.\n",
    "    # This generates 30 days of charging demands.\n",
    "    # num_evs = [0]*2 + [sessions_per_day]*5 + [0]*2 + [sessions_per_day]*5 + [0]*2 + \\\n",
    "    #           [sessions_per_day]*5 + [0]*2 + [sessions_per_day]*5 + [0]*2\n",
    "\n",
    "    # Generate sessions for 1 day (weekdays only)\n",
    "    num_evs = [0]*2 + [sessions_per_day]*1\n",
    "\n",
    "    # Note that because we are drawing from a distribution, some sessions will be\n",
    "    # invalid, we ignore these sessions and remove the corresponding plugin events.\n",
    "    gen = GaussianMixtureEvents(pretrained_model=gmm, duration_min=0.08334)\n",
    "\n",
    "    synth_events = gen.generate_events(num_evs, PERIOD, VOLTAGE, DEFAULT_BATTERY_POWER)\n",
    "    return synth_events"
   ]
  },
  {
   "cell_type": "code",
   "execution_count": 7,
   "metadata": {},
   "outputs": [
    {
     "name": "stderr",
     "output_type": "stream",
     "text": [
      "c:\\Users\\s3955218\\Anaconda3\\envs\\evsim\\lib\\site-packages\\sklearn\\base.py:288: UserWarning: Trying to unpickle estimator GaussianMixture from version 0.20.2 when using version 1.2.0. This might lead to breaking code or invalid results. Use at your own risk. For more info please refer to:\n",
      "https://scikit-learn.org/stable/model_persistence.html#security-maintainability-limitations\n",
      "  warnings.warn(\n"
     ]
    }
   ],
   "source": [
    "# Events with 32 EVs per weekday\n",
    "sessions_32 = get_synth_events(32)"
   ]
  },
  {
   "cell_type": "code",
   "execution_count": 18,
   "metadata": {},
   "outputs": [],
   "source": [
    "Schedulingimportance = namedtuple(\"Schedulingimportance\", \"importancelevel\")\n",
    "# evSchedulingimportance = Schedulingimportance('high')\n",
    "# print(evSchedulingimportance.level)"
   ]
  },
  {
   "cell_type": "code",
   "execution_count": 19,
   "metadata": {},
   "outputs": [
    {
     "name": "stdout",
     "output_type": "stream",
     "text": [
      "645 session_17 756 8.571633345132364 Plugin low\n",
      "649 session_6 792 12.110101561854618 Plugin low\n",
      "646 session_23 761 5.422587850448381 Plugin low\n",
      "651 session_31 729 17.440221915045356 Plugin high\n",
      "660 session_19 774 17.053694121976633 Plugin low\n",
      "653 session_14 776 7.137961633173925 Plugin low\n",
      "655 session_5 771 11.965093467891686 Plugin low\n",
      "662 session_15 777 3.8288481980606854 Plugin low\n",
      "668 session_8 718 14.420706854011568 Plugin low\n",
      "672 session_3 753 15.00813793994914 Plugin low\n",
      "661 session_22 740 3.1298356521511517 Plugin low\n",
      "657 session_11 783 5.126300686648129 Plugin low\n",
      "669 session_25 737 27.8824150341117 Plugin low\n",
      "664 session_27 781 13.405355824968364 Plugin low\n",
      "657 session_29 773 16.127828484300814 Plugin low\n",
      "672 session_1 786 23.146765010058033 Plugin low\n",
      "673 session_16 798 6.2068463804823875 Plugin low\n",
      "673 session_7 718 12.046540621207903 Plugin low\n",
      "671 session_18 763 6.369188803495007 Plugin low\n",
      "753 session_9 776 10.883646718921325 Plugin low\n",
      "685 session_20 792 14.70682348761617 Plugin low\n",
      "786 session_10 803 8.758868557085803 Plugin low\n",
      "741 session_21 787 10.68483593736783 Plugin low\n",
      "678 session_2 792 25.016288617171256 Plugin low\n",
      "675 session_24 804 13.886344589538417 Plugin low\n",
      "727 session_12 792 18.429093575931493 Plugin low\n",
      "732 session_26 757 1.0072991673016192 Plugin low\n",
      "674 session_13 775 7.599606754953509 Plugin low\n",
      "664 session_28 779 14.856328873331012 Plugin low\n",
      "670 session_4 788 10.420615051544829 Plugin low\n",
      "812 session_30 878 5.229364231543783 Plugin low\n",
      "676 session_0 747 0.877811618221464 Plugin low\n"
     ]
    }
   ],
   "source": [
    "session_copy = deepcopy(sessions_32)\n",
    "# print(type(session_copy))\n",
    "session_list = list(session_copy.queue)\n",
    "\n",
    "def tag_specific_session_for_scheduling(session_list, session_id: str):\n",
    "    new_session_list = []\n",
    "    for session in session_list:\n",
    "        if session[1].ev._session_id == session_id:\n",
    "            modified_session = (session[0], session[1], Schedulingimportance('high'))\n",
    "            new_session_list.append(modified_session)\n",
    "        else:\n",
    "            new_session_list.append((session[0], session[1], Schedulingimportance('low')))\n",
    "    return new_session_list\n",
    "\n",
    "new_session_list = tag_specific_session_for_scheduling(session_list, 'session_31')\n",
    "\n",
    "for session in new_session_list:\n",
    "    print(session[0], session[1].ev._session_id, session[1].ev.departure, session[1].ev.requested_energy, session[1].event_type, session[2].importancelevel)"
   ]
  },
  {
   "cell_type": "code",
   "execution_count": 9,
   "metadata": {},
   "outputs": [],
   "source": [
    "def run_experiment(network, algorithm, events):\n",
    "    \"\"\" Run simulation for the events defined previously and the specified\n",
    "        network / algorithm / events.\n",
    "    \"\"\"\n",
    "    # Timezone of the ACN we are using.\n",
    "    # timezone = pytz.timezone('America/Los_Angeles')\n",
    "    timezone = pytz.timezone('Australia/Melbourne')\n",
    "\n",
    "    # Start and End times are used when collecting data.\n",
    "    # start = timezone.localize(datetime(2019, 6, 1))\n",
    "    # end = timezone.localize(datetime(2019, 7, 1))\n",
    "\n",
    "    start = timezone.localize(datetime(2023, 10, 3))\n",
    "    end = timezone.localize(datetime(2023, 10, 4))\n",
    "\n",
    "    sch = deepcopy(algorithm)\n",
    "    cn = deepcopy(network)\n",
    "    signals = {'tariff': TimeOfUseTariff('sce_tou_ev_4_march_2019')}\n",
    "\n",
    "    sim = acnsim.Simulator(cn, sch, events, start, period=PERIOD, verbose=False, signals=signals)\n",
    "    with warnings.catch_warnings():\n",
    "        warnings.simplefilter(\"ignore\")\n",
    "    sim.run()\n",
    "\n",
    "    r = {'proportion_of_energy_delivered': acnsim.proportion_of_energy_delivered(sim),\n",
    "         'energy_delivered': sum(ev.energy_delivered for ev in sim.ev_history.values()),\n",
    "         'num_swaps': cn.swaps,\n",
    "         'num_never_charged': cn.never_charged,\n",
    "         'energy_cost': acnsim.energy_cost(sim),\n",
    "         'demand_charge': acnsim.demand_charge(sim)\n",
    "         }\n",
    "    \n",
    "    # r['total_cost'] = r['energy_cost'] + r['demand_charge'] # original\n",
    "    r['total_cost'] = r['energy_cost'] # modified\n",
    "    r['$/kWh'] = r['total_cost'] / r['energy_delivered']\n",
    "    return r"
   ]
  },
  {
   "cell_type": "code",
   "execution_count": 10,
   "metadata": {},
   "outputs": [],
   "source": [
    "uncontrolled = algorithms.UncontrolledCharging()\n",
    "llf = algorithms.SortedSchedulingAlgo(algorithms.least_laxity_first)"
   ]
  },
  {
   "cell_type": "code",
   "execution_count": 11,
   "metadata": {},
   "outputs": [],
   "source": [
    "cost_min_obj = [modified_adacharge.ObjectiveComponent(modified_adacharge.total_energy, 1000),\n",
    "                modified_adacharge.ObjectiveComponent(modified_adacharge.tou_energy_cost),\n",
    "                modified_adacharge.ObjectiveComponent(modified_adacharge.quick_charge, 1e-5),\n",
    "                modified_adacharge.ObjectiveComponent(modified_adacharge.equal_share, 1e-12)\n",
    "               ]\n",
    "# peak limit: total aggregated current limit \n",
    "# cost_min = adacharge.AdaptiveSchedulingAlgorithm(cost_min_obj, solver=\"MOSEK\", quantize=True, reallocate=True, peak_limit=1000, max_recompute=1)\n",
    "cost_min = modified_adacharge.AdaptiveSchedulingAlgorithm(cost_min_obj, solver=\"MOSEK\", quantize=True, reallocate=False, peak_limit=150, max_recompute=1)"
   ]
  },
  {
   "cell_type": "code",
   "execution_count": null,
   "metadata": {},
   "outputs": [],
   "source": [
    "level2_30kW_untrl_32 = run_experiment(level2_ev_fleet_network, uncontrolled, deepcopy(sessions_32))"
   ]
  },
  {
   "cell_type": "code",
   "execution_count": 13,
   "metadata": {},
   "outputs": [
    {
     "name": "stdout",
     "output_type": "stream",
     "text": [
      "Unplugged EV session_9 from station BC-1 before full charge\n",
      "Will plug in priority EV session_24\n",
      "Unplugged EV session_18 from station CA-0 before full charge\n",
      "Will plug in priority EV session_10\n",
      "Unplugged EV session_26 from station AB-1 before full charge\n",
      "Will plug in priority EV session_31\n",
      "Unplugged EV session_27 from station CA-1 before full charge\n",
      "Will plug in priority EV session_11\n",
      "Unplugged EV session_20 from station BC-1 before full charge\n",
      "Will plug in priority EV session_30\n",
      "Unplugged EV session_25 from station AB-1 before full charge\n",
      "Will plug in priority EV session_3\n",
      "Unplugged EV session_14 from station CA-1 before full charge\n",
      "Will plug in priority EV session_21\n",
      "Unplugged EV session_28 from station AB-1 before full charge\n",
      "Will plug in priority EV session_22\n"
     ]
    }
   ],
   "source": [
    "level2_30kW_llf_32 = run_experiment(level2_ev_fleet_network, llf, deepcopy(sessions_32))"
   ]
  },
  {
   "cell_type": "code",
   "execution_count": 14,
   "metadata": {},
   "outputs": [
    {
     "name": "stdout",
     "output_type": "stream",
     "text": [
      "Unplugged EV session_17 from station AB-0 before full charge\n",
      "Will plug in priority EV session_11\n"
     ]
    }
   ],
   "source": [
    "level2_30kW_cost_min_32 = run_experiment(level2_ev_fleet_network, cost_min, deepcopy(sessions_32))"
   ]
  },
  {
   "cell_type": "code",
   "execution_count": 15,
   "metadata": {},
   "outputs": [],
   "source": [
    "ev_32 = pd.DataFrame({\n",
    "    'Level 2: Unctrl: 30 kW : 6 EVSEs':  level2_30kW_untrl_32,\n",
    "    'Level 2: LLF: 30 kW : 6 EVSEs': level2_30kW_llf_32,\n",
    "    'Level 2: Min Cost: 30 kW : 6 EVSEs': level2_30kW_cost_min_32\n",
    "})"
   ]
  },
  {
   "cell_type": "code",
   "execution_count": 16,
   "metadata": {},
   "outputs": [
    {
     "data": {
      "text/html": [
       "<div>\n",
       "<style scoped>\n",
       "    .dataframe tbody tr th:only-of-type {\n",
       "        vertical-align: middle;\n",
       "    }\n",
       "\n",
       "    .dataframe tbody tr th {\n",
       "        vertical-align: top;\n",
       "    }\n",
       "\n",
       "    .dataframe thead th {\n",
       "        text-align: right;\n",
       "    }\n",
       "</style>\n",
       "<table border=\"1\" class=\"dataframe\">\n",
       "  <thead>\n",
       "    <tr style=\"text-align: right;\">\n",
       "      <th></th>\n",
       "      <th>Level 2: Unctrl: 30 kW : 6 EVSEs</th>\n",
       "      <th>Level 2: LLF: 30 kW : 6 EVSEs</th>\n",
       "      <th>Level 2: Min Cost: 30 kW : 6 EVSEs</th>\n",
       "    </tr>\n",
       "  </thead>\n",
       "  <tbody>\n",
       "    <tr>\n",
       "      <th>proportion_of_energy_delivered</th>\n",
       "      <td>1.000000</td>\n",
       "      <td>0.670271</td>\n",
       "      <td>0.509623</td>\n",
       "    </tr>\n",
       "    <tr>\n",
       "      <th>energy_delivered</th>\n",
       "      <td>464.029919</td>\n",
       "      <td>311.025833</td>\n",
       "      <td>236.480417</td>\n",
       "    </tr>\n",
       "    <tr>\n",
       "      <th>num_swaps</th>\n",
       "      <td>21.000000</td>\n",
       "      <td>19.000000</td>\n",
       "      <td>13.000000</td>\n",
       "    </tr>\n",
       "    <tr>\n",
       "      <th>num_never_charged</th>\n",
       "      <td>0.000000</td>\n",
       "      <td>6.000000</td>\n",
       "      <td>12.000000</td>\n",
       "    </tr>\n",
       "    <tr>\n",
       "      <th>energy_cost</th>\n",
       "      <td>34.594683</td>\n",
       "      <td>24.178295</td>\n",
       "      <td>17.691412</td>\n",
       "    </tr>\n",
       "    <tr>\n",
       "      <th>demand_charge</th>\n",
       "      <td>1023.660000</td>\n",
       "      <td>476.312100</td>\n",
       "      <td>476.312100</td>\n",
       "    </tr>\n",
       "    <tr>\n",
       "      <th>total_cost</th>\n",
       "      <td>34.594683</td>\n",
       "      <td>24.178295</td>\n",
       "      <td>17.691412</td>\n",
       "    </tr>\n",
       "    <tr>\n",
       "      <th>$/kWh</th>\n",
       "      <td>0.074553</td>\n",
       "      <td>0.077737</td>\n",
       "      <td>0.074811</td>\n",
       "    </tr>\n",
       "  </tbody>\n",
       "</table>\n",
       "</div>"
      ],
      "text/plain": [
       "                                Level 2: Unctrl: 30 kW : 6 EVSEs  \\\n",
       "proportion_of_energy_delivered                          1.000000   \n",
       "energy_delivered                                      464.029919   \n",
       "num_swaps                                              21.000000   \n",
       "num_never_charged                                       0.000000   \n",
       "energy_cost                                            34.594683   \n",
       "demand_charge                                        1023.660000   \n",
       "total_cost                                             34.594683   \n",
       "$/kWh                                                   0.074553   \n",
       "\n",
       "                                Level 2: LLF: 30 kW : 6 EVSEs  \\\n",
       "proportion_of_energy_delivered                       0.670271   \n",
       "energy_delivered                                   311.025833   \n",
       "num_swaps                                           19.000000   \n",
       "num_never_charged                                    6.000000   \n",
       "energy_cost                                         24.178295   \n",
       "demand_charge                                      476.312100   \n",
       "total_cost                                          24.178295   \n",
       "$/kWh                                                0.077737   \n",
       "\n",
       "                                Level 2: Min Cost: 30 kW : 6 EVSEs  \n",
       "proportion_of_energy_delivered                            0.509623  \n",
       "energy_delivered                                        236.480417  \n",
       "num_swaps                                                13.000000  \n",
       "num_never_charged                                        12.000000  \n",
       "energy_cost                                              17.691412  \n",
       "demand_charge                                           476.312100  \n",
       "total_cost                                               17.691412  \n",
       "$/kWh                                                     0.074811  "
      ]
     },
     "execution_count": 16,
     "metadata": {},
     "output_type": "execute_result"
    }
   ],
   "source": [
    "ev_32"
   ]
  },
  {
   "cell_type": "code",
   "execution_count": 15,
   "metadata": {},
   "outputs": [],
   "source": [
    "ev_32.to_csv(\"results/32_EV_simulation.csv\")"
   ]
  },
  {
   "cell_type": "code",
   "execution_count": 16,
   "metadata": {},
   "outputs": [
    {
     "data": {
      "text/html": [
       "<div>\n",
       "<style scoped>\n",
       "    .dataframe tbody tr th:only-of-type {\n",
       "        vertical-align: middle;\n",
       "    }\n",
       "\n",
       "    .dataframe tbody tr th {\n",
       "        vertical-align: top;\n",
       "    }\n",
       "\n",
       "    .dataframe thead th {\n",
       "        text-align: right;\n",
       "    }\n",
       "</style>\n",
       "<table border=\"1\" class=\"dataframe\">\n",
       "  <thead>\n",
       "    <tr style=\"text-align: right;\">\n",
       "      <th></th>\n",
       "      <th>Level 2: Unctrl: 30 kW : 6 EVSEs</th>\n",
       "      <th>Level 2: LLF: 30 kW : 6 EVSEs</th>\n",
       "      <th>Level 2: Min Cost: 30 kW : 6 EVSEs</th>\n",
       "    </tr>\n",
       "  </thead>\n",
       "  <tbody>\n",
       "    <tr>\n",
       "      <th>proportion_of_energy_delivered</th>\n",
       "      <td>1.000000</td>\n",
       "      <td>0.422235</td>\n",
       "      <td>0.446793</td>\n",
       "    </tr>\n",
       "    <tr>\n",
       "      <th>energy_delivered</th>\n",
       "      <td>399.089403</td>\n",
       "      <td>168.509583</td>\n",
       "      <td>178.310417</td>\n",
       "    </tr>\n",
       "    <tr>\n",
       "      <th>num_swaps</th>\n",
       "      <td>22.000000</td>\n",
       "      <td>13.000000</td>\n",
       "      <td>13.000000</td>\n",
       "    </tr>\n",
       "    <tr>\n",
       "      <th>num_never_charged</th>\n",
       "      <td>0.000000</td>\n",
       "      <td>13.000000</td>\n",
       "      <td>13.000000</td>\n",
       "    </tr>\n",
       "    <tr>\n",
       "      <th>energy_cost</th>\n",
       "      <td>22.440797</td>\n",
       "      <td>9.475294</td>\n",
       "      <td>10.026395</td>\n",
       "    </tr>\n",
       "    <tr>\n",
       "      <th>demand_charge</th>\n",
       "      <td>856.152000</td>\n",
       "      <td>361.538100</td>\n",
       "      <td>458.087850</td>\n",
       "    </tr>\n",
       "    <tr>\n",
       "      <th>total_cost</th>\n",
       "      <td>878.592797</td>\n",
       "      <td>371.013394</td>\n",
       "      <td>468.114245</td>\n",
       "    </tr>\n",
       "    <tr>\n",
       "      <th>$/kWh</th>\n",
       "      <td>2.201494</td>\n",
       "      <td>2.201735</td>\n",
       "      <td>2.625277</td>\n",
       "    </tr>\n",
       "  </tbody>\n",
       "</table>\n",
       "</div>"
      ],
      "text/plain": [
       "                                Level 2: Unctrl: 30 kW : 6 EVSEs  \\\n",
       "proportion_of_energy_delivered                          1.000000   \n",
       "energy_delivered                                      399.089403   \n",
       "num_swaps                                              22.000000   \n",
       "num_never_charged                                       0.000000   \n",
       "energy_cost                                            22.440797   \n",
       "demand_charge                                         856.152000   \n",
       "total_cost                                            878.592797   \n",
       "$/kWh                                                   2.201494   \n",
       "\n",
       "                                Level 2: LLF: 30 kW : 6 EVSEs  \\\n",
       "proportion_of_energy_delivered                       0.422235   \n",
       "energy_delivered                                   168.509583   \n",
       "num_swaps                                           13.000000   \n",
       "num_never_charged                                   13.000000   \n",
       "energy_cost                                          9.475294   \n",
       "demand_charge                                      361.538100   \n",
       "total_cost                                         371.013394   \n",
       "$/kWh                                                2.201735   \n",
       "\n",
       "                                Level 2: Min Cost: 30 kW : 6 EVSEs  \n",
       "proportion_of_energy_delivered                            0.446793  \n",
       "energy_delivered                                        178.310417  \n",
       "num_swaps                                                13.000000  \n",
       "num_never_charged                                        13.000000  \n",
       "energy_cost                                              10.026395  \n",
       "demand_charge                                           458.087850  \n",
       "total_cost                                              468.114245  \n",
       "$/kWh                                                     2.625277  "
      ]
     },
     "execution_count": 16,
     "metadata": {},
     "output_type": "execute_result"
    }
   ],
   "source": [
    "pd.read_csv(\"results/32_EV_simulation.csv\", index_col=0)"
   ]
  },
  {
   "cell_type": "code",
   "execution_count": 17,
   "metadata": {},
   "outputs": [
    {
     "name": "stdout",
     "output_type": "stream",
     "text": [
      "28.112449799196785\n",
      "50.724637681159415\n"
     ]
    },
    {
     "data": {
      "text/plain": [
       "array([50.72463768, 50.72463768, 50.72463768, 28.1124498 , 28.1124498 ,\n",
       "       28.1124498 ])"
      ]
     },
     "execution_count": 17,
     "metadata": {},
     "output_type": "execute_result"
    }
   ],
   "source": [
    "level2_35kw_ev_fleet_network = ev_fleet_level_2_network(transformer_cap=35, evse_per_phase=2)\n",
    "level2_35kw_ev_fleet_network.magnitudes"
   ]
  },
  {
   "cell_type": "code",
   "execution_count": null,
   "metadata": {},
   "outputs": [],
   "source": [
    "level2_35kW_untrl_32 = run_experiment(level2_35kw_ev_fleet_network, uncontrolled, deepcopy(sessions_32))"
   ]
  },
  {
   "cell_type": "code",
   "execution_count": 19,
   "metadata": {},
   "outputs": [
    {
     "name": "stdout",
     "output_type": "stream",
     "text": [
      "Unplugged EV session_9 from station CA-1 before full charge\n",
      "Will plug in priority EV session_7\n",
      "Unplugged EV session_26 from station AB-1 before full charge\n",
      "Will plug in priority EV session_24\n",
      "Unplugged EV session_27 from station BC-1 before full charge\n",
      "Will plug in priority EV session_10\n",
      "Unplugged EV session_18 from station AB-0 before full charge\n",
      "Will plug in priority EV session_31\n",
      "Unplugged EV session_17 from station CA-0 before full charge\n",
      "Will plug in priority EV session_2\n",
      "Unplugged EV session_25 from station BC-1 before full charge\n",
      "Will plug in priority EV session_11\n",
      "Unplugged EV session_5 from station CA-0 before full charge\n",
      "Will plug in priority EV session_30\n",
      "Unplugged EV session_14 from station AB-0 before full charge\n",
      "Will plug in priority EV session_3\n",
      "Unplugged EV session_20 from station CA-1 before full charge\n",
      "Will plug in priority EV session_21\n",
      "Unplugged EV session_16 from station AB-1 before full charge\n",
      "Will plug in priority EV session_23\n",
      "Unplugged EV session_23 from station CA-1 before full charge\n",
      "Will plug in priority EV session_29\n"
     ]
    }
   ],
   "source": [
    "level2_35kW_llf_32 = run_experiment(level2_35kw_ev_fleet_network, llf, deepcopy(sessions_32))"
   ]
  },
  {
   "cell_type": "code",
   "execution_count": 20,
   "metadata": {},
   "outputs": [
    {
     "name": "stdout",
     "output_type": "stream",
     "text": [
      "Unplugged EV session_18 from station AB-0 before full charge\n",
      "Will plug in priority EV session_11\n"
     ]
    }
   ],
   "source": [
    "level2_35kW_cost_min_32 = run_experiment(level2_35kw_ev_fleet_network, cost_min, deepcopy(sessions_32))"
   ]
  },
  {
   "cell_type": "code",
   "execution_count": 22,
   "metadata": {},
   "outputs": [],
   "source": [
    "ev_32_35kW = pd.DataFrame({\n",
    "    'Level 2: Unctrl: 35 kW : 6 EVSEs':  level2_35kW_untrl_32,\n",
    "    'Level 2: LLF: 35 kW : 6 EVSEs': level2_35kW_llf_32,\n",
    "    'Level 2: Min Cost: 35 kW : 6 EVSEs': level2_35kW_llf_32\n",
    "})"
   ]
  },
  {
   "cell_type": "code",
   "execution_count": 23,
   "metadata": {},
   "outputs": [
    {
     "data": {
      "text/html": [
       "<div>\n",
       "<style scoped>\n",
       "    .dataframe tbody tr th:only-of-type {\n",
       "        vertical-align: middle;\n",
       "    }\n",
       "\n",
       "    .dataframe tbody tr th {\n",
       "        vertical-align: top;\n",
       "    }\n",
       "\n",
       "    .dataframe thead th {\n",
       "        text-align: right;\n",
       "    }\n",
       "</style>\n",
       "<table border=\"1\" class=\"dataframe\">\n",
       "  <thead>\n",
       "    <tr style=\"text-align: right;\">\n",
       "      <th></th>\n",
       "      <th>Level 2: Unctrl: 35 kW : 6 EVSEs</th>\n",
       "      <th>Level 2: LLF: 35 kW : 6 EVSEs</th>\n",
       "      <th>Level 2: Min Cost: 35 kW : 6 EVSEs</th>\n",
       "    </tr>\n",
       "  </thead>\n",
       "  <tbody>\n",
       "    <tr>\n",
       "      <th>proportion_of_energy_delivered</th>\n",
       "      <td>1.000000</td>\n",
       "      <td>0.731308</td>\n",
       "      <td>0.731308</td>\n",
       "    </tr>\n",
       "    <tr>\n",
       "      <th>energy_delivered</th>\n",
       "      <td>464.029919</td>\n",
       "      <td>339.348750</td>\n",
       "      <td>339.348750</td>\n",
       "    </tr>\n",
       "    <tr>\n",
       "      <th>num_swaps</th>\n",
       "      <td>21.000000</td>\n",
       "      <td>19.000000</td>\n",
       "      <td>19.000000</td>\n",
       "    </tr>\n",
       "    <tr>\n",
       "      <th>num_never_charged</th>\n",
       "      <td>0.000000</td>\n",
       "      <td>6.000000</td>\n",
       "      <td>6.000000</td>\n",
       "    </tr>\n",
       "    <tr>\n",
       "      <th>energy_cost</th>\n",
       "      <td>34.594683</td>\n",
       "      <td>26.282712</td>\n",
       "      <td>26.282712</td>\n",
       "    </tr>\n",
       "    <tr>\n",
       "      <th>demand_charge</th>\n",
       "      <td>1023.660000</td>\n",
       "      <td>511.830000</td>\n",
       "      <td>511.830000</td>\n",
       "    </tr>\n",
       "    <tr>\n",
       "      <th>total_cost</th>\n",
       "      <td>34.594683</td>\n",
       "      <td>26.282712</td>\n",
       "      <td>26.282712</td>\n",
       "    </tr>\n",
       "    <tr>\n",
       "      <th>$/kWh</th>\n",
       "      <td>0.074553</td>\n",
       "      <td>0.077450</td>\n",
       "      <td>0.077450</td>\n",
       "    </tr>\n",
       "  </tbody>\n",
       "</table>\n",
       "</div>"
      ],
      "text/plain": [
       "                                Level 2: Unctrl: 35 kW : 6 EVSEs  \\\n",
       "proportion_of_energy_delivered                          1.000000   \n",
       "energy_delivered                                      464.029919   \n",
       "num_swaps                                              21.000000   \n",
       "num_never_charged                                       0.000000   \n",
       "energy_cost                                            34.594683   \n",
       "demand_charge                                        1023.660000   \n",
       "total_cost                                             34.594683   \n",
       "$/kWh                                                   0.074553   \n",
       "\n",
       "                                Level 2: LLF: 35 kW : 6 EVSEs  \\\n",
       "proportion_of_energy_delivered                       0.731308   \n",
       "energy_delivered                                   339.348750   \n",
       "num_swaps                                           19.000000   \n",
       "num_never_charged                                    6.000000   \n",
       "energy_cost                                         26.282712   \n",
       "demand_charge                                      511.830000   \n",
       "total_cost                                          26.282712   \n",
       "$/kWh                                                0.077450   \n",
       "\n",
       "                                Level 2: Min Cost: 35 kW : 6 EVSEs  \n",
       "proportion_of_energy_delivered                            0.731308  \n",
       "energy_delivered                                        339.348750  \n",
       "num_swaps                                                19.000000  \n",
       "num_never_charged                                         6.000000  \n",
       "energy_cost                                              26.282712  \n",
       "demand_charge                                           511.830000  \n",
       "total_cost                                               26.282712  \n",
       "$/kWh                                                     0.077450  "
      ]
     },
     "execution_count": 23,
     "metadata": {},
     "output_type": "execute_result"
    }
   ],
   "source": [
    "ev_32_35kW"
   ]
  },
  {
   "cell_type": "code",
   "execution_count": 24,
   "metadata": {},
   "outputs": [
    {
     "name": "stderr",
     "output_type": "stream",
     "text": [
      "c:\\Users\\s3955218\\Anaconda3\\envs\\evsim\\lib\\site-packages\\sklearn\\base.py:288: UserWarning: Trying to unpickle estimator GaussianMixture from version 0.20.2 when using version 1.2.0. This might lead to breaking code or invalid results. Use at your own risk. For more info please refer to:\n",
      "https://scikit-learn.org/stable/model_persistence.html#security-maintainability-limitations\n",
      "  warnings.warn(\n"
     ]
    }
   ],
   "source": [
    "# Events with 26 EVs per weekday\n",
    "sessions_26 = get_synth_events(26)"
   ]
  },
  {
   "cell_type": "code",
   "execution_count": 25,
   "metadata": {},
   "outputs": [],
   "source": [
    "uncontrolled_26 = algorithms.UncontrolledCharging()\n",
    "llf_26 = algorithms.SortedSchedulingAlgo(algorithms.least_laxity_first)"
   ]
  },
  {
   "cell_type": "code",
   "execution_count": 26,
   "metadata": {},
   "outputs": [],
   "source": [
    "cost_min_obj_26 = [\n",
    "                modified_adacharge.ObjectiveComponent(modified_adacharge.total_energy, 1000),\n",
    "                modified_adacharge.ObjectiveComponent(modified_adacharge.tou_energy_cost),\n",
    "                modified_adacharge.ObjectiveComponent(modified_adacharge.quick_charge, 1e-5),\n",
    "                modified_adacharge.ObjectiveComponent(modified_adacharge.equal_share, 1e-12)\n",
    "               ]\n",
    "# peak limit: total aggregated current limit \n",
    "# cost_min = adacharge.AdaptiveSchedulingAlgorithm(cost_min_obj, solver=\"MOSEK\", quantize=True, reallocate=True, peak_limit=1000, max_recompute=1)\n",
    "cost_min_26 = modified_adacharge.AdaptiveSchedulingAlgorithm(cost_min_obj_26, solver=\"MOSEK\", quantize=True, reallocate=False, peak_limit=300, max_recompute=1)"
   ]
  },
  {
   "cell_type": "code",
   "execution_count": 27,
   "metadata": {},
   "outputs": [
    {
     "name": "stdout",
     "output_type": "stream",
     "text": [
      "28.112449799196785\n",
      "50.724637681159415\n"
     ]
    }
   ],
   "source": [
    "level2_35kw_26_ev_fleet_network = ev_fleet_level_2_network(transformer_cap=35, evse_per_phase=2)"
   ]
  },
  {
   "cell_type": "code",
   "execution_count": null,
   "metadata": {},
   "outputs": [],
   "source": [
    "level2_35kW_untrl_26 = run_experiment(level2_35kw_26_ev_fleet_network, uncontrolled, deepcopy(sessions_26))"
   ]
  },
  {
   "cell_type": "code",
   "execution_count": 29,
   "metadata": {},
   "outputs": [
    {
     "name": "stdout",
     "output_type": "stream",
     "text": [
      "Unplugged EV session_18 from station AB-0 before full charge\n",
      "Will plug in priority EV session_15\n",
      "Unplugged EV session_8 from station CA-1 before full charge\n",
      "Will plug in priority EV session_6\n",
      "Unplugged EV session_4 from station AB-1 before full charge\n",
      "Will plug in priority EV session_23\n",
      "Unplugged EV session_17 from station AB-0 before full charge\n",
      "Will plug in priority EV session_0\n",
      "Unplugged EV session_6 from station CA-0 before full charge\n",
      "Will plug in priority EV session_1\n",
      "Unplugged EV session_5 from station AB-1 before full charge\n",
      "Will plug in priority EV session_22\n",
      "Unplugged EV session_24 from station AB-1 before full charge\n",
      "Will plug in priority EV session_21\n",
      "Unplugged EV session_22 from station BC-1 before full charge\n",
      "Will plug in priority EV session_12\n"
     ]
    }
   ],
   "source": [
    "level2_35kW_llf_26 = run_experiment(level2_35kw_26_ev_fleet_network, llf, deepcopy(sessions_26))"
   ]
  },
  {
   "cell_type": "code",
   "execution_count": 37,
   "metadata": {},
   "outputs": [
    {
     "name": "stdout",
     "output_type": "stream",
     "text": [
      "Unplugged EV session_18 from station CA-0 before full charge\n",
      "Will plug in priority EV session_14\n",
      "Unplugged EV session_8 from station CA-1 before full charge\n",
      "Will plug in priority EV session_24\n",
      "Unplugged EV session_4 from station AB-1 before full charge\n",
      "Will plug in priority EV session_23\n"
     ]
    }
   ],
   "source": [
    "level2_35kW_cost_min_26 = run_experiment(level2_35kw_26_ev_fleet_network, cost_min_26, deepcopy(sessions_26))"
   ]
  },
  {
   "cell_type": "code",
   "execution_count": 38,
   "metadata": {},
   "outputs": [],
   "source": [
    "ev_26_35kW = pd.DataFrame({\n",
    "    'Level 2: Unctrl: 35 kW : 6 EVSEs':  level2_35kW_untrl_26,\n",
    "    'Level 2: LLF: 35 kW : 6 EVSEs': level2_35kW_llf_26,\n",
    "    'Level 2: Min Cost: 35 kW : 6 EVSEs': level2_35kW_cost_min_26\n",
    "})"
   ]
  },
  {
   "cell_type": "code",
   "execution_count": 39,
   "metadata": {},
   "outputs": [
    {
     "data": {
      "text/html": [
       "<div>\n",
       "<style scoped>\n",
       "    .dataframe tbody tr th:only-of-type {\n",
       "        vertical-align: middle;\n",
       "    }\n",
       "\n",
       "    .dataframe tbody tr th {\n",
       "        vertical-align: top;\n",
       "    }\n",
       "\n",
       "    .dataframe thead th {\n",
       "        text-align: right;\n",
       "    }\n",
       "</style>\n",
       "<table border=\"1\" class=\"dataframe\">\n",
       "  <thead>\n",
       "    <tr style=\"text-align: right;\">\n",
       "      <th></th>\n",
       "      <th>Level 2: Unctrl: 35 kW : 6 EVSEs</th>\n",
       "      <th>Level 2: LLF: 35 kW : 6 EVSEs</th>\n",
       "      <th>Level 2: Min Cost: 35 kW : 6 EVSEs</th>\n",
       "    </tr>\n",
       "  </thead>\n",
       "  <tbody>\n",
       "    <tr>\n",
       "      <th>proportion_of_energy_delivered</th>\n",
       "      <td>1.000000</td>\n",
       "      <td>0.610762</td>\n",
       "      <td>0.484815</td>\n",
       "    </tr>\n",
       "    <tr>\n",
       "      <th>energy_delivered</th>\n",
       "      <td>304.478464</td>\n",
       "      <td>185.963750</td>\n",
       "      <td>147.615833</td>\n",
       "    </tr>\n",
       "    <tr>\n",
       "      <th>num_swaps</th>\n",
       "      <td>15.000000</td>\n",
       "      <td>12.000000</td>\n",
       "      <td>12.000000</td>\n",
       "    </tr>\n",
       "    <tr>\n",
       "      <th>num_never_charged</th>\n",
       "      <td>0.000000</td>\n",
       "      <td>5.000000</td>\n",
       "      <td>7.000000</td>\n",
       "    </tr>\n",
       "    <tr>\n",
       "      <th>energy_cost</th>\n",
       "      <td>23.138953</td>\n",
       "      <td>14.002298</td>\n",
       "      <td>10.573219</td>\n",
       "    </tr>\n",
       "    <tr>\n",
       "      <th>demand_charge</th>\n",
       "      <td>1023.660000</td>\n",
       "      <td>505.315800</td>\n",
       "      <td>511.830000</td>\n",
       "    </tr>\n",
       "    <tr>\n",
       "      <th>total_cost</th>\n",
       "      <td>23.138953</td>\n",
       "      <td>14.002298</td>\n",
       "      <td>10.573219</td>\n",
       "    </tr>\n",
       "    <tr>\n",
       "      <th>$/kWh</th>\n",
       "      <td>0.075995</td>\n",
       "      <td>0.075296</td>\n",
       "      <td>0.071627</td>\n",
       "    </tr>\n",
       "  </tbody>\n",
       "</table>\n",
       "</div>"
      ],
      "text/plain": [
       "                                Level 2: Unctrl: 35 kW : 6 EVSEs  \\\n",
       "proportion_of_energy_delivered                          1.000000   \n",
       "energy_delivered                                      304.478464   \n",
       "num_swaps                                              15.000000   \n",
       "num_never_charged                                       0.000000   \n",
       "energy_cost                                            23.138953   \n",
       "demand_charge                                        1023.660000   \n",
       "total_cost                                             23.138953   \n",
       "$/kWh                                                   0.075995   \n",
       "\n",
       "                                Level 2: LLF: 35 kW : 6 EVSEs  \\\n",
       "proportion_of_energy_delivered                       0.610762   \n",
       "energy_delivered                                   185.963750   \n",
       "num_swaps                                           12.000000   \n",
       "num_never_charged                                    5.000000   \n",
       "energy_cost                                         14.002298   \n",
       "demand_charge                                      505.315800   \n",
       "total_cost                                          14.002298   \n",
       "$/kWh                                                0.075296   \n",
       "\n",
       "                                Level 2: Min Cost: 35 kW : 6 EVSEs  \n",
       "proportion_of_energy_delivered                            0.484815  \n",
       "energy_delivered                                        147.615833  \n",
       "num_swaps                                                12.000000  \n",
       "num_never_charged                                         7.000000  \n",
       "energy_cost                                              10.573219  \n",
       "demand_charge                                           511.830000  \n",
       "total_cost                                               10.573219  \n",
       "$/kWh                                                     0.071627  "
      ]
     },
     "execution_count": 39,
     "metadata": {},
     "output_type": "execute_result"
    }
   ],
   "source": [
    "ev_26_35kW"
   ]
  },
  {
   "cell_type": "code",
   "execution_count": 40,
   "metadata": {},
   "outputs": [],
   "source": [
    "cost_min_obj_26_2 = [\n",
    "                modified_adacharge.ObjectiveComponent(modified_adacharge.total_energy, 1000),\n",
    "                modified_adacharge.ObjectiveComponent(modified_adacharge.tou_energy_cost),\n",
    "                modified_adacharge.ObjectiveComponent(modified_adacharge.quick_charge, 1e-5),\n",
    "                modified_adacharge.ObjectiveComponent(modified_adacharge.equal_share, 1e-11)\n",
    "               ]\n",
    "# peak limit: total aggregated current limit \n",
    "# cost_min = adacharge.AdaptiveSchedulingAlgorithm(cost_min_obj, solver=\"MOSEK\", quantize=True, reallocate=True, peak_limit=1000, max_recompute=1)\n",
    "cost_min_26_2 = modified_adacharge.AdaptiveSchedulingAlgorithm(cost_min_obj_26_2, solver=\"MOSEK\", quantize=True, reallocate=True, peak_limit=300, max_recompute=1)"
   ]
  },
  {
   "cell_type": "code",
   "execution_count": 41,
   "metadata": {},
   "outputs": [
    {
     "name": "stdout",
     "output_type": "stream",
     "text": [
      "Unplugged EV session_18 from station AB-1 before full charge\n",
      "Will plug in priority EV session_14\n",
      "Unplugged EV session_4 from station AB-0 before full charge\n",
      "Will plug in priority EV session_23\n",
      "Unplugged EV session_6 from station AB-1 before full charge\n",
      "Will plug in priority EV session_0\n"
     ]
    }
   ],
   "source": [
    "level2_35kW_cost_min_26_2 = run_experiment(level2_35kw_26_ev_fleet_network, cost_min_26_2, deepcopy(sessions_26))"
   ]
  },
  {
   "cell_type": "code",
   "execution_count": 42,
   "metadata": {},
   "outputs": [],
   "source": [
    "ev_26_35kW = pd.DataFrame({\n",
    "    'Level 2: Unctrl: 35 kW : 6 EVSEs':  level2_35kW_untrl_26,\n",
    "    'Level 2: LLF: 35 kW : 6 EVSEs': level2_35kW_llf_26,\n",
    "    'Level 2: Min Cost: 35 kW : 6 EVSEs': level2_35kW_cost_min_26_2\n",
    "})"
   ]
  },
  {
   "cell_type": "code",
   "execution_count": 44,
   "metadata": {},
   "outputs": [
    {
     "data": {
      "text/html": [
       "<div>\n",
       "<style scoped>\n",
       "    .dataframe tbody tr th:only-of-type {\n",
       "        vertical-align: middle;\n",
       "    }\n",
       "\n",
       "    .dataframe tbody tr th {\n",
       "        vertical-align: top;\n",
       "    }\n",
       "\n",
       "    .dataframe thead th {\n",
       "        text-align: right;\n",
       "    }\n",
       "</style>\n",
       "<table border=\"1\" class=\"dataframe\">\n",
       "  <thead>\n",
       "    <tr style=\"text-align: right;\">\n",
       "      <th></th>\n",
       "      <th>Level 2: Unctrl: 35 kW : 6 EVSEs</th>\n",
       "      <th>Level 2: LLF: 35 kW : 6 EVSEs</th>\n",
       "      <th>Level 2: Min Cost: 35 kW : 6 EVSEs</th>\n",
       "    </tr>\n",
       "  </thead>\n",
       "  <tbody>\n",
       "    <tr>\n",
       "      <th>proportion_of_energy_delivered</th>\n",
       "      <td>1.000000</td>\n",
       "      <td>0.610762</td>\n",
       "      <td>0.486013</td>\n",
       "    </tr>\n",
       "    <tr>\n",
       "      <th>energy_delivered</th>\n",
       "      <td>304.478464</td>\n",
       "      <td>185.963750</td>\n",
       "      <td>147.980590</td>\n",
       "    </tr>\n",
       "    <tr>\n",
       "      <th>num_swaps</th>\n",
       "      <td>15.000000</td>\n",
       "      <td>12.000000</td>\n",
       "      <td>12.000000</td>\n",
       "    </tr>\n",
       "    <tr>\n",
       "      <th>num_never_charged</th>\n",
       "      <td>0.000000</td>\n",
       "      <td>5.000000</td>\n",
       "      <td>7.000000</td>\n",
       "    </tr>\n",
       "    <tr>\n",
       "      <th>energy_cost</th>\n",
       "      <td>23.138953</td>\n",
       "      <td>14.002298</td>\n",
       "      <td>10.609457</td>\n",
       "    </tr>\n",
       "    <tr>\n",
       "      <th>demand_charge</th>\n",
       "      <td>1023.660000</td>\n",
       "      <td>505.315800</td>\n",
       "      <td>543.935700</td>\n",
       "    </tr>\n",
       "    <tr>\n",
       "      <th>total_cost</th>\n",
       "      <td>23.138953</td>\n",
       "      <td>14.002298</td>\n",
       "      <td>10.609457</td>\n",
       "    </tr>\n",
       "    <tr>\n",
       "      <th>$/kWh</th>\n",
       "      <td>0.075995</td>\n",
       "      <td>0.075296</td>\n",
       "      <td>0.071695</td>\n",
       "    </tr>\n",
       "  </tbody>\n",
       "</table>\n",
       "</div>"
      ],
      "text/plain": [
       "                                Level 2: Unctrl: 35 kW : 6 EVSEs  \\\n",
       "proportion_of_energy_delivered                          1.000000   \n",
       "energy_delivered                                      304.478464   \n",
       "num_swaps                                              15.000000   \n",
       "num_never_charged                                       0.000000   \n",
       "energy_cost                                            23.138953   \n",
       "demand_charge                                        1023.660000   \n",
       "total_cost                                             23.138953   \n",
       "$/kWh                                                   0.075995   \n",
       "\n",
       "                                Level 2: LLF: 35 kW : 6 EVSEs  \\\n",
       "proportion_of_energy_delivered                       0.610762   \n",
       "energy_delivered                                   185.963750   \n",
       "num_swaps                                           12.000000   \n",
       "num_never_charged                                    5.000000   \n",
       "energy_cost                                         14.002298   \n",
       "demand_charge                                      505.315800   \n",
       "total_cost                                          14.002298   \n",
       "$/kWh                                                0.075296   \n",
       "\n",
       "                                Level 2: Min Cost: 35 kW : 6 EVSEs  \n",
       "proportion_of_energy_delivered                            0.486013  \n",
       "energy_delivered                                        147.980590  \n",
       "num_swaps                                                12.000000  \n",
       "num_never_charged                                         7.000000  \n",
       "energy_cost                                              10.609457  \n",
       "demand_charge                                           543.935700  \n",
       "total_cost                                               10.609457  \n",
       "$/kWh                                                     0.071695  "
      ]
     },
     "execution_count": 44,
     "metadata": {},
     "output_type": "execute_result"
    }
   ],
   "source": [
    "ev_26_35kW"
   ]
  },
  {
   "cell_type": "markdown",
   "metadata": {},
   "source": [
    "### Simulation (work in progress)\n",
    "- Create a separate code module for MPC based Adaptive charging algorithm (done)\n",
    "- Modify queue mechanism \n",
    "- Modify ada code to simulate fulfillment of charging requirement for high priority EVs\n",
    "- Add new optimization objective "
   ]
  }
 ],
 "metadata": {
  "kernelspec": {
   "display_name": "acnsim",
   "language": "python",
   "name": "python3"
  },
  "language_info": {
   "codemirror_mode": {
    "name": "ipython",
    "version": 3
   },
   "file_extension": ".py",
   "mimetype": "text/x-python",
   "name": "python",
   "nbconvert_exporter": "python",
   "pygments_lexer": "ipython3",
   "version": "3.9.15"
  },
  "orig_nbformat": 4
 },
 "nbformat": 4,
 "nbformat_minor": 2
}
