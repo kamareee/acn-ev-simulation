{
 "cells": [
  {
   "cell_type": "code",
   "execution_count": 1,
   "metadata": {},
   "outputs": [],
   "source": [
    "# Necessary imports\n",
    "from datetime import datetime\n",
    "import pytz\n",
    "from copy import deepcopy\n",
    "from matplotlib import pyplot as plt\n",
    "import matplotlib\n",
    "import cvxpy as cp\n",
    "import numpy as np\n",
    "import pandas as pd\n",
    "import seaborn as sns\n",
    "import json\n",
    "import os\n",
    "import sys\n",
    "import random\n",
    "import heapq  # Priority Queue\n",
    "\n",
    "from acnportal import acnsim, algorithms\n",
    "from acnportal.acnsim import analysis\n",
    "from acnportal.acnsim.events.event import PluginEvent\n",
    "from acnportal.acnsim.events.event import UnplugEvent\n",
    "from acnportal.signals.tariffs import TimeOfUseTariff\n",
    "from adacharge import *\n",
    "from acnportal.acnsim.interface import Interface, SessionInfo, InfrastructureInfo"
   ]
  },
  {
   "cell_type": "code",
   "execution_count": 2,
   "metadata": {},
   "outputs": [],
   "source": [
    "# Define common variables for experiment\n",
    "API_KEY = 'DEMO_TOKEN'\n",
    "TIMEZONE = pytz.timezone('America/Los_Angeles')\n",
    "SITE = 'caltech'\n",
    "PERIOD = 30  # minutes\n",
    "VOLTAGE = 208  # volts\n",
    "KW_TO_AMPS = 1000 / 208\n",
    "KWH_TO_AMP_PERIODS = KW_TO_AMPS * (60 / 5)\n",
    "MAX_LEN = 144\n",
    "FORCE_FEASIBLE = True\n",
    "EVENTS_DIR = \"C:\\\\Users\\\\s3955218\\\\repos\\\\acn-ev-simulation\\\\events\"\n",
    "VERBOSE = True"
   ]
  },
  {
   "attachments": {},
   "cell_type": "markdown",
   "metadata": {},
   "source": [
    "### Reading from existing simulation data"
   ]
  },
  {
   "cell_type": "code",
   "execution_count": 4,
   "metadata": {},
   "outputs": [],
   "source": [
    "event_name = \"simevent_1\"\n",
    "event_path = os.path.join(EVENTS_DIR, event_name + '.json')\n",
    "\n",
    "def event_queue(event_path):\n",
    "    if os.path.exists(event_path):\n",
    "        with open(event_path, 'r') as f:\n",
    "            event = acnsim.EventQueue.from_json(f)\n",
    "    return event"
   ]
  },
  {
   "cell_type": "code",
   "execution_count": 5,
   "metadata": {},
   "outputs": [],
   "source": [
    "# width = 1\n",
    "# if events.get_last_timestamp() is not None:\n",
    "#     width = events.get_last_timestamp() + 1\n",
    "# print(width)\n",
    "# print(events.get_last_timestamp())\n",
    "\n",
    "# Experimenting with new width\n",
    "width = 20"
   ]
  },
  {
   "attachments": {},
   "cell_type": "markdown",
   "metadata": {},
   "source": [
    "### Data model for various component\n",
    "- EV\n",
    "- Battery\n",
    "- EVSE"
   ]
  },
  {
   "cell_type": "code",
   "execution_count": 6,
   "metadata": {},
   "outputs": [
    {
     "name": "stdout",
     "output_type": "stream",
     "text": [
      "acnportal.acnsim.models.ev.EV(_arrival=1, _departure=116, _session_id=<str object at 0x000002677D212810>, _station_id=<str object at 0x000002677D22E6F0>, _requested_energy=37.14, _estimated_departure=116, _battery=<acnportal.acnsim.models.battery.Battery object at 0x000002677D7AD640>, _energy_delivered=0, _current_charging_rate=0)\n",
      "------------------------------------------\n",
      "acnportal.acnsim.models.battery.Battery(_capacity=37.14, _current_charge=0, _init_charge=0, _max_power=6.656, _current_charging_power=0)\n",
      "------------------------------------------\n",
      "acnportal.acnsim.models.ev.EV(_arrival=2, _departure=146, _session_id=<str object at 0x000002677D212BD0>, _station_id=<str object at 0x000002677D22EA30>, _requested_energy=5.668, _estimated_departure=146, _battery=<acnportal.acnsim.models.battery.Battery object at 0x000002677D7ADDC0>, _energy_delivered=0, _current_charging_rate=0)\n",
      "------------------------------------------\n",
      "acnportal.acnsim.models.battery.Battery(_capacity=5.668, _current_charge=0, _init_charge=0, _max_power=6.656, _current_charging_power=0)\n",
      "------------------------------------------\n",
      "acnportal.acnsim.models.ev.EV(_arrival=45, _departure=60, _session_id=<str object at 0x000002677D22F0F0>, _station_id=<str object at 0x000002677D22EC70>, _requested_energy=1.937, _estimated_departure=60, _battery=<acnportal.acnsim.models.battery.Battery object at 0x000002677D7ADF40>, _energy_delivered=0, _current_charging_rate=0)\n",
      "------------------------------------------\n",
      "acnportal.acnsim.models.battery.Battery(_capacity=1.937, _current_charge=0, _init_charge=0, _max_power=6.656, _current_charging_power=0)\n",
      "------------------------------------------\n",
      "acnportal.acnsim.models.ev.EV(_arrival=79, _departure=106, _session_id=<str object at 0x000002677D22F210>, _station_id=<str object at 0x000002677D22EFB0>, _requested_energy=13.079, _estimated_departure=106, _battery=<acnportal.acnsim.models.battery.Battery object at 0x000002677D7ED100>, _energy_delivered=0, _current_charging_rate=0)\n",
      "------------------------------------------\n",
      "acnportal.acnsim.models.battery.Battery(_capacity=13.079, _current_charge=0, _init_charge=0, _max_power=6.656, _current_charging_power=0)\n",
      "------------------------------------------\n",
      "acnportal.acnsim.models.ev.EV(_arrival=81, _departure=143, _session_id=<str object at 0x000002677D22F330>, _station_id=<str object at 0x000002677D232330>, _requested_energy=13.88, _estimated_departure=143, _battery=<acnportal.acnsim.models.battery.Battery object at 0x000002677D7DCCD0>, _energy_delivered=0, _current_charging_rate=0)\n",
      "------------------------------------------\n",
      "acnportal.acnsim.models.battery.Battery(_capacity=13.88, _current_charge=0, _init_charge=0, _max_power=6.656, _current_charging_power=0)\n",
      "------------------------------------------\n"
     ]
    }
   ],
   "source": [
    "events = event_queue(event_path)\n",
    "count = 0\n",
    "for event in iter(events.queue):\n",
    "    if count < 5:\n",
    "        print(event[1].ev)\n",
    "        print(\"------------------------------------------\")\n",
    "        print(event[1].ev._battery)\n",
    "        print(\"------------------------------------------\")\n",
    "        count = count + 1"
   ]
  },
  {
   "attachments": {},
   "cell_type": "markdown",
   "metadata": {},
   "source": [
    "### EV grouping logic"
   ]
  },
  {
   "cell_type": "code",
   "execution_count": null,
   "metadata": {},
   "outputs": [],
   "source": []
  },
  {
   "attachments": {},
   "cell_type": "markdown",
   "metadata": {},
   "source": [
    "### System Model\n",
    "\n",
    "This is a programmatic model for the system. For this simulation we are using Caltech ACN model"
   ]
  },
  {
   "cell_type": "code",
   "execution_count": 7,
   "metadata": {},
   "outputs": [
    {
     "name": "stdout",
     "output_type": "stream",
     "text": [
      "[[0. 0. 0. ... 0. 0. 0.]\n",
      " [0. 0. 0. ... 0. 0. 0.]\n",
      " [0. 0. 0. ... 0. 0. 0.]\n",
      " ...\n",
      " [0. 0. 0. ... 0. 0. 0.]\n",
      " [0. 0. 0. ... 0. 0. 0.]\n",
      " [0. 0. 0. ... 0. 0. 0.]]\n",
      "(54, 20)\n",
      "(54, 20)\n"
     ]
    }
   ],
   "source": [
    "basic_evse=True\n",
    "caps = 150 # Transformer capacity\n",
    "\n",
    "network = acnsim.sites.caltech_acn(voltage=VOLTAGE,\n",
    "                              transformer_cap=caps,\n",
    "                              basic_evse=basic_evse)\n",
    "\n",
    "# print(cn.constraint_matrix)\n",
    "pilot_signals = np.zeros((len(network.station_ids), width))\n",
    "charging_rates = np.zeros((len(network.station_ids), width))\n",
    "\n",
    "print(charging_rates)\n",
    "# print(pilot_signals)\n",
    "print(charging_rates.shape)\n",
    "print(pilot_signals.shape)"
   ]
  },
  {
   "attachments": {},
   "cell_type": "markdown",
   "metadata": {},
   "source": [
    "### Event Data \n",
    "Real-time data or offline data"
   ]
  },
  {
   "cell_type": "code",
   "execution_count": 8,
   "metadata": {},
   "outputs": [],
   "source": [
    "copy_events = deepcopy(events)\n",
    "processed_event = []  # for next stage processing\n",
    "\n",
    "iteration = 0\n",
    "while iteration < 20:\n",
    "    current_event = copy_events.get_event()\n",
    "    processed_event.append(current_event)\n",
    "    iteration += 1"
   ]
  },
  {
   "attachments": {},
   "cell_type": "markdown",
   "metadata": {},
   "source": [
    "### EV Plugin to System (Model)"
   ]
  },
  {
   "cell_type": "code",
   "execution_count": 9,
   "metadata": {},
   "outputs": [
    {
     "name": "stdout",
     "output_type": "stream",
     "text": [
      "Plugin event...\n",
      "Plugin event...\n",
      "Plugin event...\n",
      "Plugin event...\n",
      "Plugin event...\n",
      "Plugin event...\n",
      "Plugin event...\n",
      "Plugin event...\n",
      "Plugin event...\n",
      "Plugin event...\n",
      "Plugin event...\n",
      "Plugin event...\n",
      "Plugin event...\n",
      "Plugin event...\n",
      "Plugin event...\n",
      "Station CA-304 is occupied with ev 2_39_138_29_2018-09-01 15:31:50.661778.\n",
      "Plugin event...\n",
      "Station CA-304 is occupied with ev 2_39_138_29_2018-09-01 15:31:50.661778.\n",
      "Plugin event...\n",
      "Station CA-303 is occupied with ev 2_39_139_28_2018-09-01 15:28:41.249325.\n",
      "Plugin event...\n",
      "Station CA-494 is occupied with ev 2_39_78_367_2018-09-01 10:49:04.972619.\n",
      "Plugin event...\n",
      "Plugin event...\n",
      "Station CA-306 is occupied with ev 2_39_130_31_2018-09-01 14:33:40.470366.\n",
      "Plugined in EV 15\n"
     ]
    }
   ],
   "source": [
    "# event_history = []\n",
    "ev_history = {}\n",
    "\n",
    "count = 0\n",
    "for event in processed_event:\n",
    "    if event.event_type == \"Plugin\":\n",
    "        try:\n",
    "            print(\"Plugin event...\")\n",
    "            network.plugin(event.ev)\n",
    "            ev_history[event.ev.session_id] = event.ev\n",
    "            copy_events.add_event(UnplugEvent(event.ev.departure, current_event.ev))\n",
    "            count += 1\n",
    "        except Exception as e:\n",
    "            print(e)\n",
    "\n",
    "print(f\"Plugined in EV {count}\")"
   ]
  },
  {
   "cell_type": "code",
   "execution_count": 10,
   "metadata": {},
   "outputs": [
    {
     "name": "stdout",
     "output_type": "stream",
     "text": [
      "[acnportal.acnsim.models.ev.EV(_arrival=101, _departure=110, _session_id=<str object at 0x000002677D22F7B0>, _station_id=<str object at 0x000002677D234070>, _requested_energy=4.858, _estimated_departure=110, _battery=<acnportal.acnsim.models.battery.Battery object at 0x000002677DA8E7C0>, _energy_delivered=0, _current_charging_rate=0), acnportal.acnsim.models.ev.EV(_arrival=90, _departure=183, _session_id=<str object at 0x000002677D22F690>, _station_id=<str object at 0x000002677D232CF0>, _requested_energy=3.511, _estimated_departure=183, _battery=<acnportal.acnsim.models.battery.Battery object at 0x000002677DA8E4C0>, _energy_delivered=0, _current_charging_rate=0), acnportal.acnsim.models.ev.EV(_arrival=1, _departure=116, _session_id=<str object at 0x000002677D212810>, _station_id=<str object at 0x000002677D22E6F0>, _requested_energy=37.14, _estimated_departure=116, _battery=<acnportal.acnsim.models.battery.Battery object at 0x000002677D919610>, _energy_delivered=0, _current_charging_rate=0), acnportal.acnsim.models.ev.EV(_arrival=116, _departure=216, _session_id=<str object at 0x000002677D22FD50>, _station_id=<str object at 0x000002677D2360F0>, _requested_energy=13.255, _estimated_departure=216, _battery=<acnportal.acnsim.models.battery.Battery object at 0x000002677DAB0250>, _energy_delivered=0, _current_charging_rate=0), acnportal.acnsim.models.ev.EV(_arrival=79, _departure=106, _session_id=<str object at 0x000002677D22F210>, _station_id=<str object at 0x000002677D22EFB0>, _requested_energy=13.079, _estimated_departure=106, _battery=<acnportal.acnsim.models.battery.Battery object at 0x000002677DA8E250>, _energy_delivered=0, _current_charging_rate=0), acnportal.acnsim.models.ev.EV(_arrival=45, _departure=60, _session_id=<str object at 0x000002677D22F0F0>, _station_id=<str object at 0x000002677D22EC70>, _requested_energy=1.937, _estimated_departure=60, _battery=<acnportal.acnsim.models.battery.Battery object at 0x000002677D919730>, _energy_delivered=0, _current_charging_rate=0), acnportal.acnsim.models.ev.EV(_arrival=102, _departure=119, _session_id=<str object at 0x000002677D22F8D0>, _station_id=<str object at 0x000002677D2343B0>, _requested_energy=9.429333333333332, _estimated_departure=119, _battery=<acnportal.acnsim.models.battery.Battery object at 0x000002677DA8EAF0>, _energy_delivered=0, _current_charging_rate=0), acnportal.acnsim.models.ev.EV(_arrival=2, _departure=146, _session_id=<str object at 0x000002677D212BD0>, _station_id=<str object at 0x000002677D22EA30>, _requested_energy=5.668, _estimated_departure=146, _battery=<acnportal.acnsim.models.battery.Battery object at 0x000002677D919F10>, _energy_delivered=0, _current_charging_rate=0), acnportal.acnsim.models.ev.EV(_arrival=127, _departure=199, _session_id=<str object at 0x000002677D238330>, _station_id=<str object at 0x000002677D23A170>, _requested_energy=13.893, _estimated_departure=199, _battery=<acnportal.acnsim.models.battery.Battery object at 0x000002677DAB09D0>, _energy_delivered=0, _current_charging_rate=0), acnportal.acnsim.models.ev.EV(_arrival=113, _departure=207, _session_id=<str object at 0x000002677D22FB10>, _station_id=<str object at 0x000002677D234A30>, _requested_energy=42.138, _estimated_departure=207, _battery=<acnportal.acnsim.models.battery.Battery object at 0x000002677DA8EF10>, _energy_delivered=0, _current_charging_rate=0), acnportal.acnsim.models.ev.EV(_arrival=115, _departure=135, _session_id=<str object at 0x000002677D22FC30>, _station_id=<str object at 0x000002677D234D70>, _requested_energy=1.82, _estimated_departure=135, _battery=<acnportal.acnsim.models.battery.Battery object at 0x000002677DAB00D0>, _energy_delivered=0, _current_charging_rate=0), acnportal.acnsim.models.ev.EV(_arrival=90, _departure=92, _session_id=<str object at 0x000002677D22F570>, _station_id=<str object at 0x000002677D2329B0>, _requested_energy=0.632, _estimated_departure=92, _battery=<acnportal.acnsim.models.battery.Battery object at 0x000002677DA8E940>, _energy_delivered=0, _current_charging_rate=0), acnportal.acnsim.models.ev.EV(_arrival=81, _departure=143, _session_id=<str object at 0x000002677D22F330>, _station_id=<str object at 0x000002677D232330>, _requested_energy=13.88, _estimated_departure=143, _battery=<acnportal.acnsim.models.battery.Battery object at 0x000002677DA8E820>, _energy_delivered=0, _current_charging_rate=0), acnportal.acnsim.models.ev.EV(_arrival=89, _departure=130, _session_id=<str object at 0x000002677D22F450>, _station_id=<str object at 0x000002677D232670>, _requested_energy=13.91, _estimated_departure=130, _battery=<acnportal.acnsim.models.battery.Battery object at 0x000002677DA8E430>, _energy_delivered=0, _current_charging_rate=0), acnportal.acnsim.models.ev.EV(_arrival=104, _departure=164, _session_id=<str object at 0x000002677D22F9F0>, _station_id=<str object at 0x000002677D2346F0>, _requested_energy=13.888, _estimated_departure=164, _battery=<acnportal.acnsim.models.battery.Battery object at 0x000002677DA8ED90>, _energy_delivered=0, _current_charging_rate=0)]\n"
     ]
    }
   ],
   "source": [
    "# Debugging/Observing some variables\n",
    "print(network.active_evs)\n",
    "# print(network.current_charging_rates)\n",
    "# print(network.constraints_as_df())"
   ]
  },
  {
   "attachments": {},
   "cell_type": "markdown",
   "metadata": {},
   "source": [
    "### Simplifying variables for optimization algorithm"
   ]
  },
  {
   "cell_type": "code",
   "execution_count": 11,
   "metadata": {},
   "outputs": [],
   "source": [
    "# Final simulation setup\n",
    "basic_evse = True\n",
    "estimate_max_rate = False\n",
    "uninterrupted_charging = False\n",
    "quantized = False\n",
    "constraint_type = 'SOC'\n",
    "enforce_energy_equality=False\n",
    "solver='MOSEK',\n",
    "peak_limit = None\n",
    "prev_peak = 0\n",
    "tariff_name = 'sce_tou_ev_4_march_2019'"
   ]
  },
  {
   "cell_type": "code",
   "execution_count": 12,
   "metadata": {},
   "outputs": [],
   "source": [
    "def get_active_sessions(active_evs, current_time):\n",
    "    \"\"\"Return a list of SessionInfo objects describing the currently charging EVs.\n",
    "\n",
    "    Args:\n",
    "        active_evs (List[acnsim.EV]: List of EV objects from acnsim.\n",
    "        current_time (int): Current time of the simulation.\n",
    "\n",
    "    Returns:\n",
    "        List[SessionInfo]: List of currently active charging sessions.\n",
    "    \"\"\"\n",
    "    return [\n",
    "        SessionInfo(\n",
    "            ev.station_id,\n",
    "            ev.session_id,\n",
    "            ev.requested_energy,\n",
    "            ev.energy_delivered,\n",
    "            ev.arrival,\n",
    "            ev.departure,\n",
    "            current_time=current_time,\n",
    "        )\n",
    "        for ev in active_evs\n",
    "    ]"
   ]
  },
  {
   "cell_type": "code",
   "execution_count": 42,
   "metadata": {},
   "outputs": [
    {
     "name": "stdout",
     "output_type": "stream",
     "text": [
      "[<acnportal.acnsim.interface.SessionInfo object at 0x000001D27EC036D0>, <acnportal.acnsim.interface.SessionInfo object at 0x000001D27EC03D90>, <acnportal.acnsim.interface.SessionInfo object at 0x000001D27EC03190>, <acnportal.acnsim.interface.SessionInfo object at 0x000001D27EC03DF0>, <acnportal.acnsim.interface.SessionInfo object at 0x000001D27EC03730>, <acnportal.acnsim.interface.SessionInfo object at 0x000001D27EC03E50>, <acnportal.acnsim.interface.SessionInfo object at 0x000001D27EC03B50>, <acnportal.acnsim.interface.SessionInfo object at 0x000001D27EC037F0>, <acnportal.acnsim.interface.SessionInfo object at 0x000001D27EC03910>, <acnportal.acnsim.interface.SessionInfo object at 0x000001D27EC030D0>, <acnportal.acnsim.interface.SessionInfo object at 0x000001D27EC03940>, <acnportal.acnsim.interface.SessionInfo object at 0x000001D27EC03C40>, <acnportal.acnsim.interface.SessionInfo object at 0x000001D27EC03F40>, <acnportal.acnsim.interface.SessionInfo object at 0x000001D27EC03BB0>, <acnportal.acnsim.interface.SessionInfo object at 0x000001D27EC03790>]\n",
      "15\n"
     ]
    }
   ],
   "source": [
    "# sessions = get_active_sessions(network.active_evs, 0)\n",
    "# print(sessions)\n",
    "# print(len(sessions))"
   ]
  },
  {
   "cell_type": "code",
   "execution_count": 13,
   "metadata": {},
   "outputs": [
    {
     "name": "stdout",
     "output_type": "stream",
     "text": [
      "[208. 208. 208. 208. 208. 208. 208. 208. 208. 208. 208. 208. 208. 208.\n",
      " 208. 208. 208. 208. 208. 208. 208. 208. 208. 208. 208. 208. 208. 208.\n",
      " 208. 208. 208. 208. 208. 208. 208. 208. 208. 208. 208. 208. 208. 208.\n",
      " 208. 208. 208. 208. 208. 208. 208. 208. 208. 208. 208. 208.]\n"
     ]
    }
   ],
   "source": [
    "# System Information object for algorithm\n",
    "\n",
    "station_ids = network.station_ids\n",
    "max_pilot_signals = network.max_pilot_signals\n",
    "min_pilot_signals = network.min_pilot_signals\n",
    "allowable_rates = network.allowable_rates\n",
    "is_continuous = network.is_continuous\n",
    "\n",
    "infrastructure = InfrastructureInfo(\n",
    "                    network.constraint_matrix,\n",
    "                    network.magnitudes,\n",
    "                    network._phase_angles,\n",
    "                    network._voltages,\n",
    "                    network.constraint_index,\n",
    "                    station_ids,\n",
    "                    max_pilot_signals,\n",
    "                    min_pilot_signals,\n",
    "                    allowable_rates,\n",
    "                    is_continuous,\n",
    "                )\n",
    "print(infrastructure.voltages)"
   ]
  },
  {
   "cell_type": "code",
   "execution_count": 44,
   "metadata": {},
   "outputs": [],
   "source": [
    "# Preprocessing for the algorithm   \n",
    "def enforce_pilot_limit(\n",
    "    active_sessions: List[SessionInfo], infrastructure: InfrastructureInfo\n",
    ") -> List[SessionInfo]:\n",
    "    \"\"\" Update the max_rates vector for each session to be less than the max\n",
    "        pilot supported by its EVSE.\n",
    "\n",
    "    Args:\n",
    "        active_sessions (List[SessionInfo]): List of SessionInfo objects for\n",
    "            all active charging sessions.\n",
    "        infrastructure (InfrastructureInfo): Description of the charging\n",
    "            infrastructure.\n",
    "\n",
    "    Returns:\n",
    "        List[SessionInfo]: Active sessions with max_rates updated to be at\n",
    "            most the max_pilot of the corresponding EVSE.\n",
    "    \"\"\"\n",
    "    for session in active_sessions:\n",
    "        i = infrastructure.get_station_index(session.station_id)\n",
    "        session.max_rates = np.minimum(session.max_rates, infrastructure.max_pilot[i])\n",
    "    return active_sessions"
   ]
  },
  {
   "cell_type": "code",
   "execution_count": 45,
   "metadata": {},
   "outputs": [],
   "source": [
    "# Enforcing pilot limit for sessions\n",
    "# active_sessions = enforce_pilot_limit(sessions, infrastructure)"
   ]
  },
  {
   "cell_type": "code",
   "execution_count": 15,
   "metadata": {},
   "outputs": [],
   "source": [
    "# For offline solution\n",
    "active_evs = [\n",
    "            deepcopy(event.ev)\n",
    "            for event in processed_event\n",
    "            if event.event_type == \"Plugin\"\n",
    "        ]\n",
    "sessions = get_active_sessions(active_evs, 0)\n",
    "session_ids = set(s.session_id for s in sessions)"
   ]
  },
  {
   "cell_type": "code",
   "execution_count": 16,
   "metadata": {},
   "outputs": [
    {
     "name": "stdout",
     "output_type": "stream",
     "text": [
      "[<acnportal.acnsim.interface.SessionInfo object at 0x000002677DE404C0>, <acnportal.acnsim.interface.SessionInfo object at 0x000002677DE40700>, <acnportal.acnsim.interface.SessionInfo object at 0x000002677DE40340>, <acnportal.acnsim.interface.SessionInfo object at 0x000002677D8D4400>, <acnportal.acnsim.interface.SessionInfo object at 0x000002677D8D4EE0>, <acnportal.acnsim.interface.SessionInfo object at 0x000002677D8D46A0>, <acnportal.acnsim.interface.SessionInfo object at 0x000002677D8D4250>, <acnportal.acnsim.interface.SessionInfo object at 0x000002677D8D4130>, <acnportal.acnsim.interface.SessionInfo object at 0x000002677D8D41C0>, <acnportal.acnsim.interface.SessionInfo object at 0x000002677D8D4430>, <acnportal.acnsim.interface.SessionInfo object at 0x000002677D8D41F0>, <acnportal.acnsim.interface.SessionInfo object at 0x000002677D8D4B20>, <acnportal.acnsim.interface.SessionInfo object at 0x000002677D8D4B50>, <acnportal.acnsim.interface.SessionInfo object at 0x000002677D8D4CA0>, <acnportal.acnsim.interface.SessionInfo object at 0x000002677D8D4EB0>, <acnportal.acnsim.interface.SessionInfo object at 0x000002677D8D43A0>, <acnportal.acnsim.interface.SessionInfo object at 0x000002677D8D4340>, <acnportal.acnsim.interface.SessionInfo object at 0x000002677D8D4F10>, <acnportal.acnsim.interface.SessionInfo object at 0x000002677D8D4CD0>, <acnportal.acnsim.interface.SessionInfo object at 0x000002677D8D4D90>]\n",
      "{'2_39_127_19_2018-09-01 16:38:02.246423', '2_39_123_23_2018-09-01 17:37:59.006425', '2_39_78_367_2018-09-01 10:49:04.972619', '2_39_79_382_2018-09-01 16:40:40.860543', '2_39_89_25_2018-09-01 13:47:23.273995', '2_39_130_31_2018-09-01 14:33:40.470366', '2_39_79_379_2018-09-01 14:34:23.579048', '2_39_95_27_2018-09-01 14:27:19.797274', '2_39_79_381_2018-09-01 07:05:59.297327', '2_39_124_22_2018-09-01 15:43:20.509779', '2_39_130_31_2018-09-01 17:54:15.342053', '2_39_139_28_2018-09-01 15:28:41.249325', '2_39_138_29_2018-09-01 15:31:50.661778', '2_39_138_29_2018-09-01 16:58:40.239820', '2_39_78_367_2018-09-01 17:23:34.382055', '2_39_131_30_2018-09-01 07:10:56.837854', '2_39_78_365_2018-09-01 13:36:45.223594', '2_39_139_28_2018-09-01 17:15:13.154424', '2_39_138_29_2018-09-01 17:11:52.582269', '2_39_91_437_2018-09-01 16:29:35.661527'}\n"
     ]
    }
   ],
   "source": [
    "print(sessions)\n",
    "print(session_ids)"
   ]
  },
  {
   "attachments": {},
   "cell_type": "markdown",
   "metadata": {},
   "source": [
    "### Objective functions"
   ]
  },
  {
   "cell_type": "code",
   "execution_count": 17,
   "metadata": {},
   "outputs": [],
   "source": [
    "objectives = [\n",
    "    ObjectiveComponent(quick_charge),\n",
    "    ObjectiveComponent(equal_share, 1e-12)\n",
    "]"
   ]
  },
  {
   "attachments": {},
   "cell_type": "markdown",
   "metadata": {},
   "source": [
    "### Necessary utility functions"
   ]
  },
  {
   "cell_type": "code",
   "execution_count": 22,
   "metadata": {},
   "outputs": [],
   "source": [
    "# Charging rate bounds\n",
    "def charging_rate_bounds(\n",
    "        rates: cp.Variable, active_sessions: List[SessionInfo], evse_index: List[str]\n",
    "    ):\n",
    "        \"\"\"Get upper and lower bound constraints for each charging rate.\n",
    "\n",
    "        Args:\n",
    "            rates (cp.Variable): cvxpy variable representing all charging rates. Shape should be (N, T) where N is the\n",
    "                total number of EVSEs in the system and T is the length of the optimization horizon.\n",
    "            active_sessions (List[SessionInfo]): List of SessionInfo objects for all active charging sessions.\n",
    "            evse_index (List[str]): List of IDs for all EVSEs. Index in evse_index represents the row number of that\n",
    "                EVSE in rates.\n",
    "\n",
    "        Returns:\n",
    "            List[cp.Constraint]: List of lower bound constraint, upper bound constraint.\n",
    "        \"\"\"\n",
    "        lb, ub = np.zeros(rates.shape), np.zeros(rates.shape)\n",
    "        for session in active_sessions:\n",
    "            i = evse_index.index(session.station_id)\n",
    "            lb[\n",
    "                i,\n",
    "                session.arrival_offset : session.arrival_offset\n",
    "                + session.remaining_time,\n",
    "            ] = session.min_rates\n",
    "            ub[\n",
    "                i,\n",
    "                session.arrival_offset : session.arrival_offset\n",
    "                + session.remaining_time,\n",
    "            ] = session.max_rates\n",
    "        # To ensure feasibility, replace upper bound with lower bound when they conflict\n",
    "        ub[ub < lb] = lb[ub < lb]\n",
    "        return {\n",
    "            \"charging_rate_bounds.lb\": rates >= lb,\n",
    "            \"charging_rate_bounds.ub\": rates <= ub,\n",
    "        }\n",
    "\n",
    "\n",
    "# Energy constraints\n",
    "def energy_constraints(\n",
    "        rates: cp.Variable,\n",
    "        active_sessions: List[SessionInfo],\n",
    "        infrastructure: InfrastructureInfo,\n",
    "        period,\n",
    "        enforce_energy_equality=False,\n",
    "    ):\n",
    "        \"\"\"Get constraints on the energy delivered for each session.\n",
    "\n",
    "        Args:\n",
    "            rates (cp.Variable): cvxpy variable representing all charging rates. Shape should be (N, T) where N is the\n",
    "                total number of EVSEs in the system and T is the length of the optimization horizon.\n",
    "            active_sessions (List[SessionInfo]): List of SessionInfo objects for all active charging sessions.\n",
    "            infrastructure (InfrastructureInfo): InfrastructureInfo object describing the electrical infrastructure at\n",
    "                a site.\n",
    "            period (int): Length of each discrete time period. (min)\n",
    "            enforce_energy_equality (bool): If True, energy delivered must be equal to energy requested for each EV.\n",
    "                If False, energy delivered must be less than or equal to request.\n",
    "\n",
    "        Returns:\n",
    "            List[cp.Constraint]: List of energy delivered constraints for each session.\n",
    "        \"\"\"\n",
    "        constraints = {}\n",
    "        for session in active_sessions:\n",
    "            i = infrastructure.get_station_index(session.station_id)\n",
    "            planned_energy = cp.sum(\n",
    "                rates[\n",
    "                    i,\n",
    "                    session.arrival_offset : session.arrival_offset\n",
    "                    + session.remaining_time,\n",
    "                ]\n",
    "            )\n",
    "            planned_energy *= infrastructure.voltages[i] * period / 1e3 / 60\n",
    "            constraint_name = f\"energy_constraints.{session.session_id}\"\n",
    "            if enforce_energy_equality:\n",
    "                constraints[constraint_name] = (\n",
    "                    planned_energy == session.remaining_demand\n",
    "                )\n",
    "            else:\n",
    "                constraints[constraint_name] = (\n",
    "                    planned_energy <= session.remaining_demand\n",
    "                )\n",
    "        return constraints\n",
    "\n",
    "\n",
    "# Infrastructure constraints\n",
    "def infrastructure_constraints(\n",
    "        rates: cp.Variable, infrastructure: InfrastructureInfo, constraint_type=\"SOC\"\n",
    "    ):\n",
    "        \"\"\"Get constraints enforcing infrastructure limits.\n",
    "\n",
    "        Args:\n",
    "            rates (cp.Variable): cvxpy variable representing all charging rates. Shape should be (N, T) where N is the\n",
    "                total number of EVSEs in the system and T is the length of the optimization horizon.\n",
    "            infrastructure (InfrastructureInfo): InfrastructureInfo object describing the electrical infrastructure at\n",
    "                a site.\n",
    "            constraint_type (str): String representing which constraint type to use. Options are 'SOC' for Second Order\n",
    "                Cone or 'LINEAR' for linearized constraints.\n",
    "\n",
    "        Returns:\n",
    "            List[cp.Constraint]: List of constraints, one for each bottleneck in the electrical infrastructure.\n",
    "        \"\"\"\n",
    "        # If constraint_matrix is empty, no need to add infrastructure\n",
    "        # constraints.\n",
    "        if (\n",
    "            infrastructure.constraint_matrix is None\n",
    "            or infrastructure.constraint_matrix.shape == (0, 0)\n",
    "        ):\n",
    "            return {}\n",
    "        constraints = {}\n",
    "        if constraint_type == \"SOC\":\n",
    "            if infrastructure.phases is None:\n",
    "                raise ValueError(\n",
    "                    \"phases is required when using SOC infrastructure constraints.\"\n",
    "                )\n",
    "            phase_in_rad = np.deg2rad(infrastructure.phases)\n",
    "            for j, v in enumerate(infrastructure.constraint_matrix):\n",
    "                a = np.stack([v * np.cos(phase_in_rad), v * np.sin(phase_in_rad)])\n",
    "                constraint_name = (\n",
    "                    f\"infrastructure_constraints.\" f\"{infrastructure.constraint_ids[j]}\"\n",
    "                )\n",
    "                constraints[constraint_name] = (\n",
    "                    cp.norm(a @ rates, axis=0) <= infrastructure.constraint_limits[j]\n",
    "                )\n",
    "        elif constraint_type == \"LINEAR\":\n",
    "            for j, v in enumerate(infrastructure.constraint_matrix):\n",
    "                constraint_name = (\n",
    "                    f\"infrastructure_constraints.{infrastructure.constraint_ids[j]}\"\n",
    "                )\n",
    "                constraints[constraint_name] = (\n",
    "                    np.abs(v) @ rates <= infrastructure.constraint_limits[j]\n",
    "                )\n",
    "        else:\n",
    "            raise ValueError(\n",
    "                \"Invalid infrastructure constraint type: {0}. Valid options are SOC or AFFINE.\".format(\n",
    "                    constraint_type\n",
    "                )\n",
    "            )\n",
    "        return constraints\n",
    "\n",
    "# Peak constratint \n",
    "def peak_constraint(\n",
    "        rates: cp.Variable, peak_limit: Union[float, List[float], np.ndarray]\n",
    "    ):\n",
    "        \"\"\"Get constraints enforcing infrastructure limits.\n",
    "\n",
    "        Args:\n",
    "            rates (cp.Variable): cvxpy variable representing all charging rates. Shape should be (N, T) where N is the\n",
    "                total number of EVSEs in the system and T is the length of the optimization horizon.\n",
    "            peak_limit (Union[float, List[float], np.ndarray]): Limit on aggregate peak current. If None, no limit is\n",
    "                enforced.\n",
    "\n",
    "        Returns:\n",
    "            List[cp.Constraint]: List of constraints, one for each bottleneck in the electrical infrastructure.\n",
    "        \"\"\"\n",
    "        if peak_limit is not None:\n",
    "            return {\"peak_constraint\": cp.sum(rates, axis=0) <= peak_limit}\n",
    "        return {}\n",
    "\n",
    "\n",
    "def project_into_continuous_feasible_pilots(\n",
    "    rates: np.ndarray, infrastructure: InfrastructureInfo\n",
    "):\n",
    "    \"\"\"Round all values in rates such that they are less than the max_pilot of the corresponding EVSE and greater than\n",
    "            or equal to 0.\n",
    "\n",
    "    Args:\n",
    "        rates (np.ndarray): Schedule of charging rates.\n",
    "        infrastructure (InfrastructureInfo): Description of the charging infrastructure.\n",
    "\n",
    "    Returns:\n",
    "        np.ndarray: Rounded schedule of charging rates.\n",
    "    \"\"\"\n",
    "    new_rates = deepcopy(rates)\n",
    "    for i in range(infrastructure.num_stations):\n",
    "        new_rates[i] = np.minimum(rates[i], infrastructure.max_pilot[i])\n",
    "    new_rates = np.maximum(new_rates, 0)\n",
    "    return new_rates"
   ]
  },
  {
   "attachments": {},
   "cell_type": "markdown",
   "metadata": {},
   "source": [
    "### Solving Optimization Problem"
   ]
  },
  {
   "cell_type": "code",
   "execution_count": 23,
   "metadata": {},
   "outputs": [],
   "source": [
    "interface = Interface\n",
    "\n",
    "def build_objective(\n",
    "        rates: cp.Variable, infrastructure: InfrastructureInfo, **kwargs\n",
    "    ):\n",
    "        def _merge_dicts(*args):\n",
    "            \"\"\" Merge two dictionaries where d2 override d1 when there is a conflict. \"\"\"\n",
    "            merged = dict()\n",
    "            for d in args:\n",
    "                merged.update(d)\n",
    "            return merged\n",
    "\n",
    "        obj = cp.Constant(0)\n",
    "        for component in objectives:\n",
    "            obj += component.coefficient * component.function(\n",
    "                rates,\n",
    "                infrastructure,\n",
    "                interface,\n",
    "                **_merge_dicts(kwargs, component.kwargs),\n",
    "            )\n",
    "        return obj"
   ]
  },
  {
   "cell_type": "code",
   "execution_count": 24,
   "metadata": {},
   "outputs": [],
   "source": [
    "def build_problem(\n",
    "        active_sessions: List[SessionInfo],\n",
    "        infrastructure: InfrastructureInfo,\n",
    "        peak_limit: Optional[Union[float, List[float], np.ndarray]] = None,\n",
    "        prev_peak: float = 0,\n",
    "    ):\n",
    "        \"\"\"Build parts of the optimization problem including variables, constraints, and objective function.\n",
    "\n",
    "        Args:\n",
    "            active_sessions (List[SessionInfo]): List of SessionInfo objects for all active charging sessions.\n",
    "            infrastructure (InfrastructureInfo): InfrastructureInfo object describing the electrical infrastructure at\n",
    "                a site.\n",
    "            peak_limit (Union[float, List[float], np.ndarray]): Limit on aggregate peak current. If None, no limit is\n",
    "                enforced.\n",
    "            prev_peak (float): Previous peak current draw during the current billing period.\n",
    "\n",
    "        Returns:\n",
    "            Dict[str: object]:\n",
    "                'objective' : cvxpy expression for the objective of the optimization problem\n",
    "                'constraints': list of all constraints for the optimization problem\n",
    "                'variables': dict mapping variable name to cvxpy Variable.\n",
    "        \"\"\"\n",
    "        optimization_horizon = max(\n",
    "            s.arrival_offset + s.remaining_time for s in active_sessions\n",
    "        )\n",
    "        num_evses = len(infrastructure.station_ids)\n",
    "        rates = cp.Variable(shape=(num_evses, optimization_horizon))\n",
    "        constraints = {}\n",
    "\n",
    "        # Rate constraints\n",
    "        constraints.update(\n",
    "            charging_rate_bounds(\n",
    "                rates, active_sessions, infrastructure.station_ids\n",
    "            )\n",
    "        )\n",
    "\n",
    "        # Energy Delivered Constraints\n",
    "        constraints.update(\n",
    "            energy_constraints(\n",
    "                rates,\n",
    "                active_sessions,\n",
    "                infrastructure,\n",
    "                PERIOD,\n",
    "                enforce_energy_equality,\n",
    "            )\n",
    "        )\n",
    "\n",
    "        # Infrastructure Constraints\n",
    "        constraints.update(\n",
    "            infrastructure_constraints(rates, infrastructure, constraint_type)\n",
    "        )\n",
    "\n",
    "        # Peak Limit\n",
    "        constraints.update(peak_constraint(rates, peak_limit))\n",
    "\n",
    "        # Objective Function\n",
    "        objective = cp.Maximize(\n",
    "            build_objective(rates, infrastructure, prev_peak=prev_peak)\n",
    "        )\n",
    "        return {\n",
    "            \"objective\": objective,\n",
    "            \"constraints\": constraints,\n",
    "            \"variables\": {\"rates\": rates},\n",
    "        }"
   ]
  },
  {
   "cell_type": "code",
   "execution_count": null,
   "metadata": {},
   "outputs": [],
   "source": [
    "# problem_dict = build_problem(active_sessions, infrastructure, peak_limit)\n",
    "# print(problem_dict)"
   ]
  },
  {
   "cell_type": "code",
   "execution_count": 25,
   "metadata": {},
   "outputs": [
    {
     "name": "stdout",
     "output_type": "stream",
     "text": [
      "{'objective': Maximize(Expression(CONCAVE, UNKNOWN, ())), 'constraints': {'charging_rate_bounds.lb': Inequality(Constant(CONSTANT, ZERO, (54, 216))), 'charging_rate_bounds.ub': Inequality(Variable((54, 216))), 'energy_constraints.2_39_79_381_2018-09-01 07:05:59.297327': Inequality(Expression(AFFINE, UNKNOWN, ())), 'energy_constraints.2_39_131_30_2018-09-01 07:10:56.837854': Inequality(Expression(AFFINE, UNKNOWN, ())), 'energy_constraints.2_39_78_367_2018-09-01 10:49:04.972619': Inequality(Expression(AFFINE, UNKNOWN, ())), 'energy_constraints.2_39_78_365_2018-09-01 13:36:45.223594': Inequality(Expression(AFFINE, UNKNOWN, ())), 'energy_constraints.2_39_89_25_2018-09-01 13:47:23.273995': Inequality(Expression(AFFINE, UNKNOWN, ())), 'energy_constraints.2_39_95_27_2018-09-01 14:27:19.797274': Inequality(Expression(AFFINE, UNKNOWN, ())), 'energy_constraints.2_39_130_31_2018-09-01 14:33:40.470366': Inequality(Expression(AFFINE, UNKNOWN, ())), 'energy_constraints.2_39_79_379_2018-09-01 14:34:23.579048': Inequality(Expression(AFFINE, UNKNOWN, ())), 'energy_constraints.2_39_139_28_2018-09-01 15:28:41.249325': Inequality(Expression(AFFINE, UNKNOWN, ())), 'energy_constraints.2_39_138_29_2018-09-01 15:31:50.661778': Inequality(Expression(AFFINE, UNKNOWN, ())), 'energy_constraints.2_39_124_22_2018-09-01 15:43:20.509779': Inequality(Expression(AFFINE, UNKNOWN, ())), 'energy_constraints.2_39_91_437_2018-09-01 16:29:35.661527': Inequality(Expression(AFFINE, UNKNOWN, ())), 'energy_constraints.2_39_127_19_2018-09-01 16:38:02.246423': Inequality(Expression(AFFINE, UNKNOWN, ())), 'energy_constraints.2_39_79_382_2018-09-01 16:40:40.860543': Inequality(Expression(AFFINE, UNKNOWN, ())), 'energy_constraints.2_39_138_29_2018-09-01 16:58:40.239820': Inequality(Expression(AFFINE, UNKNOWN, ())), 'energy_constraints.2_39_138_29_2018-09-01 17:11:52.582269': Inequality(Expression(AFFINE, UNKNOWN, ())), 'energy_constraints.2_39_139_28_2018-09-01 17:15:13.154424': Inequality(Expression(AFFINE, UNKNOWN, ())), 'energy_constraints.2_39_78_367_2018-09-01 17:23:34.382055': Inequality(Expression(AFFINE, UNKNOWN, ())), 'energy_constraints.2_39_123_23_2018-09-01 17:37:59.006425': Inequality(Expression(AFFINE, UNKNOWN, ())), 'energy_constraints.2_39_130_31_2018-09-01 17:54:15.342053': Inequality(Expression(AFFINE, UNKNOWN, ())), 'infrastructure_constraints.CC Pod': Inequality(Expression(CONVEX, NONNEGATIVE, (216,))), 'infrastructure_constraints.AV Pod': Inequality(Expression(CONVEX, NONNEGATIVE, (216,))), 'infrastructure_constraints.Secondary A': Inequality(Expression(CONVEX, NONNEGATIVE, (216,))), 'infrastructure_constraints.Secondary B': Inequality(Expression(CONVEX, NONNEGATIVE, (216,))), 'infrastructure_constraints.Secondary C': Inequality(Expression(CONVEX, NONNEGATIVE, (216,))), 'infrastructure_constraints.Primary A': Inequality(Expression(CONVEX, NONNEGATIVE, (216,))), 'infrastructure_constraints.Primary B': Inequality(Expression(CONVEX, NONNEGATIVE, (216,))), 'infrastructure_constraints.Primary C': Inequality(Expression(CONVEX, NONNEGATIVE, (216,)))}, 'variables': {'rates': Variable((54, 216))}}\n"
     ]
    }
   ],
   "source": [
    "problem_dict = build_problem(sessions, infrastructure, peak_limit)\n",
    "print(problem_dict)"
   ]
  },
  {
   "cell_type": "code",
   "execution_count": null,
   "metadata": {},
   "outputs": [],
   "source": [
    "# Offline \n",
    "prob = cp.Problem(problem_dict[\"objective\"], list(problem_dict[\"constraints\"].values()))\n",
    "rates_matrix = prob.solve(solver=cp.ECOS_BB, verbose=True)\n",
    "print(rates_matrix)"
   ]
  },
  {
   "cell_type": "code",
   "execution_count": null,
   "metadata": {},
   "outputs": [],
   "source": [
    "# prob = cp.Problem(\n",
    "#             problem_dict[\"objective\"], list(problem_dict[\"constraints\"].values())\n",
    "#         )\n",
    "# rates_matrix = prob.solve(solver=cp.MOSEK, verbose=VERBOSE)\n",
    "# # rates_matrix = project_into_continuous_feasible_pilots(rates_matrix, infrastructure)\n",
    "# # internal_schedule = {\n",
    "# #             station_id: rates_matrix[i, :]\n",
    "# #             for i, station_id in enumerate(infrastructure.station_ids)\n",
    "# #         }\n",
    "# print(rates_matrix)"
   ]
  },
  {
   "cell_type": "code",
   "execution_count": null,
   "metadata": {},
   "outputs": [],
   "source": [
    "# Alternate method\n",
    "# prob = cp.Problem(\n",
    "#             problem_dict[\"objective\"], list(problem_dict[\"constraints\"].values())\n",
    "#         )\n",
    "# prob.solve(solver=cp.MOSEK, verbose=VERBOSE)\n",
    "# if prob.status not in [cp.OPTIMAL, cp.OPTIMAL_INACCURATE]:\n",
    "#             raise InfeasibilityException(f\"Solve failed with status {prob.status}\")\n",
    "# else:\n",
    "#     print(problem_dict[\"variables\"][\"rates\"].value)"
   ]
  }
 ],
 "metadata": {
  "kernelspec": {
   "display_name": "acnsim",
   "language": "python",
   "name": "python3"
  },
  "language_info": {
   "codemirror_mode": {
    "name": "ipython",
    "version": 3
   },
   "file_extension": ".py",
   "mimetype": "text/x-python",
   "name": "python",
   "nbconvert_exporter": "python",
   "pygments_lexer": "ipython3",
   "version": "3.9.15"
  },
  "orig_nbformat": 4,
  "vscode": {
   "interpreter": {
    "hash": "1b1ed7d673d5a5a7c8e67165bf582d9cb2e9ceb7d64f5312099cd48ae1058f52"
   }
  }
 },
 "nbformat": 4,
 "nbformat_minor": 2
}
