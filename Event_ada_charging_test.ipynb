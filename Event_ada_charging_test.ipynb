{
 "cells": [
  {
   "cell_type": "code",
   "execution_count": 22,
   "metadata": {},
   "outputs": [],
   "source": [
    "# Necessary imports\n",
    "from datetime import datetime\n",
    "import pytz\n",
    "from copy import deepcopy\n",
    "from matplotlib import pyplot as plt\n",
    "import matplotlib\n",
    "import cvxpy as cp\n",
    "import numpy as np\n",
    "import pandas as pd\n",
    "import seaborn as sns\n",
    "import json\n",
    "import os\n",
    "import sys\n",
    "import random\n",
    "import heapq  # Priority Queue\n",
    "\n",
    "from acnportal import acnsim, algorithms\n",
    "from acnportal.acnsim import analysis\n",
    "from acnportal.acnsim.events.event import PluginEvent\n",
    "from acnportal.acnsim.events.event import UnplugEvent\n",
    "from acnportal.signals.tariffs import TimeOfUseTariff\n",
    "from adacharge import *\n",
    "from acnportal.acnsim.interface import Interface, SessionInfo, InfrastructureInfo"
   ]
  },
  {
   "cell_type": "code",
   "execution_count": 23,
   "metadata": {},
   "outputs": [],
   "source": [
    "# Define common variables for experiment\n",
    "API_KEY = 'DEMO_TOKEN'\n",
    "TIMEZONE = pytz.timezone('America/Los_Angeles')\n",
    "SITE = 'caltech'\n",
    "PERIOD = 5  # minutes\n",
    "VOLTAGE = 208  # volts\n",
    "KW_TO_AMPS = 1000 / 208\n",
    "KWH_TO_AMP_PERIODS = KW_TO_AMPS * (60 / 5)\n",
    "MAX_LEN = 144\n",
    "FORCE_FEASIBLE = True\n",
    "EVENTS_DIR = \"C:\\\\Users\\\\s3955218\\\\repos\\\\acn-ev-simulation\\\\events\"\n",
    "VERBOSE = True"
   ]
  },
  {
   "cell_type": "code",
   "execution_count": 24,
   "metadata": {},
   "outputs": [],
   "source": [
    "event_name = \"simevent_1\"\n",
    "event_path = os.path.join(EVENTS_DIR, event_name + '.json')\n",
    "\n",
    "def event_queue(event_path):\n",
    "    if os.path.exists(event_path):\n",
    "        with open(event_path, 'r') as f:\n",
    "            event = acnsim.EventQueue.from_json(f)\n",
    "    return event"
   ]
  },
  {
   "cell_type": "code",
   "execution_count": 25,
   "metadata": {},
   "outputs": [
    {
     "name": "stdout",
     "output_type": "stream",
     "text": [
      "acnportal.acnsim.models.battery.Battery(_capacity=37.14, _current_charge=0, _init_charge=0, _max_power=6.656, _current_charging_power=0)\n",
      "acnportal.acnsim.models.battery.Battery(_capacity=5.668, _current_charge=0, _init_charge=0, _max_power=6.656, _current_charging_power=0)\n",
      "acnportal.acnsim.models.battery.Battery(_capacity=1.937, _current_charge=0, _init_charge=0, _max_power=6.656, _current_charging_power=0)\n",
      "acnportal.acnsim.models.battery.Battery(_capacity=13.079, _current_charge=0, _init_charge=0, _max_power=6.656, _current_charging_power=0)\n",
      "acnportal.acnsim.models.battery.Battery(_capacity=13.88, _current_charge=0, _init_charge=0, _max_power=6.656, _current_charging_power=0)\n",
      "acnportal.acnsim.models.battery.Battery(_capacity=13.91, _current_charge=0, _init_charge=0, _max_power=6.656, _current_charging_power=0)\n",
      "acnportal.acnsim.models.battery.Battery(_capacity=0.632, _current_charge=0, _init_charge=0, _max_power=6.656, _current_charging_power=0)\n",
      "acnportal.acnsim.models.battery.Battery(_capacity=3.511, _current_charge=0, _init_charge=0, _max_power=6.656, _current_charging_power=0)\n",
      "acnportal.acnsim.models.battery.Battery(_capacity=4.858, _current_charge=0, _init_charge=0, _max_power=6.656, _current_charging_power=0)\n",
      "acnportal.acnsim.models.battery.Battery(_capacity=9.429333333333332, _current_charge=0, _init_charge=0, _max_power=6.656, _current_charging_power=0)\n"
     ]
    }
   ],
   "source": [
    "events = event_queue(event_path)\n",
    "count = 0\n",
    "for event in iter(events.queue):\n",
    "    if count < 10:\n",
    "        # print(event[1].ev)\n",
    "        # print(\"------------------------------------------\")\n",
    "        print(event[1].ev._battery)\n",
    "        count = count + 1"
   ]
  },
  {
   "cell_type": "code",
   "execution_count": 26,
   "metadata": {},
   "outputs": [],
   "source": [
    "# width = 1\n",
    "# if events.get_last_timestamp() is not None:\n",
    "#     width = events.get_last_timestamp() + 1\n",
    "# print(width)\n",
    "# print(events.get_last_timestamp())\n",
    "\n",
    "# Experimenting with new width\n",
    "width = 20"
   ]
  },
  {
   "attachments": {},
   "cell_type": "markdown",
   "metadata": {},
   "source": [
    "#### Caltech ACN"
   ]
  },
  {
   "cell_type": "code",
   "execution_count": 27,
   "metadata": {},
   "outputs": [
    {
     "name": "stdout",
     "output_type": "stream",
     "text": [
      "[[0. 0. 0. ... 0. 0. 0.]\n",
      " [0. 0. 0. ... 0. 0. 0.]\n",
      " [0. 0. 0. ... 0. 0. 0.]\n",
      " ...\n",
      " [0. 0. 0. ... 0. 0. 0.]\n",
      " [0. 0. 0. ... 0. 0. 0.]\n",
      " [0. 0. 0. ... 0. 0. 0.]]\n",
      "(54, 20)\n",
      "(54, 20)\n"
     ]
    }
   ],
   "source": [
    "basic_evse=True\n",
    "caps = 150 # Transformer capacity\n",
    "\n",
    "network = acnsim.sites.caltech_acn(voltage=VOLTAGE,\n",
    "                              transformer_cap=caps,\n",
    "                              basic_evse=basic_evse)\n",
    "\n",
    "# print(cn.constraint_matrix)\n",
    "pilot_signals = np.zeros((len(network.station_ids), width))\n",
    "charging_rates = np.zeros((len(network.station_ids), width))\n",
    "\n",
    "print(charging_rates)\n",
    "# print(pilot_signals)\n",
    "print(charging_rates.shape)\n",
    "print(pilot_signals.shape)"
   ]
  },
  {
   "cell_type": "code",
   "execution_count": 28,
   "metadata": {},
   "outputs": [],
   "source": [
    "copy_events = deepcopy(events)\n",
    "processed_event = []  # for next stage processing\n",
    "\n",
    "iteration = 0\n",
    "while iteration < 20:\n",
    "    current_event = copy_events.get_event()\n",
    "    processed_event.append(current_event)\n",
    "    iteration += 1\n"
   ]
  },
  {
   "cell_type": "code",
   "execution_count": 29,
   "metadata": {},
   "outputs": [
    {
     "name": "stdout",
     "output_type": "stream",
     "text": [
      "Plugin event...\n",
      "Plugin event...\n",
      "Plugin event...\n",
      "Plugin event...\n",
      "Plugin event...\n",
      "Plugin event...\n",
      "Plugin event...\n",
      "Plugin event...\n",
      "Plugin event...\n",
      "Plugin event...\n",
      "Plugin event...\n",
      "Plugin event...\n",
      "Plugin event...\n",
      "Plugin event...\n",
      "Plugin event...\n",
      "Station CA-304 is occupied with ev 2_39_138_29_2018-09-01 15:31:50.661778.\n",
      "Plugin event...\n",
      "Station CA-304 is occupied with ev 2_39_138_29_2018-09-01 15:31:50.661778.\n",
      "Plugin event...\n",
      "Station CA-303 is occupied with ev 2_39_139_28_2018-09-01 15:28:41.249325.\n",
      "Plugin event...\n",
      "Station CA-494 is occupied with ev 2_39_78_367_2018-09-01 10:49:04.972619.\n",
      "Plugin event...\n",
      "Plugin event...\n",
      "Station CA-306 is occupied with ev 2_39_130_31_2018-09-01 14:33:40.470366.\n",
      "Plugined in EV 15\n"
     ]
    }
   ],
   "source": [
    "# event_history = []\n",
    "ev_history = {}\n",
    "\n",
    "count = 0\n",
    "for event in processed_event:\n",
    "    if event.event_type == \"Plugin\":\n",
    "        try:\n",
    "            print(\"Plugin event...\")\n",
    "            network.plugin(event.ev)\n",
    "            ev_history[event.ev.session_id] = event.ev\n",
    "            copy_events.add_event(UnplugEvent(event.ev.departure, current_event.ev))\n",
    "            count += 1\n",
    "        except Exception as e:\n",
    "            print(e)\n",
    "\n",
    "print(f\"Plugined in EV {count}\")"
   ]
  },
  {
   "cell_type": "code",
   "execution_count": null,
   "metadata": {},
   "outputs": [],
   "source": [
    "print(network.active_evs)"
   ]
  },
  {
   "cell_type": "code",
   "execution_count": null,
   "metadata": {},
   "outputs": [],
   "source": [
    "# print(network.current_charging_rates)\n",
    "print(network.constraints_as_df())"
   ]
  },
  {
   "cell_type": "code",
   "execution_count": 56,
   "metadata": {},
   "outputs": [],
   "source": [
    "# Final simulation setup\n",
    "basic_evse = True\n",
    "estimate_max_rate = False\n",
    "uninterrupted_charging = False\n",
    "quantized = False\n",
    "constraint_type = 'SOC'\n",
    "enforce_energy_equality=False\n",
    "solver=\"MOSEK\",\n",
    "peak_limit = None\n",
    "prev_peak = 0\n",
    "tariff_name = 'sce_tou_ev_4_march_2019'"
   ]
  },
  {
   "cell_type": "code",
   "execution_count": 57,
   "metadata": {},
   "outputs": [],
   "source": [
    "def get_active_sessions(active_evs, current_time):\n",
    "    \"\"\"Return a list of SessionInfo objects describing the currently charging EVs.\n",
    "\n",
    "    Args:\n",
    "        active_evs (List[acnsim.EV]: List of EV objects from acnsim.\n",
    "        current_time (int): Current time of the simulation.\n",
    "\n",
    "    Returns:\n",
    "        List[SessionInfo]: List of currently active charging sessions.\n",
    "    \"\"\"\n",
    "    return [\n",
    "        SessionInfo(\n",
    "            ev.station_id,\n",
    "            ev.session_id,\n",
    "            ev.requested_energy,\n",
    "            ev.energy_delivered,\n",
    "            ev.arrival,\n",
    "            ev.departure,\n",
    "            current_time=current_time,\n",
    "        )\n",
    "        for ev in active_evs\n",
    "    ]"
   ]
  },
  {
   "cell_type": "code",
   "execution_count": 58,
   "metadata": {},
   "outputs": [],
   "source": [
    "sessions = get_active_sessions(network.active_evs, 0)"
   ]
  },
  {
   "cell_type": "code",
   "execution_count": 14,
   "metadata": {},
   "outputs": [
    {
     "name": "stdout",
     "output_type": "stream",
     "text": [
      "[<acnportal.acnsim.interface.SessionInfo object at 0x000001FD2A5A5E80>, <acnportal.acnsim.interface.SessionInfo object at 0x000001FD2A5A5D90>, <acnportal.acnsim.interface.SessionInfo object at 0x000001FD2A5A5EB0>, <acnportal.acnsim.interface.SessionInfo object at 0x000001FD2A5A5DC0>, <acnportal.acnsim.interface.SessionInfo object at 0x000001FD2A5A5A90>, <acnportal.acnsim.interface.SessionInfo object at 0x000001FD2A5A5F10>, <acnportal.acnsim.interface.SessionInfo object at 0x000001FD2A5A5940>, <acnportal.acnsim.interface.SessionInfo object at 0x000001FD2A5A5100>, <acnportal.acnsim.interface.SessionInfo object at 0x000001FD2A5A5910>, <acnportal.acnsim.interface.SessionInfo object at 0x000001FD2A5A5760>, <acnportal.acnsim.interface.SessionInfo object at 0x000001FD2A5A5B80>, <acnportal.acnsim.interface.SessionInfo object at 0x000001FD2A5A5C10>, <acnportal.acnsim.interface.SessionInfo object at 0x000001FD2A5A5BE0>, <acnportal.acnsim.interface.SessionInfo object at 0x000001FD2A5A5BB0>, <acnportal.acnsim.interface.SessionInfo object at 0x000001FD2A5A5D30>]\n",
      "15\n"
     ]
    }
   ],
   "source": [
    "print(sessions)\n",
    "print(len(sessions))"
   ]
  },
  {
   "cell_type": "code",
   "execution_count": 59,
   "metadata": {},
   "outputs": [
    {
     "name": "stdout",
     "output_type": "stream",
     "text": [
      "[208. 208. 208. 208. 208. 208. 208. 208. 208. 208. 208. 208. 208. 208.\n",
      " 208. 208. 208. 208. 208. 208. 208. 208. 208. 208. 208. 208. 208. 208.\n",
      " 208. 208. 208. 208. 208. 208. 208. 208. 208. 208. 208. 208. 208. 208.\n",
      " 208. 208. 208. 208. 208. 208. 208. 208. 208. 208. 208. 208.]\n"
     ]
    }
   ],
   "source": [
    "station_ids = network.station_ids\n",
    "max_pilot_signals = network.max_pilot_signals\n",
    "min_pilot_signals = network.min_pilot_signals\n",
    "allowable_rates = network.allowable_rates\n",
    "is_continuous = network.is_continuous\n",
    "\n",
    "infrastructure = InfrastructureInfo(\n",
    "                    network.constraint_matrix,\n",
    "                    network.magnitudes,\n",
    "                    network._phase_angles,\n",
    "                    network._voltages,\n",
    "                    network.constraint_index,\n",
    "                    station_ids,\n",
    "                    max_pilot_signals,\n",
    "                    min_pilot_signals,\n",
    "                    allowable_rates,\n",
    "                    is_continuous,\n",
    "                )\n",
    "print(infrastructure.voltages)"
   ]
  },
  {
   "cell_type": "code",
   "execution_count": 60,
   "metadata": {},
   "outputs": [],
   "source": [
    "# Preprocessing for the algorithm   \n",
    "def enforce_pilot_limit(\n",
    "    active_sessions: List[SessionInfo], infrastructure: InfrastructureInfo\n",
    ") -> List[SessionInfo]:\n",
    "    \"\"\" Update the max_rates vector for each session to be less than the max\n",
    "        pilot supported by its EVSE.\n",
    "\n",
    "    Args:\n",
    "        active_sessions (List[SessionInfo]): List of SessionInfo objects for\n",
    "            all active charging sessions.\n",
    "        infrastructure (InfrastructureInfo): Description of the charging\n",
    "            infrastructure.\n",
    "\n",
    "    Returns:\n",
    "        List[SessionInfo]: Active sessions with max_rates updated to be at\n",
    "            most the max_pilot of the corresponding EVSE.\n",
    "    \"\"\"\n",
    "    for session in active_sessions:\n",
    "        i = infrastructure.get_station_index(session.station_id)\n",
    "        session.max_rates = np.minimum(session.max_rates, infrastructure.max_pilot[i])\n",
    "    return active_sessions"
   ]
  },
  {
   "cell_type": "code",
   "execution_count": 61,
   "metadata": {},
   "outputs": [],
   "source": [
    "active_sessions = enforce_pilot_limit(sessions, infrastructure)"
   ]
  },
  {
   "cell_type": "code",
   "execution_count": 62,
   "metadata": {},
   "outputs": [],
   "source": [
    "objectives = [\n",
    "    ObjectiveComponent(quick_charge),\n",
    "    ObjectiveComponent(equal_share, 1e-12)\n",
    "]"
   ]
  },
  {
   "cell_type": "code",
   "execution_count": 63,
   "metadata": {},
   "outputs": [],
   "source": [
    "# Necessary utility functions\n",
    "\n",
    "# Charging rate bounds\n",
    "def charging_rate_bounds(\n",
    "        rates: cp.Variable, active_sessions: List[SessionInfo], evse_index: List[str]\n",
    "    ):\n",
    "        \"\"\"Get upper and lower bound constraints for each charging rate.\n",
    "\n",
    "        Args:\n",
    "            rates (cp.Variable): cvxpy variable representing all charging rates. Shape should be (N, T) where N is the\n",
    "                total number of EVSEs in the system and T is the length of the optimization horizon.\n",
    "            active_sessions (List[SessionInfo]): List of SessionInfo objects for all active charging sessions.\n",
    "            evse_index (List[str]): List of IDs for all EVSEs. Index in evse_index represents the row number of that\n",
    "                EVSE in rates.\n",
    "\n",
    "        Returns:\n",
    "            List[cp.Constraint]: List of lower bound constraint, upper bound constraint.\n",
    "        \"\"\"\n",
    "        lb, ub = np.zeros(rates.shape), np.zeros(rates.shape)\n",
    "        for session in active_sessions:\n",
    "            i = evse_index.index(session.station_id)\n",
    "            lb[\n",
    "                i,\n",
    "                session.arrival_offset : session.arrival_offset\n",
    "                + session.remaining_time,\n",
    "            ] = session.min_rates\n",
    "            ub[\n",
    "                i,\n",
    "                session.arrival_offset : session.arrival_offset\n",
    "                + session.remaining_time,\n",
    "            ] = session.max_rates\n",
    "        # To ensure feasibility, replace upper bound with lower bound when they conflict\n",
    "        ub[ub < lb] = lb[ub < lb]\n",
    "        return {\n",
    "            \"charging_rate_bounds.lb\": rates >= lb,\n",
    "            \"charging_rate_bounds.ub\": rates <= ub,\n",
    "        }\n",
    "\n",
    "\n",
    "# Energy constraints\n",
    "def energy_constraints(\n",
    "        rates: cp.Variable,\n",
    "        active_sessions: List[SessionInfo],\n",
    "        infrastructure: InfrastructureInfo,\n",
    "        period,\n",
    "        enforce_energy_equality=False,\n",
    "    ):\n",
    "        \"\"\"Get constraints on the energy delivered for each session.\n",
    "\n",
    "        Args:\n",
    "            rates (cp.Variable): cvxpy variable representing all charging rates. Shape should be (N, T) where N is the\n",
    "                total number of EVSEs in the system and T is the length of the optimization horizon.\n",
    "            active_sessions (List[SessionInfo]): List of SessionInfo objects for all active charging sessions.\n",
    "            infrastructure (InfrastructureInfo): InfrastructureInfo object describing the electrical infrastructure at\n",
    "                a site.\n",
    "            period (int): Length of each discrete time period. (min)\n",
    "            enforce_energy_equality (bool): If True, energy delivered must be equal to energy requested for each EV.\n",
    "                If False, energy delivered must be less than or equal to request.\n",
    "\n",
    "        Returns:\n",
    "            List[cp.Constraint]: List of energy delivered constraints for each session.\n",
    "        \"\"\"\n",
    "        constraints = {}\n",
    "        for session in active_sessions:\n",
    "            i = infrastructure.get_station_index(session.station_id)\n",
    "            planned_energy = cp.sum(\n",
    "                rates[\n",
    "                    i,\n",
    "                    session.arrival_offset : session.arrival_offset\n",
    "                    + session.remaining_time,\n",
    "                ]\n",
    "            )\n",
    "            planned_energy *= infrastructure.voltages[i] * period / 1e3 / 60\n",
    "            constraint_name = f\"energy_constraints.{session.session_id}\"\n",
    "            if enforce_energy_equality:\n",
    "                constraints[constraint_name] = (\n",
    "                    planned_energy == session.remaining_demand\n",
    "                )\n",
    "            else:\n",
    "                constraints[constraint_name] = (\n",
    "                    planned_energy <= session.remaining_demand\n",
    "                )\n",
    "        return constraints\n",
    "\n",
    "\n",
    "# Infrastructure constraints\n",
    "def infrastructure_constraints(\n",
    "        rates: cp.Variable, infrastructure: InfrastructureInfo, constraint_type=\"SOC\"\n",
    "    ):\n",
    "        \"\"\"Get constraints enforcing infrastructure limits.\n",
    "\n",
    "        Args:\n",
    "            rates (cp.Variable): cvxpy variable representing all charging rates. Shape should be (N, T) where N is the\n",
    "                total number of EVSEs in the system and T is the length of the optimization horizon.\n",
    "            infrastructure (InfrastructureInfo): InfrastructureInfo object describing the electrical infrastructure at\n",
    "                a site.\n",
    "            constraint_type (str): String representing which constraint type to use. Options are 'SOC' for Second Order\n",
    "                Cone or 'LINEAR' for linearized constraints.\n",
    "\n",
    "        Returns:\n",
    "            List[cp.Constraint]: List of constraints, one for each bottleneck in the electrical infrastructure.\n",
    "        \"\"\"\n",
    "        # If constraint_matrix is empty, no need to add infrastructure\n",
    "        # constraints.\n",
    "        if (\n",
    "            infrastructure.constraint_matrix is None\n",
    "            or infrastructure.constraint_matrix.shape == (0, 0)\n",
    "        ):\n",
    "            return {}\n",
    "        constraints = {}\n",
    "        if constraint_type == \"SOC\":\n",
    "            if infrastructure.phases is None:\n",
    "                raise ValueError(\n",
    "                    \"phases is required when using SOC infrastructure constraints.\"\n",
    "                )\n",
    "            phase_in_rad = np.deg2rad(infrastructure.phases)\n",
    "            for j, v in enumerate(infrastructure.constraint_matrix):\n",
    "                a = np.stack([v * np.cos(phase_in_rad), v * np.sin(phase_in_rad)])\n",
    "                constraint_name = (\n",
    "                    f\"infrastructure_constraints.\" f\"{infrastructure.constraint_ids[j]}\"\n",
    "                )\n",
    "                constraints[constraint_name] = (\n",
    "                    cp.norm(a @ rates, axis=0) <= infrastructure.constraint_limits[j]\n",
    "                )\n",
    "        elif constraint_type == \"LINEAR\":\n",
    "            for j, v in enumerate(infrastructure.constraint_matrix):\n",
    "                constraint_name = (\n",
    "                    f\"infrastructure_constraints.{infrastructure.constraint_ids[j]}\"\n",
    "                )\n",
    "                constraints[constraint_name] = (\n",
    "                    np.abs(v) @ rates <= infrastructure.constraint_limits[j]\n",
    "                )\n",
    "        else:\n",
    "            raise ValueError(\n",
    "                \"Invalid infrastructure constraint type: {0}. Valid options are SOC or AFFINE.\".format(\n",
    "                    constraint_type\n",
    "                )\n",
    "            )\n",
    "        return constraints\n",
    "\n",
    "# Peak constratint \n",
    "def peak_constraint(\n",
    "        rates: cp.Variable, peak_limit: Union[float, List[float], np.ndarray]\n",
    "    ):\n",
    "        \"\"\"Get constraints enforcing infrastructure limits.\n",
    "\n",
    "        Args:\n",
    "            rates (cp.Variable): cvxpy variable representing all charging rates. Shape should be (N, T) where N is the\n",
    "                total number of EVSEs in the system and T is the length of the optimization horizon.\n",
    "            peak_limit (Union[float, List[float], np.ndarray]): Limit on aggregate peak current. If None, no limit is\n",
    "                enforced.\n",
    "\n",
    "        Returns:\n",
    "            List[cp.Constraint]: List of constraints, one for each bottleneck in the electrical infrastructure.\n",
    "        \"\"\"\n",
    "        if peak_limit is not None:\n",
    "            return {\"peak_constraint\": cp.sum(rates, axis=0) <= peak_limit}\n",
    "        return {}"
   ]
  },
  {
   "cell_type": "code",
   "execution_count": 64,
   "metadata": {},
   "outputs": [],
   "source": [
    "interface = Interface\n",
    "\n",
    "def build_objective(\n",
    "        rates: cp.Variable, infrastructure: InfrastructureInfo, **kwargs\n",
    "    ):\n",
    "        def _merge_dicts(*args):\n",
    "            \"\"\" Merge two dictionaries where d2 override d1 when there is a conflict. \"\"\"\n",
    "            merged = dict()\n",
    "            for d in args:\n",
    "                merged.update(d)\n",
    "            return merged\n",
    "\n",
    "        obj = cp.Constant(0)\n",
    "        for component in objectives:\n",
    "            obj += component.coefficient * component.function(\n",
    "                rates,\n",
    "                infrastructure,\n",
    "                network,\n",
    "                **_merge_dicts(kwargs, component.kwargs),\n",
    "            )\n",
    "        return obj"
   ]
  },
  {
   "cell_type": "code",
   "execution_count": 65,
   "metadata": {},
   "outputs": [],
   "source": [
    "def build_problem(\n",
    "        active_sessions: List[SessionInfo],\n",
    "        infrastructure: InfrastructureInfo,\n",
    "        peak_limit: Optional[Union[float, List[float], np.ndarray]] = None,\n",
    "        prev_peak: float = 0,\n",
    "    ):\n",
    "        \"\"\"Build parts of the optimization problem including variables, constraints, and objective function.\n",
    "\n",
    "        Args:\n",
    "            active_sessions (List[SessionInfo]): List of SessionInfo objects for all active charging sessions.\n",
    "            infrastructure (InfrastructureInfo): InfrastructureInfo object describing the electrical infrastructure at\n",
    "                a site.\n",
    "            peak_limit (Union[float, List[float], np.ndarray]): Limit on aggregate peak current. If None, no limit is\n",
    "                enforced.\n",
    "            prev_peak (float): Previous peak current draw during the current billing period.\n",
    "\n",
    "        Returns:\n",
    "            Dict[str: object]:\n",
    "                'objective' : cvxpy expression for the objective of the optimization problem\n",
    "                'constraints': list of all constraints for the optimization problem\n",
    "                'variables': dict mapping variable name to cvxpy Variable.\n",
    "        \"\"\"\n",
    "        optimization_horizon = max(\n",
    "            s.arrival_offset + s.remaining_time for s in active_sessions\n",
    "        )\n",
    "        num_evses = len(infrastructure.station_ids)\n",
    "        rates = cp.Variable(shape=(num_evses, optimization_horizon))\n",
    "        constraints = {}\n",
    "\n",
    "        # Rate constraints\n",
    "        constraints.update(\n",
    "            charging_rate_bounds(\n",
    "                rates, active_sessions, infrastructure.station_ids\n",
    "            )\n",
    "        )\n",
    "\n",
    "        # Energy Delivered Constraints\n",
    "        constraints.update(\n",
    "            energy_constraints(\n",
    "                rates,\n",
    "                active_sessions,\n",
    "                infrastructure,\n",
    "                PERIOD,\n",
    "                enforce_energy_equality,\n",
    "            )\n",
    "        )\n",
    "\n",
    "        # Infrastructure Constraints\n",
    "        constraints.update(\n",
    "            infrastructure_constraints(rates, infrastructure, constraint_type)\n",
    "        )\n",
    "\n",
    "        # Peak Limit\n",
    "        constraints.update(peak_constraint(rates, peak_limit))\n",
    "\n",
    "        # Objective Function\n",
    "        objective = cp.Maximize(\n",
    "            build_objective(rates, infrastructure, prev_peak=prev_peak)\n",
    "        )\n",
    "        return {\n",
    "            \"objective\": objective,\n",
    "            \"constraints\": constraints,\n",
    "            \"variables\": {\"rates\": rates},\n",
    "        }"
   ]
  },
  {
   "cell_type": "code",
   "execution_count": 66,
   "metadata": {},
   "outputs": [
    {
     "name": "stdout",
     "output_type": "stream",
     "text": [
      "{'objective': Maximize(Expression(CONCAVE, UNKNOWN, ())), 'constraints': {'charging_rate_bounds.lb': Inequality(Constant(CONSTANT, ZERO, (54, 216))), 'charging_rate_bounds.ub': Inequality(Variable((54, 216))), 'energy_constraints.2_39_139_28_2018-09-01 15:28:41.249325': Inequality(Expression(AFFINE, UNKNOWN, ())), 'energy_constraints.2_39_79_379_2018-09-01 14:34:23.579048': Inequality(Expression(AFFINE, UNKNOWN, ())), 'energy_constraints.2_39_79_381_2018-09-01 07:05:59.297327': Inequality(Expression(AFFINE, UNKNOWN, ())), 'energy_constraints.2_39_79_382_2018-09-01 16:40:40.860543': Inequality(Expression(AFFINE, UNKNOWN, ())), 'energy_constraints.2_39_78_365_2018-09-01 13:36:45.223594': Inequality(Expression(AFFINE, UNKNOWN, ())), 'energy_constraints.2_39_78_367_2018-09-01 10:49:04.972619': Inequality(Expression(AFFINE, UNKNOWN, ())), 'energy_constraints.2_39_138_29_2018-09-01 15:31:50.661778': Inequality(Expression(AFFINE, UNKNOWN, ())), 'energy_constraints.2_39_131_30_2018-09-01 07:10:56.837854': Inequality(Expression(AFFINE, UNKNOWN, ())), 'energy_constraints.2_39_123_23_2018-09-01 17:37:59.006425': Inequality(Expression(AFFINE, UNKNOWN, ())), 'energy_constraints.2_39_91_437_2018-09-01 16:29:35.661527': Inequality(Expression(AFFINE, UNKNOWN, ())), 'energy_constraints.2_39_127_19_2018-09-01 16:38:02.246423': Inequality(Expression(AFFINE, UNKNOWN, ())), 'energy_constraints.2_39_130_31_2018-09-01 14:33:40.470366': Inequality(Expression(AFFINE, UNKNOWN, ())), 'energy_constraints.2_39_89_25_2018-09-01 13:47:23.273995': Inequality(Expression(AFFINE, UNKNOWN, ())), 'energy_constraints.2_39_95_27_2018-09-01 14:27:19.797274': Inequality(Expression(AFFINE, UNKNOWN, ())), 'energy_constraints.2_39_124_22_2018-09-01 15:43:20.509779': Inequality(Expression(AFFINE, UNKNOWN, ())), 'infrastructure_constraints.CC Pod': Inequality(Expression(CONVEX, NONNEGATIVE, (216,))), 'infrastructure_constraints.AV Pod': Inequality(Expression(CONVEX, NONNEGATIVE, (216,))), 'infrastructure_constraints.Secondary A': Inequality(Expression(CONVEX, NONNEGATIVE, (216,))), 'infrastructure_constraints.Secondary B': Inequality(Expression(CONVEX, NONNEGATIVE, (216,))), 'infrastructure_constraints.Secondary C': Inequality(Expression(CONVEX, NONNEGATIVE, (216,))), 'infrastructure_constraints.Primary A': Inequality(Expression(CONVEX, NONNEGATIVE, (216,))), 'infrastructure_constraints.Primary B': Inequality(Expression(CONVEX, NONNEGATIVE, (216,))), 'infrastructure_constraints.Primary C': Inequality(Expression(CONVEX, NONNEGATIVE, (216,)))}, 'variables': {'rates': Variable((54, 216))}}\n"
     ]
    }
   ],
   "source": [
    "problem_dict = build_problem(active_sessions, infrastructure, peak_limit, prev_peak)\n",
    "print(problem_dict)"
   ]
  },
  {
   "cell_type": "code",
   "execution_count": 71,
   "metadata": {},
   "outputs": [
    {
     "name": "stdout",
     "output_type": "stream",
     "text": [
      "===============================================================================\n",
      "                                     CVXPY                                     \n",
      "                                     v1.3.0                                    \n",
      "===============================================================================\n",
      "(CVXPY) Mar 02 04:54:05 PM: Your problem has 11664 variables, 25 constraints, and 0 parameters.\n",
      "(CVXPY) Mar 02 04:54:05 PM: It is compliant with the following grammars: DCP, DQCP\n",
      "(CVXPY) Mar 02 04:54:05 PM: (If you need to solve this problem multiple times, but with different data, consider using parameters.)\n",
      "(CVXPY) Mar 02 04:54:05 PM: CVXPY will first compile your problem; then, it will invoke a numerical solver to obtain a solution.\n"
     ]
    },
    {
     "ename": "SolverError",
     "evalue": "The solver MOSEK is not installed.",
     "output_type": "error",
     "traceback": [
      "\u001b[1;31m---------------------------------------------------------------------------\u001b[0m",
      "\u001b[1;31mSolverError\u001b[0m                               Traceback (most recent call last)",
      "Cell \u001b[1;32mIn[71], line 4\u001b[0m\n\u001b[0;32m      1\u001b[0m prob \u001b[39m=\u001b[39m cp\u001b[39m.\u001b[39mProblem(\n\u001b[0;32m      2\u001b[0m             problem_dict[\u001b[39m\"\u001b[39m\u001b[39mobjective\u001b[39m\u001b[39m\"\u001b[39m], \u001b[39mlist\u001b[39m(problem_dict[\u001b[39m\"\u001b[39m\u001b[39mconstraints\u001b[39m\u001b[39m\"\u001b[39m]\u001b[39m.\u001b[39mvalues())\n\u001b[0;32m      3\u001b[0m         )\n\u001b[1;32m----> 4\u001b[0m prob\u001b[39m.\u001b[39;49msolve(solver\u001b[39m=\u001b[39;49msolver, verbose\u001b[39m=\u001b[39;49mVERBOSE)\n\u001b[0;32m      5\u001b[0m \u001b[39mif\u001b[39;00m prob\u001b[39m.\u001b[39mstatus \u001b[39mnot\u001b[39;00m \u001b[39min\u001b[39;00m [cp\u001b[39m.\u001b[39mOPTIMAL, cp\u001b[39m.\u001b[39mOPTIMAL_INACCURATE]:\n\u001b[0;32m      6\u001b[0m             \u001b[39mraise\u001b[39;00m InfeasibilityException(\u001b[39mf\u001b[39m\u001b[39m\"\u001b[39m\u001b[39mSolve failed with status \u001b[39m\u001b[39m{\u001b[39;00mprob\u001b[39m.\u001b[39mstatus\u001b[39m}\u001b[39;00m\u001b[39m\"\u001b[39m)\n",
      "File \u001b[1;32mc:\\Users\\s3955218\\Anaconda3\\envs\\acnsim\\lib\\site-packages\\cvxpy\\problems\\problem.py:493\u001b[0m, in \u001b[0;36mProblem.solve\u001b[1;34m(self, *args, **kwargs)\u001b[0m\n\u001b[0;32m    491\u001b[0m \u001b[39melse\u001b[39;00m:\n\u001b[0;32m    492\u001b[0m     solve_func \u001b[39m=\u001b[39m Problem\u001b[39m.\u001b[39m_solve\n\u001b[1;32m--> 493\u001b[0m \u001b[39mreturn\u001b[39;00m solve_func(\u001b[39mself\u001b[39m, \u001b[39m*\u001b[39margs, \u001b[39m*\u001b[39m\u001b[39m*\u001b[39mkwargs)\n",
      "File \u001b[1;32mc:\\Users\\s3955218\\Anaconda3\\envs\\acnsim\\lib\\site-packages\\cvxpy\\problems\\problem.py:1054\u001b[0m, in \u001b[0;36mProblem._solve\u001b[1;34m(self, solver, warm_start, verbose, gp, qcp, requires_grad, enforce_dpp, ignore_dpp, canon_backend, **kwargs)\u001b[0m\n\u001b[0;32m   1051\u001b[0m         \u001b[39mself\u001b[39m\u001b[39m.\u001b[39munpack(chain\u001b[39m.\u001b[39mretrieve(soln))\n\u001b[0;32m   1052\u001b[0m         \u001b[39mreturn\u001b[39;00m \u001b[39mself\u001b[39m\u001b[39m.\u001b[39mvalue\n\u001b[1;32m-> 1054\u001b[0m data, solving_chain, inverse_data \u001b[39m=\u001b[39m \u001b[39mself\u001b[39;49m\u001b[39m.\u001b[39;49mget_problem_data(\n\u001b[0;32m   1055\u001b[0m     solver, gp, enforce_dpp, ignore_dpp, verbose, canon_backend, kwargs\n\u001b[0;32m   1056\u001b[0m )\n\u001b[0;32m   1058\u001b[0m \u001b[39mif\u001b[39;00m verbose:\n\u001b[0;32m   1059\u001b[0m     \u001b[39mprint\u001b[39m(_NUM_SOLVER_STR)\n",
      "File \u001b[1;32mc:\\Users\\s3955218\\Anaconda3\\envs\\acnsim\\lib\\site-packages\\cvxpy\\problems\\problem.py:631\u001b[0m, in \u001b[0;36mProblem.get_problem_data\u001b[1;34m(self, solver, gp, enforce_dpp, ignore_dpp, verbose, canon_backend, solver_opts)\u001b[0m\n\u001b[0;32m    629\u001b[0m \u001b[39mif\u001b[39;00m key \u001b[39m!=\u001b[39m \u001b[39mself\u001b[39m\u001b[39m.\u001b[39m_cache\u001b[39m.\u001b[39mkey:\n\u001b[0;32m    630\u001b[0m     \u001b[39mself\u001b[39m\u001b[39m.\u001b[39m_cache\u001b[39m.\u001b[39minvalidate()\n\u001b[1;32m--> 631\u001b[0m     solving_chain \u001b[39m=\u001b[39m \u001b[39mself\u001b[39;49m\u001b[39m.\u001b[39;49m_construct_chain(\n\u001b[0;32m    632\u001b[0m         solver\u001b[39m=\u001b[39;49msolver, gp\u001b[39m=\u001b[39;49mgp,\n\u001b[0;32m    633\u001b[0m         enforce_dpp\u001b[39m=\u001b[39;49menforce_dpp,\n\u001b[0;32m    634\u001b[0m         ignore_dpp\u001b[39m=\u001b[39;49mignore_dpp,\n\u001b[0;32m    635\u001b[0m         canon_backend\u001b[39m=\u001b[39;49mcanon_backend,\n\u001b[0;32m    636\u001b[0m         solver_opts\u001b[39m=\u001b[39;49msolver_opts)\n\u001b[0;32m    637\u001b[0m     \u001b[39mself\u001b[39m\u001b[39m.\u001b[39m_cache\u001b[39m.\u001b[39mkey \u001b[39m=\u001b[39m key\n\u001b[0;32m    638\u001b[0m     \u001b[39mself\u001b[39m\u001b[39m.\u001b[39m_cache\u001b[39m.\u001b[39msolving_chain \u001b[39m=\u001b[39m solving_chain\n",
      "File \u001b[1;32mc:\\Users\\s3955218\\Anaconda3\\envs\\acnsim\\lib\\site-packages\\cvxpy\\problems\\problem.py:881\u001b[0m, in \u001b[0;36mProblem._construct_chain\u001b[1;34m(self, solver, gp, enforce_dpp, ignore_dpp, canon_backend, solver_opts)\u001b[0m\n\u001b[0;32m    839\u001b[0m \u001b[39mdef\u001b[39;00m \u001b[39m_construct_chain\u001b[39m(\n\u001b[0;32m    840\u001b[0m         \u001b[39mself\u001b[39m,\n\u001b[0;32m    841\u001b[0m         solver: Optional[\u001b[39mstr\u001b[39m] \u001b[39m=\u001b[39m \u001b[39mNone\u001b[39;00m,\n\u001b[1;32m   (...)\u001b[0m\n\u001b[0;32m    846\u001b[0m         solver_opts: Optional[\u001b[39mdict\u001b[39m] \u001b[39m=\u001b[39m \u001b[39mNone\u001b[39;00m\n\u001b[0;32m    847\u001b[0m ) \u001b[39m-\u001b[39m\u001b[39m>\u001b[39m SolvingChain:\n\u001b[0;32m    848\u001b[0m \u001b[39m    \u001b[39m\u001b[39m\"\"\"\u001b[39;00m\n\u001b[0;32m    849\u001b[0m \u001b[39m    Construct the chains required to reformulate and solve the problem.\u001b[39;00m\n\u001b[0;32m    850\u001b[0m \n\u001b[1;32m   (...)\u001b[0m\n\u001b[0;32m    879\u001b[0m \u001b[39m    A solving chain\u001b[39;00m\n\u001b[0;32m    880\u001b[0m \u001b[39m    \"\"\"\u001b[39;00m\n\u001b[1;32m--> 881\u001b[0m     candidate_solvers \u001b[39m=\u001b[39m \u001b[39mself\u001b[39;49m\u001b[39m.\u001b[39;49m_find_candidate_solvers(solver\u001b[39m=\u001b[39;49msolver, gp\u001b[39m=\u001b[39;49mgp)\n\u001b[0;32m    882\u001b[0m     \u001b[39mself\u001b[39m\u001b[39m.\u001b[39m_sort_candidate_solvers(candidate_solvers)\n\u001b[0;32m    883\u001b[0m     \u001b[39mreturn\u001b[39;00m construct_solving_chain(\u001b[39mself\u001b[39m, candidate_solvers, gp\u001b[39m=\u001b[39mgp,\n\u001b[0;32m    884\u001b[0m                                    enforce_dpp\u001b[39m=\u001b[39menforce_dpp,\n\u001b[0;32m    885\u001b[0m                                    ignore_dpp\u001b[39m=\u001b[39mignore_dpp,\n\u001b[0;32m    886\u001b[0m                                    canon_backend\u001b[39m=\u001b[39mcanon_backend,\n\u001b[0;32m    887\u001b[0m                                    solver_opts\u001b[39m=\u001b[39msolver_opts)\n",
      "File \u001b[1;32mc:\\Users\\s3955218\\Anaconda3\\envs\\acnsim\\lib\\site-packages\\cvxpy\\problems\\problem.py:744\u001b[0m, in \u001b[0;36mProblem._find_candidate_solvers\u001b[1;34m(self, solver, gp)\u001b[0m\n\u001b[0;32m    742\u001b[0m \u001b[39mif\u001b[39;00m solver \u001b[39mis\u001b[39;00m \u001b[39mnot\u001b[39;00m \u001b[39mNone\u001b[39;00m:\n\u001b[0;32m    743\u001b[0m     \u001b[39mif\u001b[39;00m solver \u001b[39mnot\u001b[39;00m \u001b[39min\u001b[39;00m slv_def\u001b[39m.\u001b[39mINSTALLED_SOLVERS:\n\u001b[1;32m--> 744\u001b[0m         \u001b[39mraise\u001b[39;00m error\u001b[39m.\u001b[39mSolverError(\u001b[39m\"\u001b[39m\u001b[39mThe solver \u001b[39m\u001b[39m%s\u001b[39;00m\u001b[39m is not installed.\u001b[39m\u001b[39m\"\u001b[39m \u001b[39m%\u001b[39m solver)\n\u001b[0;32m    745\u001b[0m     \u001b[39mif\u001b[39;00m solver \u001b[39min\u001b[39;00m slv_def\u001b[39m.\u001b[39mCONIC_SOLVERS:\n\u001b[0;32m    746\u001b[0m         candidates[\u001b[39m'\u001b[39m\u001b[39mconic_solvers\u001b[39m\u001b[39m'\u001b[39m] \u001b[39m+\u001b[39m\u001b[39m=\u001b[39m [solver]\n",
      "\u001b[1;31mSolverError\u001b[0m: The solver MOSEK is not installed."
     ]
    }
   ],
   "source": [
    "prob = cp.Problem(\n",
    "            problem_dict[\"objective\"], list(problem_dict[\"constraints\"].values())\n",
    "        )\n",
    "prob.solve(solver=solver, verbose=VERBOSE)\n",
    "if prob.status not in [cp.OPTIMAL, cp.OPTIMAL_INACCURATE]:\n",
    "            raise InfeasibilityException(f\"Solve failed with status {prob.status}\")\n",
    "else:\n",
    "    print(problem_dict[\"variables\"][\"rates\"].value)"
   ]
  },
  {
   "attachments": {},
   "cell_type": "markdown",
   "metadata": {},
   "source": [
    "### Creating data model for various component\n",
    "- EV\n",
    "- Battery\n",
    "- EVSE"
   ]
  },
  {
   "cell_type": "code",
   "execution_count": 17,
   "metadata": {},
   "outputs": [
    {
     "name": "stdout",
     "output_type": "stream",
     "text": [
      "acnportal.acnsim.models.evse.EVSE(_station_id=<str object at 0x00000171F4C51530>, _ev=None, _current_pilot=0, is_continuous=True, _max_rate=32, _min_rate=0)\n"
     ]
    }
   ],
   "source": [
    "from collections import OrderedDict\n",
    "# EVSE\n",
    "all_evse = network._EVSEs\n",
    "print(all_evse['CA-308'])"
   ]
  },
  {
   "attachments": {},
   "cell_type": "markdown",
   "metadata": {},
   "source": [
    "### EV grouping logic"
   ]
  },
  {
   "cell_type": "code",
   "execution_count": null,
   "metadata": {},
   "outputs": [],
   "source": []
  },
  {
   "attachments": {},
   "cell_type": "markdown",
   "metadata": {},
   "source": [
    "### Simplifying all variables for optimization function"
   ]
  },
  {
   "cell_type": "code",
   "execution_count": null,
   "metadata": {},
   "outputs": [],
   "source": []
  },
  {
   "attachments": {},
   "cell_type": "markdown",
   "metadata": {},
   "source": [
    "### Optimization functions"
   ]
  },
  {
   "cell_type": "code",
   "execution_count": null,
   "metadata": {},
   "outputs": [],
   "source": []
  },
  {
   "attachments": {},
   "cell_type": "markdown",
   "metadata": {},
   "source": [
    "### System Model"
   ]
  },
  {
   "cell_type": "code",
   "execution_count": null,
   "metadata": {},
   "outputs": [],
   "source": []
  },
  {
   "attachments": {},
   "cell_type": "markdown",
   "metadata": {},
   "source": [
    "### Charging Algorithm (offline)"
   ]
  },
  {
   "cell_type": "code",
   "execution_count": null,
   "metadata": {},
   "outputs": [],
   "source": []
  },
  {
   "attachments": {},
   "cell_type": "markdown",
   "metadata": {},
   "source": [
    "### Charging Algorithm (online)"
   ]
  },
  {
   "cell_type": "code",
   "execution_count": null,
   "metadata": {},
   "outputs": [],
   "source": []
  }
 ],
 "metadata": {
  "kernelspec": {
   "display_name": "acnsim",
   "language": "python",
   "name": "python3"
  },
  "language_info": {
   "codemirror_mode": {
    "name": "ipython",
    "version": 3
   },
   "file_extension": ".py",
   "mimetype": "text/x-python",
   "name": "python",
   "nbconvert_exporter": "python",
   "pygments_lexer": "ipython3",
   "version": "3.9.15"
  },
  "orig_nbformat": 4,
  "vscode": {
   "interpreter": {
    "hash": "1b1ed7d673d5a5a7c8e67165bf582d9cb2e9ceb7d64f5312099cd48ae1058f52"
   }
  }
 },
 "nbformat": 4,
 "nbformat_minor": 2
}
