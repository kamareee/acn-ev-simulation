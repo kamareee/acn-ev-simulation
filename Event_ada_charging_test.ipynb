{
 "cells": [
  {
   "cell_type": "code",
   "execution_count": 1,
   "metadata": {},
   "outputs": [],
   "source": [
    "# Necessary imports\n",
    "from datetime import datetime\n",
    "import pytz\n",
    "from copy import deepcopy\n",
    "from matplotlib import pyplot as plt\n",
    "import matplotlib\n",
    "import cvxpy as cp\n",
    "import numpy as np\n",
    "import pandas as pd\n",
    "import seaborn as sns\n",
    "import json\n",
    "import os\n",
    "import sys\n",
    "import random\n",
    "import heapq  # Priority Queue\n",
    "\n",
    "from acnportal import acnsim, algorithms\n",
    "from acnportal.acnsim import analysis\n",
    "from acnportal.acnsim.events.event import PluginEvent\n",
    "from acnportal.acnsim.events.event import UnplugEvent\n",
    "from acnportal.signals.tariffs import TimeOfUseTariff\n",
    "from adacharge import *\n",
    "from acnportal.acnsim.interface import Interface, SessionInfo, InfrastructureInfo"
   ]
  },
  {
   "cell_type": "code",
   "execution_count": 2,
   "metadata": {},
   "outputs": [],
   "source": [
    "# Define common variables for experiment\n",
    "API_KEY = 'DEMO_TOKEN'\n",
    "TIMEZONE = pytz.timezone('America/Los_Angeles')\n",
    "SITE = 'caltech'\n",
    "PERIOD = 5  # minutes\n",
    "VOLTAGE = 208  # volts\n",
    "KW_TO_AMPS = 1000 / 208\n",
    "KWH_TO_AMP_PERIODS = KW_TO_AMPS * (60 / 5)\n",
    "MAX_LEN = 144\n",
    "FORCE_FEASIBLE = True\n",
    "EVENTS_DIR = \"C:\\\\Users\\\\s3955218\\\\repos\\\\acn-ev-simulation\\\\events\"\n",
    "VERBOSE = True"
   ]
  },
  {
   "attachments": {},
   "cell_type": "markdown",
   "metadata": {},
   "source": [
    "### Reading from existing simulation data"
   ]
  },
  {
   "cell_type": "code",
   "execution_count": 3,
   "metadata": {},
   "outputs": [],
   "source": [
    "event_name = \"simevent_1\"\n",
    "event_path = os.path.join(EVENTS_DIR, event_name + '.json')\n",
    "\n",
    "def event_queue(event_path):\n",
    "    if os.path.exists(event_path):\n",
    "        with open(event_path, 'r') as f:\n",
    "            event = acnsim.EventQueue.from_json(f)\n",
    "    return event"
   ]
  },
  {
   "cell_type": "code",
   "execution_count": 4,
   "metadata": {},
   "outputs": [],
   "source": [
    "# width = 1\n",
    "# if events.get_last_timestamp() is not None:\n",
    "#     width = events.get_last_timestamp() + 1\n",
    "# print(width)\n",
    "# print(events.get_last_timestamp())\n",
    "\n",
    "# Experimenting with new width\n",
    "width = 50"
   ]
  },
  {
   "attachments": {},
   "cell_type": "markdown",
   "metadata": {},
   "source": [
    "### Data model for various component\n",
    "- EV\n",
    "- Battery\n",
    "- EVSE"
   ]
  },
  {
   "cell_type": "code",
   "execution_count": 5,
   "metadata": {},
   "outputs": [
    {
     "name": "stdout",
     "output_type": "stream",
     "text": [
      "acnportal.acnsim.models.ev.EV(_arrival=1, _departure=116, _session_id=<str object at 0x000002257E8E9DB0>, _station_id=<str object at 0x000002257E905430>, _requested_energy=37.14, _estimated_departure=116, _battery=<acnportal.acnsim.models.battery.Battery object at 0x000002257EB34F10>, _energy_delivered=0, _current_charging_rate=0)\n",
      "------------------------------------------\n",
      "acnportal.acnsim.models.battery.Battery(_capacity=37.14, _current_charge=0, _init_charge=0, _max_power=6.656, _current_charging_power=0)\n",
      "------------------------------------------\n",
      "acnportal.acnsim.models.ev.EV(_arrival=2, _departure=146, _session_id=<str object at 0x000002257E8E9ED0>, _station_id=<str object at 0x000002257E9092F0>, _requested_energy=5.668, _estimated_departure=146, _battery=<acnportal.acnsim.models.battery.Battery object at 0x000002257EB39460>, _energy_delivered=0, _current_charging_rate=0)\n",
      "------------------------------------------\n",
      "acnportal.acnsim.models.battery.Battery(_capacity=5.668, _current_charge=0, _init_charge=0, _max_power=6.656, _current_charging_power=0)\n",
      "------------------------------------------\n",
      "acnportal.acnsim.models.ev.EV(_arrival=45, _departure=60, _session_id=<str object at 0x000002257E907030>, _station_id=<str object at 0x000002257E9095F0>, _requested_energy=1.937, _estimated_departure=60, _battery=<acnportal.acnsim.models.battery.Battery object at 0x000002257EB46E80>, _energy_delivered=0, _current_charging_rate=0)\n",
      "------------------------------------------\n",
      "acnportal.acnsim.models.battery.Battery(_capacity=1.937, _current_charge=0, _init_charge=0, _max_power=6.656, _current_charging_power=0)\n",
      "------------------------------------------\n",
      "acnportal.acnsim.models.ev.EV(_arrival=79, _departure=106, _session_id=<str object at 0x000002257E907150>, _station_id=<str object at 0x000002257E909930>, _requested_energy=13.079, _estimated_departure=106, _battery=<acnportal.acnsim.models.battery.Battery object at 0x000002257EB466D0>, _energy_delivered=0, _current_charging_rate=0)\n",
      "------------------------------------------\n",
      "acnportal.acnsim.models.battery.Battery(_capacity=13.079, _current_charge=0, _init_charge=0, _max_power=6.656, _current_charging_power=0)\n",
      "------------------------------------------\n",
      "acnportal.acnsim.models.ev.EV(_arrival=81, _departure=143, _session_id=<str object at 0x000002257E907270>, _station_id=<str object at 0x000002257E909C70>, _requested_energy=13.88, _estimated_departure=143, _battery=<acnportal.acnsim.models.battery.Battery object at 0x000002257EB46C10>, _energy_delivered=0, _current_charging_rate=0)\n",
      "------------------------------------------\n",
      "acnportal.acnsim.models.battery.Battery(_capacity=13.88, _current_charge=0, _init_charge=0, _max_power=6.656, _current_charging_power=0)\n",
      "------------------------------------------\n"
     ]
    }
   ],
   "source": [
    "events = event_queue(event_path)\n",
    "count = 0\n",
    "for event in iter(events.queue):\n",
    "    if count < 5:\n",
    "        print(event[1].ev)\n",
    "        print(\"------------------------------------------\")\n",
    "        print(event[1].ev._battery)\n",
    "        print(\"------------------------------------------\")\n",
    "        count = count + 1"
   ]
  },
  {
   "attachments": {},
   "cell_type": "markdown",
   "metadata": {},
   "source": [
    "### EV grouping logic"
   ]
  },
  {
   "cell_type": "code",
   "execution_count": null,
   "metadata": {},
   "outputs": [],
   "source": []
  },
  {
   "attachments": {},
   "cell_type": "markdown",
   "metadata": {},
   "source": [
    "### System Model\n",
    "\n",
    "This is a programmatic model for the system. For this simulation we are using Caltech ACN model"
   ]
  },
  {
   "cell_type": "code",
   "execution_count": 6,
   "metadata": {},
   "outputs": [],
   "source": [
    "basic_evse=True\n",
    "caps = 80 # Transformer capacity\n",
    "\n",
    "network = acnsim.sites.caltech_acn(voltage=VOLTAGE,\n",
    "                              transformer_cap=caps,\n",
    "                              basic_evse=basic_evse)\n",
    "\n",
    "# print(cn.constraint_matrix)\n",
    "# pilot_signals = np.zeros((len(network.station_ids), width))\n",
    "# charging_rates = np.zeros((len(network.station_ids), width))\n",
    "\n",
    "# print(charging_rates)\n",
    "# print(pilot_signals)\n",
    "# print(charging_rates.shape)\n",
    "# print(pilot_signals.shape)"
   ]
  },
  {
   "attachments": {},
   "cell_type": "markdown",
   "metadata": {},
   "source": [
    "### Event Data \n",
    "Real-time data or offline data"
   ]
  },
  {
   "cell_type": "code",
   "execution_count": 7,
   "metadata": {},
   "outputs": [],
   "source": [
    "#  Reading a subset of data\n",
    "copy_events = deepcopy(events)\n",
    "processed_event = []  # for next stage processing\n",
    "\n",
    "iteration = 0\n",
    "while iteration < 50:\n",
    "    current_event = copy_events.get_event()\n",
    "    processed_event.append(current_event)\n",
    "    iteration += 1"
   ]
  },
  {
   "attachments": {},
   "cell_type": "markdown",
   "metadata": {},
   "source": [
    "### EV Plugin to System (Model)"
   ]
  },
  {
   "cell_type": "code",
   "execution_count": null,
   "metadata": {},
   "outputs": [],
   "source": [
    "# For offline don't run this snippet\n",
    "# event_history = []\n",
    "ev_history = {}\n",
    "\n",
    "count = 0\n",
    "for event in processed_event:\n",
    "    if event.event_type == \"Plugin\":\n",
    "        try:\n",
    "            print(\"Plugin event...\")\n",
    "            network.plugin(event.ev)\n",
    "            ev_history[event.ev.session_id] = event.ev\n",
    "            copy_events.add_event(UnplugEvent(event.ev.departure, current_event.ev))\n",
    "            count += 1\n",
    "        except Exception as e:\n",
    "            print(e)\n",
    "\n",
    "print(f\"Plugined in EV {count}\")"
   ]
  },
  {
   "cell_type": "code",
   "execution_count": 7,
   "metadata": {},
   "outputs": [
    {
     "name": "stdout",
     "output_type": "stream",
     "text": [
      "[]\n"
     ]
    }
   ],
   "source": [
    "# Debugging/Observing some variables\n",
    "print(network.active_evs)\n",
    "# print(network.current_charging_rates)\n",
    "# print(network.constraints_as_df())"
   ]
  },
  {
   "cell_type": "code",
   "execution_count": 8,
   "metadata": {},
   "outputs": [],
   "source": [
    "# Build EV history dictionary for offline algorithm \n",
    "ev_history = {}\n",
    "\n",
    "count = 0\n",
    "for event in processed_event:\n",
    "    if event.event_type == \"Plugin\":\n",
    "        ev_history[event.ev.session_id] = event.ev\n",
    "        count += 1\n",
    "# print(ev_history)\n",
    "# print(count)"
   ]
  },
  {
   "attachments": {},
   "cell_type": "markdown",
   "metadata": {},
   "source": [
    "### Simplifying variables for optimization algorithm"
   ]
  },
  {
   "cell_type": "code",
   "execution_count": 9,
   "metadata": {},
   "outputs": [],
   "source": [
    "# Final simulation setup\n",
    "basic_evse = True\n",
    "estimate_max_rate = False\n",
    "uninterrupted_charging = False\n",
    "quantized = False\n",
    "constraint_type = 'SOC'\n",
    "enforce_energy_equality=False\n",
    "solver='MOSEK',\n",
    "peak_limit = None\n",
    "prev_peak = 0\n",
    "tariff_name = 'sce_tou_ev_4_march_2019'\n",
    "enforce_energy_equality = True"
   ]
  },
  {
   "cell_type": "code",
   "execution_count": 10,
   "metadata": {},
   "outputs": [],
   "source": [
    "def get_active_sessions(active_evs, current_time):\n",
    "    \"\"\"Return a list of SessionInfo objects describing the currently charging EVs.\n",
    "\n",
    "    Args:\n",
    "        active_evs (List[acnsim.EV]: List of EV objects from acnsim.\n",
    "        current_time (int): Current time of the simulation.\n",
    "\n",
    "    Returns:\n",
    "        List[SessionInfo]: List of currently active charging sessions.\n",
    "    \"\"\"\n",
    "    return [\n",
    "        SessionInfo(\n",
    "            ev.station_id,\n",
    "            ev.session_id,\n",
    "            ev.requested_energy,\n",
    "            ev.energy_delivered,\n",
    "            ev.arrival,\n",
    "            ev.departure,\n",
    "            current_time=current_time,\n",
    "        )\n",
    "        for ev in active_evs\n",
    "    ]"
   ]
  },
  {
   "cell_type": "code",
   "execution_count": null,
   "metadata": {},
   "outputs": [],
   "source": [
    "# sessions = get_active_sessions(network.active_evs, 0)\n",
    "# print(sessions)\n",
    "# print(len(sessions))"
   ]
  },
  {
   "cell_type": "code",
   "execution_count": 11,
   "metadata": {},
   "outputs": [
    {
     "name": "stdout",
     "output_type": "stream",
     "text": [
      "[ 80.          80.         222.22222222 222.22222222 222.22222222\n",
      "  96.26955475  96.26955475  96.26955475]\n"
     ]
    }
   ],
   "source": [
    "# System Information object for algorithm\n",
    "station_ids = network.station_ids\n",
    "max_pilot_signals = network.max_pilot_signals\n",
    "min_pilot_signals = network.min_pilot_signals\n",
    "allowable_rates = network.allowable_rates\n",
    "is_continuous = network.is_continuous\n",
    "\n",
    "infrastructure = InfrastructureInfo(\n",
    "                    network.constraint_matrix,\n",
    "                    network.magnitudes,\n",
    "                    network._phase_angles,\n",
    "                    network._voltages,\n",
    "                    network.constraint_index,\n",
    "                    station_ids,\n",
    "                    max_pilot_signals,\n",
    "                    min_pilot_signals,\n",
    "                    allowable_rates,\n",
    "                    is_continuous,\n",
    "                )\n",
    "print(infrastructure.constraint_limits)"
   ]
  },
  {
   "cell_type": "code",
   "execution_count": 12,
   "metadata": {},
   "outputs": [],
   "source": [
    "# Preprocessing for the algorithm   \n",
    "def enforce_pilot_limit(\n",
    "    active_sessions: List[SessionInfo], infrastructure: InfrastructureInfo\n",
    ") -> List[SessionInfo]:\n",
    "    \"\"\" Update the max_rates vector for each session to be less than the max\n",
    "        pilot supported by its EVSE.\n",
    "\n",
    "    Args:\n",
    "        active_sessions (List[SessionInfo]): List of SessionInfo objects for\n",
    "            all active charging sessions.\n",
    "        infrastructure (InfrastructureInfo): Description of the charging\n",
    "            infrastructure.\n",
    "\n",
    "    Returns:\n",
    "        List[SessionInfo]: Active sessions with max_rates updated to be at\n",
    "            most the max_pilot of the corresponding EVSE.\n",
    "    \"\"\"\n",
    "    for session in active_sessions:\n",
    "        i = infrastructure.get_station_index(session.station_id)\n",
    "        session.max_rates = np.minimum(session.max_rates, infrastructure.max_pilot[i])\n",
    "    return active_sessions"
   ]
  },
  {
   "cell_type": "code",
   "execution_count": 45,
   "metadata": {},
   "outputs": [],
   "source": [
    "# Enforcing pilot limit for sessions\n",
    "# active_sessions = enforce_pilot_limit(sessions, infrastructure)"
   ]
  },
  {
   "cell_type": "code",
   "execution_count": 13,
   "metadata": {},
   "outputs": [],
   "source": [
    "# Register events for offline solution\n",
    "active_evs = [\n",
    "            deepcopy(event.ev)\n",
    "            for event in processed_event\n",
    "            if event.event_type == \"Plugin\"\n",
    "        ]\n",
    "sessions = get_active_sessions(active_evs, 0)\n",
    "session_ids = set(s.session_id for s in sessions)"
   ]
  },
  {
   "cell_type": "code",
   "execution_count": 14,
   "metadata": {},
   "outputs": [
    {
     "name": "stdout",
     "output_type": "stream",
     "text": [
      "[<acnportal.acnsim.interface.SessionInfo object at 0x000002257F555880>, <acnportal.acnsim.interface.SessionInfo object at 0x000002257F555AC0>, <acnportal.acnsim.interface.SessionInfo object at 0x000002257F555A90>, <acnportal.acnsim.interface.SessionInfo object at 0x000002257F555D60>, <acnportal.acnsim.interface.SessionInfo object at 0x000002257F555B80>, <acnportal.acnsim.interface.SessionInfo object at 0x000002257F1DD130>, <acnportal.acnsim.interface.SessionInfo object at 0x000002257F1DD0A0>, <acnportal.acnsim.interface.SessionInfo object at 0x000002257F1DD7F0>, <acnportal.acnsim.interface.SessionInfo object at 0x000002257F1DD820>, <acnportal.acnsim.interface.SessionInfo object at 0x000002257F1DD850>, <acnportal.acnsim.interface.SessionInfo object at 0x000002257F1DD880>, <acnportal.acnsim.interface.SessionInfo object at 0x000002257F1DD8B0>, <acnportal.acnsim.interface.SessionInfo object at 0x000002257F1DD8E0>, <acnportal.acnsim.interface.SessionInfo object at 0x000002257F1DD910>, <acnportal.acnsim.interface.SessionInfo object at 0x000002257F1DD940>, <acnportal.acnsim.interface.SessionInfo object at 0x000002257F1DD970>, <acnportal.acnsim.interface.SessionInfo object at 0x000002257F1DD9A0>, <acnportal.acnsim.interface.SessionInfo object at 0x000002257F1DD9D0>, <acnportal.acnsim.interface.SessionInfo object at 0x000002257F1DDA00>, <acnportal.acnsim.interface.SessionInfo object at 0x000002257F1DDA30>, <acnportal.acnsim.interface.SessionInfo object at 0x000002257F1DDA60>, <acnportal.acnsim.interface.SessionInfo object at 0x000002257F1DDA90>, <acnportal.acnsim.interface.SessionInfo object at 0x000002257F1DDAC0>, <acnportal.acnsim.interface.SessionInfo object at 0x000002257F1DDAF0>, <acnportal.acnsim.interface.SessionInfo object at 0x000002257F1DDB20>, <acnportal.acnsim.interface.SessionInfo object at 0x000002257F1DDB50>, <acnportal.acnsim.interface.SessionInfo object at 0x000002257F1DDB80>, <acnportal.acnsim.interface.SessionInfo object at 0x000002257F1DDBB0>, <acnportal.acnsim.interface.SessionInfo object at 0x000002257F1DDBE0>, <acnportal.acnsim.interface.SessionInfo object at 0x000002257F1DDC10>, <acnportal.acnsim.interface.SessionInfo object at 0x000002257F1DDC40>, <acnportal.acnsim.interface.SessionInfo object at 0x000002257F1DDC70>, <acnportal.acnsim.interface.SessionInfo object at 0x000002257F1DDCA0>, <acnportal.acnsim.interface.SessionInfo object at 0x000002257F1DDCD0>, <acnportal.acnsim.interface.SessionInfo object at 0x000002257F1DDD00>, <acnportal.acnsim.interface.SessionInfo object at 0x000002257F1DDD30>, <acnportal.acnsim.interface.SessionInfo object at 0x000002257F1DDD60>, <acnportal.acnsim.interface.SessionInfo object at 0x000002257F1DDD90>, <acnportal.acnsim.interface.SessionInfo object at 0x000002257F1DDDC0>, <acnportal.acnsim.interface.SessionInfo object at 0x000002257F1DDDF0>, <acnportal.acnsim.interface.SessionInfo object at 0x000002257F1DDE20>, <acnportal.acnsim.interface.SessionInfo object at 0x000002257F1DDE50>, <acnportal.acnsim.interface.SessionInfo object at 0x000002257F1DDE80>, <acnportal.acnsim.interface.SessionInfo object at 0x000002257F1DDEB0>, <acnportal.acnsim.interface.SessionInfo object at 0x000002257F1DDEE0>, <acnportal.acnsim.interface.SessionInfo object at 0x000002257F1DDF10>, <acnportal.acnsim.interface.SessionInfo object at 0x000002257F1DDF40>, <acnportal.acnsim.interface.SessionInfo object at 0x000002257F1DDF70>, <acnportal.acnsim.interface.SessionInfo object at 0x000002257F1DDFA0>, <acnportal.acnsim.interface.SessionInfo object at 0x000002257F1DDFD0>]\n",
      "{'2_39_89_25_2018-09-01 13:47:23.273995', '2_39_79_382_2018-09-01 16:40:40.860543', '2_39_79_379_2018-09-02 14:23:12.939995', '2_39_88_24_2018-09-02 04:19:03.429537', '2_39_139_28_2018-09-01 17:15:13.154424', '2_39_126_20_2018-09-01 18:33:41.444917', '2_39_79_380_2018-09-02 10:34:03.357511', '2_39_91_437_2018-09-01 16:29:35.661527', '2_39_130_31_2018-09-02 01:18:59.701477', '2_39_126_20_2018-09-01 21:35:37.260385', '2_39_125_21_2018-09-01 22:53:07.881899', '2_39_79_379_2018-09-01 14:34:23.579048', '2_39_123_23_2018-09-01 17:37:59.006425', '2_39_79_381_2018-09-01 07:05:59.297327', '2_39_138_29_2018-09-01 15:31:50.661778', '2_39_138_29_2018-09-01 17:11:52.582269', '2_39_130_31_2018-09-01 17:54:15.342053', '2_39_131_30_2018-09-02 14:01:07.075376', '2_39_78_365_2018-09-01 13:36:45.223594', '2_39_130_31_2018-09-01 22:01:43.999144', '2_39_127_19_2018-09-02 15:41:14.382284', '2_39_127_19_2018-09-01 16:38:02.246423', '2_39_139_28_2018-09-01 20:32:43.352840', '2_39_127_19_2018-09-01 22:05:27.012120', '2_39_130_31_2018-09-02 14:20:22.840183', '2_39_138_29_2018-09-01 16:58:40.239820', '2_39_91_441_2018-09-01 17:55:01.267977', '2_39_95_27_2018-09-01 14:27:19.797274', '2_39_126_20_2018-09-02 06:06:56.405159', '2_39_95_27_2018-09-02 06:10:32.567500', '2_39_138_29_2018-09-02 07:36:44.167504', '2_39_138_29_2018-09-01 20:14:35.350301', '2_39_128_18_2018-09-01 21:29:46.285983', '2_39_130_31_2018-09-01 14:33:40.470366', '2_39_89_25_2018-09-01 22:21:38.928878', '2_39_123_23_2018-09-01 23:37:22.669166', '2_39_79_378_2018-09-01 17:58:22.306589', '2_39_125_21_2018-09-02 14:07:07.126293', '2_39_139_28_2018-09-01 15:28:41.249325', '2_39_124_22_2018-09-01 15:43:20.509779', '2_39_131_30_2018-09-01 07:10:56.837854', '2_39_78_367_2018-09-01 10:49:04.972619', '2_39_78_361_2018-09-01 20:31:05.233460', '2_39_79_380_2018-09-01 17:52:51.464612', '2_39_131_30_2018-09-02 00:53:37.976620', '2_39_123_557_2018-09-01 20:46:25.431303', '2_39_139_28_2018-09-02 09:27:27.298273', '2_39_79_378_2018-09-02 01:17:02.490680', '2_39_78_367_2018-09-01 17:23:34.382055', '2_39_91_441_2018-09-01 21:21:23.084665'}\n",
      "50\n"
     ]
    }
   ],
   "source": [
    "print(sessions)\n",
    "print(session_ids)\n",
    "print(len(sessions))"
   ]
  },
  {
   "cell_type": "code",
   "execution_count": 15,
   "metadata": {},
   "outputs": [
    {
     "name": "stdout",
     "output_type": "stream",
     "text": [
      "arrival:1, departure:116, requested_energy:37.14, energy_delivered:0, current_time:0, estimated_departure:116, station_id:CA-490, session_id:2_39_79_381_2018-09-01 07:05:59.297327\n",
      "arrival:2, departure:146, requested_energy:5.668, energy_delivered:0, current_time:0, estimated_departure:146, station_id:CA-305, session_id:2_39_131_30_2018-09-01 07:10:56.837854\n",
      "arrival:45, departure:60, requested_energy:1.937, energy_delivered:0, current_time:0, estimated_departure:60, station_id:CA-494, session_id:2_39_78_367_2018-09-01 10:49:04.972619\n",
      "arrival:79, departure:106, requested_energy:13.079, energy_delivered:0, current_time:0, estimated_departure:106, station_id:CA-321, session_id:2_39_78_365_2018-09-01 13:36:45.223594\n",
      "arrival:81, departure:143, requested_energy:13.88, energy_delivered:0, current_time:0, estimated_departure:143, station_id:CA-315, session_id:2_39_89_25_2018-09-01 13:47:23.273995\n",
      "arrival:89, departure:130, requested_energy:13.91, energy_delivered:0, current_time:0, estimated_departure:130, station_id:CA-319, session_id:2_39_95_27_2018-09-01 14:27:19.797274\n",
      "arrival:90, departure:92, requested_energy:0.632, energy_delivered:0, current_time:0, estimated_departure:92, station_id:CA-306, session_id:2_39_130_31_2018-09-01 14:33:40.470366\n",
      "arrival:90, departure:183, requested_energy:3.511, energy_delivered:0, current_time:0, estimated_departure:183, station_id:CA-327, session_id:2_39_79_379_2018-09-01 14:34:23.579048\n",
      "arrival:101, departure:110, requested_energy:4.858, energy_delivered:0, current_time:0, estimated_departure:110, station_id:CA-303, session_id:2_39_139_28_2018-09-01 15:28:41.249325\n",
      "arrival:102, departure:119, requested_energy:9.429333333333332, energy_delivered:0, current_time:0, estimated_departure:119, station_id:CA-304, session_id:2_39_138_29_2018-09-01 15:31:50.661778\n",
      "arrival:104, departure:164, requested_energy:13.888, energy_delivered:0, current_time:0, estimated_departure:164, station_id:CA-312, session_id:2_39_124_22_2018-09-01 15:43:20.509779\n",
      "arrival:113, departure:207, requested_energy:42.138, energy_delivered:0, current_time:0, estimated_departure:207, station_id:CA-317, session_id:2_39_91_437_2018-09-01 16:29:35.661527\n",
      "arrival:115, departure:135, requested_energy:1.82, energy_delivered:0, current_time:0, estimated_departure:135, station_id:CA-309, session_id:2_39_127_19_2018-09-01 16:38:02.246423\n",
      "arrival:116, departure:216, requested_energy:13.255, energy_delivered:0, current_time:0, estimated_departure:216, station_id:CA-491, session_id:2_39_79_382_2018-09-01 16:40:40.860543\n",
      "arrival:119, departure:120, requested_energy:0.5546666666666666, energy_delivered:0, current_time:0, estimated_departure:120, station_id:CA-304, session_id:2_39_138_29_2018-09-01 16:58:40.239820\n",
      "arrival:122, departure:148, requested_energy:5.383, energy_delivered:0, current_time:0, estimated_departure:148, station_id:CA-304, session_id:2_39_138_29_2018-09-01 17:11:52.582269\n",
      "arrival:123, departure:137, requested_energy:4.288, energy_delivered:0, current_time:0, estimated_departure:137, station_id:CA-303, session_id:2_39_139_28_2018-09-01 17:15:13.154424\n",
      "arrival:124, departure:136, requested_energy:6.314, energy_delivered:0, current_time:0, estimated_departure:136, station_id:CA-494, session_id:2_39_78_367_2018-09-01 17:23:34.382055\n",
      "arrival:127, departure:199, requested_energy:13.893, energy_delivered:0, current_time:0, estimated_departure:199, station_id:CA-313, session_id:2_39_123_23_2018-09-01 17:37:59.006425\n",
      "arrival:130, departure:143, requested_energy:7.138, energy_delivered:0, current_time:0, estimated_departure:143, station_id:CA-306, session_id:2_39_130_31_2018-09-01 17:54:15.342053\n",
      "arrival:130, departure:178, requested_energy:12.463, energy_delivered:0, current_time:0, estimated_departure:178, station_id:CA-489, session_id:2_39_79_380_2018-09-01 17:52:51.464612\n",
      "arrival:131, departure:211, requested_energy:12.041, energy_delivered:0, current_time:0, estimated_departure:211, station_id:CA-326, session_id:2_39_79_378_2018-09-01 17:58:22.306589\n",
      "arrival:131, departure:172, requested_energy:13.889, energy_delivered:0, current_time:0, estimated_departure:172, station_id:CA-499, session_id:2_39_91_441_2018-09-01 17:55:01.267977\n",
      "arrival:138, departure:163, requested_energy:13.82, energy_delivered:0, current_time:0, estimated_departure:163, station_id:CA-310, session_id:2_39_126_20_2018-09-01 18:33:41.444917\n",
      "arrival:158, departure:228, requested_energy:6.822, energy_delivered:0, current_time:0, estimated_departure:228, station_id:CA-304, session_id:2_39_138_29_2018-09-01 20:14:35.350301\n",
      "arrival:162, departure:206, requested_energy:8.597, energy_delivered:0, current_time:0, estimated_departure:206, station_id:CA-303, session_id:2_39_139_28_2018-09-01 20:32:43.352840\n",
      "arrival:162, departure:231, requested_energy:1.674, energy_delivered:0, current_time:0, estimated_departure:231, station_id:CA-493, session_id:2_39_78_361_2018-09-01 20:31:05.233460\n",
      "arrival:165, departure:189, requested_energy:13.312, energy_delivered:0, current_time:0, estimated_departure:189, station_id:CA-503, session_id:2_39_123_557_2018-09-01 20:46:25.431303\n",
      "arrival:172, departure:316, requested_energy:6.807, energy_delivered:0, current_time:0, estimated_departure:316, station_id:CA-499, session_id:2_39_91_441_2018-09-01 21:21:23.084665\n",
      "arrival:173, departure:182, requested_energy:4.308, energy_delivered:0, current_time:0, estimated_departure:182, station_id:CA-308, session_id:2_39_128_18_2018-09-01 21:29:46.285983\n",
      "arrival:175, departure:192, requested_energy:9.429333333333332, energy_delivered:0, current_time:0, estimated_departure:192, station_id:CA-310, session_id:2_39_126_20_2018-09-01 21:35:37.260385\n",
      "arrival:180, departure:208, requested_energy:0.808, energy_delivered:0, current_time:0, estimated_departure:208, station_id:CA-306, session_id:2_39_130_31_2018-09-01 22:01:43.999144\n",
      "arrival:181, departure:237, requested_energy:13.939, energy_delivered:0, current_time:0, estimated_departure:237, station_id:CA-309, session_id:2_39_127_19_2018-09-01 22:05:27.012120\n",
      "arrival:184, departure:207, requested_energy:10.496, energy_delivered:0, current_time:0, estimated_departure:207, station_id:CA-315, session_id:2_39_89_25_2018-09-01 22:21:38.928878\n",
      "arrival:190, departure:244, requested_energy:13.929, energy_delivered:0, current_time:0, estimated_departure:244, station_id:CA-311, session_id:2_39_125_21_2018-09-01 22:53:07.881899\n",
      "arrival:199, departure:250, requested_energy:13.908, energy_delivered:0, current_time:0, estimated_departure:250, station_id:CA-313, session_id:2_39_123_23_2018-09-01 23:37:22.669166\n",
      "arrival:214, departure:217, requested_energy:1.439, energy_delivered:0, current_time:0, estimated_departure:217, station_id:CA-305, session_id:2_39_131_30_2018-09-02 00:53:37.976620\n",
      "arrival:219, departure:222, requested_energy:1.664, energy_delivered:0, current_time:0, estimated_departure:222, station_id:CA-306, session_id:2_39_130_31_2018-09-02 01:18:59.701477\n",
      "arrival:219, departure:225, requested_energy:1.553, energy_delivered:0, current_time:0, estimated_departure:225, station_id:CA-326, session_id:2_39_79_378_2018-09-02 01:17:02.490680\n",
      "arrival:255, departure:399, requested_energy:13.921, energy_delivered:0, current_time:0, estimated_departure:399, station_id:CA-314, session_id:2_39_88_24_2018-09-02 04:19:03.429537\n",
      "arrival:277, departure:281, requested_energy:0.957, energy_delivered:0, current_time:0, estimated_departure:281, station_id:CA-310, session_id:2_39_126_20_2018-09-02 06:06:56.405159\n",
      "arrival:278, departure:418, requested_energy:7.441, energy_delivered:0, current_time:0, estimated_departure:418, station_id:CA-319, session_id:2_39_95_27_2018-09-02 06:10:32.567500\n",
      "arrival:295, departure:425, requested_energy:3.521, energy_delivered:0, current_time:0, estimated_departure:425, station_id:CA-304, session_id:2_39_138_29_2018-09-02 07:36:44.167504\n",
      "arrival:317, departure:461, requested_energy:41.434, energy_delivered:0, current_time:0, estimated_departure:461, station_id:CA-303, session_id:2_39_139_28_2018-09-02 09:27:27.298273\n",
      "arrival:330, departure:350, requested_energy:5.519, energy_delivered:0, current_time:0, estimated_departure:350, station_id:CA-489, session_id:2_39_79_380_2018-09-02 10:34:03.357511\n",
      "arrival:372, departure:397, requested_energy:2.257, energy_delivered:0, current_time:0, estimated_departure:397, station_id:CA-305, session_id:2_39_131_30_2018-09-02 14:01:07.075376\n",
      "arrival:373, departure:390, requested_energy:5.979, energy_delivered:0, current_time:0, estimated_departure:390, station_id:CA-311, session_id:2_39_125_21_2018-09-02 14:07:07.126293\n",
      "arrival:376, departure:477, requested_energy:9.241, energy_delivered:0, current_time:0, estimated_departure:477, station_id:CA-327, session_id:2_39_79_379_2018-09-02 14:23:12.939995\n",
      "arrival:376, departure:388, requested_energy:6.656, energy_delivered:0, current_time:0, estimated_departure:388, station_id:CA-306, session_id:2_39_130_31_2018-09-02 14:20:22.840183\n",
      "arrival:392, departure:409, requested_energy:2.743, energy_delivered:0, current_time:0, estimated_departure:409, station_id:CA-309, session_id:2_39_127_19_2018-09-02 15:41:14.382284\n"
     ]
    }
   ],
   "source": [
    "sessions = enforce_pilot_limit(sessions, infrastructure)\n",
    "for session in sessions:\n",
    "    print(f'arrival:{session.arrival}, departure:{session.departure}, requested_energy:{session.requested_energy}, energy_delivered:{session.energy_delivered}, current_time:{session.current_time}, estimated_departure:{session.estimated_departure}, station_id:{session.station_id}, session_id:{session.session_id}')"
   ]
  },
  {
   "attachments": {},
   "cell_type": "markdown",
   "metadata": {},
   "source": [
    "### Objective functions"
   ]
  },
  {
   "cell_type": "code",
   "execution_count": 16,
   "metadata": {},
   "outputs": [],
   "source": [
    "objectives = [\n",
    "    ObjectiveComponent(quick_charge),\n",
    "    ObjectiveComponent(equal_share, 1e-12)\n",
    "]"
   ]
  },
  {
   "cell_type": "code",
   "execution_count": 16,
   "metadata": {},
   "outputs": [],
   "source": [
    "# Objective for offline algorithm\n",
    "# Maximum energy that could be delivered\n",
    "# perfect foreknowledge of future arrivals required\n",
    "optimal_obj = [ObjectiveComponent(total_energy)]"
   ]
  },
  {
   "attachments": {},
   "cell_type": "markdown",
   "metadata": {},
   "source": [
    "### Necessary utility functions"
   ]
  },
  {
   "cell_type": "code",
   "execution_count": 17,
   "metadata": {},
   "outputs": [],
   "source": [
    "# Charging rate bounds\n",
    "def charging_rate_bounds(\n",
    "        rates: cp.Variable, active_sessions: List[SessionInfo], evse_index: List[str]\n",
    "    ):\n",
    "        \"\"\"Get upper and lower bound constraints for each charging rate.\n",
    "\n",
    "        Args:\n",
    "            rates (cp.Variable): cvxpy variable representing all charging rates. Shape should be (N, T) where N is the\n",
    "                total number of EVSEs in the system and T is the length of the optimization horizon.\n",
    "            active_sessions (List[SessionInfo]): List of SessionInfo objects for all active charging sessions.\n",
    "            evse_index (List[str]): List of IDs for all EVSEs. Index in evse_index represents the row number of that\n",
    "                EVSE in rates.\n",
    "\n",
    "        Returns:\n",
    "            List[cp.Constraint]: List of lower bound constraint, upper bound constraint.\n",
    "        \"\"\"\n",
    "        lb, ub = np.zeros(rates.shape), np.zeros(rates.shape)\n",
    "        for session in active_sessions:\n",
    "            i = evse_index.index(session.station_id)\n",
    "            lb[\n",
    "                i,\n",
    "                session.arrival_offset : session.arrival_offset\n",
    "                + session.remaining_time,\n",
    "            ] = session.min_rates\n",
    "            ub[\n",
    "                i,\n",
    "                session.arrival_offset : session.arrival_offset\n",
    "                + session.remaining_time,\n",
    "            ] = session.max_rates\n",
    "        # To ensure feasibility, replace upper bound with lower bound when they conflict\n",
    "        ub[ub < lb] = lb[ub < lb]\n",
    "        return {\n",
    "            \"charging_rate_bounds.lb\": rates >= lb,\n",
    "            \"charging_rate_bounds.ub\": rates <= ub,\n",
    "        }\n",
    "\n",
    "\n",
    "# Energy constraints\n",
    "def energy_constraints(\n",
    "        rates: cp.Variable,\n",
    "        active_sessions: List[SessionInfo],\n",
    "        infrastructure: InfrastructureInfo,\n",
    "        period,\n",
    "        enforce_energy_equality=False,\n",
    "    ):\n",
    "        \"\"\"Get constraints on the energy delivered for each session.\n",
    "\n",
    "        Args:\n",
    "            rates (cp.Variable): cvxpy variable representing all charging rates. Shape should be (N, T) where N is the\n",
    "                total number of EVSEs in the system and T is the length of the optimization horizon.\n",
    "            active_sessions (List[SessionInfo]): List of SessionInfo objects for all active charging sessions.\n",
    "            infrastructure (InfrastructureInfo): InfrastructureInfo object describing the electrical infrastructure at\n",
    "                a site.\n",
    "            period (int): Length of each discrete time period. (min)\n",
    "            enforce_energy_equality (bool): If True, energy delivered must be equal to energy requested for each EV.\n",
    "                If False, energy delivered must be less than or equal to request.\n",
    "\n",
    "        Returns:\n",
    "            List[cp.Constraint]: List of energy delivered constraints for each session.\n",
    "        \"\"\"\n",
    "        constraints = {}\n",
    "        for session in active_sessions:\n",
    "            i = infrastructure.get_station_index(session.station_id)\n",
    "            planned_energy = cp.sum(\n",
    "                rates[\n",
    "                    i,\n",
    "                    session.arrival_offset : session.arrival_offset\n",
    "                    + session.remaining_time,\n",
    "                ]\n",
    "            )\n",
    "            planned_energy *= infrastructure.voltages[i] * period / 1e3 / 60\n",
    "            constraint_name = f\"energy_constraints.{session.session_id}\"\n",
    "            if enforce_energy_equality:\n",
    "                constraints[constraint_name] = (\n",
    "                    planned_energy == session.remaining_demand\n",
    "                )\n",
    "            else:\n",
    "                constraints[constraint_name] = (\n",
    "                    planned_energy <= session.remaining_demand\n",
    "                )\n",
    "        return constraints\n",
    "\n",
    "\n",
    "# Infrastructure constraints\n",
    "def infrastructure_constraints(\n",
    "        rates: cp.Variable, infrastructure: InfrastructureInfo, constraint_type=\"SOC\"\n",
    "    ):\n",
    "        \"\"\"Get constraints enforcing infrastructure limits.\n",
    "\n",
    "        Args:\n",
    "            rates (cp.Variable): cvxpy variable representing all charging rates. Shape should be (N, T) where N is the\n",
    "                total number of EVSEs in the system and T is the length of the optimization horizon.\n",
    "            infrastructure (InfrastructureInfo): InfrastructureInfo object describing the electrical infrastructure at\n",
    "                a site.\n",
    "            constraint_type (str): String representing which constraint type to use. Options are 'SOC' for Second Order\n",
    "                Cone or 'LINEAR' for linearized constraints.\n",
    "\n",
    "        Returns:\n",
    "            List[cp.Constraint]: List of constraints, one for each bottleneck in the electrical infrastructure.\n",
    "        \"\"\"\n",
    "        # If constraint_matrix is empty, no need to add infrastructure\n",
    "        # constraints.\n",
    "        if (\n",
    "            infrastructure.constraint_matrix is None\n",
    "            or infrastructure.constraint_matrix.shape == (0, 0)\n",
    "        ):\n",
    "            return {}\n",
    "        constraints = {}\n",
    "        if constraint_type == \"SOC\":\n",
    "            if infrastructure.phases is None:\n",
    "                raise ValueError(\n",
    "                    \"phases is required when using SOC infrastructure constraints.\"\n",
    "                )\n",
    "            phase_in_rad = np.deg2rad(infrastructure.phases)\n",
    "            for j, v in enumerate(infrastructure.constraint_matrix):\n",
    "                a = np.stack([v * np.cos(phase_in_rad), v * np.sin(phase_in_rad)])\n",
    "                constraint_name = (\n",
    "                    f\"infrastructure_constraints.\" f\"{infrastructure.constraint_ids[j]}\"\n",
    "                )\n",
    "                constraints[constraint_name] = (\n",
    "                    cp.norm(a @ rates, axis=0) <= infrastructure.constraint_limits[j]\n",
    "                )\n",
    "        elif constraint_type == \"LINEAR\":\n",
    "            for j, v in enumerate(infrastructure.constraint_matrix):\n",
    "                constraint_name = (\n",
    "                    f\"infrastructure_constraints.{infrastructure.constraint_ids[j]}\"\n",
    "                )\n",
    "                constraints[constraint_name] = (\n",
    "                    np.abs(v) @ rates <= infrastructure.constraint_limits[j]\n",
    "                )\n",
    "        else:\n",
    "            raise ValueError(\n",
    "                \"Invalid infrastructure constraint type: {0}. Valid options are SOC or AFFINE.\".format(\n",
    "                    constraint_type\n",
    "                )\n",
    "            )\n",
    "        return constraints\n",
    "\n",
    "# Peak constratint \n",
    "def peak_constraint(\n",
    "        rates: cp.Variable, peak_limit: Union[float, List[float], np.ndarray]\n",
    "    ):\n",
    "        \"\"\"Get constraints enforcing infrastructure limits.\n",
    "\n",
    "        Args:\n",
    "            rates (cp.Variable): cvxpy variable representing all charging rates. Shape should be (N, T) where N is the\n",
    "                total number of EVSEs in the system and T is the length of the optimization horizon.\n",
    "            peak_limit (Union[float, List[float], np.ndarray]): Limit on aggregate peak current. If None, no limit is\n",
    "                enforced.\n",
    "\n",
    "        Returns:\n",
    "            List[cp.Constraint]: List of constraints, one for each bottleneck in the electrical infrastructure.\n",
    "        \"\"\"\n",
    "        if peak_limit is not None:\n",
    "            return {\"peak_constraint\": cp.sum(rates, axis=0) <= peak_limit}\n",
    "        return {}\n",
    "\n",
    "\n",
    "def project_into_continuous_feasible_pilots(\n",
    "    rates: np.ndarray, infrastructure: InfrastructureInfo\n",
    "):\n",
    "    \"\"\"Round all values in rates such that they are less than the max_pilot of the corresponding EVSE and greater than\n",
    "            or equal to 0.\n",
    "\n",
    "    Args:\n",
    "        rates (np.ndarray): Schedule of charging rates.\n",
    "        infrastructure (InfrastructureInfo): Description of the charging infrastructure.\n",
    "\n",
    "    Returns:\n",
    "        np.ndarray: Rounded schedule of charging rates.\n",
    "    \"\"\"\n",
    "    new_rates = deepcopy(rates)\n",
    "    for i in range(infrastructure.num_stations):\n",
    "        new_rates[i] = np.minimum(rates[i], infrastructure.max_pilot[i])\n",
    "    new_rates = np.maximum(new_rates, 0)\n",
    "    return new_rates"
   ]
  },
  {
   "attachments": {},
   "cell_type": "markdown",
   "metadata": {},
   "source": [
    "### Solving Optimization Problem"
   ]
  },
  {
   "cell_type": "code",
   "execution_count": 18,
   "metadata": {},
   "outputs": [],
   "source": [
    "interface = Interface\n",
    "\n",
    "def build_objective(\n",
    "        rates: cp.Variable, infrastructure: InfrastructureInfo, **kwargs\n",
    "    ):\n",
    "        def _merge_dicts(*args):\n",
    "            \"\"\" Merge two dictionaries where d2 override d1 when there is a conflict. \"\"\"\n",
    "            merged = dict()\n",
    "            for d in args:\n",
    "                merged.update(d)\n",
    "            return merged\n",
    "\n",
    "        obj = cp.Constant(0)\n",
    "        for component in optimal_obj:\n",
    "            obj += component.coefficient * component.function(\n",
    "                rates,\n",
    "                infrastructure,\n",
    "                interface,\n",
    "                **_merge_dicts(kwargs, component.kwargs),\n",
    "            )\n",
    "        return obj"
   ]
  },
  {
   "cell_type": "code",
   "execution_count": 19,
   "metadata": {},
   "outputs": [],
   "source": [
    "def build_problem(\n",
    "        active_sessions: List[SessionInfo],\n",
    "        infrastructure: InfrastructureInfo,\n",
    "        peak_limit: Optional[Union[float, List[float], np.ndarray]] = None,\n",
    "        prev_peak: float = 0,\n",
    "    ):\n",
    "        \"\"\"Build parts of the optimization problem including variables, constraints, and objective function.\n",
    "\n",
    "        Args:\n",
    "            active_sessions (List[SessionInfo]): List of SessionInfo objects for all active charging sessions.\n",
    "            infrastructure (InfrastructureInfo): InfrastructureInfo object describing the electrical infrastructure at\n",
    "                a site.\n",
    "            peak_limit (Union[float, List[float], np.ndarray]): Limit on aggregate peak current. If None, no limit is\n",
    "                enforced.\n",
    "            prev_peak (float): Previous peak current draw during the current billing period.\n",
    "\n",
    "        Returns:\n",
    "            Dict[str: object]:\n",
    "                'objective' : cvxpy expression for the objective of the optimization problem\n",
    "                'constraints': list of all constraints for the optimization problem\n",
    "                'variables': dict mapping variable name to cvxpy Variable.\n",
    "        \"\"\"\n",
    "        optimization_horizon = max(\n",
    "            s.arrival_offset + s.remaining_time for s in active_sessions\n",
    "        )\n",
    "        num_evses = len(infrastructure.station_ids)\n",
    "        rates = cp.Variable(shape=(num_evses, optimization_horizon))\n",
    "        constraints = {}\n",
    "\n",
    "        # Rate constraints\n",
    "        constraints.update(\n",
    "            charging_rate_bounds(\n",
    "                rates, active_sessions, infrastructure.station_ids\n",
    "            )\n",
    "        )\n",
    "\n",
    "        # Energy Delivered Constraints\n",
    "        constraints.update(\n",
    "            energy_constraints(\n",
    "                rates,\n",
    "                active_sessions,\n",
    "                infrastructure,\n",
    "                PERIOD,\n",
    "                enforce_energy_equality,\n",
    "            )\n",
    "        )\n",
    "\n",
    "        # Infrastructure Constraints\n",
    "        constraints.update(\n",
    "            infrastructure_constraints(rates, infrastructure, constraint_type)\n",
    "        )\n",
    "\n",
    "        # Peak Limit\n",
    "        constraints.update(peak_constraint(rates, peak_limit))\n",
    "\n",
    "        # Objective Function\n",
    "        objective = cp.Maximize(\n",
    "            build_objective(rates, infrastructure, prev_peak=prev_peak)\n",
    "        )\n",
    "        return {\n",
    "            \"objective\": objective,\n",
    "            \"constraints\": constraints,\n",
    "            \"variables\": {\"rates\": rates},\n",
    "        }"
   ]
  },
  {
   "cell_type": "code",
   "execution_count": null,
   "metadata": {},
   "outputs": [],
   "source": [
    "# problem_dict = build_problem(active_sessions, infrastructure, peak_limit)\n",
    "# print(problem_dict)"
   ]
  },
  {
   "cell_type": "code",
   "execution_count": null,
   "metadata": {},
   "outputs": [],
   "source": [
    "# prob = cp.Problem(\n",
    "#             problem_dict[\"objective\"], list(problem_dict[\"constraints\"].values())\n",
    "#         )\n",
    "# rates_matrix = prob.solve(solver=cp.MOSEK, verbose=VERBOSE)\n",
    "# # rates_matrix = project_into_continuous_feasible_pilots(rates_matrix, infrastructure)\n",
    "# # internal_schedule = {\n",
    "# #             station_id: rates_matrix[i, :]\n",
    "# #             for i, station_id in enumerate(infrastructure.station_ids)\n",
    "# #         }\n",
    "# print(rates_matrix)"
   ]
  },
  {
   "cell_type": "code",
   "execution_count": null,
   "metadata": {},
   "outputs": [],
   "source": [
    "# Alternate method\n",
    "# prob = cp.Problem(\n",
    "#             problem_dict[\"objective\"], list(problem_dict[\"constraints\"].values())\n",
    "#         )\n",
    "# prob.solve(solver=cp.MOSEK, verbose=VERBOSE)\n",
    "# if prob.status not in [cp.OPTIMAL, cp.OPTIMAL_INACCURATE]:\n",
    "#             raise InfeasibilityException(f\"Solve failed with status {prob.status}\")\n",
    "# else:\n",
    "#     print(problem_dict[\"variables\"][\"rates\"].value)"
   ]
  },
  {
   "cell_type": "code",
   "execution_count": 20,
   "metadata": {},
   "outputs": [
    {
     "name": "stdout",
     "output_type": "stream",
     "text": [
      "arrival_offset:1, remaining_time: 115\n",
      "arrival_offset:2, remaining_time: 144\n",
      "arrival_offset:45, remaining_time: 15\n",
      "arrival_offset:79, remaining_time: 27\n",
      "arrival_offset:81, remaining_time: 62\n",
      "arrival_offset:89, remaining_time: 41\n",
      "arrival_offset:90, remaining_time: 2\n",
      "arrival_offset:90, remaining_time: 93\n",
      "arrival_offset:101, remaining_time: 9\n",
      "arrival_offset:102, remaining_time: 17\n",
      "arrival_offset:104, remaining_time: 60\n",
      "arrival_offset:113, remaining_time: 94\n",
      "arrival_offset:115, remaining_time: 20\n",
      "arrival_offset:116, remaining_time: 100\n",
      "arrival_offset:119, remaining_time: 1\n",
      "arrival_offset:122, remaining_time: 26\n",
      "arrival_offset:123, remaining_time: 14\n",
      "arrival_offset:124, remaining_time: 12\n",
      "arrival_offset:127, remaining_time: 72\n",
      "arrival_offset:130, remaining_time: 13\n",
      "arrival_offset:130, remaining_time: 48\n",
      "arrival_offset:131, remaining_time: 80\n",
      "arrival_offset:131, remaining_time: 41\n",
      "arrival_offset:138, remaining_time: 25\n",
      "arrival_offset:158, remaining_time: 70\n",
      "arrival_offset:162, remaining_time: 44\n",
      "arrival_offset:162, remaining_time: 69\n",
      "arrival_offset:165, remaining_time: 24\n",
      "arrival_offset:172, remaining_time: 144\n",
      "arrival_offset:173, remaining_time: 9\n",
      "arrival_offset:175, remaining_time: 17\n",
      "arrival_offset:180, remaining_time: 28\n",
      "arrival_offset:181, remaining_time: 56\n",
      "arrival_offset:184, remaining_time: 23\n",
      "arrival_offset:190, remaining_time: 54\n",
      "arrival_offset:199, remaining_time: 51\n",
      "arrival_offset:214, remaining_time: 3\n",
      "arrival_offset:219, remaining_time: 3\n",
      "arrival_offset:219, remaining_time: 6\n",
      "arrival_offset:255, remaining_time: 144\n",
      "arrival_offset:277, remaining_time: 4\n",
      "arrival_offset:278, remaining_time: 140\n",
      "arrival_offset:295, remaining_time: 130\n",
      "arrival_offset:317, remaining_time: 144\n",
      "arrival_offset:330, remaining_time: 20\n",
      "arrival_offset:372, remaining_time: 25\n",
      "arrival_offset:373, remaining_time: 17\n",
      "arrival_offset:376, remaining_time: 101\n",
      "arrival_offset:376, remaining_time: 12\n",
      "arrival_offset:392, remaining_time: 17\n"
     ]
    }
   ],
   "source": [
    "for s in sessions:\n",
    "    print(f'arrival_offset:{s.arrival_offset}, remaining_time: {s.remaining_time}')"
   ]
  },
  {
   "cell_type": "code",
   "execution_count": 21,
   "metadata": {},
   "outputs": [],
   "source": [
    "optimization_horizon = max(\n",
    "            s.arrival_offset + s.remaining_time for s in sessions\n",
    "        )\n",
    "num_evses = len(infrastructure.station_ids)\n",
    "rates = cp.Variable(shape=(num_evses, optimization_horizon))"
   ]
  },
  {
   "cell_type": "code",
   "execution_count": 22,
   "metadata": {},
   "outputs": [
    {
     "name": "stdout",
     "output_type": "stream",
     "text": [
      "(54, 477)\n"
     ]
    }
   ],
   "source": [
    "print(rates.shape)"
   ]
  },
  {
   "cell_type": "code",
   "execution_count": null,
   "metadata": {},
   "outputs": [],
   "source": [
    "# Quick charge objective\n",
    "# Do not run this cell if running offline optimization\n",
    "optimization_horizon = rates.shape[1]\n",
    "c = np.array(\n",
    "        [\n",
    "            (optimization_horizon - t) / optimization_horizon\n",
    "            for t in range(optimization_horizon)\n",
    "        ]\n",
    "    )\n",
    "print(c @ cp.sum(rates, axis=0))"
   ]
  },
  {
   "cell_type": "code",
   "execution_count": 37,
   "metadata": {},
   "outputs": [
    {
     "data": {
      "text/plain": [
       "Expression(CONCAVE, NONPOSITIVE, ())"
      ]
     },
     "execution_count": 37,
     "metadata": {},
     "output_type": "execute_result"
    }
   ],
   "source": [
    "# equal share objective\n",
    "# -cp.sum_squares(rates)"
   ]
  },
  {
   "cell_type": "code",
   "execution_count": 23,
   "metadata": {},
   "outputs": [
    {
     "ename": "TypeError",
     "evalue": "unsupported operand type(s) for /: 'property' and 'int'",
     "output_type": "error",
     "traceback": [
      "\u001b[1;31m---------------------------------------------------------------------------\u001b[0m",
      "\u001b[1;31mTypeError\u001b[0m                                 Traceback (most recent call last)",
      "Cell \u001b[1;32mIn[23], line 30\u001b[0m\n\u001b[0;32m     26\u001b[0m \u001b[39m# Peak Limit\u001b[39;00m\n\u001b[0;32m     27\u001b[0m constraints\u001b[39m.\u001b[39mupdate(peak_constraint(rates, peak_limit))\n\u001b[0;32m     29\u001b[0m objective \u001b[39m=\u001b[39m cp\u001b[39m.\u001b[39mMaximize(\n\u001b[1;32m---> 30\u001b[0m     build_objective(rates, infrastructure, prev_peak\u001b[39m=\u001b[39;49mprev_peak)\n\u001b[0;32m     31\u001b[0m         )\n",
      "Cell \u001b[1;32mIn[18], line 15\u001b[0m, in \u001b[0;36mbuild_objective\u001b[1;34m(rates, infrastructure, **kwargs)\u001b[0m\n\u001b[0;32m     13\u001b[0m obj \u001b[39m=\u001b[39m cp\u001b[39m.\u001b[39mConstant(\u001b[39m0\u001b[39m)\n\u001b[0;32m     14\u001b[0m \u001b[39mfor\u001b[39;00m component \u001b[39min\u001b[39;00m optimal_obj:\n\u001b[1;32m---> 15\u001b[0m     obj \u001b[39m+\u001b[39m\u001b[39m=\u001b[39m component\u001b[39m.\u001b[39mcoefficient \u001b[39m*\u001b[39m component\u001b[39m.\u001b[39mfunction(\n\u001b[0;32m     16\u001b[0m         rates,\n\u001b[0;32m     17\u001b[0m         infrastructure,\n\u001b[0;32m     18\u001b[0m         interface,\n\u001b[0;32m     19\u001b[0m         \u001b[39m*\u001b[39m\u001b[39m*\u001b[39m_merge_dicts(kwargs, component\u001b[39m.\u001b[39mkwargs),\n\u001b[0;32m     20\u001b[0m     )\n\u001b[0;32m     21\u001b[0m \u001b[39mreturn\u001b[39;00m obj\n",
      "File \u001b[1;32mc:\\Users\\s3955218\\Anaconda3\\envs\\acnsim\\lib\\site-packages\\adacharge\\adaptive_charging_optimization.py:384\u001b[0m, in \u001b[0;36mtotal_energy\u001b[1;34m(rates, infrastructure, interface, **kwargs)\u001b[0m\n\u001b[0;32m    383\u001b[0m \u001b[39mdef\u001b[39;00m \u001b[39mtotal_energy\u001b[39m(rates, infrastructure, interface, \u001b[39m*\u001b[39m\u001b[39m*\u001b[39mkwargs):\n\u001b[1;32m--> 384\u001b[0m     \u001b[39mreturn\u001b[39;00m cp\u001b[39m.\u001b[39msum(get_period_energy(rates, infrastructure, interface\u001b[39m.\u001b[39;49mperiod))\n",
      "File \u001b[1;32mc:\\Users\\s3955218\\Anaconda3\\envs\\acnsim\\lib\\site-packages\\adacharge\\adaptive_charging_optimization.py:350\u001b[0m, in \u001b[0;36mget_period_energy\u001b[1;34m(rates, infrastructure, period, **kwargs)\u001b[0m\n\u001b[0;32m    348\u001b[0m \u001b[39m\u001b[39m\u001b[39m\"\"\" Return energy delivered in kWh during each time period and each session. \"\"\"\u001b[39;00m\n\u001b[0;32m    349\u001b[0m power \u001b[39m=\u001b[39m charging_power(rates, infrastructure\u001b[39m=\u001b[39minfrastructure)\n\u001b[1;32m--> 350\u001b[0m period_in_hours \u001b[39m=\u001b[39m period \u001b[39m/\u001b[39;49m \u001b[39m60\u001b[39;49m\n\u001b[0;32m    351\u001b[0m \u001b[39mreturn\u001b[39;00m power \u001b[39m*\u001b[39m period_in_hours\n",
      "\u001b[1;31mTypeError\u001b[0m: unsupported operand type(s) for /: 'property' and 'int'"
     ]
    }
   ],
   "source": [
    "constraints = {}\n",
    "\n",
    "# Rate constraints\n",
    "constraints.update(\n",
    "    charging_rate_bounds(\n",
    "        rates, sessions, infrastructure.station_ids\n",
    "    )\n",
    ")\n",
    "\n",
    "# Energy Delivered Constraints\n",
    "constraints.update(\n",
    "    energy_constraints(\n",
    "        rates,\n",
    "        sessions,\n",
    "        infrastructure,\n",
    "        PERIOD,\n",
    "        enforce_energy_equality,\n",
    "    )\n",
    ")\n",
    "\n",
    "# Infrastructure Constraints\n",
    "constraints.update(\n",
    "    infrastructure_constraints(rates, infrastructure, constraint_type)\n",
    "        )\n",
    "\n",
    "# Peak Limit\n",
    "constraints.update(peak_constraint(rates, peak_limit))\n",
    "\n",
    "objective = cp.Maximize(\n",
    "    build_objective(rates, infrastructure, prev_peak=prev_peak)\n",
    "        )"
   ]
  },
  {
   "cell_type": "code",
   "execution_count": 26,
   "metadata": {},
   "outputs": [
    {
     "name": "stdout",
     "output_type": "stream",
     "text": [
      "dict_values([Inequality(Constant(CONSTANT, ZERO, (54, 477))), Inequality(Variable((54, 477))), Equality(Expression(AFFINE, UNKNOWN, ()), Constant(CONSTANT, NONNEGATIVE, ())), Equality(Expression(AFFINE, UNKNOWN, ()), Constant(CONSTANT, NONNEGATIVE, ())), Equality(Expression(AFFINE, UNKNOWN, ()), Constant(CONSTANT, NONNEGATIVE, ())), Equality(Expression(AFFINE, UNKNOWN, ()), Constant(CONSTANT, NONNEGATIVE, ())), Equality(Expression(AFFINE, UNKNOWN, ()), Constant(CONSTANT, NONNEGATIVE, ())), Equality(Expression(AFFINE, UNKNOWN, ()), Constant(CONSTANT, NONNEGATIVE, ())), Equality(Expression(AFFINE, UNKNOWN, ()), Constant(CONSTANT, NONNEGATIVE, ())), Equality(Expression(AFFINE, UNKNOWN, ()), Constant(CONSTANT, NONNEGATIVE, ())), Equality(Expression(AFFINE, UNKNOWN, ()), Constant(CONSTANT, NONNEGATIVE, ())), Equality(Expression(AFFINE, UNKNOWN, ()), Constant(CONSTANT, NONNEGATIVE, ())), Equality(Expression(AFFINE, UNKNOWN, ()), Constant(CONSTANT, NONNEGATIVE, ())), Equality(Expression(AFFINE, UNKNOWN, ()), Constant(CONSTANT, NONNEGATIVE, ())), Equality(Expression(AFFINE, UNKNOWN, ()), Constant(CONSTANT, NONNEGATIVE, ())), Equality(Expression(AFFINE, UNKNOWN, ()), Constant(CONSTANT, NONNEGATIVE, ())), Equality(Expression(AFFINE, UNKNOWN, ()), Constant(CONSTANT, NONNEGATIVE, ())), Equality(Expression(AFFINE, UNKNOWN, ()), Constant(CONSTANT, NONNEGATIVE, ())), Equality(Expression(AFFINE, UNKNOWN, ()), Constant(CONSTANT, NONNEGATIVE, ())), Equality(Expression(AFFINE, UNKNOWN, ()), Constant(CONSTANT, NONNEGATIVE, ())), Equality(Expression(AFFINE, UNKNOWN, ()), Constant(CONSTANT, NONNEGATIVE, ())), Equality(Expression(AFFINE, UNKNOWN, ()), Constant(CONSTANT, NONNEGATIVE, ())), Equality(Expression(AFFINE, UNKNOWN, ()), Constant(CONSTANT, NONNEGATIVE, ())), Equality(Expression(AFFINE, UNKNOWN, ()), Constant(CONSTANT, NONNEGATIVE, ())), Equality(Expression(AFFINE, UNKNOWN, ()), Constant(CONSTANT, NONNEGATIVE, ())), Equality(Expression(AFFINE, UNKNOWN, ()), Constant(CONSTANT, NONNEGATIVE, ())), Equality(Expression(AFFINE, UNKNOWN, ()), Constant(CONSTANT, NONNEGATIVE, ())), Equality(Expression(AFFINE, UNKNOWN, ()), Constant(CONSTANT, NONNEGATIVE, ())), Equality(Expression(AFFINE, UNKNOWN, ()), Constant(CONSTANT, NONNEGATIVE, ())), Equality(Expression(AFFINE, UNKNOWN, ()), Constant(CONSTANT, NONNEGATIVE, ())), Equality(Expression(AFFINE, UNKNOWN, ()), Constant(CONSTANT, NONNEGATIVE, ())), Equality(Expression(AFFINE, UNKNOWN, ()), Constant(CONSTANT, NONNEGATIVE, ())), Equality(Expression(AFFINE, UNKNOWN, ()), Constant(CONSTANT, NONNEGATIVE, ())), Equality(Expression(AFFINE, UNKNOWN, ()), Constant(CONSTANT, NONNEGATIVE, ())), Equality(Expression(AFFINE, UNKNOWN, ()), Constant(CONSTANT, NONNEGATIVE, ())), Equality(Expression(AFFINE, UNKNOWN, ()), Constant(CONSTANT, NONNEGATIVE, ())), Equality(Expression(AFFINE, UNKNOWN, ()), Constant(CONSTANT, NONNEGATIVE, ())), Equality(Expression(AFFINE, UNKNOWN, ()), Constant(CONSTANT, NONNEGATIVE, ())), Equality(Expression(AFFINE, UNKNOWN, ()), Constant(CONSTANT, NONNEGATIVE, ())), Equality(Expression(AFFINE, UNKNOWN, ()), Constant(CONSTANT, NONNEGATIVE, ())), Equality(Expression(AFFINE, UNKNOWN, ()), Constant(CONSTANT, NONNEGATIVE, ())), Equality(Expression(AFFINE, UNKNOWN, ()), Constant(CONSTANT, NONNEGATIVE, ())), Equality(Expression(AFFINE, UNKNOWN, ()), Constant(CONSTANT, NONNEGATIVE, ())), Equality(Expression(AFFINE, UNKNOWN, ()), Constant(CONSTANT, NONNEGATIVE, ())), Equality(Expression(AFFINE, UNKNOWN, ()), Constant(CONSTANT, NONNEGATIVE, ())), Equality(Expression(AFFINE, UNKNOWN, ()), Constant(CONSTANT, NONNEGATIVE, ())), Equality(Expression(AFFINE, UNKNOWN, ()), Constant(CONSTANT, NONNEGATIVE, ())), Equality(Expression(AFFINE, UNKNOWN, ()), Constant(CONSTANT, NONNEGATIVE, ())), Equality(Expression(AFFINE, UNKNOWN, ()), Constant(CONSTANT, NONNEGATIVE, ())), Equality(Expression(AFFINE, UNKNOWN, ()), Constant(CONSTANT, NONNEGATIVE, ())), Equality(Expression(AFFINE, UNKNOWN, ()), Constant(CONSTANT, NONNEGATIVE, ())), Equality(Expression(AFFINE, UNKNOWN, ()), Constant(CONSTANT, NONNEGATIVE, ())), Inequality(Expression(CONVEX, NONNEGATIVE, (477,))), Inequality(Expression(CONVEX, NONNEGATIVE, (477,))), Inequality(Expression(CONVEX, NONNEGATIVE, (477,))), Inequality(Expression(CONVEX, NONNEGATIVE, (477,))), Inequality(Expression(CONVEX, NONNEGATIVE, (477,))), Inequality(Expression(CONVEX, NONNEGATIVE, (477,))), Inequality(Expression(CONVEX, NONNEGATIVE, (477,))), Inequality(Expression(CONVEX, NONNEGATIVE, (477,)))])\n"
     ]
    }
   ],
   "source": [
    "print(constraints.values())"
   ]
  },
  {
   "cell_type": "code",
   "execution_count": 25,
   "metadata": {},
   "outputs": [
    {
     "name": "stdout",
     "output_type": "stream",
     "text": [
      "473.2833333333333\n"
     ]
    }
   ],
   "source": [
    "total_requested = sum(ev.requested_energy for ev in ev_history.values())\n",
    "print(total_requested)"
   ]
  },
  {
   "cell_type": "code",
   "execution_count": 27,
   "metadata": {},
   "outputs": [
    {
     "name": "stdout",
     "output_type": "stream",
     "text": [
      "{'objective': Maximize(Expression(CONCAVE, UNKNOWN, ())), 'constraints': {'charging_rate_bounds.lb': Inequality(Constant(CONSTANT, ZERO, (54, 477))), 'charging_rate_bounds.ub': Inequality(Variable((54, 477))), 'energy_constraints.2_39_79_381_2018-09-01 07:05:59.297327': Equality(Expression(AFFINE, UNKNOWN, ()), Constant(CONSTANT, NONNEGATIVE, ())), 'energy_constraints.2_39_131_30_2018-09-01 07:10:56.837854': Equality(Expression(AFFINE, UNKNOWN, ()), Constant(CONSTANT, NONNEGATIVE, ())), 'energy_constraints.2_39_78_367_2018-09-01 10:49:04.972619': Equality(Expression(AFFINE, UNKNOWN, ()), Constant(CONSTANT, NONNEGATIVE, ())), 'energy_constraints.2_39_78_365_2018-09-01 13:36:45.223594': Equality(Expression(AFFINE, UNKNOWN, ()), Constant(CONSTANT, NONNEGATIVE, ())), 'energy_constraints.2_39_89_25_2018-09-01 13:47:23.273995': Equality(Expression(AFFINE, UNKNOWN, ()), Constant(CONSTANT, NONNEGATIVE, ())), 'energy_constraints.2_39_95_27_2018-09-01 14:27:19.797274': Equality(Expression(AFFINE, UNKNOWN, ()), Constant(CONSTANT, NONNEGATIVE, ())), 'energy_constraints.2_39_130_31_2018-09-01 14:33:40.470366': Equality(Expression(AFFINE, UNKNOWN, ()), Constant(CONSTANT, NONNEGATIVE, ())), 'energy_constraints.2_39_79_379_2018-09-01 14:34:23.579048': Equality(Expression(AFFINE, UNKNOWN, ()), Constant(CONSTANT, NONNEGATIVE, ())), 'energy_constraints.2_39_139_28_2018-09-01 15:28:41.249325': Equality(Expression(AFFINE, UNKNOWN, ()), Constant(CONSTANT, NONNEGATIVE, ())), 'energy_constraints.2_39_138_29_2018-09-01 15:31:50.661778': Equality(Expression(AFFINE, UNKNOWN, ()), Constant(CONSTANT, NONNEGATIVE, ())), 'energy_constraints.2_39_124_22_2018-09-01 15:43:20.509779': Equality(Expression(AFFINE, UNKNOWN, ()), Constant(CONSTANT, NONNEGATIVE, ())), 'energy_constraints.2_39_91_437_2018-09-01 16:29:35.661527': Equality(Expression(AFFINE, UNKNOWN, ()), Constant(CONSTANT, NONNEGATIVE, ())), 'energy_constraints.2_39_127_19_2018-09-01 16:38:02.246423': Equality(Expression(AFFINE, UNKNOWN, ()), Constant(CONSTANT, NONNEGATIVE, ())), 'energy_constraints.2_39_79_382_2018-09-01 16:40:40.860543': Equality(Expression(AFFINE, UNKNOWN, ()), Constant(CONSTANT, NONNEGATIVE, ())), 'energy_constraints.2_39_138_29_2018-09-01 16:58:40.239820': Equality(Expression(AFFINE, UNKNOWN, ()), Constant(CONSTANT, NONNEGATIVE, ())), 'energy_constraints.2_39_138_29_2018-09-01 17:11:52.582269': Equality(Expression(AFFINE, UNKNOWN, ()), Constant(CONSTANT, NONNEGATIVE, ())), 'energy_constraints.2_39_139_28_2018-09-01 17:15:13.154424': Equality(Expression(AFFINE, UNKNOWN, ()), Constant(CONSTANT, NONNEGATIVE, ())), 'energy_constraints.2_39_78_367_2018-09-01 17:23:34.382055': Equality(Expression(AFFINE, UNKNOWN, ()), Constant(CONSTANT, NONNEGATIVE, ())), 'energy_constraints.2_39_123_23_2018-09-01 17:37:59.006425': Equality(Expression(AFFINE, UNKNOWN, ()), Constant(CONSTANT, NONNEGATIVE, ())), 'energy_constraints.2_39_130_31_2018-09-01 17:54:15.342053': Equality(Expression(AFFINE, UNKNOWN, ()), Constant(CONSTANT, NONNEGATIVE, ())), 'energy_constraints.2_39_79_380_2018-09-01 17:52:51.464612': Equality(Expression(AFFINE, UNKNOWN, ()), Constant(CONSTANT, NONNEGATIVE, ())), 'energy_constraints.2_39_79_378_2018-09-01 17:58:22.306589': Equality(Expression(AFFINE, UNKNOWN, ()), Constant(CONSTANT, NONNEGATIVE, ())), 'energy_constraints.2_39_91_441_2018-09-01 17:55:01.267977': Equality(Expression(AFFINE, UNKNOWN, ()), Constant(CONSTANT, NONNEGATIVE, ())), 'energy_constraints.2_39_126_20_2018-09-01 18:33:41.444917': Equality(Expression(AFFINE, UNKNOWN, ()), Constant(CONSTANT, NONNEGATIVE, ())), 'energy_constraints.2_39_138_29_2018-09-01 20:14:35.350301': Equality(Expression(AFFINE, UNKNOWN, ()), Constant(CONSTANT, NONNEGATIVE, ())), 'energy_constraints.2_39_139_28_2018-09-01 20:32:43.352840': Equality(Expression(AFFINE, UNKNOWN, ()), Constant(CONSTANT, NONNEGATIVE, ())), 'energy_constraints.2_39_78_361_2018-09-01 20:31:05.233460': Equality(Expression(AFFINE, UNKNOWN, ()), Constant(CONSTANT, NONNEGATIVE, ())), 'energy_constraints.2_39_123_557_2018-09-01 20:46:25.431303': Equality(Expression(AFFINE, UNKNOWN, ()), Constant(CONSTANT, NONNEGATIVE, ())), 'energy_constraints.2_39_91_441_2018-09-01 21:21:23.084665': Equality(Expression(AFFINE, UNKNOWN, ()), Constant(CONSTANT, NONNEGATIVE, ())), 'energy_constraints.2_39_128_18_2018-09-01 21:29:46.285983': Equality(Expression(AFFINE, UNKNOWN, ()), Constant(CONSTANT, NONNEGATIVE, ())), 'energy_constraints.2_39_126_20_2018-09-01 21:35:37.260385': Equality(Expression(AFFINE, UNKNOWN, ()), Constant(CONSTANT, NONNEGATIVE, ())), 'energy_constraints.2_39_130_31_2018-09-01 22:01:43.999144': Equality(Expression(AFFINE, UNKNOWN, ()), Constant(CONSTANT, NONNEGATIVE, ())), 'energy_constraints.2_39_127_19_2018-09-01 22:05:27.012120': Equality(Expression(AFFINE, UNKNOWN, ()), Constant(CONSTANT, NONNEGATIVE, ())), 'energy_constraints.2_39_89_25_2018-09-01 22:21:38.928878': Equality(Expression(AFFINE, UNKNOWN, ()), Constant(CONSTANT, NONNEGATIVE, ())), 'energy_constraints.2_39_125_21_2018-09-01 22:53:07.881899': Equality(Expression(AFFINE, UNKNOWN, ()), Constant(CONSTANT, NONNEGATIVE, ())), 'energy_constraints.2_39_123_23_2018-09-01 23:37:22.669166': Equality(Expression(AFFINE, UNKNOWN, ()), Constant(CONSTANT, NONNEGATIVE, ())), 'energy_constraints.2_39_131_30_2018-09-02 00:53:37.976620': Equality(Expression(AFFINE, UNKNOWN, ()), Constant(CONSTANT, NONNEGATIVE, ())), 'energy_constraints.2_39_130_31_2018-09-02 01:18:59.701477': Equality(Expression(AFFINE, UNKNOWN, ()), Constant(CONSTANT, NONNEGATIVE, ())), 'energy_constraints.2_39_79_378_2018-09-02 01:17:02.490680': Equality(Expression(AFFINE, UNKNOWN, ()), Constant(CONSTANT, NONNEGATIVE, ())), 'energy_constraints.2_39_88_24_2018-09-02 04:19:03.429537': Equality(Expression(AFFINE, UNKNOWN, ()), Constant(CONSTANT, NONNEGATIVE, ())), 'energy_constraints.2_39_126_20_2018-09-02 06:06:56.405159': Equality(Expression(AFFINE, UNKNOWN, ()), Constant(CONSTANT, NONNEGATIVE, ())), 'energy_constraints.2_39_95_27_2018-09-02 06:10:32.567500': Equality(Expression(AFFINE, UNKNOWN, ()), Constant(CONSTANT, NONNEGATIVE, ())), 'energy_constraints.2_39_138_29_2018-09-02 07:36:44.167504': Equality(Expression(AFFINE, UNKNOWN, ()), Constant(CONSTANT, NONNEGATIVE, ())), 'energy_constraints.2_39_139_28_2018-09-02 09:27:27.298273': Equality(Expression(AFFINE, UNKNOWN, ()), Constant(CONSTANT, NONNEGATIVE, ())), 'energy_constraints.2_39_79_380_2018-09-02 10:34:03.357511': Equality(Expression(AFFINE, UNKNOWN, ()), Constant(CONSTANT, NONNEGATIVE, ())), 'energy_constraints.2_39_131_30_2018-09-02 14:01:07.075376': Equality(Expression(AFFINE, UNKNOWN, ()), Constant(CONSTANT, NONNEGATIVE, ())), 'energy_constraints.2_39_125_21_2018-09-02 14:07:07.126293': Equality(Expression(AFFINE, UNKNOWN, ()), Constant(CONSTANT, NONNEGATIVE, ())), 'energy_constraints.2_39_79_379_2018-09-02 14:23:12.939995': Equality(Expression(AFFINE, UNKNOWN, ()), Constant(CONSTANT, NONNEGATIVE, ())), 'energy_constraints.2_39_130_31_2018-09-02 14:20:22.840183': Equality(Expression(AFFINE, UNKNOWN, ()), Constant(CONSTANT, NONNEGATIVE, ())), 'energy_constraints.2_39_127_19_2018-09-02 15:41:14.382284': Equality(Expression(AFFINE, UNKNOWN, ()), Constant(CONSTANT, NONNEGATIVE, ())), 'infrastructure_constraints.CC Pod': Inequality(Expression(CONVEX, NONNEGATIVE, (477,))), 'infrastructure_constraints.AV Pod': Inequality(Expression(CONVEX, NONNEGATIVE, (477,))), 'infrastructure_constraints.Secondary A': Inequality(Expression(CONVEX, NONNEGATIVE, (477,))), 'infrastructure_constraints.Secondary B': Inequality(Expression(CONVEX, NONNEGATIVE, (477,))), 'infrastructure_constraints.Secondary C': Inequality(Expression(CONVEX, NONNEGATIVE, (477,))), 'infrastructure_constraints.Primary A': Inequality(Expression(CONVEX, NONNEGATIVE, (477,))), 'infrastructure_constraints.Primary B': Inequality(Expression(CONVEX, NONNEGATIVE, (477,))), 'infrastructure_constraints.Primary C': Inequality(Expression(CONVEX, NONNEGATIVE, (477,)))}, 'variables': {'rates': Variable((54, 477))}}\n"
     ]
    }
   ],
   "source": [
    "problem_dict = build_problem(sessions, infrastructure, peak_limit)\n",
    "print(problem_dict)"
   ]
  },
  {
   "cell_type": "code",
   "execution_count": 28,
   "metadata": {},
   "outputs": [
    {
     "name": "stdout",
     "output_type": "stream",
     "text": [
      "===============================================================================\n",
      "                                     CVXPY                                     \n",
      "                                     v1.3.0                                    \n",
      "===============================================================================\n",
      "(CVXPY) Mar 19 08:33:14 PM: Your problem has 25758 variables, 60 constraints, and 0 parameters.\n",
      "(CVXPY) Mar 19 08:33:14 PM: It is compliant with the following grammars: DCP, DQCP\n",
      "(CVXPY) Mar 19 08:33:14 PM: (If you need to solve this problem multiple times, but with different data, consider using parameters.)\n",
      "(CVXPY) Mar 19 08:33:14 PM: CVXPY will first compile your problem; then, it will invoke a numerical solver to obtain a solution.\n",
      "-------------------------------------------------------------------------------\n",
      "                                  Compilation                                  \n",
      "-------------------------------------------------------------------------------\n",
      "(CVXPY) Mar 19 08:33:14 PM: Compiling problem (target solver=MOSEK).\n",
      "(CVXPY) Mar 19 08:33:14 PM: Reduction chain: FlipObjective -> Dcp2Cone -> CvxAttr2Constr -> ConeMatrixStuffing -> MOSEK\n",
      "(CVXPY) Mar 19 08:33:14 PM: Applying reduction FlipObjective\n",
      "(CVXPY) Mar 19 08:33:14 PM: Applying reduction Dcp2Cone\n",
      "(CVXPY) Mar 19 08:33:14 PM: Applying reduction CvxAttr2Constr\n",
      "(CVXPY) Mar 19 08:33:14 PM: Applying reduction ConeMatrixStuffing\n",
      "(CVXPY) Mar 19 08:33:14 PM: Applying reduction MOSEK\n",
      "(CVXPY) Mar 19 08:33:15 PM: Finished problem compilation (took 5.846e-01 seconds).\n",
      "-------------------------------------------------------------------------------\n",
      "                                Numerical solver                               \n",
      "-------------------------------------------------------------------------------\n",
      "(CVXPY) Mar 19 08:33:15 PM: Invoking solver MOSEK  to obtain a solution.\n",
      "\n",
      "\n",
      "(CVXPY) Mar 19 08:33:15 PM: Problem\n",
      "(CVXPY) Mar 19 08:33:15 PM:   Name                   :                 \n",
      "(CVXPY) Mar 19 08:33:15 PM:   Objective sense        : maximize        \n",
      "(CVXPY) Mar 19 08:33:15 PM:   Type                   : CONIC (conic optimization problem)\n",
      "(CVXPY) Mar 19 08:33:15 PM:   Constraints            : 29575           \n",
      "(CVXPY) Mar 19 08:33:15 PM:   Affine conic cons.     : 0               \n",
      "(CVXPY) Mar 19 08:33:15 PM:   Disjunctive cons.      : 0               \n",
      "(CVXPY) Mar 19 08:33:15 PM:   Cones                  : 3817            \n",
      "(CVXPY) Mar 19 08:33:15 PM:   Scalar variables       : 92590           \n",
      "(CVXPY) Mar 19 08:33:15 PM:   Matrix variables       : 0               \n",
      "(CVXPY) Mar 19 08:33:15 PM:   Integer variables      : 0               \n",
      "(CVXPY) Mar 19 08:33:15 PM: \n",
      "(CVXPY) Mar 19 08:33:15 PM: Optimizer started.\n",
      "(CVXPY) Mar 19 08:33:15 PM: Presolve started.\n",
      "(CVXPY) Mar 19 08:33:15 PM: Linear dependency checker started.\n",
      "(CVXPY) Mar 19 08:33:15 PM: Linear dependency checker terminated.\n",
      "(CVXPY) Mar 19 08:33:15 PM: Eliminator started.\n",
      "(CVXPY) Mar 19 08:33:15 PM: Freed constraints in eliminator : 2412\n",
      "(CVXPY) Mar 19 08:33:15 PM: Eliminator terminated.\n",
      "(CVXPY) Mar 19 08:33:15 PM: Eliminator started.\n",
      "(CVXPY) Mar 19 08:33:15 PM: Freed constraints in eliminator : 0\n",
      "(CVXPY) Mar 19 08:33:15 PM: Eliminator terminated.\n",
      "(CVXPY) Mar 19 08:33:15 PM: Eliminator - tries                  : 2                 time                   : 0.00            \n",
      "(CVXPY) Mar 19 08:33:15 PM: Lin. dep.  - tries                  : 1                 time                   : 0.03            \n",
      "(CVXPY) Mar 19 08:33:15 PM: Lin. dep.  - number                 : 0               \n",
      "(CVXPY) Mar 19 08:33:15 PM: Presolve terminated. Time: 0.33    \n",
      "(CVXPY) Mar 19 08:33:16 PM: Problem\n",
      "(CVXPY) Mar 19 08:33:16 PM:   Name                   :                 \n",
      "(CVXPY) Mar 19 08:33:16 PM:   Objective sense        : maximize        \n",
      "(CVXPY) Mar 19 08:33:16 PM:   Type                   : CONIC (conic optimization problem)\n",
      "(CVXPY) Mar 19 08:33:16 PM:   Constraints            : 29575           \n",
      "(CVXPY) Mar 19 08:33:16 PM:   Affine conic cons.     : 0               \n",
      "(CVXPY) Mar 19 08:33:16 PM:   Disjunctive cons.      : 0               \n",
      "(CVXPY) Mar 19 08:33:16 PM:   Cones                  : 3817            \n",
      "(CVXPY) Mar 19 08:33:16 PM:   Scalar variables       : 92590           \n",
      "(CVXPY) Mar 19 08:33:16 PM:   Matrix variables       : 0               \n",
      "(CVXPY) Mar 19 08:33:16 PM:   Integer variables      : 0               \n",
      "(CVXPY) Mar 19 08:33:16 PM: \n",
      "(CVXPY) Mar 19 08:33:16 PM: Optimizer  - threads                : 4               \n",
      "(CVXPY) Mar 19 08:33:16 PM: Optimizer  - solved problem         : the dual        \n",
      "(CVXPY) Mar 19 08:33:16 PM: Optimizer  - Constraints            : 5051\n",
      "(CVXPY) Mar 19 08:33:16 PM: Optimizer  - Cones                  : 2476\n",
      "(CVXPY) Mar 19 08:33:16 PM: Optimizer  - Scalar variables       : 9896              conic                  : 9840            \n",
      "(CVXPY) Mar 19 08:33:16 PM: Optimizer  - Semi-definite variables: 0                 scalarized             : 0               \n",
      "(CVXPY) Mar 19 08:33:16 PM: Factor     - setup time             : 0.05              dense det. time        : 0.00            \n",
      "(CVXPY) Mar 19 08:33:16 PM: Factor     - ML order time          : 0.01              GP order time          : 0.00            \n",
      "(CVXPY) Mar 19 08:33:16 PM: Factor     - nonzeros before factor : 5.98e+04          after factor           : 6.28e+04        \n",
      "(CVXPY) Mar 19 08:33:16 PM: Factor     - dense dim.             : 2                 flops                  : 9.49e+05        \n",
      "(CVXPY) Mar 19 08:33:16 PM: ITE PFEAS    DFEAS    GFEAS    PRSTATUS   POBJ              DOBJ              MU       TIME  \n",
      "(CVXPY) Mar 19 08:33:16 PM: 0   4.6e+00  2.7e+03  3.7e+05  0.00e+00   -3.675238801e+05  -1.368148041e+03  1.0e+00  0.45  \n",
      "(CVXPY) Mar 19 08:33:16 PM: 1   2.7e+00  1.6e+03  2.8e+05  -9.88e-01  -3.655273174e+05  -1.451436563e+03  5.9e-01  0.52  \n",
      "(CVXPY) Mar 19 08:33:16 PM: 2   1.4e+00  8.4e+02  2.0e+05  -9.74e-01  -3.606400516e+05  -1.655412810e+03  3.1e-01  0.55  \n",
      "(CVXPY) Mar 19 08:33:16 PM: 3   6.8e-01  4.0e+02  1.3e+05  -9.44e-01  -3.498236973e+05  -2.106709384e+03  1.5e-01  0.56  \n",
      "(CVXPY) Mar 19 08:33:16 PM: 4   5.5e-01  3.2e+02  1.2e+05  -9.06e-01  -3.489432702e+05  -2.143679304e+03  1.2e-01  0.58  \n",
      "(CVXPY) Mar 19 08:33:16 PM: 5   1.6e-01  9.4e+01  5.6e+04  -8.74e-01  -2.987138714e+05  -4.240723941e+03  3.5e-02  0.59  \n",
      "(CVXPY) Mar 19 08:33:16 PM: 6   6.4e-02  3.8e+01  2.9e+04  -5.97e-01  -2.552571598e+05  -6.061617766e+03  1.4e-02  0.61  \n",
      "(CVXPY) Mar 19 08:33:16 PM: 7   5.3e-03  3.1e+00  2.7e+03  -3.72e-01  -6.809305557e+04  -1.389453700e+04  1.1e-03  0.64  \n",
      "(CVXPY) Mar 19 08:33:16 PM: 8   4.7e-04  2.8e-01  5.6e+01  7.51e-01   -2.127221705e+04  -1.586789211e+04  1.0e-04  0.66  \n",
      "(CVXPY) Mar 19 08:33:16 PM: 9   1.1e-04  6.4e-02  6.4e+00  9.68e-01   -1.747037387e+04  -1.618461569e+04  2.4e-05  0.67  \n",
      "(CVXPY) Mar 19 08:33:16 PM: 10  5.5e-05  3.2e-02  2.4e+00  9.19e-01   -1.726458924e+04  -1.658814218e+04  1.2e-05  0.69  \n",
      "(CVXPY) Mar 19 08:33:16 PM: 11  1.7e-05  9.8e-03  4.3e-01  8.98e-01   -1.711720522e+04  -1.689816620e+04  3.6e-06  0.72  \n",
      "(CVXPY) Mar 19 08:33:16 PM: 12  7.7e-06  4.5e-03  1.4e-01  8.53e-01   -1.713284297e+04  -1.702393015e+04  1.7e-06  0.73  \n",
      "(CVXPY) Mar 19 08:33:16 PM: 13  3.9e-06  2.3e-03  5.3e-02  8.87e-01   -1.713536213e+04  -1.707751320e+04  8.6e-07  0.75  \n",
      "(CVXPY) Mar 19 08:33:16 PM: 14  2.2e-06  1.3e-03  2.3e-02  9.12e-01   -1.713721693e+04  -1.710390209e+04  4.8e-07  0.77  \n",
      "(CVXPY) Mar 19 08:33:16 PM: 15  1.4e-06  7.9e-04  1.1e-02  9.35e-01   -1.713837500e+04  -1.711767387e+04  2.9e-07  0.78  \n",
      "(CVXPY) Mar 19 08:33:16 PM: 16  7.7e-07  4.5e-04  4.8e-03  9.52e-01   -1.713938602e+04  -1.712748915e+04  1.7e-07  0.80  \n",
      "(CVXPY) Mar 19 08:33:16 PM: 17  4.9e-07  2.9e-04  2.4e-03  9.66e-01   -1.714003616e+04  -1.713243517e+04  1.1e-07  0.81  \n",
      "(CVXPY) Mar 19 08:33:16 PM: 18  3.0e-07  1.8e-04  1.2e-03  9.77e-01   -1.714039787e+04  -1.713566676e+04  6.6e-08  0.83  \n",
      "(CVXPY) Mar 19 08:33:16 PM: 19  1.0e-07  6.1e-05  2.4e-04  9.86e-01   -1.714093486e+04  -1.713930869e+04  2.3e-08  0.84  \n",
      "(CVXPY) Mar 19 08:33:16 PM: 20  4.7e-08  2.7e-05  7.3e-05  9.95e-01   -1.714110697e+04  -1.714037329e+04  1.0e-08  0.86  \n",
      "(CVXPY) Mar 19 08:33:16 PM: 21  1.8e-08  1.0e-05  1.7e-05  9.98e-01   -1.714120565e+04  -1.714092812e+04  3.9e-09  0.88  \n",
      "(CVXPY) Mar 19 08:33:16 PM: 22  1.1e-09  2.3e-07  5.4e-08  9.99e-01   -1.714127062e+04  -1.714126462e+04  8.4e-11  0.89  \n",
      "(CVXPY) Mar 19 08:33:16 PM: 23  6.2e-11  4.2e-10  4.6e-14  1.00e+00   -1.714127237e+04  -1.714127237e+04  1.2e-14  0.92  \n",
      "(CVXPY) Mar 19 08:33:16 PM: Optimizer terminated. Time: 1.02    \n",
      "(CVXPY) Mar 19 08:33:16 PM: \n",
      "(CVXPY) Mar 19 08:33:16 PM: \n",
      "(CVXPY) Mar 19 08:33:16 PM: Interior-point solution summary\n",
      "(CVXPY) Mar 19 08:33:16 PM:   Problem status  : PRIMAL_AND_DUAL_FEASIBLE\n",
      "(CVXPY) Mar 19 08:33:16 PM:   Solution status : OPTIMAL\n",
      "(CVXPY) Mar 19 08:33:16 PM:   Primal.  obj: -1.7141272374e+04   nrm: 6e+01    Viol.  con: 2e-16    var: 3e-16    cones: 4e-12  \n",
      "(CVXPY) Mar 19 08:33:16 PM:   Dual.    obj: -1.7141272374e+04   nrm: 9e+05    Viol.  con: 0e+00    var: 6e-09    cones: 0e+00  \n",
      "-------------------------------------------------------------------------------\n",
      "                                    Summary                                    \n",
      "-------------------------------------------------------------------------------\n",
      "(CVXPY) Mar 19 08:33:16 PM: Problem status: optimal\n",
      "(CVXPY) Mar 19 08:33:16 PM: Optimal value: 1.714e+04\n",
      "(CVXPY) Mar 19 08:33:16 PM: Compilation took 5.846e-01 seconds\n",
      "(CVXPY) Mar 19 08:33:16 PM: Solver (including time spent in interface) took 1.415e+00 seconds\n",
      "[[-0. -0. -0. ... -0. -0. -0.]\n",
      " [-0. -0. -0. ... -0. -0. -0.]\n",
      " [-0. -0. -0. ... -0. -0. -0.]\n",
      " ...\n",
      " [-0. -0. -0. ... -0. -0. -0.]\n",
      " [-0. -0. -0. ... -0. -0. -0.]\n",
      " [-0. -0. -0. ... -0. -0. -0.]]\n"
     ]
    }
   ],
   "source": [
    "# Offline \n",
    "prob = cp.Problem(problem_dict[\"objective\"], list(problem_dict[\"constraints\"].values()))\n",
    "# rates_matrix = prob.solve(solver=cp.MOSEK, verbose=True)\n",
    "prob.solve(solver=cp.MOSEK, verbose=True)\n",
    "rates_matrix = problem_dict[\"variables\"][\"rates\"].value\n",
    "print(rates_matrix)"
   ]
  }
 ],
 "metadata": {
  "kernelspec": {
   "display_name": "acnsim",
   "language": "python",
   "name": "python3"
  },
  "language_info": {
   "codemirror_mode": {
    "name": "ipython",
    "version": 3
   },
   "file_extension": ".py",
   "mimetype": "text/x-python",
   "name": "python",
   "nbconvert_exporter": "python",
   "pygments_lexer": "ipython3",
   "version": "3.9.15"
  },
  "orig_nbformat": 4,
  "vscode": {
   "interpreter": {
    "hash": "1b1ed7d673d5a5a7c8e67165bf582d9cb2e9ceb7d64f5312099cd48ae1058f52"
   }
  }
 },
 "nbformat": 4,
 "nbformat_minor": 2
}
