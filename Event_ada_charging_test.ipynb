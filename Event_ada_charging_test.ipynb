{
 "cells": [
  {
   "cell_type": "code",
   "execution_count": 1,
   "metadata": {},
   "outputs": [],
   "source": [
    "# Necessary imports\n",
    "from datetime import datetime\n",
    "import pytz\n",
    "from copy import deepcopy\n",
    "from matplotlib import pyplot as plt\n",
    "import matplotlib\n",
    "import cvxpy as cp\n",
    "import numpy as np\n",
    "import pandas as pd\n",
    "import seaborn as sns\n",
    "import json\n",
    "import os\n",
    "import sys\n",
    "import random\n",
    "import heapq  # Priority Queue\n",
    "\n",
    "from acnportal import acnsim, algorithms\n",
    "from acnportal.acnsim import analysis\n",
    "from acnportal.acnsim.events.event import PluginEvent\n",
    "from acnportal.acnsim.events.event import UnplugEvent\n",
    "from acnportal.signals.tariffs import TimeOfUseTariff\n",
    "from adacharge import *\n",
    "from acnportal.acnsim.interface import Interface, SessionInfo, InfrastructureInfo"
   ]
  },
  {
   "cell_type": "code",
   "execution_count": 2,
   "metadata": {},
   "outputs": [],
   "source": [
    "# Define common variables for experiment\n",
    "API_KEY = 'DEMO_TOKEN'\n",
    "TIMEZONE = pytz.timezone('America/Los_Angeles')\n",
    "SITE = 'caltech'\n",
    "PERIOD = 5  # minutes\n",
    "VOLTAGE = 208  # volts\n",
    "KW_TO_AMPS = 1000 / 208\n",
    "KWH_TO_AMP_PERIODS = KW_TO_AMPS * (60 / 5)\n",
    "MAX_LEN = 144\n",
    "FORCE_FEASIBLE = True\n",
    "EVENTS_DIR = \"C:\\\\Users\\\\s3955218\\\\repos\\\\acn-ev-simulation\\\\events\"\n",
    "VERBOSE = True"
   ]
  },
  {
   "attachments": {},
   "cell_type": "markdown",
   "metadata": {},
   "source": [
    "### Reading from existing simulation data"
   ]
  },
  {
   "cell_type": "code",
   "execution_count": 3,
   "metadata": {},
   "outputs": [],
   "source": [
    "event_name = \"simevent_1\"\n",
    "event_path = os.path.join(EVENTS_DIR, event_name + '.json')\n",
    "\n",
    "def event_queue(event_path):\n",
    "    if os.path.exists(event_path):\n",
    "        with open(event_path, 'r') as f:\n",
    "            event = acnsim.EventQueue.from_json(f)\n",
    "    return event"
   ]
  },
  {
   "cell_type": "code",
   "execution_count": 4,
   "metadata": {},
   "outputs": [],
   "source": [
    "# width = 1\n",
    "# if events.get_last_timestamp() is not None:\n",
    "#     width = events.get_last_timestamp() + 1\n",
    "# print(width)\n",
    "# print(events.get_last_timestamp())\n",
    "\n",
    "# Experimenting with new width\n",
    "width = 20"
   ]
  },
  {
   "attachments": {},
   "cell_type": "markdown",
   "metadata": {},
   "source": [
    "### Data model for various component\n",
    "- EV\n",
    "- Battery\n",
    "- EVSE"
   ]
  },
  {
   "cell_type": "code",
   "execution_count": 5,
   "metadata": {},
   "outputs": [
    {
     "name": "stdout",
     "output_type": "stream",
     "text": [
      "acnportal.acnsim.models.ev.EV(_arrival=1, _departure=116, _session_id=<str object at 0x000001F1FEF37D50>, _station_id=<str object at 0x000001F1FEF54CF0>, _requested_energy=37.14, _estimated_departure=116, _battery=<acnportal.acnsim.models.battery.Battery object at 0x000001F1FF1716A0>, _energy_delivered=0, _current_charging_rate=0)\n",
      "------------------------------------------\n",
      "acnportal.acnsim.models.battery.Battery(_capacity=37.14, _current_charge=0, _init_charge=0, _max_power=6.656, _current_charging_power=0)\n",
      "------------------------------------------\n",
      "acnportal.acnsim.models.ev.EV(_arrival=2, _departure=146, _session_id=<str object at 0x000001F1FEF37E70>, _station_id=<str object at 0x000001F1FEF54F70>, _requested_energy=5.668, _estimated_departure=146, _battery=<acnportal.acnsim.models.battery.Battery object at 0x000001F1FF175A90>, _energy_delivered=0, _current_charging_rate=0)\n",
      "------------------------------------------\n",
      "acnportal.acnsim.models.battery.Battery(_capacity=5.668, _current_charge=0, _init_charge=0, _max_power=6.656, _current_charging_power=0)\n",
      "------------------------------------------\n",
      "acnportal.acnsim.models.ev.EV(_arrival=45, _departure=60, _session_id=<str object at 0x000001F1FEF37F90>, _station_id=<str object at 0x000001F1FEF57230>, _requested_energy=1.937, _estimated_departure=60, _battery=<acnportal.acnsim.models.battery.Battery object at 0x000001F1FF196550>, _energy_delivered=0, _current_charging_rate=0)\n",
      "------------------------------------------\n",
      "acnportal.acnsim.models.battery.Battery(_capacity=1.937, _current_charge=0, _init_charge=0, _max_power=6.656, _current_charging_power=0)\n",
      "------------------------------------------\n",
      "acnportal.acnsim.models.ev.EV(_arrival=79, _departure=106, _session_id=<str object at 0x000001F1FEF580F0>, _station_id=<str object at 0x000001F1FEF57570>, _requested_energy=13.079, _estimated_departure=106, _battery=<acnportal.acnsim.models.battery.Battery object at 0x000001F1FF1965E0>, _energy_delivered=0, _current_charging_rate=0)\n",
      "------------------------------------------\n",
      "acnportal.acnsim.models.battery.Battery(_capacity=13.079, _current_charge=0, _init_charge=0, _max_power=6.656, _current_charging_power=0)\n",
      "------------------------------------------\n",
      "acnportal.acnsim.models.ev.EV(_arrival=81, _departure=143, _session_id=<str object at 0x000001F1FEF58210>, _station_id=<str object at 0x000001F1FEF578B0>, _requested_energy=13.88, _estimated_departure=143, _battery=<acnportal.acnsim.models.battery.Battery object at 0x000001F1FF196D30>, _energy_delivered=0, _current_charging_rate=0)\n",
      "------------------------------------------\n",
      "acnportal.acnsim.models.battery.Battery(_capacity=13.88, _current_charge=0, _init_charge=0, _max_power=6.656, _current_charging_power=0)\n",
      "------------------------------------------\n"
     ]
    }
   ],
   "source": [
    "events = event_queue(event_path)\n",
    "count = 0\n",
    "for event in iter(events.queue):\n",
    "    if count < 5:\n",
    "        print(event[1].ev)\n",
    "        print(\"------------------------------------------\")\n",
    "        print(event[1].ev._battery)\n",
    "        print(\"------------------------------------------\")\n",
    "        count = count + 1"
   ]
  },
  {
   "attachments": {},
   "cell_type": "markdown",
   "metadata": {},
   "source": [
    "### EV grouping logic"
   ]
  },
  {
   "cell_type": "code",
   "execution_count": null,
   "metadata": {},
   "outputs": [],
   "source": []
  },
  {
   "attachments": {},
   "cell_type": "markdown",
   "metadata": {},
   "source": [
    "### System Model\n",
    "\n",
    "This is a programmatic model for the system. For this simulation we are using Caltech ACN model"
   ]
  },
  {
   "cell_type": "code",
   "execution_count": 6,
   "metadata": {},
   "outputs": [],
   "source": [
    "basic_evse=True\n",
    "caps = 150 # Transformer capacity\n",
    "\n",
    "network = acnsim.sites.caltech_acn(voltage=VOLTAGE,\n",
    "                              transformer_cap=caps,\n",
    "                              basic_evse=basic_evse)\n",
    "\n",
    "# print(cn.constraint_matrix)\n",
    "# pilot_signals = np.zeros((len(network.station_ids), width))\n",
    "# charging_rates = np.zeros((len(network.station_ids), width))\n",
    "\n",
    "# print(charging_rates)\n",
    "# print(pilot_signals)\n",
    "# print(charging_rates.shape)\n",
    "# print(pilot_signals.shape)"
   ]
  },
  {
   "attachments": {},
   "cell_type": "markdown",
   "metadata": {},
   "source": [
    "### Event Data \n",
    "Real-time data or offline data"
   ]
  },
  {
   "cell_type": "code",
   "execution_count": 7,
   "metadata": {},
   "outputs": [],
   "source": [
    "#  Reading a subset of data\n",
    "copy_events = deepcopy(events)\n",
    "processed_event = []  # for next stage processing\n",
    "\n",
    "iteration = 0\n",
    "while iteration < 20:\n",
    "    current_event = copy_events.get_event()\n",
    "    processed_event.append(current_event)\n",
    "    iteration += 1"
   ]
  },
  {
   "attachments": {},
   "cell_type": "markdown",
   "metadata": {},
   "source": [
    "### EV Plugin to System (Model)"
   ]
  },
  {
   "cell_type": "code",
   "execution_count": 9,
   "metadata": {},
   "outputs": [
    {
     "name": "stdout",
     "output_type": "stream",
     "text": [
      "Plugin event...\n",
      "Plugin event...\n",
      "Plugin event...\n",
      "Plugin event...\n",
      "Plugin event...\n",
      "Plugin event...\n",
      "Plugin event...\n",
      "Plugin event...\n",
      "Plugin event...\n",
      "Plugin event...\n",
      "Plugin event...\n",
      "Plugin event...\n",
      "Plugin event...\n",
      "Plugin event...\n",
      "Plugin event...\n",
      "Station CA-304 is occupied with ev 2_39_138_29_2018-09-01 15:31:50.661778.\n",
      "Plugin event...\n",
      "Station CA-304 is occupied with ev 2_39_138_29_2018-09-01 15:31:50.661778.\n",
      "Plugin event...\n",
      "Station CA-303 is occupied with ev 2_39_139_28_2018-09-01 15:28:41.249325.\n",
      "Plugin event...\n",
      "Station CA-494 is occupied with ev 2_39_78_367_2018-09-01 10:49:04.972619.\n",
      "Plugin event...\n",
      "Plugin event...\n",
      "Station CA-306 is occupied with ev 2_39_130_31_2018-09-01 14:33:40.470366.\n",
      "Plugined in EV 15\n"
     ]
    }
   ],
   "source": [
    "# For real time don't run this snippet\n",
    "# event_history = []\n",
    "ev_history = {}\n",
    "\n",
    "count = 0\n",
    "for event in processed_event:\n",
    "    if event.event_type == \"Plugin\":\n",
    "        try:\n",
    "            print(\"Plugin event...\")\n",
    "            network.plugin(event.ev)\n",
    "            ev_history[event.ev.session_id] = event.ev\n",
    "            copy_events.add_event(UnplugEvent(event.ev.departure, current_event.ev))\n",
    "            count += 1\n",
    "        except Exception as e:\n",
    "            print(e)\n",
    "\n",
    "print(f\"Plugined in EV {count}\")"
   ]
  },
  {
   "cell_type": "code",
   "execution_count": 7,
   "metadata": {},
   "outputs": [
    {
     "name": "stdout",
     "output_type": "stream",
     "text": [
      "[]\n"
     ]
    }
   ],
   "source": [
    "# Debugging/Observing some variables\n",
    "print(network.active_evs)\n",
    "# print(network.current_charging_rates)\n",
    "# print(network.constraints_as_df())"
   ]
  },
  {
   "attachments": {},
   "cell_type": "markdown",
   "metadata": {},
   "source": [
    "### Simplifying variables for optimization algorithm"
   ]
  },
  {
   "cell_type": "code",
   "execution_count": 8,
   "metadata": {},
   "outputs": [],
   "source": [
    "# Final simulation setup\n",
    "basic_evse = True\n",
    "estimate_max_rate = False\n",
    "uninterrupted_charging = False\n",
    "quantized = False\n",
    "constraint_type = 'SOC'\n",
    "enforce_energy_equality=False\n",
    "solver='MOSEK',\n",
    "peak_limit = None\n",
    "prev_peak = 0\n",
    "tariff_name = 'sce_tou_ev_4_march_2019'"
   ]
  },
  {
   "cell_type": "code",
   "execution_count": 9,
   "metadata": {},
   "outputs": [],
   "source": [
    "def get_active_sessions(active_evs, current_time):\n",
    "    \"\"\"Return a list of SessionInfo objects describing the currently charging EVs.\n",
    "\n",
    "    Args:\n",
    "        active_evs (List[acnsim.EV]: List of EV objects from acnsim.\n",
    "        current_time (int): Current time of the simulation.\n",
    "\n",
    "    Returns:\n",
    "        List[SessionInfo]: List of currently active charging sessions.\n",
    "    \"\"\"\n",
    "    return [\n",
    "        SessionInfo(\n",
    "            ev.station_id,\n",
    "            ev.session_id,\n",
    "            ev.requested_energy,\n",
    "            ev.energy_delivered,\n",
    "            ev.arrival,\n",
    "            ev.departure,\n",
    "            current_time=current_time,\n",
    "        )\n",
    "        for ev in active_evs\n",
    "    ]"
   ]
  },
  {
   "cell_type": "code",
   "execution_count": 42,
   "metadata": {},
   "outputs": [
    {
     "name": "stdout",
     "output_type": "stream",
     "text": [
      "[<acnportal.acnsim.interface.SessionInfo object at 0x000001D27EC036D0>, <acnportal.acnsim.interface.SessionInfo object at 0x000001D27EC03D90>, <acnportal.acnsim.interface.SessionInfo object at 0x000001D27EC03190>, <acnportal.acnsim.interface.SessionInfo object at 0x000001D27EC03DF0>, <acnportal.acnsim.interface.SessionInfo object at 0x000001D27EC03730>, <acnportal.acnsim.interface.SessionInfo object at 0x000001D27EC03E50>, <acnportal.acnsim.interface.SessionInfo object at 0x000001D27EC03B50>, <acnportal.acnsim.interface.SessionInfo object at 0x000001D27EC037F0>, <acnportal.acnsim.interface.SessionInfo object at 0x000001D27EC03910>, <acnportal.acnsim.interface.SessionInfo object at 0x000001D27EC030D0>, <acnportal.acnsim.interface.SessionInfo object at 0x000001D27EC03940>, <acnportal.acnsim.interface.SessionInfo object at 0x000001D27EC03C40>, <acnportal.acnsim.interface.SessionInfo object at 0x000001D27EC03F40>, <acnportal.acnsim.interface.SessionInfo object at 0x000001D27EC03BB0>, <acnportal.acnsim.interface.SessionInfo object at 0x000001D27EC03790>]\n",
      "15\n"
     ]
    }
   ],
   "source": [
    "# sessions = get_active_sessions(network.active_evs, 0)\n",
    "# print(sessions)\n",
    "# print(len(sessions))"
   ]
  },
  {
   "cell_type": "code",
   "execution_count": 10,
   "metadata": {},
   "outputs": [
    {
     "name": "stdout",
     "output_type": "stream",
     "text": [
      "[32 32 32 32 32 32 32 32 32 32 32 32 32 32 32 32 32 32 32 32 32 32 32 32\n",
      " 32 32 32 32 32 32 32 32 32 32 32 32 32 32 32 32 32 32 32 32 32 32 32 32\n",
      " 32 32 32 32 32 32]\n"
     ]
    }
   ],
   "source": [
    "# System Information object for algorithm\n",
    "\n",
    "station_ids = network.station_ids\n",
    "max_pilot_signals = network.max_pilot_signals\n",
    "min_pilot_signals = network.min_pilot_signals\n",
    "allowable_rates = network.allowable_rates\n",
    "is_continuous = network.is_continuous\n",
    "\n",
    "infrastructure = InfrastructureInfo(\n",
    "                    network.constraint_matrix,\n",
    "                    network.magnitudes,\n",
    "                    network._phase_angles,\n",
    "                    network._voltages,\n",
    "                    network.constraint_index,\n",
    "                    station_ids,\n",
    "                    max_pilot_signals,\n",
    "                    min_pilot_signals,\n",
    "                    allowable_rates,\n",
    "                    is_continuous,\n",
    "                )\n",
    "print(infrastructure.max_pilot)"
   ]
  },
  {
   "cell_type": "code",
   "execution_count": 11,
   "metadata": {},
   "outputs": [],
   "source": [
    "# Preprocessing for the algorithm   \n",
    "def enforce_pilot_limit(\n",
    "    active_sessions: List[SessionInfo], infrastructure: InfrastructureInfo\n",
    ") -> List[SessionInfo]:\n",
    "    \"\"\" Update the max_rates vector for each session to be less than the max\n",
    "        pilot supported by its EVSE.\n",
    "\n",
    "    Args:\n",
    "        active_sessions (List[SessionInfo]): List of SessionInfo objects for\n",
    "            all active charging sessions.\n",
    "        infrastructure (InfrastructureInfo): Description of the charging\n",
    "            infrastructure.\n",
    "\n",
    "    Returns:\n",
    "        List[SessionInfo]: Active sessions with max_rates updated to be at\n",
    "            most the max_pilot of the corresponding EVSE.\n",
    "    \"\"\"\n",
    "    for session in active_sessions:\n",
    "        i = infrastructure.get_station_index(session.station_id)\n",
    "        session.max_rates = np.minimum(session.max_rates, infrastructure.max_pilot[i])\n",
    "    return active_sessions"
   ]
  },
  {
   "cell_type": "code",
   "execution_count": 45,
   "metadata": {},
   "outputs": [],
   "source": [
    "# Enforcing pilot limit for sessions\n",
    "# active_sessions = enforce_pilot_limit(sessions, infrastructure)"
   ]
  },
  {
   "cell_type": "code",
   "execution_count": 12,
   "metadata": {},
   "outputs": [],
   "source": [
    "# Register events for offline solution\n",
    "active_evs = [\n",
    "            deepcopy(event.ev)\n",
    "            for event in processed_event\n",
    "            if event.event_type == \"Plugin\"\n",
    "        ]\n",
    "sessions = get_active_sessions(active_evs, 0)\n",
    "session_ids = set(s.session_id for s in sessions)"
   ]
  },
  {
   "cell_type": "code",
   "execution_count": 20,
   "metadata": {},
   "outputs": [
    {
     "name": "stdout",
     "output_type": "stream",
     "text": [
      "[<acnportal.acnsim.interface.SessionInfo object at 0x000001D977B90670>, <acnportal.acnsim.interface.SessionInfo object at 0x000001D977A05B80>, <acnportal.acnsim.interface.SessionInfo object at 0x000001D97777AD90>, <acnportal.acnsim.interface.SessionInfo object at 0x000001D97777A640>, <acnportal.acnsim.interface.SessionInfo object at 0x000001D97777A6D0>, <acnportal.acnsim.interface.SessionInfo object at 0x000001D977AC3040>, <acnportal.acnsim.interface.SessionInfo object at 0x000001D977AC30D0>, <acnportal.acnsim.interface.SessionInfo object at 0x000001D977AC3280>, <acnportal.acnsim.interface.SessionInfo object at 0x000001D977AC32B0>, <acnportal.acnsim.interface.SessionInfo object at 0x000001D977AC32E0>, <acnportal.acnsim.interface.SessionInfo object at 0x000001D977AC3310>, <acnportal.acnsim.interface.SessionInfo object at 0x000001D977AC3340>, <acnportal.acnsim.interface.SessionInfo object at 0x000001D977AC3370>, <acnportal.acnsim.interface.SessionInfo object at 0x000001D977AC33A0>, <acnportal.acnsim.interface.SessionInfo object at 0x000001D977AC33D0>, <acnportal.acnsim.interface.SessionInfo object at 0x000001D977AC3400>, <acnportal.acnsim.interface.SessionInfo object at 0x000001D977AC3430>, <acnportal.acnsim.interface.SessionInfo object at 0x000001D977AC3460>, <acnportal.acnsim.interface.SessionInfo object at 0x000001D977AC3490>, <acnportal.acnsim.interface.SessionInfo object at 0x000001D977AC34C0>]\n",
      "{'2_39_79_382_2018-09-01 16:40:40.860543', '2_39_78_367_2018-09-01 10:49:04.972619', '2_39_138_29_2018-09-01 15:31:50.661778', '2_39_91_437_2018-09-01 16:29:35.661527', '2_39_139_28_2018-09-01 17:15:13.154424', '2_39_123_23_2018-09-01 17:37:59.006425', '2_39_139_28_2018-09-01 15:28:41.249325', '2_39_124_22_2018-09-01 15:43:20.509779', '2_39_127_19_2018-09-01 16:38:02.246423', '2_39_138_29_2018-09-01 17:11:52.582269', '2_39_130_31_2018-09-01 17:54:15.342053', '2_39_130_31_2018-09-01 14:33:40.470366', '2_39_138_29_2018-09-01 16:58:40.239820', '2_39_95_27_2018-09-01 14:27:19.797274', '2_39_131_30_2018-09-01 07:10:56.837854', '2_39_78_365_2018-09-01 13:36:45.223594', '2_39_89_25_2018-09-01 13:47:23.273995', '2_39_78_367_2018-09-01 17:23:34.382055', '2_39_79_379_2018-09-01 14:34:23.579048', '2_39_79_381_2018-09-01 07:05:59.297327'}\n",
      "20\n"
     ]
    }
   ],
   "source": [
    "print(sessions)\n",
    "print(session_ids)\n",
    "print(len(sessions))"
   ]
  },
  {
   "cell_type": "code",
   "execution_count": 13,
   "metadata": {},
   "outputs": [
    {
     "name": "stdout",
     "output_type": "stream",
     "text": [
      "[<acnportal.acnsim.interface.SessionInfo object at 0x000001F1A3A3EBE0>, <acnportal.acnsim.interface.SessionInfo object at 0x000001F1FF8AC070>, <acnportal.acnsim.interface.SessionInfo object at 0x000001F1FF8AC940>, <acnportal.acnsim.interface.SessionInfo object at 0x000001F1FF8AC0A0>, <acnportal.acnsim.interface.SessionInfo object at 0x000001F1FF8AC220>, <acnportal.acnsim.interface.SessionInfo object at 0x000001F1FFBA5FA0>, <acnportal.acnsim.interface.SessionInfo object at 0x000001F1FFBA5A00>, <acnportal.acnsim.interface.SessionInfo object at 0x000001F1FFBA5EE0>, <acnportal.acnsim.interface.SessionInfo object at 0x000001F1FFBA5E80>, <acnportal.acnsim.interface.SessionInfo object at 0x000001F1FFBA5940>, <acnportal.acnsim.interface.SessionInfo object at 0x000001F1FFBA5BE0>, <acnportal.acnsim.interface.SessionInfo object at 0x000001F1FFBA5AC0>, <acnportal.acnsim.interface.SessionInfo object at 0x000001F1FFBA5AF0>, <acnportal.acnsim.interface.SessionInfo object at 0x000001F1FFBA5CA0>, <acnportal.acnsim.interface.SessionInfo object at 0x000001F1FFBA5B80>, <acnportal.acnsim.interface.SessionInfo object at 0x000001F1FFBA5B50>, <acnportal.acnsim.interface.SessionInfo object at 0x000001F1FFBA5B20>, <acnportal.acnsim.interface.SessionInfo object at 0x000001F1FFBA5BB0>, <acnportal.acnsim.interface.SessionInfo object at 0x000001F1FFBA5D30>, <acnportal.acnsim.interface.SessionInfo object at 0x000001F1FFBA5EB0>]\n"
     ]
    }
   ],
   "source": [
    "sessions = enforce_pilot_limit(sessions, infrastructure)\n",
    "print(sessions)"
   ]
  },
  {
   "attachments": {},
   "cell_type": "markdown",
   "metadata": {},
   "source": [
    "### Objective functions"
   ]
  },
  {
   "cell_type": "code",
   "execution_count": 44,
   "metadata": {},
   "outputs": [],
   "source": [
    "objectives = [\n",
    "    ObjectiveComponent(quick_charge),\n",
    "    ObjectiveComponent(equal_share, 1e-12)\n",
    "]"
   ]
  },
  {
   "attachments": {},
   "cell_type": "markdown",
   "metadata": {},
   "source": [
    "### Necessary utility functions"
   ]
  },
  {
   "cell_type": "code",
   "execution_count": 43,
   "metadata": {},
   "outputs": [],
   "source": [
    "# Charging rate bounds\n",
    "def charging_rate_bounds(\n",
    "        rates: cp.Variable, active_sessions: List[SessionInfo], evse_index: List[str]\n",
    "    ):\n",
    "        \"\"\"Get upper and lower bound constraints for each charging rate.\n",
    "\n",
    "        Args:\n",
    "            rates (cp.Variable): cvxpy variable representing all charging rates. Shape should be (N, T) where N is the\n",
    "                total number of EVSEs in the system and T is the length of the optimization horizon.\n",
    "            active_sessions (List[SessionInfo]): List of SessionInfo objects for all active charging sessions.\n",
    "            evse_index (List[str]): List of IDs for all EVSEs. Index in evse_index represents the row number of that\n",
    "                EVSE in rates.\n",
    "\n",
    "        Returns:\n",
    "            List[cp.Constraint]: List of lower bound constraint, upper bound constraint.\n",
    "        \"\"\"\n",
    "        lb, ub = np.zeros(rates.shape), np.zeros(rates.shape)\n",
    "        for session in active_sessions:\n",
    "            i = evse_index.index(session.station_id)\n",
    "            lb[\n",
    "                i,\n",
    "                session.arrival_offset : session.arrival_offset\n",
    "                + session.remaining_time,\n",
    "            ] = session.min_rates\n",
    "            ub[\n",
    "                i,\n",
    "                session.arrival_offset : session.arrival_offset\n",
    "                + session.remaining_time,\n",
    "            ] = session.max_rates\n",
    "        # To ensure feasibility, replace upper bound with lower bound when they conflict\n",
    "        ub[ub < lb] = lb[ub < lb]\n",
    "        return {\n",
    "            \"charging_rate_bounds.lb\": rates >= lb,\n",
    "            \"charging_rate_bounds.ub\": rates <= ub,\n",
    "        }\n",
    "\n",
    "\n",
    "# Energy constraints\n",
    "def energy_constraints(\n",
    "        rates: cp.Variable,\n",
    "        active_sessions: List[SessionInfo],\n",
    "        infrastructure: InfrastructureInfo,\n",
    "        period,\n",
    "        enforce_energy_equality=False,\n",
    "    ):\n",
    "        \"\"\"Get constraints on the energy delivered for each session.\n",
    "\n",
    "        Args:\n",
    "            rates (cp.Variable): cvxpy variable representing all charging rates. Shape should be (N, T) where N is the\n",
    "                total number of EVSEs in the system and T is the length of the optimization horizon.\n",
    "            active_sessions (List[SessionInfo]): List of SessionInfo objects for all active charging sessions.\n",
    "            infrastructure (InfrastructureInfo): InfrastructureInfo object describing the electrical infrastructure at\n",
    "                a site.\n",
    "            period (int): Length of each discrete time period. (min)\n",
    "            enforce_energy_equality (bool): If True, energy delivered must be equal to energy requested for each EV.\n",
    "                If False, energy delivered must be less than or equal to request.\n",
    "\n",
    "        Returns:\n",
    "            List[cp.Constraint]: List of energy delivered constraints for each session.\n",
    "        \"\"\"\n",
    "        constraints = {}\n",
    "        for session in active_sessions:\n",
    "            i = infrastructure.get_station_index(session.station_id)\n",
    "            planned_energy = cp.sum(\n",
    "                rates[\n",
    "                    i,\n",
    "                    session.arrival_offset : session.arrival_offset\n",
    "                    + session.remaining_time,\n",
    "                ]\n",
    "            )\n",
    "            planned_energy *= infrastructure.voltages[i] * period / 1e3 / 60\n",
    "            constraint_name = f\"energy_constraints.{session.session_id}\"\n",
    "            if enforce_energy_equality:\n",
    "                constraints[constraint_name] = (\n",
    "                    planned_energy == session.remaining_demand\n",
    "                )\n",
    "            else:\n",
    "                constraints[constraint_name] = (\n",
    "                    planned_energy <= session.remaining_demand\n",
    "                )\n",
    "        return constraints\n",
    "\n",
    "\n",
    "# Infrastructure constraints\n",
    "def infrastructure_constraints(\n",
    "        rates: cp.Variable, infrastructure: InfrastructureInfo, constraint_type=\"SOC\"\n",
    "    ):\n",
    "        \"\"\"Get constraints enforcing infrastructure limits.\n",
    "\n",
    "        Args:\n",
    "            rates (cp.Variable): cvxpy variable representing all charging rates. Shape should be (N, T) where N is the\n",
    "                total number of EVSEs in the system and T is the length of the optimization horizon.\n",
    "            infrastructure (InfrastructureInfo): InfrastructureInfo object describing the electrical infrastructure at\n",
    "                a site.\n",
    "            constraint_type (str): String representing which constraint type to use. Options are 'SOC' for Second Order\n",
    "                Cone or 'LINEAR' for linearized constraints.\n",
    "\n",
    "        Returns:\n",
    "            List[cp.Constraint]: List of constraints, one for each bottleneck in the electrical infrastructure.\n",
    "        \"\"\"\n",
    "        # If constraint_matrix is empty, no need to add infrastructure\n",
    "        # constraints.\n",
    "        if (\n",
    "            infrastructure.constraint_matrix is None\n",
    "            or infrastructure.constraint_matrix.shape == (0, 0)\n",
    "        ):\n",
    "            return {}\n",
    "        constraints = {}\n",
    "        if constraint_type == \"SOC\":\n",
    "            if infrastructure.phases is None:\n",
    "                raise ValueError(\n",
    "                    \"phases is required when using SOC infrastructure constraints.\"\n",
    "                )\n",
    "            phase_in_rad = np.deg2rad(infrastructure.phases)\n",
    "            for j, v in enumerate(infrastructure.constraint_matrix):\n",
    "                a = np.stack([v * np.cos(phase_in_rad), v * np.sin(phase_in_rad)])\n",
    "                constraint_name = (\n",
    "                    f\"infrastructure_constraints.\" f\"{infrastructure.constraint_ids[j]}\"\n",
    "                )\n",
    "                constraints[constraint_name] = (\n",
    "                    cp.norm(a @ rates, axis=0) <= infrastructure.constraint_limits[j]\n",
    "                )\n",
    "        elif constraint_type == \"LINEAR\":\n",
    "            for j, v in enumerate(infrastructure.constraint_matrix):\n",
    "                constraint_name = (\n",
    "                    f\"infrastructure_constraints.{infrastructure.constraint_ids[j]}\"\n",
    "                )\n",
    "                constraints[constraint_name] = (\n",
    "                    np.abs(v) @ rates <= infrastructure.constraint_limits[j]\n",
    "                )\n",
    "        else:\n",
    "            raise ValueError(\n",
    "                \"Invalid infrastructure constraint type: {0}. Valid options are SOC or AFFINE.\".format(\n",
    "                    constraint_type\n",
    "                )\n",
    "            )\n",
    "        return constraints\n",
    "\n",
    "# Peak constratint \n",
    "def peak_constraint(\n",
    "        rates: cp.Variable, peak_limit: Union[float, List[float], np.ndarray]\n",
    "    ):\n",
    "        \"\"\"Get constraints enforcing infrastructure limits.\n",
    "\n",
    "        Args:\n",
    "            rates (cp.Variable): cvxpy variable representing all charging rates. Shape should be (N, T) where N is the\n",
    "                total number of EVSEs in the system and T is the length of the optimization horizon.\n",
    "            peak_limit (Union[float, List[float], np.ndarray]): Limit on aggregate peak current. If None, no limit is\n",
    "                enforced.\n",
    "\n",
    "        Returns:\n",
    "            List[cp.Constraint]: List of constraints, one for each bottleneck in the electrical infrastructure.\n",
    "        \"\"\"\n",
    "        if peak_limit is not None:\n",
    "            return {\"peak_constraint\": cp.sum(rates, axis=0) <= peak_limit}\n",
    "        return {}\n",
    "\n",
    "\n",
    "def project_into_continuous_feasible_pilots(\n",
    "    rates: np.ndarray, infrastructure: InfrastructureInfo\n",
    "):\n",
    "    \"\"\"Round all values in rates such that they are less than the max_pilot of the corresponding EVSE and greater than\n",
    "            or equal to 0.\n",
    "\n",
    "    Args:\n",
    "        rates (np.ndarray): Schedule of charging rates.\n",
    "        infrastructure (InfrastructureInfo): Description of the charging infrastructure.\n",
    "\n",
    "    Returns:\n",
    "        np.ndarray: Rounded schedule of charging rates.\n",
    "    \"\"\"\n",
    "    new_rates = deepcopy(rates)\n",
    "    for i in range(infrastructure.num_stations):\n",
    "        new_rates[i] = np.minimum(rates[i], infrastructure.max_pilot[i])\n",
    "    new_rates = np.maximum(new_rates, 0)\n",
    "    return new_rates"
   ]
  },
  {
   "attachments": {},
   "cell_type": "markdown",
   "metadata": {},
   "source": [
    "### Solving Optimization Problem"
   ]
  },
  {
   "cell_type": "code",
   "execution_count": 46,
   "metadata": {},
   "outputs": [],
   "source": [
    "interface = Interface\n",
    "\n",
    "def build_objective(\n",
    "        rates: cp.Variable, infrastructure: InfrastructureInfo, **kwargs\n",
    "    ):\n",
    "        def _merge_dicts(*args):\n",
    "            \"\"\" Merge two dictionaries where d2 override d1 when there is a conflict. \"\"\"\n",
    "            merged = dict()\n",
    "            for d in args:\n",
    "                merged.update(d)\n",
    "            return merged\n",
    "\n",
    "        obj = cp.Constant(0)\n",
    "        for component in objectives:\n",
    "            obj += component.coefficient * component.function(\n",
    "                rates,\n",
    "                infrastructure,\n",
    "                interface,\n",
    "                **_merge_dicts(kwargs, component.kwargs),\n",
    "            )\n",
    "        return obj"
   ]
  },
  {
   "cell_type": "code",
   "execution_count": 52,
   "metadata": {},
   "outputs": [],
   "source": [
    "def build_problem(\n",
    "        active_sessions: List[SessionInfo],\n",
    "        infrastructure: InfrastructureInfo,\n",
    "        peak_limit: Optional[Union[float, List[float], np.ndarray]] = None,\n",
    "        prev_peak: float = 0,\n",
    "    ):\n",
    "        \"\"\"Build parts of the optimization problem including variables, constraints, and objective function.\n",
    "\n",
    "        Args:\n",
    "            active_sessions (List[SessionInfo]): List of SessionInfo objects for all active charging sessions.\n",
    "            infrastructure (InfrastructureInfo): InfrastructureInfo object describing the electrical infrastructure at\n",
    "                a site.\n",
    "            peak_limit (Union[float, List[float], np.ndarray]): Limit on aggregate peak current. If None, no limit is\n",
    "                enforced.\n",
    "            prev_peak (float): Previous peak current draw during the current billing period.\n",
    "\n",
    "        Returns:\n",
    "            Dict[str: object]:\n",
    "                'objective' : cvxpy expression for the objective of the optimization problem\n",
    "                'constraints': list of all constraints for the optimization problem\n",
    "                'variables': dict mapping variable name to cvxpy Variable.\n",
    "        \"\"\"\n",
    "        optimization_horizon = max(\n",
    "            s.arrival_offset + s.remaining_time for s in active_sessions\n",
    "        )\n",
    "        num_evses = len(infrastructure.station_ids)\n",
    "        rates = cp.Variable(shape=(num_evses, optimization_horizon))\n",
    "        constraints = {}\n",
    "\n",
    "        # Rate constraints\n",
    "        constraints.update(\n",
    "            charging_rate_bounds(\n",
    "                rates, active_sessions, infrastructure.station_ids\n",
    "            )\n",
    "        )\n",
    "\n",
    "        # Energy Delivered Constraints\n",
    "        constraints.update(\n",
    "            energy_constraints(\n",
    "                rates,\n",
    "                active_sessions,\n",
    "                infrastructure,\n",
    "                PERIOD,\n",
    "                enforce_energy_equality,\n",
    "            )\n",
    "        )\n",
    "\n",
    "        # Infrastructure Constraints\n",
    "        constraints.update(\n",
    "            infrastructure_constraints(rates, infrastructure, constraint_type)\n",
    "        )\n",
    "\n",
    "        # Peak Limit\n",
    "        constraints.update(peak_constraint(rates, peak_limit))\n",
    "\n",
    "        # Objective Function\n",
    "        objective = cp.Maximize(\n",
    "            build_objective(rates, infrastructure, prev_peak=prev_peak)\n",
    "        )\n",
    "        return {\n",
    "            \"objective\": objective,\n",
    "            \"constraints\": constraints,\n",
    "            \"variables\": {\"rates\": rates},\n",
    "        }"
   ]
  },
  {
   "cell_type": "code",
   "execution_count": null,
   "metadata": {},
   "outputs": [],
   "source": [
    "# problem_dict = build_problem(active_sessions, infrastructure, peak_limit)\n",
    "# print(problem_dict)"
   ]
  },
  {
   "cell_type": "code",
   "execution_count": null,
   "metadata": {},
   "outputs": [],
   "source": [
    "# prob = cp.Problem(\n",
    "#             problem_dict[\"objective\"], list(problem_dict[\"constraints\"].values())\n",
    "#         )\n",
    "# rates_matrix = prob.solve(solver=cp.MOSEK, verbose=VERBOSE)\n",
    "# # rates_matrix = project_into_continuous_feasible_pilots(rates_matrix, infrastructure)\n",
    "# # internal_schedule = {\n",
    "# #             station_id: rates_matrix[i, :]\n",
    "# #             for i, station_id in enumerate(infrastructure.station_ids)\n",
    "# #         }\n",
    "# print(rates_matrix)"
   ]
  },
  {
   "cell_type": "code",
   "execution_count": null,
   "metadata": {},
   "outputs": [],
   "source": [
    "# Alternate method\n",
    "# prob = cp.Problem(\n",
    "#             problem_dict[\"objective\"], list(problem_dict[\"constraints\"].values())\n",
    "#         )\n",
    "# prob.solve(solver=cp.MOSEK, verbose=VERBOSE)\n",
    "# if prob.status not in [cp.OPTIMAL, cp.OPTIMAL_INACCURATE]:\n",
    "#             raise InfeasibilityException(f\"Solve failed with status {prob.status}\")\n",
    "# else:\n",
    "#     print(problem_dict[\"variables\"][\"rates\"].value)"
   ]
  },
  {
   "cell_type": "code",
   "execution_count": 34,
   "metadata": {},
   "outputs": [],
   "source": [
    "optimization_horizon = max(\n",
    "            s.arrival_offset + s.remaining_time for s in sessions\n",
    "        )\n",
    "num_evses = len(infrastructure.station_ids)\n",
    "rates = cp.Variable(shape=(num_evses, optimization_horizon))"
   ]
  },
  {
   "cell_type": "code",
   "execution_count": null,
   "metadata": {},
   "outputs": [],
   "source": [
    "# Quick charge objective\n",
    "# optimization_horizon = rates.shape[1]\n",
    "# c = np.array(\n",
    "#         [\n",
    "#             (optimization_horizon - t) / optimization_horizon\n",
    "#             for t in range(optimization_horizon)\n",
    "#         ]\n",
    "#     )\n",
    "# print(c @ cp.sum(rates, axis=0))"
   ]
  },
  {
   "cell_type": "code",
   "execution_count": 37,
   "metadata": {},
   "outputs": [
    {
     "data": {
      "text/plain": [
       "Expression(CONCAVE, NONPOSITIVE, ())"
      ]
     },
     "execution_count": 37,
     "metadata": {},
     "output_type": "execute_result"
    }
   ],
   "source": [
    "# equal share objective\n",
    "# -cp.sum_squares(rates)"
   ]
  },
  {
   "cell_type": "code",
   "execution_count": 48,
   "metadata": {},
   "outputs": [],
   "source": [
    "constraints = {}\n",
    "\n",
    "# Rate constraints\n",
    "constraints.update(\n",
    "    charging_rate_bounds(\n",
    "        rates, sessions, infrastructure.station_ids\n",
    "    )\n",
    ")\n",
    "\n",
    "# Energy Delivered Constraints\n",
    "constraints.update(\n",
    "    energy_constraints(\n",
    "        rates,\n",
    "        sessions,\n",
    "        infrastructure,\n",
    "        PERIOD,\n",
    "        enforce_energy_equality,\n",
    "    )\n",
    ")\n",
    "\n",
    "# Infrastructure Constraints\n",
    "constraints.update(\n",
    "    infrastructure_constraints(rates, infrastructure, constraint_type)\n",
    "        )\n",
    "\n",
    "# Peak Limit\n",
    "constraints.update(peak_constraint(rates, peak_limit))\n",
    "\n",
    "objective = cp.Maximize(\n",
    "    build_objective(rates, infrastructure, prev_peak=prev_peak)\n",
    "        )"
   ]
  },
  {
   "cell_type": "code",
   "execution_count": 51,
   "metadata": {},
   "outputs": [
    {
     "name": "stdout",
     "output_type": "stream",
     "text": [
      "dict_values([Inequality(Constant(CONSTANT, ZERO, (54, 216))), Inequality(Variable((54, 216))), Inequality(Expression(AFFINE, UNKNOWN, ())), Inequality(Expression(AFFINE, UNKNOWN, ())), Inequality(Expression(AFFINE, UNKNOWN, ())), Inequality(Expression(AFFINE, UNKNOWN, ())), Inequality(Expression(AFFINE, UNKNOWN, ())), Inequality(Expression(AFFINE, UNKNOWN, ())), Inequality(Expression(AFFINE, UNKNOWN, ())), Inequality(Expression(AFFINE, UNKNOWN, ())), Inequality(Expression(AFFINE, UNKNOWN, ())), Inequality(Expression(AFFINE, UNKNOWN, ())), Inequality(Expression(AFFINE, UNKNOWN, ())), Inequality(Expression(AFFINE, UNKNOWN, ())), Inequality(Expression(AFFINE, UNKNOWN, ())), Inequality(Expression(AFFINE, UNKNOWN, ())), Inequality(Expression(AFFINE, UNKNOWN, ())), Inequality(Expression(AFFINE, UNKNOWN, ())), Inequality(Expression(AFFINE, UNKNOWN, ())), Inequality(Expression(AFFINE, UNKNOWN, ())), Inequality(Expression(AFFINE, UNKNOWN, ())), Inequality(Expression(AFFINE, UNKNOWN, ())), Inequality(Expression(CONVEX, NONNEGATIVE, (216,))), Inequality(Expression(CONVEX, NONNEGATIVE, (216,))), Inequality(Expression(CONVEX, NONNEGATIVE, (216,))), Inequality(Expression(CONVEX, NONNEGATIVE, (216,))), Inequality(Expression(CONVEX, NONNEGATIVE, (216,))), Inequality(Expression(CONVEX, NONNEGATIVE, (216,))), Inequality(Expression(CONVEX, NONNEGATIVE, (216,))), Inequality(Expression(CONVEX, NONNEGATIVE, (216,)))])\n"
     ]
    }
   ],
   "source": [
    "print(constraints.values())"
   ]
  },
  {
   "cell_type": "code",
   "execution_count": 53,
   "metadata": {},
   "outputs": [
    {
     "name": "stdout",
     "output_type": "stream",
     "text": [
      "{'objective': Maximize(Expression(CONCAVE, UNKNOWN, ())), 'constraints': {'charging_rate_bounds.lb': Inequality(Constant(CONSTANT, ZERO, (54, 216))), 'charging_rate_bounds.ub': Inequality(Variable((54, 216))), 'energy_constraints.2_39_79_381_2018-09-01 07:05:59.297327': Inequality(Expression(AFFINE, UNKNOWN, ())), 'energy_constraints.2_39_131_30_2018-09-01 07:10:56.837854': Inequality(Expression(AFFINE, UNKNOWN, ())), 'energy_constraints.2_39_78_367_2018-09-01 10:49:04.972619': Inequality(Expression(AFFINE, UNKNOWN, ())), 'energy_constraints.2_39_78_365_2018-09-01 13:36:45.223594': Inequality(Expression(AFFINE, UNKNOWN, ())), 'energy_constraints.2_39_89_25_2018-09-01 13:47:23.273995': Inequality(Expression(AFFINE, UNKNOWN, ())), 'energy_constraints.2_39_95_27_2018-09-01 14:27:19.797274': Inequality(Expression(AFFINE, UNKNOWN, ())), 'energy_constraints.2_39_130_31_2018-09-01 14:33:40.470366': Inequality(Expression(AFFINE, UNKNOWN, ())), 'energy_constraints.2_39_79_379_2018-09-01 14:34:23.579048': Inequality(Expression(AFFINE, UNKNOWN, ())), 'energy_constraints.2_39_139_28_2018-09-01 15:28:41.249325': Inequality(Expression(AFFINE, UNKNOWN, ())), 'energy_constraints.2_39_138_29_2018-09-01 15:31:50.661778': Inequality(Expression(AFFINE, UNKNOWN, ())), 'energy_constraints.2_39_124_22_2018-09-01 15:43:20.509779': Inequality(Expression(AFFINE, UNKNOWN, ())), 'energy_constraints.2_39_91_437_2018-09-01 16:29:35.661527': Inequality(Expression(AFFINE, UNKNOWN, ())), 'energy_constraints.2_39_127_19_2018-09-01 16:38:02.246423': Inequality(Expression(AFFINE, UNKNOWN, ())), 'energy_constraints.2_39_79_382_2018-09-01 16:40:40.860543': Inequality(Expression(AFFINE, UNKNOWN, ())), 'energy_constraints.2_39_138_29_2018-09-01 16:58:40.239820': Inequality(Expression(AFFINE, UNKNOWN, ())), 'energy_constraints.2_39_138_29_2018-09-01 17:11:52.582269': Inequality(Expression(AFFINE, UNKNOWN, ())), 'energy_constraints.2_39_139_28_2018-09-01 17:15:13.154424': Inequality(Expression(AFFINE, UNKNOWN, ())), 'energy_constraints.2_39_78_367_2018-09-01 17:23:34.382055': Inequality(Expression(AFFINE, UNKNOWN, ())), 'energy_constraints.2_39_123_23_2018-09-01 17:37:59.006425': Inequality(Expression(AFFINE, UNKNOWN, ())), 'energy_constraints.2_39_130_31_2018-09-01 17:54:15.342053': Inequality(Expression(AFFINE, UNKNOWN, ())), 'infrastructure_constraints.CC Pod': Inequality(Expression(CONVEX, NONNEGATIVE, (216,))), 'infrastructure_constraints.AV Pod': Inequality(Expression(CONVEX, NONNEGATIVE, (216,))), 'infrastructure_constraints.Secondary A': Inequality(Expression(CONVEX, NONNEGATIVE, (216,))), 'infrastructure_constraints.Secondary B': Inequality(Expression(CONVEX, NONNEGATIVE, (216,))), 'infrastructure_constraints.Secondary C': Inequality(Expression(CONVEX, NONNEGATIVE, (216,))), 'infrastructure_constraints.Primary A': Inequality(Expression(CONVEX, NONNEGATIVE, (216,))), 'infrastructure_constraints.Primary B': Inequality(Expression(CONVEX, NONNEGATIVE, (216,))), 'infrastructure_constraints.Primary C': Inequality(Expression(CONVEX, NONNEGATIVE, (216,)))}, 'variables': {'rates': Variable((54, 216))}}\n"
     ]
    }
   ],
   "source": [
    "problem_dict = build_problem(sessions, infrastructure, peak_limit)\n",
    "print(problem_dict)"
   ]
  },
  {
   "cell_type": "code",
   "execution_count": 54,
   "metadata": {},
   "outputs": [
    {
     "name": "stdout",
     "output_type": "stream",
     "text": [
      "===============================================================================\n",
      "                                     CVXPY                                     \n",
      "                                     v1.3.0                                    \n",
      "===============================================================================\n",
      "(CVXPY) Mar 06 04:44:18 PM: Your problem has 11664 variables, 30 constraints, and 0 parameters.\n",
      "(CVXPY) Mar 06 04:44:18 PM: It is compliant with the following grammars: DCP, DQCP\n",
      "(CVXPY) Mar 06 04:44:18 PM: (If you need to solve this problem multiple times, but with different data, consider using parameters.)\n",
      "(CVXPY) Mar 06 04:44:18 PM: CVXPY will first compile your problem; then, it will invoke a numerical solver to obtain a solution.\n",
      "-------------------------------------------------------------------------------\n",
      "                                  Compilation                                  \n",
      "-------------------------------------------------------------------------------\n",
      "(CVXPY) Mar 06 04:44:18 PM: Compiling problem (target solver=MOSEK).\n",
      "(CVXPY) Mar 06 04:44:18 PM: Reduction chain: FlipObjective -> Dcp2Cone -> CvxAttr2Constr -> ConeMatrixStuffing -> MOSEK\n",
      "(CVXPY) Mar 06 04:44:18 PM: Applying reduction FlipObjective\n",
      "(CVXPY) Mar 06 04:44:18 PM: Applying reduction Dcp2Cone\n",
      "(CVXPY) Mar 06 04:44:18 PM: Applying reduction CvxAttr2Constr\n",
      "(CVXPY) Mar 06 04:44:18 PM: Applying reduction ConeMatrixStuffing\n",
      "(CVXPY) Mar 06 04:44:18 PM: Applying reduction MOSEK\n",
      "(CVXPY) Mar 06 04:44:18 PM: Finished problem compilation (took 3.344e-01 seconds).\n",
      "-------------------------------------------------------------------------------\n",
      "                                Numerical solver                               \n",
      "-------------------------------------------------------------------------------\n",
      "(CVXPY) Mar 06 04:44:18 PM: Invoking solver MOSEK  to obtain a solution.\n",
      "\n",
      "\n",
      "(CVXPY) Mar 06 04:44:18 PM: Problem\n",
      "(CVXPY) Mar 06 04:44:18 PM:   Name                   :                 \n",
      "(CVXPY) Mar 06 04:44:18 PM:   Objective sense        : maximize        \n",
      "(CVXPY) Mar 06 04:44:18 PM:   Type                   : CONIC (conic optimization problem)\n",
      "(CVXPY) Mar 06 04:44:18 PM:   Constraints            : 13393           \n",
      "(CVXPY) Mar 06 04:44:18 PM:   Affine conic cons.     : 0               \n",
      "(CVXPY) Mar 06 04:44:18 PM:   Disjunctive cons.      : 0               \n",
      "(CVXPY) Mar 06 04:44:18 PM:   Cones                  : 1729            \n",
      "(CVXPY) Mar 06 04:44:18 PM:   Scalar variables       : 41926           \n",
      "(CVXPY) Mar 06 04:44:18 PM:   Matrix variables       : 0               \n",
      "(CVXPY) Mar 06 04:44:18 PM:   Integer variables      : 0               \n",
      "(CVXPY) Mar 06 04:44:18 PM: \n",
      "(CVXPY) Mar 06 04:44:18 PM: Optimizer started.\n",
      "(CVXPY) Mar 06 04:44:18 PM: Presolve started.\n",
      "(CVXPY) Mar 06 04:44:18 PM: Linear dependency checker started.\n",
      "(CVXPY) Mar 06 04:44:18 PM: Linear dependency checker terminated.\n",
      "(CVXPY) Mar 06 04:44:18 PM: Eliminator started.\n",
      "(CVXPY) Mar 06 04:44:18 PM: Freed constraints in eliminator : 937\n",
      "(CVXPY) Mar 06 04:44:18 PM: Eliminator terminated.\n",
      "(CVXPY) Mar 06 04:44:18 PM: Eliminator started.\n",
      "(CVXPY) Mar 06 04:44:18 PM: Freed constraints in eliminator : 0\n",
      "(CVXPY) Mar 06 04:44:18 PM: Eliminator terminated.\n",
      "(CVXPY) Mar 06 04:44:18 PM: Eliminator - tries                  : 2                 time                   : 0.00            \n",
      "(CVXPY) Mar 06 04:44:18 PM: Lin. dep.  - tries                  : 1                 time                   : 0.03            \n",
      "(CVXPY) Mar 06 04:44:18 PM: Lin. dep.  - number                 : 0               \n",
      "(CVXPY) Mar 06 04:44:18 PM: Presolve terminated. Time: 0.17    \n",
      "(CVXPY) Mar 06 04:44:18 PM: Problem\n",
      "(CVXPY) Mar 06 04:44:18 PM:   Name                   :                 \n",
      "(CVXPY) Mar 06 04:44:18 PM:   Objective sense        : maximize        \n",
      "(CVXPY) Mar 06 04:44:18 PM:   Type                   : CONIC (conic optimization problem)\n",
      "(CVXPY) Mar 06 04:44:18 PM:   Constraints            : 13393           \n",
      "(CVXPY) Mar 06 04:44:18 PM:   Affine conic cons.     : 0               \n",
      "(CVXPY) Mar 06 04:44:18 PM:   Disjunctive cons.      : 0               \n",
      "(CVXPY) Mar 06 04:44:18 PM:   Cones                  : 1729            \n",
      "(CVXPY) Mar 06 04:44:18 PM:   Scalar variables       : 41926           \n",
      "(CVXPY) Mar 06 04:44:18 PM:   Matrix variables       : 0               \n",
      "(CVXPY) Mar 06 04:44:18 PM:   Integer variables      : 0               \n",
      "(CVXPY) Mar 06 04:44:18 PM: \n",
      "(CVXPY) Mar 06 04:44:18 PM: Optimizer  - threads                : 4               \n",
      "(CVXPY) Mar 06 04:44:18 PM: Optimizer  - solved problem         : the dual        \n",
      "(CVXPY) Mar 06 04:44:18 PM: Optimizer  - Constraints            : 2285\n",
      "(CVXPY) Mar 06 04:44:18 PM: Optimizer  - Cones                  : 1116\n",
      "(CVXPY) Mar 06 04:44:18 PM: Optimizer  - Scalar variables       : 4338              conic                  : 4284            \n",
      "(CVXPY) Mar 06 04:44:18 PM: Optimizer  - Semi-definite variables: 0                 scalarized             : 0               \n",
      "(CVXPY) Mar 06 04:44:18 PM: Factor     - setup time             : 0.03              dense det. time        : 0.00            \n",
      "(CVXPY) Mar 06 04:44:18 PM: Factor     - ML order time          : 0.00              GP order time          : 0.00            \n",
      "(CVXPY) Mar 06 04:44:18 PM: Factor     - nonzeros before factor : 2.53e+04          after factor           : 2.70e+04        \n",
      "(CVXPY) Mar 06 04:44:18 PM: Factor     - dense dim.             : 2                 flops                  : 3.85e+05        \n",
      "(CVXPY) Mar 06 04:44:18 PM: ITE PFEAS    DFEAS    GFEAS    PRSTATUS   POBJ              DOBJ              MU       TIME  \n",
      "(CVXPY) Mar 06 04:44:18 PM: 0   4.6e+00  2.7e+03  2.9e+05  0.00e+00   -2.880341637e+05  0.000000000e+00   1.0e+00  0.25  \n",
      "(CVXPY) Mar 06 04:44:19 PM: 1   2.0e+00  1.2e+03  1.9e+05  -9.94e-01  -2.867694750e+05  -1.611183694e+01  4.4e-01  0.31  \n",
      "(CVXPY) Mar 06 04:44:19 PM: 2   1.3e+00  7.9e+02  1.5e+05  -9.81e-01  -2.850702002e+05  -3.841465622e+01  2.9e-01  0.33  \n",
      "(CVXPY) Mar 06 04:44:19 PM: 3   5.3e-01  3.1e+02  9.5e+04  -9.66e-01  -2.767343481e+05  -1.348811595e+02  1.2e-01  0.34  \n",
      "(CVXPY) Mar 06 04:44:19 PM: 4   2.2e-01  1.3e+02  5.6e+04  -9.01e-01  -2.578098468e+05  -3.457250759e+02  4.8e-02  0.34  \n",
      "(CVXPY) Mar 06 04:44:19 PM: 5   1.4e-01  8.2e+01  4.2e+04  -7.72e-01  -2.425575768e+05  -4.233230345e+02  3.0e-02  0.36  \n",
      "(CVXPY) Mar 06 04:44:19 PM: 6   5.9e-02  3.5e+01  2.2e+04  -6.52e-01  -1.953448420e+05  -9.282021603e+02  1.3e-02  0.36  \n",
      "(CVXPY) Mar 06 04:44:19 PM: 7   2.5e-02  1.5e+01  9.6e+03  -3.20e-01  -1.347641832e+05  -1.399645313e+03  5.5e-03  0.38  \n",
      "(CVXPY) Mar 06 04:44:19 PM: 8   4.9e-03  2.9e+00  1.3e+03  1.09e-01   -4.218166301e+04  -2.112341554e+03  1.1e-03  0.38  \n",
      "(CVXPY) Mar 06 04:44:19 PM: 9   9.8e-04  5.8e-01  1.3e+02  7.21e-01   -1.172579284e+04  -2.692897787e+03  2.1e-04  0.39  \n",
      "(CVXPY) Mar 06 04:44:19 PM: 10  6.0e-04  3.5e-01  6.9e+01  7.61e-01   -1.032362857e+04  -4.130667892e+03  1.3e-04  0.41  \n",
      "(CVXPY) Mar 06 04:44:19 PM: 11  4.4e-04  2.6e-01  4.5e+01  8.18e-01   -9.106010409e+03  -4.356912045e+03  9.7e-05  0.41  \n",
      "(CVXPY) Mar 06 04:44:19 PM: 12  3.0e-04  1.8e-01  2.7e+01  8.25e-01   -8.183143738e+03  -4.765006315e+03  6.6e-05  0.41  \n",
      "(CVXPY) Mar 06 04:44:19 PM: 13  1.9e-04  1.1e-01  1.4e+01  7.87e-01   -7.503837272e+03  -5.197613793e+03  4.2e-05  0.42  \n",
      "(CVXPY) Mar 06 04:44:19 PM: 14  9.0e-05  5.3e-02  5.0e+00  7.76e-01   -6.925096205e+03  -5.728997379e+03  2.0e-05  0.42  \n",
      "(CVXPY) Mar 06 04:44:19 PM: 15  6.0e-05  3.6e-02  2.8e+00  8.34e-01   -6.732547698e+03  -5.895893832e+03  1.3e-05  0.44  \n",
      "(CVXPY) Mar 06 04:44:19 PM: 16  4.5e-05  2.6e-02  1.8e+00  8.74e-01   -6.575688567e+03  -5.951434093e+03  9.8e-06  0.44  \n",
      "(CVXPY) Mar 06 04:44:19 PM: 17  2.3e-05  1.4e-02  7.0e-01  8.55e-01   -6.472740330e+03  -6.133856373e+03  5.1e-06  0.47  \n",
      "(CVXPY) Mar 06 04:44:19 PM: 18  1.6e-05  9.3e-03  4.1e-01  8.85e-01   -6.441789886e+03  -6.204580484e+03  3.5e-06  0.47  \n",
      "(CVXPY) Mar 06 04:44:19 PM: 19  1.1e-05  6.4e-03  2.3e-01  9.00e-01   -6.421865587e+03  -6.256202206e+03  2.4e-06  0.48  \n",
      "(CVXPY) Mar 06 04:44:19 PM: 20  6.9e-06  4.1e-03  1.2e-01  9.14e-01   -6.406673050e+03  -6.299017496e+03  1.5e-06  0.48  \n",
      "(CVXPY) Mar 06 04:44:19 PM: 21  4.0e-06  2.4e-03  5.6e-02  9.30e-01   -6.395792079e+03  -6.331620764e+03  8.8e-07  0.50  \n",
      "(CVXPY) Mar 06 04:44:19 PM: 22  1.7e-06  9.9e-04  1.5e-02  9.47e-01   -6.387068315e+03  -6.359813478e+03  3.7e-07  0.50  \n",
      "(CVXPY) Mar 06 04:44:19 PM: 23  6.0e-07  3.5e-04  3.4e-03  9.68e-01   -6.383233993e+03  -6.373389037e+03  1.3e-07  0.52  \n",
      "(CVXPY) Mar 06 04:44:19 PM: 24  2.8e-07  1.6e-04  1.1e-03  9.81e-01   -6.382233127e+03  -6.377685285e+03  6.0e-08  0.53  \n",
      "(CVXPY) Mar 06 04:44:19 PM: 25  3.3e-08  2.0e-05  4.6e-05  9.93e-01   -6.381487431e+03  -6.380937670e+03  7.3e-09  0.55  \n",
      "(CVXPY) Mar 06 04:44:19 PM: 26  5.1e-09  3.0e-06  2.7e-06  9.99e-01   -6.381411277e+03  -6.381327399e+03  1.1e-09  0.55  \n",
      "(CVXPY) Mar 06 04:44:19 PM: 27  1.3e-11  3.6e-09  1.1e-10  1.00e+00   -6.381398163e+03  -6.381398063e+03  1.3e-12  0.56  \n",
      "(CVXPY) Mar 06 04:44:19 PM: 28  4.0e-14  3.1e-13  5.8e-15  1.00e+00   -6.381398148e+03  -6.381398148e+03  7.5e-17  0.56  \n",
      "(CVXPY) Mar 06 04:44:19 PM: Optimizer terminated. Time: 0.62    \n",
      "(CVXPY) Mar 06 04:44:19 PM: \n",
      "(CVXPY) Mar 06 04:44:19 PM: \n",
      "(CVXPY) Mar 06 04:44:19 PM: Interior-point solution summary\n",
      "(CVXPY) Mar 06 04:44:19 PM:   Problem status  : PRIMAL_AND_DUAL_FEASIBLE\n",
      "(CVXPY) Mar 06 04:44:19 PM:   Solution status : OPTIMAL\n",
      "(CVXPY) Mar 06 04:44:19 PM:   Primal.  obj: -6.3813981478e+03   nrm: 5e+01    Viol.  con: 4e-16    var: 9e-16    cones: 7e-12  \n",
      "(CVXPY) Mar 06 04:44:19 PM:   Dual.    obj: -6.3813981477e+03   nrm: 4e+05    Viol.  con: 0e+00    var: 6e-11    cones: 0e+00  \n",
      "-------------------------------------------------------------------------------\n",
      "                                    Summary                                    \n",
      "-------------------------------------------------------------------------------\n",
      "(CVXPY) Mar 06 04:44:19 PM: Problem status: optimal\n",
      "(CVXPY) Mar 06 04:44:19 PM: Optimal value: 6.381e+03\n",
      "(CVXPY) Mar 06 04:44:19 PM: Compilation took 3.344e-01 seconds\n",
      "(CVXPY) Mar 06 04:44:19 PM: Solver (including time spent in interface) took 8.604e-01 seconds\n",
      "6381.39814775675\n"
     ]
    }
   ],
   "source": [
    "# Offline \n",
    "prob = cp.Problem(problem_dict[\"objective\"], list(problem_dict[\"constraints\"].values()))\n",
    "rates_matrix = prob.solve(solver=cp.MOSEK, verbose=True)\n",
    "print(rates_matrix)"
   ]
  }
 ],
 "metadata": {
  "kernelspec": {
   "display_name": "acnsim",
   "language": "python",
   "name": "python3"
  },
  "language_info": {
   "codemirror_mode": {
    "name": "ipython",
    "version": 3
   },
   "file_extension": ".py",
   "mimetype": "text/x-python",
   "name": "python",
   "nbconvert_exporter": "python",
   "pygments_lexer": "ipython3",
   "version": "3.9.15"
  },
  "orig_nbformat": 4,
  "vscode": {
   "interpreter": {
    "hash": "1b1ed7d673d5a5a7c8e67165bf582d9cb2e9ceb7d64f5312099cd48ae1058f52"
   }
  }
 },
 "nbformat": 4,
 "nbformat_minor": 2
}
