{
 "cells": [
  {
   "cell_type": "code",
   "execution_count": 1,
   "metadata": {},
   "outputs": [],
   "source": [
    "import cvxpy as cp\n",
    "import numpy"
   ]
  },
  {
   "cell_type": "code",
   "execution_count": 2,
   "metadata": {},
   "outputs": [],
   "source": [
    "# Problem data.\n",
    "m = 10\n",
    "n = 5\n",
    "numpy.random.seed(1)\n",
    "A = numpy.random.randn(m, n)\n",
    "b = numpy.random.randn(m)"
   ]
  },
  {
   "cell_type": "code",
   "execution_count": 4,
   "metadata": {},
   "outputs": [
    {
     "name": "stdout",
     "output_type": "stream",
     "text": [
      "[[ 1.62434536 -0.61175641 -0.52817175 -1.07296862  0.86540763]\n",
      " [-2.3015387   1.74481176 -0.7612069   0.3190391  -0.24937038]\n",
      " [ 1.46210794 -2.06014071 -0.3224172  -0.38405435  1.13376944]\n",
      " [-1.09989127 -0.17242821 -0.87785842  0.04221375  0.58281521]\n",
      " [-1.10061918  1.14472371  0.90159072  0.50249434  0.90085595]\n",
      " [-0.68372786 -0.12289023 -0.93576943 -0.26788808  0.53035547]\n",
      " [-0.69166075 -0.39675353 -0.6871727  -0.84520564 -0.67124613]\n",
      " [-0.0126646  -1.11731035  0.2344157   1.65980218  0.74204416]\n",
      " [-0.19183555 -0.88762896 -0.74715829  1.6924546   0.05080775]\n",
      " [-0.63699565  0.19091548  2.10025514  0.12015895  0.61720311]]\n",
      "[ 0.30017032 -0.35224985 -1.1425182  -0.34934272 -0.20889423  0.58662319\n",
      "  0.83898341  0.93110208  0.28558733  0.88514116]\n"
     ]
    }
   ],
   "source": [
    "print(A)\n",
    "print(b)"
   ]
  }
 ],
 "metadata": {
  "kernelspec": {
   "display_name": "acnsim",
   "language": "python",
   "name": "python3"
  },
  "language_info": {
   "codemirror_mode": {
    "name": "ipython",
    "version": 3
   },
   "file_extension": ".py",
   "mimetype": "text/x-python",
   "name": "python",
   "nbconvert_exporter": "python",
   "pygments_lexer": "ipython3",
   "version": "3.9.15"
  },
  "orig_nbformat": 4
 },
 "nbformat": 4,
 "nbformat_minor": 2
}
