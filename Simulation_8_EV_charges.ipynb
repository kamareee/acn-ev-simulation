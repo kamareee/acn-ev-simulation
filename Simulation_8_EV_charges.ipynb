{
 "cells": [
  {
   "cell_type": "code",
   "execution_count": 1,
   "metadata": {},
   "outputs": [],
   "source": [
    "%load_ext autoreload\n",
    "%autoreload 2"
   ]
  },
  {
   "cell_type": "code",
   "execution_count": 2,
   "metadata": {},
   "outputs": [],
   "source": [
    "import acnportal\n",
    "import sklearn\n",
    "\n",
    "from copy import deepcopy\n",
    "import warnings\n",
    "import pytz\n",
    "import numpy as np\n",
    "import pandas as pd\n",
    "import pickle\n",
    "from datetime import datetime\n",
    "from enum import Enum\n",
    "from collections import namedtuple\n",
    "\n",
    "from acnportal import acnsim\n",
    "from acnportal import algorithms\n",
    "from acnportal.acnsim.events import EventQueue\n",
    "from acnportal.signals.tariffs.tou_tariff import TimeOfUseTariff\n",
    "from acnportal.acnsim.events import GaussianMixtureEvents\n",
    "from acnportal.contrib.acnsim import StochasticNetwork\n",
    "from acnportal.acnsim.network import ChargingNetwork\n",
    "from modified_adacharge import modified_adacharge\n",
    "from modified_simulator import modified_simulator"
   ]
  },
  {
   "cell_type": "markdown",
   "metadata": {},
   "source": [
    "#### EV Charging network"
   ]
  },
  {
   "cell_type": "code",
   "execution_count": 3,
   "metadata": {},
   "outputs": [],
   "source": [
    "# This method won't take a evse_per_phase argument\n",
    "def ev_fleet_level_2_network_unbalanced(transformer_cap=30):\n",
    "    \"\"\" Configurable charging network for level-2 EVSEs connected line to line\n",
    "        at 415 V.\n",
    "\n",
    "    Args:\n",
    "        transformer_cap (float): Capacity of the transformer feeding the network\n",
    "          [kW]\n",
    "        evse_per_phase (int): Number of EVSEs on each phase. Total number of\n",
    "          EVSEs will be 3 * evse_per_phase.\n",
    "\n",
    "    Returns:\n",
    "        ChargingNetwork: Configured ChargingNetwork.\n",
    "    \"\"\"\n",
    "    network = StochasticNetwork(early_departure=True)\n",
    "    # network = ChargingNetwork()\n",
    "    voltage = 415\n",
    "    evse_type = 'AeroVironment'\n",
    "    # evse_type = 'ClipperCreek'\n",
    "\n",
    "    # Define the sets of EVSEs in the Caltech ACN.\n",
    "    AB_ids = ['AB-{0}'.format(i) for i in range(2)]\n",
    "    BC_ids = ['BC-{0}'.format(i) for i in range(3)]\n",
    "    CA_ids = ['CA-{0}'.format(i) for i in range(3)]\n",
    "\n",
    "    # print(AB_ids)\n",
    "\n",
    "    # Add Caltech EVSEs\n",
    "    for evse_id in AB_ids:\n",
    "        network.register_evse(acnsim.get_evse_by_type(evse_id, evse_type), voltage, 30)\n",
    "    for evse_id in BC_ids:\n",
    "        network.register_evse(acnsim.get_evse_by_type(evse_id, evse_type), voltage, -90)\n",
    "    for evse_id in CA_ids:\n",
    "        network.register_evse(acnsim.get_evse_by_type(evse_id, evse_type), voltage, 150)\n",
    "\n",
    "    # Add Caltech Constraint Set\n",
    "    AB = acnsim.Current(AB_ids)\n",
    "    BC = acnsim.Current(BC_ids)\n",
    "    CA = acnsim.Current(CA_ids)\n",
    "\n",
    "    # Define intermediate currents\n",
    "    I3a = AB - CA\n",
    "    I3b = BC - AB\n",
    "    I3c = CA - BC\n",
    "    I2a = (1 / 4) * (I3a - I3c)\n",
    "    I2b = (1 / 4) * (I3b - I3a)\n",
    "    I2c = (1 / 4) * (I3c - I3b)\n",
    "\n",
    "    # Build constraint set\n",
    "    primary_side_constr = transformer_cap * 1000 / 3 / 415\n",
    "    print(primary_side_constr)\n",
    "    secondary_side_constr = transformer_cap * 1000 / 3 / 230\n",
    "    print(secondary_side_constr)\n",
    "    network.add_constraint(I3a, secondary_side_constr, name='Secondary A')\n",
    "    network.add_constraint(I3b, secondary_side_constr, name='Secondary B')\n",
    "    network.add_constraint(I3c, secondary_side_constr, name='Secondary C')\n",
    "    network.add_constraint(I2a, primary_side_constr, name='Primary A')\n",
    "    network.add_constraint(I2b, primary_side_constr, name='Primary B')\n",
    "    network.add_constraint(I2c, primary_side_constr, name='Primary C')\n",
    "\n",
    "    return network"
   ]
  },
  {
   "cell_type": "markdown",
   "metadata": {},
   "source": [
    "#### General Simulation setups"
   ]
  },
  {
   "cell_type": "code",
   "execution_count": 4,
   "metadata": {},
   "outputs": [],
   "source": [
    "# How long each time discrete time interval in the simulation should be.\n",
    "PERIOD = 5  # minutes\n",
    "\n",
    "# Voltage of the network.\n",
    "VOLTAGE = 415  # volts\n",
    "\n",
    "# Default maximum charging rate for each EV battery.\n",
    "DEFAULT_BATTERY_POWER = 11 # kW"
   ]
  },
  {
   "cell_type": "code",
   "execution_count": 5,
   "metadata": {},
   "outputs": [
    {
     "name": "stdout",
     "output_type": "stream",
     "text": [
      "24.096385542168676\n",
      "43.47826086956522\n"
     ]
    },
    {
     "data": {
      "text/plain": [
       "array([43.47826087, 43.47826087, 43.47826087, 24.09638554, 24.09638554,\n",
       "       24.09638554])"
      ]
     },
     "execution_count": 5,
     "metadata": {},
     "output_type": "execute_result"
    }
   ],
   "source": [
    "# charging network with evses\n",
    "level2_ev_fleet_network = ev_fleet_level_2_network_unbalanced(transformer_cap=30)\n",
    "level2_ev_fleet_network.magnitudes"
   ]
  },
  {
   "cell_type": "code",
   "execution_count": 6,
   "metadata": {},
   "outputs": [],
   "source": [
    "class CustomUnpicklerJPLdata(pickle.Unpickler):\n",
    "    def find_class(self, module, name):\n",
    "        if name == \"sklearn.mixture.gaussian_mixture\":\n",
    "            return sklearn.mixture.GaussianMixture\n",
    "        if name == \"GaussianMixture\":\n",
    "            return sklearn.mixture.GaussianMixture\n",
    "        return super().find_class(module, name)\n",
    "    \n",
    "def get_synth_events(sessions_per_day):\n",
    "    gmm = CustomUnpicklerJPLdata(open('./data/jpl_weekday_40.pkl', \"rb\")).load()\n",
    "\n",
    "\n",
    "    # Generate a list of the number of sessions to draw for each day.\n",
    "    # This generates 30 days of charging demands.\n",
    "    # num_evs = [0]*2 + [sessions_per_day]*5 + [0]*2 + [sessions_per_day]*5 + [0]*2 + \\\n",
    "    #           [sessions_per_day]*5 + [0]*2 + [sessions_per_day]*5 + [0]*2\n",
    "\n",
    "    # Generate sessions for 1 day (weekdays only)\n",
    "    num_evs = [0]*2 + [sessions_per_day]*1\n",
    "\n",
    "    # Note that because we are drawing from a distribution, some sessions will be\n",
    "    # invalid, we ignore these sessions and remove the corresponding plugin events.\n",
    "    gen = GaussianMixtureEvents(pretrained_model=gmm, duration_min=0.08334)\n",
    "\n",
    "    synth_events = gen.generate_events(num_evs, PERIOD, VOLTAGE, DEFAULT_BATTERY_POWER)\n",
    "    return synth_events"
   ]
  },
  {
   "cell_type": "markdown",
   "metadata": {},
   "source": [
    "#### Generate synthetic events"
   ]
  },
  {
   "cell_type": "code",
   "execution_count": null,
   "metadata": {},
   "outputs": [],
   "source": [
    "# Events with 32 EVs per weekday\n",
    "sessions_30 = get_synth_events(30)"
   ]
  },
  {
   "cell_type": "code",
   "execution_count": 8,
   "metadata": {},
   "outputs": [],
   "source": [
    "# 25 EV sessions per weekday\n",
    "sessions_25 = get_synth_events(25)"
   ]
  },
  {
   "cell_type": "code",
   "execution_count": 7,
   "metadata": {},
   "outputs": [
    {
     "name": "stderr",
     "output_type": "stream",
     "text": [
      "c:\\Users\\s3955218\\Anaconda3\\envs\\evsim\\lib\\site-packages\\sklearn\\base.py:288: UserWarning: Trying to unpickle estimator GaussianMixture from version 0.20.2 when using version 1.2.0. This might lead to breaking code or invalid results. Use at your own risk. For more info please refer to:\n",
      "https://scikit-learn.org/stable/model_persistence.html#security-maintainability-limitations\n",
      "  warnings.warn(\n"
     ]
    }
   ],
   "source": [
    "# 20 EV sessions per weekday\n",
    "sessions_20 = get_synth_events(20)"
   ]
  },
  {
   "cell_type": "code",
   "execution_count": null,
   "metadata": {},
   "outputs": [],
   "source": [
    "# Checking session details\n",
    "session_copy = deepcopy(sessions_20)\n",
    "# print(type(session_copy))\n",
    "session_list = list(session_copy.queue)\n",
    "for session in session_list:\n",
    "    print(session[0], session[1].ev._session_id, session[1].ev.departure, session[1].ev.requested_energy, session[1].event_type)\n"
   ]
  },
  {
   "cell_type": "code",
   "execution_count": 9,
   "metadata": {},
   "outputs": [],
   "source": [
    "def run_experiment(network, algorithm, events):\n",
    "    \"\"\" Run simulation for the events defined previously and the specified\n",
    "        network / algorithm / events.\n",
    "    \"\"\"\n",
    "    # Timezone of the ACN we are using.\n",
    "    # timezone = pytz.timezone('America/Los_Angeles')\n",
    "    # Australian timezone for the experiment\n",
    "    timezone = pytz.timezone('Australia/Melbourne')\n",
    "\n",
    "    # Start and End times are used when collecting data.\n",
    "    # start = timezone.localize(datetime(2019, 6, 1))\n",
    "    # end = timezone.localize(datetime(2019, 7, 1))\n",
    "\n",
    "    start = timezone.localize(datetime(2023, 11, 22))\n",
    "    end = timezone.localize(datetime(2023, 11, 23))\n",
    "\n",
    "    sch = deepcopy(algorithm)\n",
    "    cn = deepcopy(network)\n",
    "    signals = {'tariff': TimeOfUseTariff('sce_tou_ev_4_march_2019')}\n",
    "\n",
    "    # sim = acnsim.Simulator(cn, sch, events, start, period=PERIOD, verbose=False, signals=signals)\n",
    "    sim = modified_simulator.Simulator(cn, sch, events, start, period=PERIOD, verbose=False, signals=signals)\n",
    "    with warnings.catch_warnings():\n",
    "        warnings.simplefilter(\"ignore\")\n",
    "    sim.run()\n",
    "\n",
    "    r = {'proportion_of_energy_delivered': acnsim.proportion_of_energy_delivered(sim),\n",
    "         'energy_delivered': sum(ev.energy_delivered for ev in sim.ev_history.values()),\n",
    "         'num_swaps': cn.swaps,\n",
    "         'num_never_charged': cn.never_charged,\n",
    "         'energy_cost': acnsim.energy_cost(sim),\n",
    "         'demand_charge': acnsim.demand_charge(sim)\n",
    "         }\n",
    "    \n",
    "    # r['total_cost'] = r['energy_cost'] + r['demand_charge'] # original\n",
    "    r['total_cost'] = r['energy_cost'] # modified\n",
    "    r['$/kWh'] = r['total_cost'] / r['energy_delivered']\n",
    "    # return r, sim.charging_rates_as_df()\n",
    "    return r"
   ]
  },
  {
   "cell_type": "code",
   "execution_count": 10,
   "metadata": {},
   "outputs": [],
   "source": [
    "uncontrolled = algorithms.UncontrolledCharging()\n",
    "llf = algorithms.SortedSchedulingAlgo(algorithms.least_laxity_first)\n",
    "rr = algorithms.RoundRobin(algorithms.first_come_first_served, continuous_inc=1)"
   ]
  },
  {
   "cell_type": "code",
   "execution_count": 11,
   "metadata": {},
   "outputs": [],
   "source": [
    "cost_min_obj = [modified_adacharge.ObjectiveComponent(modified_adacharge.total_energy, 1000),\n",
    "                # modified_adacharge.ObjectiveComponent(modified_adacharge.tou_energy_cost),\n",
    "                # modified_adacharge.ObjectiveComponent(modified_adacharge.quick_charge, 1e-6),\n",
    "                modified_adacharge.ObjectiveComponent(modified_adacharge.equal_share, 1e-11)\n",
    "               ]\n",
    "# peak limit: total aggregated current limit \n",
    "# cost_min = adacharge.AdaptiveSchedulingAlgorithm(cost_min_obj, solver=\"MOSEK\", quantize=True, reallocate=True, peak_limit=1000, max_recompute=1)\n",
    "cost_min = modified_adacharge.AdaptiveSchedulingAlgorithm(cost_min_obj, solver=\"MOSEK\", quantize=True, reallocate=False, peak_limit=150, max_recompute=1)"
   ]
  },
  {
   "cell_type": "markdown",
   "metadata": {},
   "source": [
    "#### Run Simulation"
   ]
  },
  {
   "cell_type": "code",
   "execution_count": null,
   "metadata": {},
   "outputs": [],
   "source": [
    "level2_30kW_untrl = run_experiment(level2_ev_fleet_network, uncontrolled, deepcopy(sessions_20))"
   ]
  },
  {
   "cell_type": "code",
   "execution_count": null,
   "metadata": {},
   "outputs": [],
   "source": [
    "level2_30kW_llf = run_experiment(level2_ev_fleet_network, llf, deepcopy(sessions_20))"
   ]
  },
  {
   "cell_type": "code",
   "execution_count": null,
   "metadata": {},
   "outputs": [],
   "source": [
    "level2_30kW_cost_min = run_experiment(level2_ev_fleet_network, cost_min, deepcopy(sessions_20))"
   ]
  },
  {
   "cell_type": "code",
   "execution_count": null,
   "metadata": {},
   "outputs": [],
   "source": [
    "level2_30kW_rr = run_experiment(level2_ev_fleet_network, rr, deepcopy(sessions_20))"
   ]
  },
  {
   "cell_type": "code",
   "execution_count": 17,
   "metadata": {},
   "outputs": [],
   "source": [
    "ev_30 = pd.DataFrame({\n",
    "    'Level 2: Unctrl: 30 kW : 7 EVSEs':  level2_30kW_untrl,\n",
    "    'Level 2: LLF: 30 kW : 7 EVSEs': level2_30kW_llf,\n",
    "    'Level 2: RR: 30 kW : 7 EVSEs': level2_30kW_rr,\n",
    "    'Level 2: Min Cost: 30 kW : 7 EVSEs': level2_30kW_cost_min\n",
    "})"
   ]
  },
  {
   "cell_type": "code",
   "execution_count": null,
   "metadata": {},
   "outputs": [],
   "source": [
    "ev_30"
   ]
  },
  {
   "cell_type": "code",
   "execution_count": 19,
   "metadata": {},
   "outputs": [],
   "source": [
    "ev_20_30 = pd.DataFrame({\n",
    "    'Level 2: Unctrl: 30 kW : 7 EVSEs':  level2_30kW_untrl,\n",
    "    'Level 2: LLF: 30 kW : 7 EVSEs': level2_30kW_llf,\n",
    "    'Level 2: RR: 30 kW : 7 EVSEs': level2_30kW_rr,\n",
    "    'Level 2: Min Cost: 30 kW : 7 EVSEs': level2_30kW_cost_min\n",
    "})"
   ]
  },
  {
   "cell_type": "code",
   "execution_count": null,
   "metadata": {},
   "outputs": [],
   "source": [
    "ev_20_30"
   ]
  },
  {
   "cell_type": "markdown",
   "metadata": {},
   "source": [
    "#### Simulation with 35 KW 7 EVSE system"
   ]
  },
  {
   "cell_type": "code",
   "execution_count": null,
   "metadata": {},
   "outputs": [],
   "source": [
    "# charging network with evses with 35 kW transformer\n",
    "level2_ev_fleet_network_35 = ev_fleet_level_2_network_unbalanced(transformer_cap=35)\n",
    "level2_ev_fleet_network_35.magnitudes"
   ]
  },
  {
   "cell_type": "code",
   "execution_count": null,
   "metadata": {},
   "outputs": [],
   "source": [
    "level2_35kW_untrl = run_experiment(level2_ev_fleet_network_35, uncontrolled, deepcopy(sessions_20))"
   ]
  },
  {
   "cell_type": "code",
   "execution_count": null,
   "metadata": {},
   "outputs": [],
   "source": [
    "level2_35kW_llf = run_experiment(level2_ev_fleet_network_35, llf, deepcopy(sessions_20))"
   ]
  },
  {
   "cell_type": "code",
   "execution_count": null,
   "metadata": {},
   "outputs": [],
   "source": [
    "level2_35kW_cost_min = run_experiment(level2_ev_fleet_network_35, cost_min, deepcopy(sessions_20))"
   ]
  },
  {
   "cell_type": "code",
   "execution_count": null,
   "metadata": {},
   "outputs": [],
   "source": [
    "level2_35kW_rr = run_experiment(level2_ev_fleet_network_35, rr, deepcopy(sessions_20))"
   ]
  },
  {
   "cell_type": "code",
   "execution_count": 26,
   "metadata": {},
   "outputs": [],
   "source": [
    "ev_25_35 = pd.DataFrame({\n",
    "    'Level 2: Unctrl: 35 kW : 7 EVSEs':  level2_35kW_untrl,\n",
    "    'Level 2: LLF: 35 kW : 7 EVSEs': level2_35kW_llf,\n",
    "    'Level 2: RR: 35 kW : 7 EVSEs': level2_35kW_rr,\n",
    "    'Level 2: Min Cost: 35 kW : 7 EVSEs': level2_35kW_cost_min\n",
    "})"
   ]
  },
  {
   "cell_type": "code",
   "execution_count": null,
   "metadata": {},
   "outputs": [],
   "source": [
    "ev_25_35"
   ]
  },
  {
   "cell_type": "code",
   "execution_count": 27,
   "metadata": {},
   "outputs": [],
   "source": [
    "ev_20_35 = pd.DataFrame({\n",
    "    'Level 2: Unctrl: 35 kW : 7 EVSEs':  level2_35kW_untrl,\n",
    "    'Level 2: LLF: 35 kW : 7 EVSEs': level2_35kW_llf,\n",
    "    'Level 2: RR: 35 kW : 7 EVSEs': level2_35kW_rr,\n",
    "    'Level 2: Min Cost: 35 kW : 7 EVSEs': level2_35kW_cost_min\n",
    "})"
   ]
  },
  {
   "cell_type": "code",
   "execution_count": 28,
   "metadata": {},
   "outputs": [
    {
     "data": {
      "text/html": [
       "<div>\n",
       "<style scoped>\n",
       "    .dataframe tbody tr th:only-of-type {\n",
       "        vertical-align: middle;\n",
       "    }\n",
       "\n",
       "    .dataframe tbody tr th {\n",
       "        vertical-align: top;\n",
       "    }\n",
       "\n",
       "    .dataframe thead th {\n",
       "        text-align: right;\n",
       "    }\n",
       "</style>\n",
       "<table border=\"1\" class=\"dataframe\">\n",
       "  <thead>\n",
       "    <tr style=\"text-align: right;\">\n",
       "      <th></th>\n",
       "      <th>Level 2: Unctrl: 35 kW : 7 EVSEs</th>\n",
       "      <th>Level 2: LLF: 35 kW : 7 EVSEs</th>\n",
       "      <th>Level 2: RR: 35 kW : 7 EVSEs</th>\n",
       "      <th>Level 2: Min Cost: 35 kW : 7 EVSEs</th>\n",
       "    </tr>\n",
       "  </thead>\n",
       "  <tbody>\n",
       "    <tr>\n",
       "      <th>proportion_of_energy_delivered</th>\n",
       "      <td>1.000000</td>\n",
       "      <td>0.915433</td>\n",
       "      <td>0.912995</td>\n",
       "      <td>0.811094</td>\n",
       "    </tr>\n",
       "    <tr>\n",
       "      <th>energy_delivered</th>\n",
       "      <td>179.059108</td>\n",
       "      <td>163.916667</td>\n",
       "      <td>163.480000</td>\n",
       "      <td>145.233750</td>\n",
       "    </tr>\n",
       "    <tr>\n",
       "      <th>num_swaps</th>\n",
       "      <td>8.000000</td>\n",
       "      <td>8.000000</td>\n",
       "      <td>8.000000</td>\n",
       "      <td>9.000000</td>\n",
       "    </tr>\n",
       "    <tr>\n",
       "      <th>num_never_charged</th>\n",
       "      <td>0.000000</td>\n",
       "      <td>1.000000</td>\n",
       "      <td>1.000000</td>\n",
       "      <td>3.000000</td>\n",
       "    </tr>\n",
       "    <tr>\n",
       "      <th>energy_cost</th>\n",
       "      <td>13.152976</td>\n",
       "      <td>12.509469</td>\n",
       "      <td>12.430685</td>\n",
       "      <td>12.355436</td>\n",
       "    </tr>\n",
       "    <tr>\n",
       "      <th>demand_charge</th>\n",
       "      <td>870.299915</td>\n",
       "      <td>486.005850</td>\n",
       "      <td>543.935700</td>\n",
       "      <td>457.002150</td>\n",
       "    </tr>\n",
       "    <tr>\n",
       "      <th>total_cost</th>\n",
       "      <td>13.152976</td>\n",
       "      <td>12.509469</td>\n",
       "      <td>12.430685</td>\n",
       "      <td>12.355436</td>\n",
       "    </tr>\n",
       "    <tr>\n",
       "      <th>$/kWh</th>\n",
       "      <td>0.073456</td>\n",
       "      <td>0.076316</td>\n",
       "      <td>0.076038</td>\n",
       "      <td>0.085073</td>\n",
       "    </tr>\n",
       "  </tbody>\n",
       "</table>\n",
       "</div>"
      ],
      "text/plain": [
       "                                Level 2: Unctrl: 35 kW : 7 EVSEs  \\\n",
       "proportion_of_energy_delivered                          1.000000   \n",
       "energy_delivered                                      179.059108   \n",
       "num_swaps                                               8.000000   \n",
       "num_never_charged                                       0.000000   \n",
       "energy_cost                                            13.152976   \n",
       "demand_charge                                         870.299915   \n",
       "total_cost                                             13.152976   \n",
       "$/kWh                                                   0.073456   \n",
       "\n",
       "                                Level 2: LLF: 35 kW : 7 EVSEs  \\\n",
       "proportion_of_energy_delivered                       0.915433   \n",
       "energy_delivered                                   163.916667   \n",
       "num_swaps                                            8.000000   \n",
       "num_never_charged                                    1.000000   \n",
       "energy_cost                                         12.509469   \n",
       "demand_charge                                      486.005850   \n",
       "total_cost                                          12.509469   \n",
       "$/kWh                                                0.076316   \n",
       "\n",
       "                                Level 2: RR: 35 kW : 7 EVSEs  \\\n",
       "proportion_of_energy_delivered                      0.912995   \n",
       "energy_delivered                                  163.480000   \n",
       "num_swaps                                           8.000000   \n",
       "num_never_charged                                   1.000000   \n",
       "energy_cost                                        12.430685   \n",
       "demand_charge                                     543.935700   \n",
       "total_cost                                         12.430685   \n",
       "$/kWh                                               0.076038   \n",
       "\n",
       "                                Level 2: Min Cost: 35 kW : 7 EVSEs  \n",
       "proportion_of_energy_delivered                            0.811094  \n",
       "energy_delivered                                        145.233750  \n",
       "num_swaps                                                 9.000000  \n",
       "num_never_charged                                         3.000000  \n",
       "energy_cost                                              12.355436  \n",
       "demand_charge                                           457.002150  \n",
       "total_cost                                               12.355436  \n",
       "$/kWh                                                     0.085073  "
      ]
     },
     "execution_count": 28,
     "metadata": {},
     "output_type": "execute_result"
    }
   ],
   "source": [
    "ev_20_35"
   ]
  },
  {
   "cell_type": "code",
   "execution_count": null,
   "metadata": {},
   "outputs": [],
   "source": [
    "# offline\n",
    "\n",
    "# Create an instance of the class\n",
    "# algo = modified_adacharge.AdaptiveChargingAlgorithmOffline(cost_min, constraint_type=\"SOC\", enforce_energy_equality=False, solver=\"MOSEK\", peak_limit=150, verbose=False)\n",
    "\n",
    "# # Register interface\n",
    "# algo.register_interface(level2_ev_fleet_network_35)\n",
    "\n",
    "# # Register events\n",
    "# algo.register_events(sessions_20)\n",
    "\n",
    "# # Perform the optimization\n",
    "# algo.solve()\n",
    "\n",
    "# Get the charging schedule for the active EVs\n",
    "# schedule = algo.schedule(active_evs)"
   ]
  }
 ],
 "metadata": {
  "kernelspec": {
   "display_name": "evsim",
   "language": "python",
   "name": "python3"
  },
  "language_info": {
   "codemirror_mode": {
    "name": "ipython",
    "version": 3
   },
   "file_extension": ".py",
   "mimetype": "text/x-python",
   "name": "python",
   "nbconvert_exporter": "python",
   "pygments_lexer": "ipython3",
   "version": "3.9.15"
  }
 },
 "nbformat": 4,
 "nbformat_minor": 2
}
