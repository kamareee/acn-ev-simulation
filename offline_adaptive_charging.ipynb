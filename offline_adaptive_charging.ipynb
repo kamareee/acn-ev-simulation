{
 "cells": [
  {
   "cell_type": "code",
   "execution_count": 1,
   "metadata": {},
   "outputs": [],
   "source": [
    "# Necessary imports\n",
    "from datetime import datetime\n",
    "import pytz\n",
    "from copy import deepcopy\n",
    "from matplotlib import pyplot as plt\n",
    "import matplotlib\n",
    "import cvxpy as cp\n",
    "import numpy as np\n",
    "import pandas as pd\n",
    "import seaborn as sns\n",
    "import json\n",
    "import os\n",
    "import sys\n",
    "import random\n",
    "import heapq  # Priority Queue\n",
    "\n",
    "from acnportal import acnsim, algorithms\n",
    "from acnportal.acnsim import analysis\n",
    "from acnportal.acnsim.events.event import PluginEvent\n",
    "from acnportal.acnsim.events.event import UnplugEvent\n",
    "from acnportal.signals.tariffs import TimeOfUseTariff\n",
    "from adacharge import *\n",
    "from acnportal.acnsim.interface import Interface, SessionInfo, InfrastructureInfo"
   ]
  },
  {
   "cell_type": "code",
   "execution_count": 2,
   "metadata": {},
   "outputs": [],
   "source": [
    "# Define common variables for experiment\n",
    "API_KEY = 'DEMO_TOKEN'\n",
    "TIMEZONE = pytz.timezone('America/Los_Angeles')\n",
    "SITE = 'caltech'\n",
    "PERIOD = 5  # minutes\n",
    "VOLTAGE = 208  # volts\n",
    "KW_TO_AMPS = 1000 / 208\n",
    "KWH_TO_AMP_PERIODS = KW_TO_AMPS * (60 / 5)\n",
    "MAX_LEN = 144\n",
    "FORCE_FEASIBLE = True\n",
    "EVENTS_DIR = \"C:\\\\Users\\\\s3955218\\\\repos\\\\acn-ev-simulation\\\\events\"\n",
    "VERBOSE = True"
   ]
  }
 ],
 "metadata": {
  "kernelspec": {
   "display_name": "acnsim",
   "language": "python",
   "name": "python3"
  },
  "language_info": {
   "codemirror_mode": {
    "name": "ipython",
    "version": 3
   },
   "file_extension": ".py",
   "mimetype": "text/x-python",
   "name": "python",
   "nbconvert_exporter": "python",
   "pygments_lexer": "ipython3",
   "version": "3.9.15"
  },
  "orig_nbformat": 4
 },
 "nbformat": 4,
 "nbformat_minor": 2
}
