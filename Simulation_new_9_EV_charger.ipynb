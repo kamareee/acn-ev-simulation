{
 "cells": [
  {
   "cell_type": "code",
   "execution_count": null,
   "metadata": {},
   "outputs": [],
   "source": [
    "%load_ext autoreload\n",
    "%autoreload 2"
   ]
  },
  {
   "cell_type": "code",
   "execution_count": null,
   "metadata": {},
   "outputs": [],
   "source": [
    "import acnportal\n",
    "import sklearn\n",
    "from matplotlib import pyplot as plt\n",
    "import matplotlib\n",
    "import matplotlib.dates as mdates\n",
    "import seaborn as sns\n",
    "\n",
    "from copy import deepcopy\n",
    "import warnings\n",
    "import pytz\n",
    "import time\n",
    "import numpy as np\n",
    "import pandas as pd\n",
    "import pickle\n",
    "from datetime import datetime, timedelta\n",
    "from enum import Enum\n",
    "from collections import namedtuple, defaultdict\n",
    "import gzip\n",
    "import random\n",
    "import os\n",
    "import json\n",
    "\n",
    "from acnportal import acnsim\n",
    "from acnportal import algorithms\n",
    "from acnportal.acnsim.events import EventQueue\n",
    "# from acnportal.signals.tariffs.tou_tariff import TimeOfUseTariff\n",
    "from utility_functions.signals.tariffs.tou_tariff import TimeOfUseTariff\n",
    "from acnportal.acnsim.events import GaussianMixtureEvents\n",
    "from acnportal.contrib.acnsim import StochasticNetwork\n",
    "from acnportal.acnsim.network import ChargingNetwork\n",
    "from modified_adacharge import modified_adacharge\n",
    "from modified_simulator import modified_simulator\n",
    "from acnportal.acnsim import analysis\n",
    "# from modified_evse import *\n",
    "from acnportal.acnsim.models.evse import get_evse_by_type"
   ]
  },
  {
   "cell_type": "code",
   "execution_count": null,
   "metadata": {},
   "outputs": [],
   "source": [
    "# This method won't take a evse_per_phase argument\n",
    "def ev_fleet_level_2_network(transformer_cap=30):\n",
    "    \"\"\" Configurable charging network for level-2 EVSEs connected line to line\n",
    "        at 415 V.\n",
    "\n",
    "    Args:\n",
    "        transformer_cap (float): Capacity of the transformer feeding the network\n",
    "          [kW]\n",
    "        evse_per_phase (int): Number of EVSEs on each phase. Total number of\n",
    "          EVSEs will be 3 * evse_per_phase.\n",
    "\n",
    "    Returns:\n",
    "        ChargingNetwork: Configured ChargingNetwork.\n",
    "    \"\"\"\n",
    "    network = StochasticNetwork(early_departure=True)\n",
    "    # network = ChargingNetwork()\n",
    "    voltage = 415\n",
    "    evse_type = 'AeroVironment'\n",
    "    # evse_type = 'ClipperCreek'\n",
    "\n",
    "    # Define the sets of EVSEs in the Caltech ACN.\n",
    "    AB_ids = ['AB-{0}'.format(i) for i in range(3)]\n",
    "    BC_ids = ['BC-{0}'.format(i) for i in range(3)]\n",
    "    CA_ids = ['CA-{0}'.format(i) for i in range(3)]\n",
    "\n",
    "    # print(AB_ids)\n",
    "\n",
    "    # Add Caltech EVSEs\n",
    "    for evse_id in AB_ids:\n",
    "        network.register_evse(get_evse_by_type(evse_id, evse_type), voltage, 30)\n",
    "    for evse_id in BC_ids:\n",
    "        network.register_evse(get_evse_by_type(evse_id, evse_type), voltage, -90)\n",
    "    for evse_id in CA_ids:\n",
    "        network.register_evse(get_evse_by_type(evse_id, evse_type), voltage, 150)\n",
    "\n",
    "    # Add Caltech Constraint Set\n",
    "    AB = acnsim.Current(AB_ids)\n",
    "    BC = acnsim.Current(BC_ids)\n",
    "    CA = acnsim.Current(CA_ids)\n",
    "\n",
    "    # Define intermediate currents\n",
    "    I3a = AB - CA\n",
    "    I3b = BC - AB\n",
    "    I3c = CA - BC\n",
    "    I2a = (1 / 4) * (I3a - I3c)\n",
    "    I2b = (1 / 4) * (I3b - I3a)\n",
    "    I2c = (1 / 4) * (I3c - I3b)\n",
    "\n",
    "    # Build constraint set\n",
    "    primary_side_constr = transformer_cap * 1000 / 3 / 415\n",
    "    print(primary_side_constr)\n",
    "    secondary_side_constr = transformer_cap * 1000 / 3 / 230\n",
    "    print(secondary_side_constr)\n",
    "    network.add_constraint(I3a, secondary_side_constr, name='Secondary A')\n",
    "    network.add_constraint(I3b, secondary_side_constr, name='Secondary B')\n",
    "    network.add_constraint(I3c, secondary_side_constr, name='Secondary C')\n",
    "    network.add_constraint(I2a, primary_side_constr, name='Primary A')\n",
    "    network.add_constraint(I2b, primary_side_constr, name='Primary B')\n",
    "    network.add_constraint(I2c, primary_side_constr, name='Primary C')\n",
    "\n",
    "    return network"
   ]
  },
  {
   "cell_type": "markdown",
   "metadata": {},
   "source": [
    "#### Default Simulation Parameter"
   ]
  },
  {
   "cell_type": "code",
   "execution_count": null,
   "metadata": {},
   "outputs": [],
   "source": [
    "# How long each time discrete time interval in the simulation should be.\n",
    "PERIOD = 5  # minutes\n",
    "\n",
    "# Voltage of the network.\n",
    "VOLTAGE = 415  # volts\n",
    "\n",
    "# Default maximum charging rate for each EV battery.\n",
    "DEFAULT_BATTERY_POWER = 11 # kW"
   ]
  },
  {
   "cell_type": "markdown",
   "metadata": {},
   "source": [
    "#### Generate synthetic events for simulation"
   ]
  },
  {
   "cell_type": "code",
   "execution_count": null,
   "metadata": {},
   "outputs": [],
   "source": [
    "# Generate synthetic events based on JPL data provided by ACN-Sim.\n",
    "class CustomUnpicklerJPLdata(pickle.Unpickler):\n",
    "    def find_class(self, module, name):\n",
    "        if name == \"sklearn.mixture.gaussian_mixture\":\n",
    "            return sklearn.mixture.GaussianMixture\n",
    "        if name == \"GaussianMixture\":\n",
    "            return sklearn.mixture.GaussianMixture\n",
    "        return super().find_class(module, name)\n",
    "    \n",
    "def get_synth_events(sessions_per_day):\n",
    "    gmm = CustomUnpicklerJPLdata(open('./data/jpl_weekday_40.pkl', \"rb\")).load()\n",
    "\n",
    "\n",
    "    # Generate a list of the number of sessions to draw for each day.\n",
    "    # This generates 30 days of charging demands.\n",
    "    # num_evs = [0]*2 + [sessions_per_day]*5 + [0]*2 + [sessions_per_day]*5 + [0]*2 + \\\n",
    "    #           [sessions_per_day]*5 + [0]*2 + [sessions_per_day]*5 + [0]*2\n",
    "\n",
    "    # Generate sessions for 1 day (weekdays only)\n",
    "    num_evs = [0]*2 + [sessions_per_day]*1\n",
    "\n",
    "    # Note that because we are drawing from a distribution, some sessions will be\n",
    "    # invalid, we ignore these sessions and remove the corresponding plugin events.\n",
    "    gen = GaussianMixtureEvents(pretrained_model=gmm, duration_min=0.08334)\n",
    "\n",
    "    synth_events = gen.generate_events(num_evs, PERIOD, VOLTAGE, DEFAULT_BATTERY_POWER)\n",
    "    return synth_events"
   ]
  },
  {
   "cell_type": "code",
   "execution_count": null,
   "metadata": {},
   "outputs": [],
   "source": [
    "# 25 EV sessions per weekday\n",
    "events_25_ev = get_synth_events(25)"
   ]
  },
  {
   "cell_type": "code",
   "execution_count": null,
   "metadata": {},
   "outputs": [],
   "source": [
    "# Checking session details\n",
    "session_copy = deepcopy(events_25_ev)\n",
    "# print(type(session_copy))\n",
    "session_list = list(session_copy.queue)\n",
    "for session in session_list:\n",
    "    print(session[0], session[1].ev._session_id, session[1].ev.arrival, \\\n",
    "          session[1].ev.departure, session[1].ev.requested_energy, session[1].event_type)"
   ]
  },
  {
   "cell_type": "markdown",
   "metadata": {},
   "source": [
    "#### Algorithms"
   ]
  },
  {
   "cell_type": "markdown",
   "metadata": {},
   "source": [
    "sch = {}\n",
    "sch['Unctrl'] = algorithms.UncontrolledCharging()\n",
    "sch['RR'] = algorithms.RoundRobin(algorithms.first_come_first_served, continuous_inc=1)\n",
    "\n",
    "cost_min_obj = [\n",
    "                modified_adacharge.ObjectiveComponent(modified_adacharge.tou_energy_cost_with_pv),\n",
    "                modified_adacharge.ObjectiveComponent(modified_adacharge.non_completion_penalty),\n",
    "                modified_adacharge.ObjectiveComponent(modified_adacharge.quick_charge, 1e-6)\n",
    "               ]\n",
    "\n",
    "sch['MPC'] = modified_adacharge.AdaptiveSchedulingAlgorithm(cost_min_obj, solver=\"MOSEK\", quantize=True, reallocate=False, peak_limit=200, max_recompute=1)"
   ]
  },
  {
   "cell_type": "markdown",
   "metadata": {},
   "source": [
    "#### Run Simulation with New Equation"
   ]
  },
  {
   "cell_type": "code",
   "execution_count": null,
   "metadata": {},
   "outputs": [],
   "source": [
    "sims = dict()\n",
    "def run_experiment(alg_name, cap):\n",
    "    \"\"\" Run simulation for the events defined previously and the specified\n",
    "        network / algorithm / events.\n",
    "    \"\"\"\n",
    "    # Timezone of the ACN we are using.\n",
    "    # timezone = pytz.timezone('America/Los_Angeles')\n",
    "    # Australian timezone for the experiment\n",
    "    timezone = pytz.timezone('Australia/Melbourne')\n",
    "\n",
    "    start = timezone.localize(datetime(2024, 7, 24))\n",
    "    end = timezone.localize(datetime(2024, 7, 24))\n",
    "\n",
    "    cn = ev_fleet_level_2_network(transformer_cap=cap)\n",
    "\n",
    "    alg = deepcopy(sch[alg_name])\n",
    "    alg.max_rate_estimator = algorithms.SimpleRampdown()\n",
    "    alg.estimate_max_rate = True\n",
    "    experiment_events = deepcopy(events_25_ev)\n",
    "    signals = {'tariff': TimeOfUseTariff('sce_tou_ev_4_march_2019')}\n",
    "\n",
    "    sim = modified_simulator.Simulator(cn, alg, experiment_events, start, period=PERIOD, signals=signals, verbose=False)\n",
    "    print(\"Running...\")\n",
    "    start_simulation = time.time()\n",
    "    if alg_name == \"MPC_Offline\":\n",
    "        alg.register_events(experiment_events)\n",
    "        alg.solve()\n",
    "    # if alg_name == \"MPC\":\n",
    "    #     sim.high_priority_ev_sessions = [\"session_2\", \"session_8\", \"session_19\", \"session_7\"]\n",
    "    # sim.high_priority_ev_sessions = [\"session_5\", \"session_2\", \"session_19\", \"session_0\", \"session_6\"]\n",
    "    sim.run()\n",
    "    print(f\"Run time: {time.time() - start_simulation}\")\n",
    "\n",
    "    return sim"
   ]
  },
  {
   "cell_type": "code",
   "execution_count": null,
   "metadata": {},
   "outputs": [],
   "source": [
    "warnings.simplefilter(\"ignore\")\n",
    "\n",
    "capacities = list(range(40, 60, 5))\n",
    "alg_names = [\"Unctrl\", \"RR\", \"MPC\"]\n",
    "\n",
    "for cap in capacities:\n",
    "    for alg_name in alg_names:\n",
    "        config = (alg_name, cap)\n",
    "        print(config)\n",
    "        if config not in sims:\n",
    "            sims[config] = run_experiment(*config)"
   ]
  },
  {
   "cell_type": "code",
   "execution_count": null,
   "metadata": {},
   "outputs": [],
   "source": [
    "result_dir = \"results/sims/new_simulation\"\n",
    "if not os.path.exists(result_dir):\n",
    "    os.makedirs(result_dir)\n",
    "    \n",
    "for config, sim in sims.items():\n",
    "    name = \"results/sims/new_simulation/{0}-{1}.json.gz\".format(*config)\n",
    "    if not os.path.exists(name):\n",
    "        data = sim.to_json()\n",
    "        with gzip.GzipFile(name, 'w') as fout:\n",
    "            fout.write(json.dumps(data).encode('utf-8'))"
   ]
  },
  {
   "cell_type": "markdown",
   "metadata": {},
   "source": [
    "#### Result Analysis"
   ]
  },
  {
   "cell_type": "code",
   "execution_count": null,
   "metadata": {},
   "outputs": [],
   "source": [
    "def calc_metrics(config, sim):\n",
    "    metrics = {\n",
    "        \"Network Type\": \"three_phase\",\n",
    "        \"Algorithm\": config[0],\n",
    "        \"Capacity (kW)\": config[1],\n",
    "        \"Energy Delivered (%)\": analysis.proportion_of_energy_delivered(sim) * 100,\n",
    "        \"Demand met\": analysis.proportion_of_demands_met(sim) * 100,\n",
    "        \"Max Utilization (%)\": np.max(analysis.aggregate_power(sim)) / config[1] * 100,\n",
    "        \"energy_cost\": analysis.energy_cost(sim),\n",
    "        \"total_energy_delivered\": analysis.total_energy_delivered(sim),\n",
    "        \"Peak (kW)\": np.max(analysis.aggregate_power(sim))\n",
    "    }\n",
    "    metrics[\"Current Unbalance\"] = np.nanmean(analysis.current_unbalance(sim, ['Secondary {0}'.format(p) for p in 'ABC'], 'NEMA'))\n",
    "\n",
    "    return metrics"
   ]
  },
  {
   "cell_type": "code",
   "execution_count": null,
   "metadata": {},
   "outputs": [],
   "source": [
    "metrics = pd.DataFrame(calc_metrics(config, sim) for config, sim in sims.items()).round(3)\n",
    "metrics.rename(columns={\"Capacity (kW)\": \"capacity\"}, inplace=True)"
   ]
  }
 ],
 "metadata": {
  "kernelspec": {
   "display_name": "evsim",
   "language": "python",
   "name": "python3"
  },
  "language_info": {
   "name": "python",
   "version": "3.9.15"
  }
 },
 "nbformat": 4,
 "nbformat_minor": 2
}
